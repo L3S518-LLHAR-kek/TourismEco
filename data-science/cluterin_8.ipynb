{
 "cells": [
  {
   "cell_type": "code",
   "execution_count": 7,
   "metadata": {},
   "outputs": [],
   "source": [
    "import pandas as pd\n",
    "import plotly.express as px\n",
    "import plotly.graph_objects as go\n",
    "from sklearn.cluster import KMeans\n",
    "import numpy as np\n",
    "import pycountry"
   ]
  },
  {
   "cell_type": "code",
   "execution_count": 8,
   "metadata": {},
   "outputs": [],
   "source": [
    "#!/usr/bin/env /Applications/MAMP/Library/bin/python\n",
    "\n",
    "import mysql.connector\n",
    "\n",
    "config = {\n",
    "  'user': 'root',\n",
    "  'password': 'root',\n",
    "  'host': '127.0.0.1',\n",
    "  'port': 8889,\n",
    "  'database': 'ecotourisme',\n",
    "  'raise_on_warnings': True\n",
    "}\n",
    "\n",
    "cnx = mysql.connector.connect(**config)\n",
    "\n",
    "cursor = cnx.cursor(dictionary=True)\n",
    "\n",
    "cursor.execute('SELECT pays.nom as pays, s.id_pays, s.annee, s.gpi, t.arriveesTotal as arriveesTotal, e.pibParHab, eco.co2, eco.GES_hab as gesParHab, dv.Value FROM surete as s, tourisme as t, economie as e, ecologie as eco, pays, developpement_humain as dv where pays.id = s.id_pays and s.id_pays = t.id_pays AND t.id_pays = e.id_pays AND e.id_pays = eco.id_pays AND eco.id_pays = dv.iso_code AND s.annee = t.annee AND t.annee = e.annee AND e.annee = eco.annee AND e.annee=2019;')\n",
    "results = cursor.fetchall()\n",
    "\n",
    "\n",
    "data = []\n",
    "for row in results:\n",
    "    pays = row['pays']\n",
    "    id_pays = row['id_pays']\n",
    "    annee = row['annee']\n",
    "    gpi = row['gpi']\n",
    "    arriveesTotal = row['arriveesTotal']\n",
    "    pibParHab = row['pibParHab']\n",
    "    co2 = row['co2']\n",
    "    gesParHab = row['gesParHab']\n",
    "    idh = row['Value']\n",
    "    data.append({'pays': pays,'id_pays': id_pays, 'arriveesTotal': arriveesTotal, 'gpi': gpi, 'pibParHab': pibParHab, 'co2': co2, 'gesParHab': gesParHab, 'idh': idh, 'annee': annee})\n",
    "\n",
    "\n",
    "cnx.close()"
   ]
  },
  {
   "cell_type": "code",
   "execution_count": 9,
   "metadata": {},
   "outputs": [],
   "source": [
    "# Créer le DataFrame\n",
    "df = pd.DataFrame(data)\n",
    "\n",
    "# Normaliser les indicateurs par la méthodes min/max\n",
    "df['arriveesTotal'] = df['arriveesTotal'] / df['arriveesTotal'].max()\n",
    "df['gpi'] = df['gpi'].min() / df['gpi']\n",
    "df['pibParHab'] = df['pibParHab'] / df['pibParHab'].max()\n",
    "df['co2'] = df['co2'].min() / df['co2']\n",
    "df['gesParHab'] = df['gesParHab'].min() / df['gesParHab']\n",
    "df['idh'] = df['idh'].astype(str).str.replace(',', '.').astype(float)\n",
    "df['idh'] = df['idh'] / df['idh'].max()\n",
    "\n",
    "# Supprimer les valeurs manquantes\n",
    "df = df.dropna()"
   ]
  },
  {
   "cell_type": "markdown",
   "metadata": {},
   "source": [
    "CLUSTERING "
   ]
  },
  {
   "cell_type": "code",
   "execution_count": 10,
   "metadata": {},
   "outputs": [
    {
     "data": {
      "text/html": [
       "<div>\n",
       "<style scoped>\n",
       "    .dataframe tbody tr th:only-of-type {\n",
       "        vertical-align: middle;\n",
       "    }\n",
       "\n",
       "    .dataframe tbody tr th {\n",
       "        vertical-align: top;\n",
       "    }\n",
       "\n",
       "    .dataframe thead th {\n",
       "        text-align: right;\n",
       "    }\n",
       "</style>\n",
       "<table border=\"1\" class=\"dataframe\">\n",
       "  <thead>\n",
       "    <tr style=\"text-align: right;\">\n",
       "      <th></th>\n",
       "      <th>pays</th>\n",
       "      <th>id_pays</th>\n",
       "      <th>arriveesTotal</th>\n",
       "      <th>gpi</th>\n",
       "      <th>pibParHab</th>\n",
       "      <th>co2</th>\n",
       "      <th>gesParHab</th>\n",
       "      <th>idh</th>\n",
       "      <th>annee</th>\n",
       "      <th>cluster</th>\n",
       "    </tr>\n",
       "  </thead>\n",
       "  <tbody>\n",
       "    <tr>\n",
       "      <th>131</th>\n",
       "      <td>Sierra Leone</td>\n",
       "      <td>SL</td>\n",
       "      <td>0.000326</td>\n",
       "      <td>0.601541</td>\n",
       "      <td>0.016849</td>\n",
       "      <td>0.226608</td>\n",
       "      <td>0.556339</td>\n",
       "      <td>0.495842</td>\n",
       "      <td>2019</td>\n",
       "      <td>7</td>\n",
       "    </tr>\n",
       "    <tr>\n",
       "      <th>122</th>\n",
       "      <td>Malawi</td>\n",
       "      <td>MW</td>\n",
       "      <td>0.004489</td>\n",
       "      <td>0.600880</td>\n",
       "      <td>0.015445</td>\n",
       "      <td>0.143213</td>\n",
       "      <td>0.619243</td>\n",
       "      <td>0.532225</td>\n",
       "      <td>2019</td>\n",
       "      <td>7</td>\n",
       "    </tr>\n",
       "    <tr>\n",
       "      <th>118</th>\n",
       "      <td>Rwanda</td>\n",
       "      <td>RW</td>\n",
       "      <td>0.007500</td>\n",
       "      <td>0.560513</td>\n",
       "      <td>0.022293</td>\n",
       "      <td>0.162222</td>\n",
       "      <td>0.885834</td>\n",
       "      <td>0.555094</td>\n",
       "      <td>2019</td>\n",
       "      <td>7</td>\n",
       "    </tr>\n",
       "    <tr>\n",
       "      <th>116</th>\n",
       "      <td>Haïti</td>\n",
       "      <td>HT</td>\n",
       "      <td>0.004305</td>\n",
       "      <td>0.533952</td>\n",
       "      <td>0.031562</td>\n",
       "      <td>0.070960</td>\n",
       "      <td>0.515709</td>\n",
       "      <td>0.556133</td>\n",
       "      <td>2019</td>\n",
       "      <td>7</td>\n",
       "    </tr>\n",
       "    <tr>\n",
       "      <th>36</th>\n",
       "      <td>Slovaquie</td>\n",
       "      <td>SK</td>\n",
       "      <td>0.073831</td>\n",
       "      <td>0.719552</td>\n",
       "      <td>0.325316</td>\n",
       "      <td>0.007586</td>\n",
       "      <td>0.107253</td>\n",
       "      <td>0.881497</td>\n",
       "      <td>2019</td>\n",
       "      <td>6</td>\n",
       "    </tr>\n",
       "  </tbody>\n",
       "</table>\n",
       "</div>"
      ],
      "text/plain": [
       "             pays id_pays  arriveesTotal       gpi  pibParHab       co2   \n",
       "131  Sierra Leone      SL       0.000326  0.601541   0.016849  0.226608  \\\n",
       "122        Malawi      MW       0.004489  0.600880   0.015445  0.143213   \n",
       "118        Rwanda      RW       0.007500  0.560513   0.022293  0.162222   \n",
       "116         Haïti      HT       0.004305  0.533952   0.031562  0.070960   \n",
       "36      Slovaquie      SK       0.073831  0.719552   0.325316  0.007586   \n",
       "\n",
       "     gesParHab       idh  annee  cluster  \n",
       "131   0.556339  0.495842   2019        7  \n",
       "122   0.619243  0.532225   2019        7  \n",
       "118   0.885834  0.555094   2019        7  \n",
       "116   0.515709  0.556133   2019        7  \n",
       "36    0.107253  0.881497   2019        6  "
      ]
     },
     "execution_count": 10,
     "metadata": {},
     "output_type": "execute_result"
    }
   ],
   "source": [
    "# Sélectionner les variables pour le clustering\n",
    "X = df[['arriveesTotal', 'gpi', 'pibParHab', 'co2', 'gesParHab', 'idh']]\n",
    "\n",
    "# Créer le modèle\n",
    "kmeans = KMeans(n_clusters=8, random_state=42)\n",
    "\n",
    "# Faire le clustering\n",
    "kmeans.fit(X)\n",
    "\n",
    "# Ajouter les labels de clusters dans le DataFrame\n",
    "df['cluster'] = kmeans.labels_\n",
    "\n",
    "df = df.sort_values(by='cluster', ascending=False)\n",
    "\n",
    "centroids = pd.DataFrame(kmeans.cluster_centers_, columns=X.columns)\n",
    "\n",
    "# Afficher les centroïdes\n",
    "centroids\n",
    "\n",
    "# Afficher le DataFrame\n",
    "df.head()"
   ]
  },
  {
   "cell_type": "code",
   "execution_count": 11,
   "metadata": {},
   "outputs": [
    {
     "data": {
      "application/vnd.plotly.v1+json": {
       "config": {
        "plotlyServerURL": "https://plot.ly"
       },
       "data": [
        {
         "coloraxis": "coloraxis",
         "geo": "geo",
         "hovertemplate": "<b>%{hovertext}</b><br><br>id_pays=%{location}<br>cluster=%{z}<extra></extra>",
         "hovertext": [
          "Sierra Leone",
          "Malawi",
          "Rwanda",
          "Haïti",
          "Slovaquie",
          "Chili",
          "Maurice (Île)",
          "Bahreïn",
          "Lituanie",
          "Arabie saoudite",
          "Lettonie",
          "Croatie",
          "Hongrie",
          "Malaisie",
          "Estonie",
          "Panama",
          "Uruguay",
          "Koweït",
          "Roumanie",
          "Grèce",
          "Oman",
          "Bulgarie",
          "Israël",
          "Japon",
          "Chypre",
          "Royaume-Uni",
          "Maroc",
          "Guyana",
          "Ouzbékistan",
          "Tadjikistan",
          "Jordanie",
          "Pérou",
          "Kirghizstan",
          "Géorgie",
          "Jamaïque",
          "Indonésie",
          "Sri Lanka",
          "Albanie",
          "Viêt Nam",
          "Philippines",
          "Arménie",
          "Salvador",
          "Honduras",
          "Angola",
          "Cambodge",
          "Laos",
          "Nicaragua",
          "Namibie",
          "Équateur",
          "Guatemala",
          "Inde",
          "Bhoutan",
          "Égypte",
          "Pologne",
          "Italie",
          "France",
          "Espagne",
          "United States",
          "China",
          "Mexique",
          "Djibouti",
          "Guinée-Bissau",
          "République centrafricaine",
          "Suisse",
          "Canada",
          "Danemark",
          "Singapour",
          "Nouvelle-Zélande",
          "Pays-Bas",
          "Allemagne",
          "Irlande",
          "Qatar",
          "Émirats arabes unis",
          "Islande",
          "Autriche",
          "Australie",
          "Belgique",
          "Togo",
          "Cameroun",
          "Kenya",
          "Myanmar (Birmanie)",
          "Zambie",
          "Papouasie-Nouvelle-Guinée",
          "Népal",
          "Nigéria",
          "Bénin",
          "Lesotho",
          "Madagascar",
          "Éthiopie",
          "Burkina Faso",
          "Mozambique",
          "Mali",
          "Ouganda",
          "Niger",
          "Zimbabwe",
          "Ghana",
          "Bangladesh",
          "Serbie",
          "Mongolie",
          "Colombie",
          "Brésil",
          "Paraguay",
          "République dominicaine",
          "Afrique du Sud",
          "Ukraine",
          "Liban",
          "Bosnie-Herzégovine",
          "Serbie",
          "Algérie",
          "Biélorussie",
          "Costa Rica",
          "Trinité-et-Tobago",
          "Kazakhstan",
          "Russie",
          "Monténégro",
          "Turquie",
          "Argentine",
          "Azerbaïdjan"
         ],
         "locations": [
          "SLE",
          "MWI",
          "RWA",
          "HTI",
          "SVK",
          "CHL",
          "MUS",
          "BHR",
          "LTU",
          "SAU",
          "LVA",
          "HRV",
          "HUN",
          "MYS",
          "EST",
          "PAN",
          "URY",
          "KWT",
          "ROU",
          "GRC",
          "OMN",
          "BGR",
          "ISR",
          "JPN",
          "CYP",
          "GBR",
          "MAR",
          "GUY",
          "UZB",
          "TJK",
          "JOR",
          "PER",
          "KGZ",
          "GEO",
          "JAM",
          "IDN",
          "LKA",
          "ALB",
          "VNM",
          "PHL",
          "ARM",
          "SLV",
          "HND",
          "AGO",
          "KHM",
          "LAO",
          "NIC",
          "NAM",
          "ECU",
          "GTM",
          "IND",
          "BTN",
          "EGY",
          "POL",
          "ITA",
          "FRA",
          "ESP",
          "USA",
          "CHN",
          "MEX",
          "DJI",
          "GNB",
          "CAF",
          "CHE",
          "CAN",
          "DNK",
          "SGP",
          "NZL",
          "NLD",
          "DEU",
          "IRL",
          "QAT",
          "ARE",
          "ISL",
          "AUT",
          "AUS",
          "BEL",
          "TGO",
          "CMR",
          "KEN",
          "MMR",
          "ZMB",
          "PNG",
          "NPL",
          "NGA",
          "BEN",
          "LSO",
          "MDG",
          "ETH",
          "BFA",
          "MOZ",
          "MLI",
          "UGA",
          "NER",
          "ZWE",
          "GHA",
          "BGD",
          "SRB",
          "MNG",
          "COL",
          "BRA",
          "PRY",
          "DOM",
          "ZAF",
          "UKR",
          "LBN",
          "BIH",
          "SRB",
          "DZA",
          "BLR",
          "CRI",
          "TTO",
          "KAZ",
          "RUS",
          "MNE",
          "TUR",
          "ARG",
          "AZE"
         ],
         "name": "",
         "type": "choropleth",
         "z": [
          7,
          7,
          7,
          7,
          6,
          6,
          6,
          6,
          6,
          6,
          6,
          6,
          6,
          6,
          6,
          6,
          6,
          6,
          6,
          6,
          6,
          6,
          6,
          6,
          6,
          6,
          5,
          5,
          5,
          5,
          5,
          5,
          5,
          5,
          5,
          5,
          5,
          5,
          5,
          5,
          5,
          5,
          5,
          5,
          5,
          5,
          5,
          5,
          5,
          5,
          5,
          5,
          5,
          4,
          4,
          4,
          4,
          4,
          4,
          4,
          3,
          3,
          3,
          2,
          2,
          2,
          2,
          2,
          2,
          2,
          2,
          2,
          2,
          2,
          2,
          2,
          2,
          1,
          1,
          1,
          1,
          1,
          1,
          1,
          1,
          1,
          1,
          1,
          1,
          1,
          1,
          1,
          1,
          1,
          1,
          1,
          1,
          0,
          0,
          0,
          0,
          0,
          0,
          0,
          0,
          0,
          0,
          0,
          0,
          0,
          0,
          0,
          0,
          0,
          0,
          0,
          0,
          0
         ]
        }
       ],
       "layout": {
        "coloraxis": {
         "colorbar": {
          "title": {
           "text": "cluster"
          }
         },
         "colorscale": [
          [
           0,
           "#0d0887"
          ],
          [
           0.1111111111111111,
           "#46039f"
          ],
          [
           0.2222222222222222,
           "#7201a8"
          ],
          [
           0.3333333333333333,
           "#9c179e"
          ],
          [
           0.4444444444444444,
           "#bd3786"
          ],
          [
           0.5555555555555556,
           "#d8576b"
          ],
          [
           0.6666666666666666,
           "#ed7953"
          ],
          [
           0.7777777777777778,
           "#fb9f3a"
          ],
          [
           0.8888888888888888,
           "#fdca26"
          ],
          [
           1,
           "#f0f921"
          ]
         ]
        },
        "geo": {
         "center": {},
         "countrycolor": "Black",
         "domain": {
          "x": [
           0,
           1
          ],
          "y": [
           0,
           1
          ]
         },
         "lakecolor": "Blue",
         "oceancolor": "LightBlue",
         "projection": {
          "type": "natural earth"
         },
         "showcountries": true,
         "showlakes": true,
         "showland": true,
         "showocean": true
        },
        "legend": {
         "tracegroupgap": 0
        },
        "margin": {
         "t": 60
        },
        "template": {
         "data": {
          "bar": [
           {
            "error_x": {
             "color": "#2a3f5f"
            },
            "error_y": {
             "color": "#2a3f5f"
            },
            "marker": {
             "line": {
              "color": "#E5ECF6",
              "width": 0.5
             },
             "pattern": {
              "fillmode": "overlay",
              "size": 10,
              "solidity": 0.2
             }
            },
            "type": "bar"
           }
          ],
          "barpolar": [
           {
            "marker": {
             "line": {
              "color": "#E5ECF6",
              "width": 0.5
             },
             "pattern": {
              "fillmode": "overlay",
              "size": 10,
              "solidity": 0.2
             }
            },
            "type": "barpolar"
           }
          ],
          "carpet": [
           {
            "aaxis": {
             "endlinecolor": "#2a3f5f",
             "gridcolor": "white",
             "linecolor": "white",
             "minorgridcolor": "white",
             "startlinecolor": "#2a3f5f"
            },
            "baxis": {
             "endlinecolor": "#2a3f5f",
             "gridcolor": "white",
             "linecolor": "white",
             "minorgridcolor": "white",
             "startlinecolor": "#2a3f5f"
            },
            "type": "carpet"
           }
          ],
          "choropleth": [
           {
            "colorbar": {
             "outlinewidth": 0,
             "ticks": ""
            },
            "type": "choropleth"
           }
          ],
          "contour": [
           {
            "colorbar": {
             "outlinewidth": 0,
             "ticks": ""
            },
            "colorscale": [
             [
              0,
              "#0d0887"
             ],
             [
              0.1111111111111111,
              "#46039f"
             ],
             [
              0.2222222222222222,
              "#7201a8"
             ],
             [
              0.3333333333333333,
              "#9c179e"
             ],
             [
              0.4444444444444444,
              "#bd3786"
             ],
             [
              0.5555555555555556,
              "#d8576b"
             ],
             [
              0.6666666666666666,
              "#ed7953"
             ],
             [
              0.7777777777777778,
              "#fb9f3a"
             ],
             [
              0.8888888888888888,
              "#fdca26"
             ],
             [
              1,
              "#f0f921"
             ]
            ],
            "type": "contour"
           }
          ],
          "contourcarpet": [
           {
            "colorbar": {
             "outlinewidth": 0,
             "ticks": ""
            },
            "type": "contourcarpet"
           }
          ],
          "heatmap": [
           {
            "colorbar": {
             "outlinewidth": 0,
             "ticks": ""
            },
            "colorscale": [
             [
              0,
              "#0d0887"
             ],
             [
              0.1111111111111111,
              "#46039f"
             ],
             [
              0.2222222222222222,
              "#7201a8"
             ],
             [
              0.3333333333333333,
              "#9c179e"
             ],
             [
              0.4444444444444444,
              "#bd3786"
             ],
             [
              0.5555555555555556,
              "#d8576b"
             ],
             [
              0.6666666666666666,
              "#ed7953"
             ],
             [
              0.7777777777777778,
              "#fb9f3a"
             ],
             [
              0.8888888888888888,
              "#fdca26"
             ],
             [
              1,
              "#f0f921"
             ]
            ],
            "type": "heatmap"
           }
          ],
          "heatmapgl": [
           {
            "colorbar": {
             "outlinewidth": 0,
             "ticks": ""
            },
            "colorscale": [
             [
              0,
              "#0d0887"
             ],
             [
              0.1111111111111111,
              "#46039f"
             ],
             [
              0.2222222222222222,
              "#7201a8"
             ],
             [
              0.3333333333333333,
              "#9c179e"
             ],
             [
              0.4444444444444444,
              "#bd3786"
             ],
             [
              0.5555555555555556,
              "#d8576b"
             ],
             [
              0.6666666666666666,
              "#ed7953"
             ],
             [
              0.7777777777777778,
              "#fb9f3a"
             ],
             [
              0.8888888888888888,
              "#fdca26"
             ],
             [
              1,
              "#f0f921"
             ]
            ],
            "type": "heatmapgl"
           }
          ],
          "histogram": [
           {
            "marker": {
             "pattern": {
              "fillmode": "overlay",
              "size": 10,
              "solidity": 0.2
             }
            },
            "type": "histogram"
           }
          ],
          "histogram2d": [
           {
            "colorbar": {
             "outlinewidth": 0,
             "ticks": ""
            },
            "colorscale": [
             [
              0,
              "#0d0887"
             ],
             [
              0.1111111111111111,
              "#46039f"
             ],
             [
              0.2222222222222222,
              "#7201a8"
             ],
             [
              0.3333333333333333,
              "#9c179e"
             ],
             [
              0.4444444444444444,
              "#bd3786"
             ],
             [
              0.5555555555555556,
              "#d8576b"
             ],
             [
              0.6666666666666666,
              "#ed7953"
             ],
             [
              0.7777777777777778,
              "#fb9f3a"
             ],
             [
              0.8888888888888888,
              "#fdca26"
             ],
             [
              1,
              "#f0f921"
             ]
            ],
            "type": "histogram2d"
           }
          ],
          "histogram2dcontour": [
           {
            "colorbar": {
             "outlinewidth": 0,
             "ticks": ""
            },
            "colorscale": [
             [
              0,
              "#0d0887"
             ],
             [
              0.1111111111111111,
              "#46039f"
             ],
             [
              0.2222222222222222,
              "#7201a8"
             ],
             [
              0.3333333333333333,
              "#9c179e"
             ],
             [
              0.4444444444444444,
              "#bd3786"
             ],
             [
              0.5555555555555556,
              "#d8576b"
             ],
             [
              0.6666666666666666,
              "#ed7953"
             ],
             [
              0.7777777777777778,
              "#fb9f3a"
             ],
             [
              0.8888888888888888,
              "#fdca26"
             ],
             [
              1,
              "#f0f921"
             ]
            ],
            "type": "histogram2dcontour"
           }
          ],
          "mesh3d": [
           {
            "colorbar": {
             "outlinewidth": 0,
             "ticks": ""
            },
            "type": "mesh3d"
           }
          ],
          "parcoords": [
           {
            "line": {
             "colorbar": {
              "outlinewidth": 0,
              "ticks": ""
             }
            },
            "type": "parcoords"
           }
          ],
          "pie": [
           {
            "automargin": true,
            "type": "pie"
           }
          ],
          "scatter": [
           {
            "fillpattern": {
             "fillmode": "overlay",
             "size": 10,
             "solidity": 0.2
            },
            "type": "scatter"
           }
          ],
          "scatter3d": [
           {
            "line": {
             "colorbar": {
              "outlinewidth": 0,
              "ticks": ""
             }
            },
            "marker": {
             "colorbar": {
              "outlinewidth": 0,
              "ticks": ""
             }
            },
            "type": "scatter3d"
           }
          ],
          "scattercarpet": [
           {
            "marker": {
             "colorbar": {
              "outlinewidth": 0,
              "ticks": ""
             }
            },
            "type": "scattercarpet"
           }
          ],
          "scattergeo": [
           {
            "marker": {
             "colorbar": {
              "outlinewidth": 0,
              "ticks": ""
             }
            },
            "type": "scattergeo"
           }
          ],
          "scattergl": [
           {
            "marker": {
             "colorbar": {
              "outlinewidth": 0,
              "ticks": ""
             }
            },
            "type": "scattergl"
           }
          ],
          "scattermapbox": [
           {
            "marker": {
             "colorbar": {
              "outlinewidth": 0,
              "ticks": ""
             }
            },
            "type": "scattermapbox"
           }
          ],
          "scatterpolar": [
           {
            "marker": {
             "colorbar": {
              "outlinewidth": 0,
              "ticks": ""
             }
            },
            "type": "scatterpolar"
           }
          ],
          "scatterpolargl": [
           {
            "marker": {
             "colorbar": {
              "outlinewidth": 0,
              "ticks": ""
             }
            },
            "type": "scatterpolargl"
           }
          ],
          "scatterternary": [
           {
            "marker": {
             "colorbar": {
              "outlinewidth": 0,
              "ticks": ""
             }
            },
            "type": "scatterternary"
           }
          ],
          "surface": [
           {
            "colorbar": {
             "outlinewidth": 0,
             "ticks": ""
            },
            "colorscale": [
             [
              0,
              "#0d0887"
             ],
             [
              0.1111111111111111,
              "#46039f"
             ],
             [
              0.2222222222222222,
              "#7201a8"
             ],
             [
              0.3333333333333333,
              "#9c179e"
             ],
             [
              0.4444444444444444,
              "#bd3786"
             ],
             [
              0.5555555555555556,
              "#d8576b"
             ],
             [
              0.6666666666666666,
              "#ed7953"
             ],
             [
              0.7777777777777778,
              "#fb9f3a"
             ],
             [
              0.8888888888888888,
              "#fdca26"
             ],
             [
              1,
              "#f0f921"
             ]
            ],
            "type": "surface"
           }
          ],
          "table": [
           {
            "cells": {
             "fill": {
              "color": "#EBF0F8"
             },
             "line": {
              "color": "white"
             }
            },
            "header": {
             "fill": {
              "color": "#C8D4E3"
             },
             "line": {
              "color": "white"
             }
            },
            "type": "table"
           }
          ]
         },
         "layout": {
          "annotationdefaults": {
           "arrowcolor": "#2a3f5f",
           "arrowhead": 0,
           "arrowwidth": 1
          },
          "autotypenumbers": "strict",
          "coloraxis": {
           "colorbar": {
            "outlinewidth": 0,
            "ticks": ""
           }
          },
          "colorscale": {
           "diverging": [
            [
             0,
             "#8e0152"
            ],
            [
             0.1,
             "#c51b7d"
            ],
            [
             0.2,
             "#de77ae"
            ],
            [
             0.3,
             "#f1b6da"
            ],
            [
             0.4,
             "#fde0ef"
            ],
            [
             0.5,
             "#f7f7f7"
            ],
            [
             0.6,
             "#e6f5d0"
            ],
            [
             0.7,
             "#b8e186"
            ],
            [
             0.8,
             "#7fbc41"
            ],
            [
             0.9,
             "#4d9221"
            ],
            [
             1,
             "#276419"
            ]
           ],
           "sequential": [
            [
             0,
             "#0d0887"
            ],
            [
             0.1111111111111111,
             "#46039f"
            ],
            [
             0.2222222222222222,
             "#7201a8"
            ],
            [
             0.3333333333333333,
             "#9c179e"
            ],
            [
             0.4444444444444444,
             "#bd3786"
            ],
            [
             0.5555555555555556,
             "#d8576b"
            ],
            [
             0.6666666666666666,
             "#ed7953"
            ],
            [
             0.7777777777777778,
             "#fb9f3a"
            ],
            [
             0.8888888888888888,
             "#fdca26"
            ],
            [
             1,
             "#f0f921"
            ]
           ],
           "sequentialminus": [
            [
             0,
             "#0d0887"
            ],
            [
             0.1111111111111111,
             "#46039f"
            ],
            [
             0.2222222222222222,
             "#7201a8"
            ],
            [
             0.3333333333333333,
             "#9c179e"
            ],
            [
             0.4444444444444444,
             "#bd3786"
            ],
            [
             0.5555555555555556,
             "#d8576b"
            ],
            [
             0.6666666666666666,
             "#ed7953"
            ],
            [
             0.7777777777777778,
             "#fb9f3a"
            ],
            [
             0.8888888888888888,
             "#fdca26"
            ],
            [
             1,
             "#f0f921"
            ]
           ]
          },
          "colorway": [
           "#636efa",
           "#EF553B",
           "#00cc96",
           "#ab63fa",
           "#FFA15A",
           "#19d3f3",
           "#FF6692",
           "#B6E880",
           "#FF97FF",
           "#FECB52"
          ],
          "font": {
           "color": "#2a3f5f"
          },
          "geo": {
           "bgcolor": "white",
           "lakecolor": "white",
           "landcolor": "#E5ECF6",
           "showlakes": true,
           "showland": true,
           "subunitcolor": "white"
          },
          "hoverlabel": {
           "align": "left"
          },
          "hovermode": "closest",
          "mapbox": {
           "style": "light"
          },
          "paper_bgcolor": "white",
          "plot_bgcolor": "#E5ECF6",
          "polar": {
           "angularaxis": {
            "gridcolor": "white",
            "linecolor": "white",
            "ticks": ""
           },
           "bgcolor": "#E5ECF6",
           "radialaxis": {
            "gridcolor": "white",
            "linecolor": "white",
            "ticks": ""
           }
          },
          "scene": {
           "xaxis": {
            "backgroundcolor": "#E5ECF6",
            "gridcolor": "white",
            "gridwidth": 2,
            "linecolor": "white",
            "showbackground": true,
            "ticks": "",
            "zerolinecolor": "white"
           },
           "yaxis": {
            "backgroundcolor": "#E5ECF6",
            "gridcolor": "white",
            "gridwidth": 2,
            "linecolor": "white",
            "showbackground": true,
            "ticks": "",
            "zerolinecolor": "white"
           },
           "zaxis": {
            "backgroundcolor": "#E5ECF6",
            "gridcolor": "white",
            "gridwidth": 2,
            "linecolor": "white",
            "showbackground": true,
            "ticks": "",
            "zerolinecolor": "white"
           }
          },
          "shapedefaults": {
           "line": {
            "color": "#2a3f5f"
           }
          },
          "ternary": {
           "aaxis": {
            "gridcolor": "white",
            "linecolor": "white",
            "ticks": ""
           },
           "baxis": {
            "gridcolor": "white",
            "linecolor": "white",
            "ticks": ""
           },
           "bgcolor": "#E5ECF6",
           "caxis": {
            "gridcolor": "white",
            "linecolor": "white",
            "ticks": ""
           }
          },
          "title": {
           "x": 0.05
          },
          "xaxis": {
           "automargin": true,
           "gridcolor": "white",
           "linecolor": "white",
           "ticks": "",
           "title": {
            "standoff": 15
           },
           "zerolinecolor": "white",
           "zerolinewidth": 2
          },
          "yaxis": {
           "automargin": true,
           "gridcolor": "white",
           "linecolor": "white",
           "ticks": "",
           "title": {
            "standoff": 15
           },
           "zerolinecolor": "white",
           "zerolinewidth": 2
          }
         }
        }
       }
      }
     },
     "metadata": {},
     "output_type": "display_data"
    }
   ],
   "source": [
    "# Fonction pour convertir ISO-2 en ISO-3\n",
    "def iso2_to_iso3(iso2):\n",
    "    try:\n",
    "        return pycountry.countries.get(alpha_2=iso2).alpha_3\n",
    "    except (AttributeError, LookupError):\n",
    "        return np.nan\n",
    "    \n",
    "# Appliquer la fonction à la colonne 'id_pays'\n",
    "df['id_pays'] = df['id_pays'].apply(iso2_to_iso3)\n",
    "\n",
    "# Créer une carte du monde\n",
    "fig = px.choropleth(df, locations='id_pays', color='cluster', hover_name='pays', projection='natural earth')\n",
    "\n",
    "# Mettre à jour la carte\n",
    "fig.update_geos(showcountries=True, countrycolor=\"Black\", showland=True, showocean=True, oceancolor=\"LightBlue\", showlakes=True, lakecolor=\"Blue\")\n",
    "\n",
    "# Afficher la carte\n",
    "fig.show()\n"
   ]
  },
  {
   "cell_type": "code",
   "execution_count": 12,
   "metadata": {},
   "outputs": [
    {
     "data": {
      "application/vnd.plotly.v1+json": {
       "config": {
        "plotlyServerURL": "https://plot.ly"
       },
       "data": [
        {
         "marker": {
          "size": 4
         },
         "mode": "markers+text",
         "name": "Cluster 7",
         "type": "scatter3d",
         "x": [
          0.01684930252434297,
          0.015445193980647722,
          0.02229276680606005,
          0.03156191813436708
         ],
         "y": [
          0.22660762418174818,
          0.14321348177891344,
          0.16222176280063402,
          0.07096046832703311
         ],
         "z": [
          0.5563389262225789,
          0.6192427613374482,
          0.8858343885105461,
          0.5157086977599799
         ]
        },
        {
         "marker": {
          "size": 4
         },
         "mode": "markers+text",
         "name": "Cluster 6",
         "type": "scatter3d",
         "x": [
          0.32531567005484163,
          0.2525055197745287,
          0.24095723573761485,
          0.5063846239939765,
          0.3783360296287252,
          0.4574036201581148,
          0.3158125006359187,
          0.29865795712381593,
          0.33219376697902997,
          0.28157463650885706,
          0.36784591434937886,
          0.32095072392987595,
          0.23663298841101715,
          0.481415911195222,
          0.30530203595738836,
          0.3024124212732619,
          0.3440472920037036,
          0.2367652595057131,
          0.41522949034929746,
          0.4242544488873966,
          0.42476318386699635,
          0.4818941220760457
         ],
         "y": [
          0.007585595746394909,
          0.002561050705322503,
          0.05640079545726814,
          0.0071405171263210256,
          0.02005828320182689,
          0.00044687409293956017,
          0.031100130794942595,
          0.014246548812888468,
          0.004980766707996733,
          0.0009612793100350374,
          0.02339797429602314,
          0.017969602821395585,
          0.03458357206869702,
          0.0025078944340511124,
          0.003183541872907166,
          0.003923967708112812,
          0.003107804100083438,
          0.006011251305544703,
          0.003748628501997729,
          0.00021925304381251423,
          0.0327353636490057,
          0.0006804760325876909
         ],
         "z": [
          0.107252668026634,
          0.09057813547954394,
          0.12287867663347914,
          0.00729181377704327,
          0.14842864788409343,
          0.016891524752733686,
          0.17303633422315712,
          0.16978053451804176,
          0.12977913035921398,
          0.044379046867945665,
          0.09257911647065135,
          0.09142065682156379,
          0.06601174790458866,
          0.012712285038429113,
          0.1740419332787969,
          0.10127587816882858,
          0.013667113701802925,
          0.1324436659594354,
          0.042159299434292107,
          0.0828467394690462,
          0.07119404079761632,
          0.10098888737165858
         ]
        },
        {
         "marker": {
          "size": 4
         },
         "mode": "markers+text",
         "name": "Cluster 5",
         "type": "scatter3d",
         "x": [
          0.08361568124701119,
          0.1304396487693701,
          0.07476369260197592,
          0.0363745510413805,
          0.09717855580313992,
          0.12957479930405055,
          0.05349857045470732,
          0.15250857218440625,
          0.10422962262039213,
          0.12065158776187133,
          0.13877272773521362,
          0.13894569762827752,
          0.10431102021712808,
          0.08884547683729638,
          0.14568134875817793,
          0.0917859650193828,
          0.057120763509457384,
          0.06717336670634799,
          0.04541985897866366,
          0.07976964480123724,
          0.054424468117578825,
          0.1018487429158654,
          0.11588982835281789,
          0.0882349948617767,
          0.06724458960349196,
          0.12003093108675966,
          0.11376331613809103
         ],
         "y": [
          0.0033161328312646243,
          0.08419471368790014,
          0.0020002073282022435,
          0.026255618635466275,
          0.010169389015850249,
          0.0041318397393816635,
          0.02349911154591012,
          0.022313642223401833,
          0.02804283859285468,
          0.000388904106556421,
          0.010047848932255986,
          0.04714317185027937,
          0.0006888745300201805,
          0.0016137512999472824,
          0.03799470592033056,
          0.02974964297900843,
          0.023086579577105647,
          0.009654306911811145,
          0.01301041275175204,
          0.012279027067065186,
          0.04586995070052028,
          0.05453745105761879,
          0.005939734654844391,
          0.012377877567331658,
          0.00009711415831191996,
          0.16427076064200977,
          0.001080270921300382
         ],
         "z": [
          0.2044195535432242,
          0.11489756784669061,
          0.08305763290521867,
          0.23858651403009107,
          0.07546270832321074,
          0.1691275182402265,
          0.20015181194906956,
          0.2360776194906031,
          0.18486136867339095,
          0.13734822342926173,
          0.3741990044476998,
          0.27781617707561923,
          0.1129972876541701,
          0.20070948198768682,
          0.2772636712892215,
          0.33049419916072964,
          0.17490866582277342,
          0.11481093244545901,
          0.16176452820441248,
          0.11016473305357655,
          0.17446657934526927,
          0.09680760748830965,
          0.10824023494942371,
          0.20013478929829673,
          0.19598044609552845,
          0.20881709153490374,
          0.14269394310242814
         ]
        },
        {
         "marker": {
          "size": 4
         },
         "mode": "markers+text",
         "name": "Cluster 4",
         "type": "scatter3d",
         "x": [
          0.33739303847053914,
          0.4348564858622549,
          0.46725272936316553,
          0.4147207553696977,
          0.6356948811086353,
          0.16257135008088885,
          0.20415534731337057
         ],
         "y": [
          0.0007981059731485146,
          0.0007420647304892773,
          0.0007832005153020214,
          0.0009731837039272552,
          0.000048861384445192056,
          0.000021871583145836074,
          0.0005209937923390453
         ],
         "z": [
          0.08305230307204614,
          0.11296441227299442,
          0.1058483485837117,
          0.09757638812973009,
          0.03167609615219883,
          0.06975889111472436,
          0.09522448383983677
         ]
        },
        {
         "marker": {
          "size": 4
         },
         "mode": "markers+text",
         "name": "Cluster 3",
         "type": "scatter3d",
         "x": [
          0.04851296765463,
          0.019240356928461686,
          0.0087705910482993
         ],
         "y": [
          0.5496532561234736,
          0.7236397171841377,
          1
         ],
         "z": [
          0.3047070641276668,
          0.29828721344723746,
          0.10809468859140559
         ]
        },
        {
         "marker": {
          "size": 4
         },
         "mode": "markers+text",
         "name": "Cluster 2",
         "type": "scatter3d",
         "x": [
          0.7209486889899576,
          0.5003103283375558,
          0.5780653826195782,
          1,
          0.4386312994108849,
          0.5777601416318183,
          0.5481517658191142,
          0.8819531353336793,
          0.9242697109367846,
          0.7303602861125525,
          0.5791744248751055,
          0.5678092854308476,
          0.5024164911530987,
          0.5288503606931005
         ],
         "y": [
          0.006298108694547079,
          0.00041589973742132974,
          0.007926860067684744,
          0.00521220816948312,
          0.006921860021994696,
          0.0016130000734483764,
          0.0003573741049516961,
          0.006573178972528916,
          0.0026305555679720363,
          0.0012680067461837252,
          0.14369429862043706,
          0.00364973689025052,
          0.0005956491297677551,
          0.002531471328990186
         ],
         "z": [
          0.11149976021526066,
          0.02934315533320234,
          0.09158778309041202,
          0.03557337547813739,
          0.0312269632739395,
          0.067160413747773,
          0.08176463589393695,
          0.04385449021313124,
          0.0027752725063435904,
          0.005764640818356606,
          0.06924261473575333,
          0.07748443424466174,
          0.02142440545163604,
          0.07146200283437322
         ]
        },
        {
         "marker": {
          "size": 4
         },
         "mode": "markers+text",
         "name": "Cluster 1",
         "type": "scatter3d",
         "x": [
          0.02117354985094065,
          0.038226346367123513,
          0.04681379282276691,
          0.049143799029333655,
          0.03430908702420561,
          0.04016971398919447,
          0.03990517179980261,
          0.05164677512896432,
          0.03211135191233479,
          0.025772514066522187,
          0.016126898853311356,
          0.0222011945097321,
          0.02146861613910849,
          0.013074488975712992,
          0.022577658394635897,
          0.02289307408198773,
          0.012382609403457362,
          0.022414863201163985,
          0.05439394401880285,
          0.05562508266943419
         ],
         "y": [
          0.09638455554190721,
          0.024630387243259083,
          0.012083010383997454,
          0.006924547727607001,
          0.030909831006998702,
          0.03152326749246736,
          0.016983514303235813,
          0.0019691477873019247,
          0.031489532472744296,
          0.10234337637494023,
          0.059933294294370755,
          0.013293426699796702,
          0.041689542194279644,
          0.03126078988605881,
          0.059785645349723165,
          0.039609624768635374,
          0.10902438459579,
          0.023111739467664184,
          0.013049431512658615,
          0.0025408818608667495
         ],
         "z": [
          0.3738981173864895,
          0.09486062536876039,
          0.22499406041571296,
          0.23957062028370282,
          0.16098016534407988,
          0.14549499839806343,
          0.3380459434869862,
          0.21961724247154915,
          0.2512762019401894,
          0.36008021886302516,
          0.29479276598006243,
          0.22861462099176863,
          0.22119932889538346,
          0.2947222802057043,
          0.16708350635910038,
          0.35190989137478645,
          0.14968724760544433,
          0.27008709019957017,
          0.3282478209777913,
          0.3880184078508184
         ]
        },
        {
         "marker": {
          "size": 4
         },
         "mode": "markers+text",
         "name": "Cluster 0",
         "type": "scatter3d",
         "x": [
          0.18629874952942013,
          0.12675640751706807,
          0.1487134092365923,
          0.1494154635084399,
          0.13847766144704576,
          0.1848844662861329,
          0.14093993874830846,
          0.13028702827549016,
          0.17471994139373034,
          0.14890672852884018,
          0.18629874952942013,
          0.1183012321561206,
          0.19615803343406285,
          0.21181689610614246,
          0.257491122574606,
          0.2681236836482403,
          0.27731143737981134,
          0.21914267981237853,
          0.28641779351464647,
          0.22457596939450364,
          0.14694301150758524
         ],
         "y": [
          0.0051140449401587225,
          0.010169828357145017,
          0.0029727214292299088,
          0.0005419991803240943,
          0.029055988940456207,
          0.009132809832707409,
          0.0005270629116979307,
          0.001348225285352397,
          0.008745564988018501,
          0.011143564520481153,
          0.0051140449401587225,
          0.0013799782392556325,
          0.004081052405289765,
          0.029586245035443166,
          0.013689787325606417,
          0.0011505814982193847,
          0.00013817889259303023,
          0.0905001730037292,
          0.0005903109263442926,
          0.0013998406298688171,
          0.006627065679457223
         ],
         "z": [
          0.09974541797308008,
          0.029194778731451303,
          0.13435894152943254,
          0.10841341086299448,
          0.0629922045474825,
          0.13779618098869842,
          0.05495124402049308,
          0.1695581068334265,
          0.08101744816879779,
          0.1329515960033146,
          0.09974541797308008,
          0.07011602499277665,
          0.08951047258316804,
          0.1540405062286757,
          0.033881585549422985,
          0.04545794600416794,
          0.04740894272213336,
          0.12556821489324546,
          0.08503863456172552,
          0.06718365546000381,
          0.10125620179550537
         ]
        },
        {
         "marker": {
          "color": "black",
          "size": 6,
          "symbol": "x"
         },
         "mode": "markers",
         "name": "Centroid",
         "type": "scatter3d",
         "x": [
          0.18676097159659932,
          0.03212152661192677,
          0.6484786643817197,
          0.02550797187713033,
          0.37952065536693597,
          0.09637400085392109,
          0.3513934251091237,
          0.021537295361354458
         ],
         "y": [
          0.0919136634487179,
          0.25515905771994946,
          0.05286885341692271,
          0.23702965538876994,
          0.08515727473789175,
          0.18171332931061093,
          0.09052899440629983,
          0.6442811934576382
         ],
         "z": [
          0.5133489814483123,
          0.5102180754807865,
          0.787261153621002,
          0.464667211048017,
          0.5777574818888587,
          0.5470510441743458,
          0.635750083043926,
          0.5742213878507696
         ]
        }
       ],
       "layout": {
        "scene": {
         "xaxis": {
          "title": {
           "text": "pibParHab"
          }
         },
         "yaxis": {
          "title": {
           "text": "gesParHab"
          }
         },
         "zaxis": {
          "title": {
           "text": "GPI"
          }
         }
        },
        "template": {
         "data": {
          "bar": [
           {
            "error_x": {
             "color": "#2a3f5f"
            },
            "error_y": {
             "color": "#2a3f5f"
            },
            "marker": {
             "line": {
              "color": "#E5ECF6",
              "width": 0.5
             },
             "pattern": {
              "fillmode": "overlay",
              "size": 10,
              "solidity": 0.2
             }
            },
            "type": "bar"
           }
          ],
          "barpolar": [
           {
            "marker": {
             "line": {
              "color": "#E5ECF6",
              "width": 0.5
             },
             "pattern": {
              "fillmode": "overlay",
              "size": 10,
              "solidity": 0.2
             }
            },
            "type": "barpolar"
           }
          ],
          "carpet": [
           {
            "aaxis": {
             "endlinecolor": "#2a3f5f",
             "gridcolor": "white",
             "linecolor": "white",
             "minorgridcolor": "white",
             "startlinecolor": "#2a3f5f"
            },
            "baxis": {
             "endlinecolor": "#2a3f5f",
             "gridcolor": "white",
             "linecolor": "white",
             "minorgridcolor": "white",
             "startlinecolor": "#2a3f5f"
            },
            "type": "carpet"
           }
          ],
          "choropleth": [
           {
            "colorbar": {
             "outlinewidth": 0,
             "ticks": ""
            },
            "type": "choropleth"
           }
          ],
          "contour": [
           {
            "colorbar": {
             "outlinewidth": 0,
             "ticks": ""
            },
            "colorscale": [
             [
              0,
              "#0d0887"
             ],
             [
              0.1111111111111111,
              "#46039f"
             ],
             [
              0.2222222222222222,
              "#7201a8"
             ],
             [
              0.3333333333333333,
              "#9c179e"
             ],
             [
              0.4444444444444444,
              "#bd3786"
             ],
             [
              0.5555555555555556,
              "#d8576b"
             ],
             [
              0.6666666666666666,
              "#ed7953"
             ],
             [
              0.7777777777777778,
              "#fb9f3a"
             ],
             [
              0.8888888888888888,
              "#fdca26"
             ],
             [
              1,
              "#f0f921"
             ]
            ],
            "type": "contour"
           }
          ],
          "contourcarpet": [
           {
            "colorbar": {
             "outlinewidth": 0,
             "ticks": ""
            },
            "type": "contourcarpet"
           }
          ],
          "heatmap": [
           {
            "colorbar": {
             "outlinewidth": 0,
             "ticks": ""
            },
            "colorscale": [
             [
              0,
              "#0d0887"
             ],
             [
              0.1111111111111111,
              "#46039f"
             ],
             [
              0.2222222222222222,
              "#7201a8"
             ],
             [
              0.3333333333333333,
              "#9c179e"
             ],
             [
              0.4444444444444444,
              "#bd3786"
             ],
             [
              0.5555555555555556,
              "#d8576b"
             ],
             [
              0.6666666666666666,
              "#ed7953"
             ],
             [
              0.7777777777777778,
              "#fb9f3a"
             ],
             [
              0.8888888888888888,
              "#fdca26"
             ],
             [
              1,
              "#f0f921"
             ]
            ],
            "type": "heatmap"
           }
          ],
          "heatmapgl": [
           {
            "colorbar": {
             "outlinewidth": 0,
             "ticks": ""
            },
            "colorscale": [
             [
              0,
              "#0d0887"
             ],
             [
              0.1111111111111111,
              "#46039f"
             ],
             [
              0.2222222222222222,
              "#7201a8"
             ],
             [
              0.3333333333333333,
              "#9c179e"
             ],
             [
              0.4444444444444444,
              "#bd3786"
             ],
             [
              0.5555555555555556,
              "#d8576b"
             ],
             [
              0.6666666666666666,
              "#ed7953"
             ],
             [
              0.7777777777777778,
              "#fb9f3a"
             ],
             [
              0.8888888888888888,
              "#fdca26"
             ],
             [
              1,
              "#f0f921"
             ]
            ],
            "type": "heatmapgl"
           }
          ],
          "histogram": [
           {
            "marker": {
             "pattern": {
              "fillmode": "overlay",
              "size": 10,
              "solidity": 0.2
             }
            },
            "type": "histogram"
           }
          ],
          "histogram2d": [
           {
            "colorbar": {
             "outlinewidth": 0,
             "ticks": ""
            },
            "colorscale": [
             [
              0,
              "#0d0887"
             ],
             [
              0.1111111111111111,
              "#46039f"
             ],
             [
              0.2222222222222222,
              "#7201a8"
             ],
             [
              0.3333333333333333,
              "#9c179e"
             ],
             [
              0.4444444444444444,
              "#bd3786"
             ],
             [
              0.5555555555555556,
              "#d8576b"
             ],
             [
              0.6666666666666666,
              "#ed7953"
             ],
             [
              0.7777777777777778,
              "#fb9f3a"
             ],
             [
              0.8888888888888888,
              "#fdca26"
             ],
             [
              1,
              "#f0f921"
             ]
            ],
            "type": "histogram2d"
           }
          ],
          "histogram2dcontour": [
           {
            "colorbar": {
             "outlinewidth": 0,
             "ticks": ""
            },
            "colorscale": [
             [
              0,
              "#0d0887"
             ],
             [
              0.1111111111111111,
              "#46039f"
             ],
             [
              0.2222222222222222,
              "#7201a8"
             ],
             [
              0.3333333333333333,
              "#9c179e"
             ],
             [
              0.4444444444444444,
              "#bd3786"
             ],
             [
              0.5555555555555556,
              "#d8576b"
             ],
             [
              0.6666666666666666,
              "#ed7953"
             ],
             [
              0.7777777777777778,
              "#fb9f3a"
             ],
             [
              0.8888888888888888,
              "#fdca26"
             ],
             [
              1,
              "#f0f921"
             ]
            ],
            "type": "histogram2dcontour"
           }
          ],
          "mesh3d": [
           {
            "colorbar": {
             "outlinewidth": 0,
             "ticks": ""
            },
            "type": "mesh3d"
           }
          ],
          "parcoords": [
           {
            "line": {
             "colorbar": {
              "outlinewidth": 0,
              "ticks": ""
             }
            },
            "type": "parcoords"
           }
          ],
          "pie": [
           {
            "automargin": true,
            "type": "pie"
           }
          ],
          "scatter": [
           {
            "fillpattern": {
             "fillmode": "overlay",
             "size": 10,
             "solidity": 0.2
            },
            "type": "scatter"
           }
          ],
          "scatter3d": [
           {
            "line": {
             "colorbar": {
              "outlinewidth": 0,
              "ticks": ""
             }
            },
            "marker": {
             "colorbar": {
              "outlinewidth": 0,
              "ticks": ""
             }
            },
            "type": "scatter3d"
           }
          ],
          "scattercarpet": [
           {
            "marker": {
             "colorbar": {
              "outlinewidth": 0,
              "ticks": ""
             }
            },
            "type": "scattercarpet"
           }
          ],
          "scattergeo": [
           {
            "marker": {
             "colorbar": {
              "outlinewidth": 0,
              "ticks": ""
             }
            },
            "type": "scattergeo"
           }
          ],
          "scattergl": [
           {
            "marker": {
             "colorbar": {
              "outlinewidth": 0,
              "ticks": ""
             }
            },
            "type": "scattergl"
           }
          ],
          "scattermapbox": [
           {
            "marker": {
             "colorbar": {
              "outlinewidth": 0,
              "ticks": ""
             }
            },
            "type": "scattermapbox"
           }
          ],
          "scatterpolar": [
           {
            "marker": {
             "colorbar": {
              "outlinewidth": 0,
              "ticks": ""
             }
            },
            "type": "scatterpolar"
           }
          ],
          "scatterpolargl": [
           {
            "marker": {
             "colorbar": {
              "outlinewidth": 0,
              "ticks": ""
             }
            },
            "type": "scatterpolargl"
           }
          ],
          "scatterternary": [
           {
            "marker": {
             "colorbar": {
              "outlinewidth": 0,
              "ticks": ""
             }
            },
            "type": "scatterternary"
           }
          ],
          "surface": [
           {
            "colorbar": {
             "outlinewidth": 0,
             "ticks": ""
            },
            "colorscale": [
             [
              0,
              "#0d0887"
             ],
             [
              0.1111111111111111,
              "#46039f"
             ],
             [
              0.2222222222222222,
              "#7201a8"
             ],
             [
              0.3333333333333333,
              "#9c179e"
             ],
             [
              0.4444444444444444,
              "#bd3786"
             ],
             [
              0.5555555555555556,
              "#d8576b"
             ],
             [
              0.6666666666666666,
              "#ed7953"
             ],
             [
              0.7777777777777778,
              "#fb9f3a"
             ],
             [
              0.8888888888888888,
              "#fdca26"
             ],
             [
              1,
              "#f0f921"
             ]
            ],
            "type": "surface"
           }
          ],
          "table": [
           {
            "cells": {
             "fill": {
              "color": "#EBF0F8"
             },
             "line": {
              "color": "white"
             }
            },
            "header": {
             "fill": {
              "color": "#C8D4E3"
             },
             "line": {
              "color": "white"
             }
            },
            "type": "table"
           }
          ]
         },
         "layout": {
          "annotationdefaults": {
           "arrowcolor": "#2a3f5f",
           "arrowhead": 0,
           "arrowwidth": 1
          },
          "autotypenumbers": "strict",
          "coloraxis": {
           "colorbar": {
            "outlinewidth": 0,
            "ticks": ""
           }
          },
          "colorscale": {
           "diverging": [
            [
             0,
             "#8e0152"
            ],
            [
             0.1,
             "#c51b7d"
            ],
            [
             0.2,
             "#de77ae"
            ],
            [
             0.3,
             "#f1b6da"
            ],
            [
             0.4,
             "#fde0ef"
            ],
            [
             0.5,
             "#f7f7f7"
            ],
            [
             0.6,
             "#e6f5d0"
            ],
            [
             0.7,
             "#b8e186"
            ],
            [
             0.8,
             "#7fbc41"
            ],
            [
             0.9,
             "#4d9221"
            ],
            [
             1,
             "#276419"
            ]
           ],
           "sequential": [
            [
             0,
             "#0d0887"
            ],
            [
             0.1111111111111111,
             "#46039f"
            ],
            [
             0.2222222222222222,
             "#7201a8"
            ],
            [
             0.3333333333333333,
             "#9c179e"
            ],
            [
             0.4444444444444444,
             "#bd3786"
            ],
            [
             0.5555555555555556,
             "#d8576b"
            ],
            [
             0.6666666666666666,
             "#ed7953"
            ],
            [
             0.7777777777777778,
             "#fb9f3a"
            ],
            [
             0.8888888888888888,
             "#fdca26"
            ],
            [
             1,
             "#f0f921"
            ]
           ],
           "sequentialminus": [
            [
             0,
             "#0d0887"
            ],
            [
             0.1111111111111111,
             "#46039f"
            ],
            [
             0.2222222222222222,
             "#7201a8"
            ],
            [
             0.3333333333333333,
             "#9c179e"
            ],
            [
             0.4444444444444444,
             "#bd3786"
            ],
            [
             0.5555555555555556,
             "#d8576b"
            ],
            [
             0.6666666666666666,
             "#ed7953"
            ],
            [
             0.7777777777777778,
             "#fb9f3a"
            ],
            [
             0.8888888888888888,
             "#fdca26"
            ],
            [
             1,
             "#f0f921"
            ]
           ]
          },
          "colorway": [
           "#636efa",
           "#EF553B",
           "#00cc96",
           "#ab63fa",
           "#FFA15A",
           "#19d3f3",
           "#FF6692",
           "#B6E880",
           "#FF97FF",
           "#FECB52"
          ],
          "font": {
           "color": "#2a3f5f"
          },
          "geo": {
           "bgcolor": "white",
           "lakecolor": "white",
           "landcolor": "#E5ECF6",
           "showlakes": true,
           "showland": true,
           "subunitcolor": "white"
          },
          "hoverlabel": {
           "align": "left"
          },
          "hovermode": "closest",
          "mapbox": {
           "style": "light"
          },
          "paper_bgcolor": "white",
          "plot_bgcolor": "#E5ECF6",
          "polar": {
           "angularaxis": {
            "gridcolor": "white",
            "linecolor": "white",
            "ticks": ""
           },
           "bgcolor": "#E5ECF6",
           "radialaxis": {
            "gridcolor": "white",
            "linecolor": "white",
            "ticks": ""
           }
          },
          "scene": {
           "xaxis": {
            "backgroundcolor": "#E5ECF6",
            "gridcolor": "white",
            "gridwidth": 2,
            "linecolor": "white",
            "showbackground": true,
            "ticks": "",
            "zerolinecolor": "white"
           },
           "yaxis": {
            "backgroundcolor": "#E5ECF6",
            "gridcolor": "white",
            "gridwidth": 2,
            "linecolor": "white",
            "showbackground": true,
            "ticks": "",
            "zerolinecolor": "white"
           },
           "zaxis": {
            "backgroundcolor": "#E5ECF6",
            "gridcolor": "white",
            "gridwidth": 2,
            "linecolor": "white",
            "showbackground": true,
            "ticks": "",
            "zerolinecolor": "white"
           }
          },
          "shapedefaults": {
           "line": {
            "color": "#2a3f5f"
           }
          },
          "ternary": {
           "aaxis": {
            "gridcolor": "white",
            "linecolor": "white",
            "ticks": ""
           },
           "baxis": {
            "gridcolor": "white",
            "linecolor": "white",
            "ticks": ""
           },
           "bgcolor": "#E5ECF6",
           "caxis": {
            "gridcolor": "white",
            "linecolor": "white",
            "ticks": ""
           }
          },
          "title": {
           "x": 0.05
          },
          "xaxis": {
           "automargin": true,
           "gridcolor": "white",
           "linecolor": "white",
           "ticks": "",
           "title": {
            "standoff": 15
           },
           "zerolinecolor": "white",
           "zerolinewidth": 2
          },
          "yaxis": {
           "automargin": true,
           "gridcolor": "white",
           "linecolor": "white",
           "ticks": "",
           "title": {
            "standoff": 15
           },
           "zerolinecolor": "white",
           "zerolinewidth": 2
          }
         }
        }
       }
      }
     },
     "metadata": {},
     "output_type": "display_data"
    }
   ],
   "source": [
    "# Créer une figure\n",
    "fig = go.Figure()\n",
    "\n",
    "# Ajouter les points pour chaque cluster\n",
    "for cluster in df['cluster'].unique():\n",
    "    cluster_df = df[df['cluster'] == cluster]\n",
    "    fig.add_trace(go.Scatter3d(x=cluster_df['pibParHab'],\n",
    "                               y=cluster_df['co2'],\n",
    "                               z=cluster_df['gesParHab'],\n",
    "                               mode='markers+text',\n",
    "                               marker=dict(size=4),\n",
    "                               name=f'Cluster {cluster}'))\n",
    "    \n",
    "# Ajouter les centroïdes\n",
    "fig.add_trace(go.Scatter3d(x=centroids['pibParHab'],\n",
    "                           y=centroids['gesParHab'],\n",
    "                           z=centroids['gpi'],\n",
    "                           mode='markers',\n",
    "                           marker=dict(size=6, color='black', symbol='x'),\n",
    "                           name='Centroid'))\n",
    "\n",
    "# Mettre à jour le nom des axes \n",
    "fig.update_scenes(xaxis_title='pibParHab',\n",
    "                  yaxis_title='gesParHab',\n",
    "                  zaxis_title='GPI')\n",
    "\n",
    "# Afficher la figure\n",
    "fig.show()"
   ]
  }
 ],
 "metadata": {
  "kernelspec": {
   "display_name": "data-science",
   "language": "python",
   "name": "python3"
  },
  "language_info": {
   "codemirror_mode": {
    "name": "ipython",
    "version": 3
   },
   "file_extension": ".py",
   "mimetype": "text/x-python",
   "name": "python",
   "nbconvert_exporter": "python",
   "pygments_lexer": "ipython3",
   "version": "3.11.3"
  }
 },
 "nbformat": 4,
 "nbformat_minor": 2
}
