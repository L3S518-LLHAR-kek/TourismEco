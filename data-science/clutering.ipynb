{
 "cells": [
  {
   "cell_type": "code",
   "execution_count": 127,
   "metadata": {},
   "outputs": [],
   "source": [
    "# Importing libraries neeeded for the project\n",
    "import pandas as pd\n",
    "import plotly.express as px\n",
    "import plotly.graph_objects as go"
   ]
  },
  {
   "cell_type": "markdown",
   "metadata": {},
   "source": []
  },
  {
   "cell_type": "code",
   "execution_count": 128,
   "metadata": {},
   "outputs": [],
   "source": [
    "#!/usr/bin/env /Applications/MAMP/Library/bin/python\n",
    "\n",
    "import mysql.connector\n",
    "\n",
    "config = {\n",
    "  'user': 'root',\n",
    "  'password': 'root',\n",
    "  'host': '127.0.0.1',\n",
    "  'port': 8889,\n",
    "  'database': 'ecotourisme',\n",
    "  'raise_on_warnings': True\n",
    "}\n",
    "\n",
    "cnx = mysql.connector.connect(**config)\n",
    "\n",
    "cursor = cnx.cursor(dictionary=True)\n",
    "\n",
    "cursor.execute('SELECT pays.nom as pays, s.id_pays, s.annee, s.gpi, t.arriveesTotal as arriveesTotal, t.arriveesAvion, e.pibParHab, eco.co2, eco.GES_hab as gesParHab FROM surete as s, tourisme as t, economie as e, ecologie as eco, pays where pays.id = s.id_pays and s.id_pays = t.id_pays AND t.id_pays = e.id_pays AND e.id_pays = eco.id_pays AND s.annee = t.annee AND t.annee = e.annee AND e.annee = eco.annee AND e.annee=2020;')\n",
    "results = cursor.fetchall()\n",
    " \n",
    "#cursor.execute('SELECT pays.nom as pays, s.id_pays, AVG(s.gpi) as gpi, AVG(t.arriveesTotal) as arriveesTotal, AVG(t.arriveesAvion) as arriveesAvion, AVG(e.pibParHab) as pibParHab, AVG(eco.co2) as co2 FROM surete as s, tourisme as t, economie as e, ecologie as eco, pays where pays.id = s.id_pays and s.id_pays = t.id_pays AND t.id_pays = e.id_pays AND e.id_pays = eco.id_pays AND s.annee = t.annee AND t.annee = e.annee AND e.annee = eco.annee GROUP BY pays.id;')\n",
    "#results = cursor.fetchall()\n",
    " \n",
    "\n",
    "data = []\n",
    "for row in results:\n",
    "    pays = row['pays']\n",
    "    id_pays = row['id_pays']\n",
    "    annee = row['annee']\n",
    "    gpi = row['gpi']\n",
    "    arriveesTotal = row['arriveesTotal']\n",
    "    arriveesAvion = row['arriveesAvion']\n",
    "    pibParHab = row['pibParHab']\n",
    "    co2 = row['co2']\n",
    "    gesParHab = row['gesParHab']\n",
    "    data.append({'pays': pays,'id_pays': id_pays, 'arriveesTotal': arriveesTotal, 'arriveesAvion': arriveesAvion, 'gpi': gpi, 'pibParHab': pibParHab, 'co2': co2, 'gesParHab': gesParHab, 'annee': annee})\n",
    "\n",
    "    #print(id_pays, arriveesTotal, arriveesAvion)\n",
    "\n",
    "cnx.close()"
   ]
  },
  {
   "cell_type": "code",
   "execution_count": 129,
   "metadata": {},
   "outputs": [],
   "source": [
    "df = pd.DataFrame(data)\n",
    "\n",
    "#df.head()"
   ]
  },
  {
   "cell_type": "code",
   "execution_count": 130,
   "metadata": {},
   "outputs": [
    {
     "data": {
      "text/html": [
       "<div>\n",
       "<style scoped>\n",
       "    .dataframe tbody tr th:only-of-type {\n",
       "        vertical-align: middle;\n",
       "    }\n",
       "\n",
       "    .dataframe tbody tr th {\n",
       "        vertical-align: top;\n",
       "    }\n",
       "\n",
       "    .dataframe thead th {\n",
       "        text-align: right;\n",
       "    }\n",
       "</style>\n",
       "<table border=\"1\" class=\"dataframe\">\n",
       "  <thead>\n",
       "    <tr style=\"text-align: right;\">\n",
       "      <th></th>\n",
       "      <th>pays</th>\n",
       "      <th>id_pays</th>\n",
       "      <th>arriveesTotal</th>\n",
       "      <th>arriveesAvion</th>\n",
       "      <th>gpi</th>\n",
       "      <th>pibParHab</th>\n",
       "      <th>co2</th>\n",
       "      <th>gesParHab</th>\n",
       "      <th>annee</th>\n",
       "      <th>score_touristique</th>\n",
       "    </tr>\n",
       "  </thead>\n",
       "  <tbody>\n",
       "    <tr>\n",
       "      <th>0</th>\n",
       "      <td>Angola</td>\n",
       "      <td>AO</td>\n",
       "      <td>0.000546</td>\n",
       "      <td>0.000050</td>\n",
       "      <td>0.575078</td>\n",
       "      <td>0.063827</td>\n",
       "      <td>0.011941</td>\n",
       "      <td>0.143873</td>\n",
       "      <td>2020</td>\n",
       "      <td>0.235164</td>\n",
       "    </tr>\n",
       "    <tr>\n",
       "      <th>1</th>\n",
       "      <td>Albanie</td>\n",
       "      <td>AL</td>\n",
       "      <td>0.022697</td>\n",
       "      <td>0.002063</td>\n",
       "      <td>0.621759</td>\n",
       "      <td>0.140266</td>\n",
       "      <td>0.053979</td>\n",
       "      <td>0.346866</td>\n",
       "      <td>2020</td>\n",
       "      <td>0.349583</td>\n",
       "    </tr>\n",
       "    <tr>\n",
       "      <th>2</th>\n",
       "      <td>Émirats arabes unis</td>\n",
       "      <td>AE</td>\n",
       "      <td>0.069030</td>\n",
       "      <td>0.006275</td>\n",
       "      <td>0.545500</td>\n",
       "      <td>0.716018</td>\n",
       "      <td>0.001258</td>\n",
       "      <td>0.006467</td>\n",
       "      <td>2020</td>\n",
       "      <td>0.270778</td>\n",
       "    </tr>\n",
       "    <tr>\n",
       "      <th>3</th>\n",
       "      <td>Argentine</td>\n",
       "      <td>AR</td>\n",
       "      <td>0.026437</td>\n",
       "      <td>0.002403</td>\n",
       "      <td>0.566222</td>\n",
       "      <td>0.208294</td>\n",
       "      <td>0.001531</td>\n",
       "      <td>0.078488</td>\n",
       "      <td>2020</td>\n",
       "      <td>0.228948</td>\n",
       "    </tr>\n",
       "    <tr>\n",
       "      <th>4</th>\n",
       "      <td>Arménie</td>\n",
       "      <td>AM</td>\n",
       "      <td>0.003202</td>\n",
       "      <td>0.000291</td>\n",
       "      <td>0.570026</td>\n",
       "      <td>0.141346</td>\n",
       "      <td>0.035070</td>\n",
       "      <td>0.296185</td>\n",
       "      <td>2020</td>\n",
       "      <td>0.310450</td>\n",
       "    </tr>\n",
       "  </tbody>\n",
       "</table>\n",
       "</div>"
      ],
      "text/plain": [
       "                  pays id_pays  arriveesTotal  arriveesAvion       gpi   \n",
       "0               Angola      AO       0.000546       0.000050  0.575078  \\\n",
       "1              Albanie      AL       0.022697       0.002063  0.621759   \n",
       "2  Émirats arabes unis      AE       0.069030       0.006275  0.545500   \n",
       "3            Argentine      AR       0.026437       0.002403  0.566222   \n",
       "4              Arménie      AM       0.003202       0.000291  0.570026   \n",
       "\n",
       "   pibParHab       co2  gesParHab  annee  score_touristique  \n",
       "0   0.063827  0.011941   0.143873   2020           0.235164  \n",
       "1   0.140266  0.053979   0.346866   2020           0.349583  \n",
       "2   0.716018  0.001258   0.006467   2020           0.270778  \n",
       "3   0.208294  0.001531   0.078488   2020           0.228948  \n",
       "4   0.141346  0.035070   0.296185   2020           0.310450  "
      ]
     },
     "execution_count": 130,
     "metadata": {},
     "output_type": "execute_result"
    }
   ],
   "source": [
    "# Créer le DataFrame\n",
    "df = pd.DataFrame(data)\n",
    "\n",
    "# Normaliser les indicateurs\n",
    "df['arriveesTotal'] = df['arriveesTotal'] / df['arriveesTotal'].max()\n",
    "df['arriveesAvion'] = df['arriveesTotal'] / df['arriveesAvion'].min()\n",
    "df['gpi'] = df['gpi'].min() / df['gpi']\n",
    "df['pibParHab'] = df['pibParHab'] / df['pibParHab'].max()\n",
    "df['co2'] = df['co2'].min() / df['co2']\n",
    "df['gesParHab'] = df['gesParHab'].min() / df['gesParHab']\n",
    "\n",
    "# Définir les poids pour chaque variable\n",
    "poids = {\n",
    "    'arriveesTotal': 2,\n",
    "    'gpi': 4,\n",
    "    'pibParHab': 2,\n",
    "    'gesParHab': 6, \n",
    "\n",
    "}\n",
    "\n",
    "# Calculer le score touristique avec des poids\n",
    "df['score_touristique'] = df.apply(lambda row: sum(row[var] * poids[var] for var in poids) / sum(poids.values()), axis=1)\n",
    "\n",
    "# Afficher le DataFrame\n",
    "df.head()\n",
    "\n",
    "# afficher la ligne quand id_pays = USA\n",
    "#df[df['id_pays'] == 'US']"
   ]
  },
  {
   "cell_type": "code",
   "execution_count": 131,
   "metadata": {},
   "outputs": [
    {
     "name": "stdout",
     "output_type": "stream",
     "text": [
      "0.5924372967724011 0.15731526644179497\n"
     ]
    },
    {
     "data": {
      "text/plain": [
       "score\n",
       "D    36\n",
       "C    34\n",
       "B    25\n",
       "A    17\n",
       "E     7\n",
       "Name: count, dtype: int64"
      ]
     },
     "execution_count": 131,
     "metadata": {},
     "output_type": "execute_result"
    }
   ],
   "source": [
    "max_score = df['score_touristique'].max()\n",
    "min_score = df['score_touristique'].min()\n",
    "\n",
    "# Définir les limites des compartiments\n",
    "bins = [0, 0.2, 0.25, 0.3, 0.35, max_score]\n",
    "\n",
    "print(max_score, min_score)\n",
    "\n",
    "\n",
    "# Définir les labels pour les compartiments\n",
    "labels = ['E', 'D', 'C', 'B', 'A']\n",
    "\n",
    "# Créer une nouvelle colonne score\n",
    "df['score'] = pd.cut(df['score_touristique'], bins=bins, labels=labels)\n",
    "\n",
    "df = df.sort_values(by='score_touristique', ascending=False)\n",
    "\n",
    "# Afficher le DataFrame\n",
    "df.head(50)\n",
    "\n",
    "# nombre de pays ayant un score A\n",
    "df['score'].value_counts()\n"
   ]
  },
  {
   "cell_type": "markdown",
   "metadata": {},
   "source": [
    "CLUSTERING "
   ]
  },
  {
   "cell_type": "code",
   "execution_count": 132,
   "metadata": {},
   "outputs": [
    {
     "data": {
      "text/html": [
       "<div>\n",
       "<style scoped>\n",
       "    .dataframe tbody tr th:only-of-type {\n",
       "        vertical-align: middle;\n",
       "    }\n",
       "\n",
       "    .dataframe tbody tr th {\n",
       "        vertical-align: top;\n",
       "    }\n",
       "\n",
       "    .dataframe thead th {\n",
       "        text-align: right;\n",
       "    }\n",
       "</style>\n",
       "<table border=\"1\" class=\"dataframe\">\n",
       "  <thead>\n",
       "    <tr style=\"text-align: right;\">\n",
       "      <th></th>\n",
       "      <th>pays</th>\n",
       "      <th>id_pays</th>\n",
       "      <th>arriveesTotal</th>\n",
       "      <th>arriveesAvion</th>\n",
       "      <th>gpi</th>\n",
       "      <th>pibParHab</th>\n",
       "      <th>co2</th>\n",
       "      <th>gesParHab</th>\n",
       "      <th>annee</th>\n",
       "      <th>score_touristique</th>\n",
       "      <th>score</th>\n",
       "      <th>cluster</th>\n",
       "    </tr>\n",
       "  </thead>\n",
       "  <tbody>\n",
       "    <tr>\n",
       "      <th>118</th>\n",
       "      <td>Afrique du Sud</td>\n",
       "      <td>ZA</td>\n",
       "      <td>0.033191</td>\n",
       "      <td>0.003017</td>\n",
       "      <td>0.467769</td>\n",
       "      <td>0.135610</td>\n",
       "      <td>0.000602</td>\n",
       "      <td>0.068611</td>\n",
       "      <td>2020</td>\n",
       "      <td>0.187167</td>\n",
       "      <td>E</td>\n",
       "      <td>4</td>\n",
       "    </tr>\n",
       "    <tr>\n",
       "      <th>18</th>\n",
       "      <td>Bhoutan</td>\n",
       "      <td>BT</td>\n",
       "      <td>0.000256</td>\n",
       "      <td>0.000023</td>\n",
       "      <td>0.778405</td>\n",
       "      <td>0.111601</td>\n",
       "      <td>0.228555</td>\n",
       "      <td>0.296245</td>\n",
       "      <td>2020</td>\n",
       "      <td>0.365343</td>\n",
       "      <td>A</td>\n",
       "      <td>3</td>\n",
       "    </tr>\n",
       "    <tr>\n",
       "      <th>54</th>\n",
       "      <td>Islande</td>\n",
       "      <td>IS</td>\n",
       "      <td>0.004167</td>\n",
       "      <td>0.000379</td>\n",
       "      <td>1.000000</td>\n",
       "      <td>0.552081</td>\n",
       "      <td>0.163556</td>\n",
       "      <td>0.083802</td>\n",
       "      <td>2020</td>\n",
       "      <td>0.401094</td>\n",
       "      <td>A</td>\n",
       "      <td>3</td>\n",
       "    </tr>\n",
       "    <tr>\n",
       "      <th>55</th>\n",
       "      <td>Israël</td>\n",
       "      <td>IL</td>\n",
       "      <td>0.007574</td>\n",
       "      <td>0.000689</td>\n",
       "      <td>0.416698</td>\n",
       "      <td>0.416397</td>\n",
       "      <td>0.004046</td>\n",
       "      <td>0.049536</td>\n",
       "      <td>2020</td>\n",
       "      <td>0.200854</td>\n",
       "      <td>D</td>\n",
       "      <td>3</td>\n",
       "    </tr>\n",
       "    <tr>\n",
       "      <th>40</th>\n",
       "      <td>France</td>\n",
       "      <td>FR</td>\n",
       "      <td>1.000000</td>\n",
       "      <td>0.090909</td>\n",
       "      <td>0.568557</td>\n",
       "      <td>0.446882</td>\n",
       "      <td>0.000886</td>\n",
       "      <td>0.131078</td>\n",
       "      <td>2020</td>\n",
       "      <td>0.425318</td>\n",
       "      <td>A</td>\n",
       "      <td>3</td>\n",
       "    </tr>\n",
       "  </tbody>\n",
       "</table>\n",
       "</div>"
      ],
      "text/plain": [
       "               pays id_pays  arriveesTotal  arriveesAvion       gpi   \n",
       "118  Afrique du Sud      ZA       0.033191       0.003017  0.467769  \\\n",
       "18          Bhoutan      BT       0.000256       0.000023  0.778405   \n",
       "54          Islande      IS       0.004167       0.000379  1.000000   \n",
       "55           Israël      IL       0.007574       0.000689  0.416698   \n",
       "40           France      FR       1.000000       0.090909  0.568557   \n",
       "\n",
       "     pibParHab       co2  gesParHab  annee  score_touristique score  cluster  \n",
       "118   0.135610  0.000602   0.068611   2020           0.187167     E        4  \n",
       "18    0.111601  0.228555   0.296245   2020           0.365343     A        3  \n",
       "54    0.552081  0.163556   0.083802   2020           0.401094     A        3  \n",
       "55    0.416397  0.004046   0.049536   2020           0.200854     D        3  \n",
       "40    0.446882  0.000886   0.131078   2020           0.425318     A        3  "
      ]
     },
     "execution_count": 132,
     "metadata": {},
     "output_type": "execute_result"
    }
   ],
   "source": [
    "from sklearn.cluster import KMeans\n",
    "import numpy as np\n",
    "\n",
    "# Sélectionner les variables pour le clustering\n",
    "X = df[['arriveesTotal', 'arriveesAvion', 'gpi', 'pibParHab', 'co2', 'gesParHab']]\n",
    "\n",
    "# Supprimer les lignes avec des valeurs manquantes et réinitialiser l'index\n",
    "X = X.dropna().reset_index(drop=True)\n",
    "\n",
    "# Filtrer df pour correspondre à l'index de X\n",
    "df = df.loc[X.index]\n",
    "\n",
    "# Créer le modèle\n",
    "kmeans = KMeans(n_clusters=5, random_state=42)\n",
    "\n",
    "# Faire le clustering\n",
    "kmeans.fit(X)\n",
    "\n",
    "# Ajouter les labels de clusters dans le DataFrame\n",
    "df['cluster'] = kmeans.labels_\n",
    "\n",
    "df = df.sort_values(by='cluster', ascending=False)\n",
    "\n",
    "centroids = pd.DataFrame(kmeans.cluster_centers_, columns=X.columns)\n",
    "\n",
    "# Afficher les centroïdes\n",
    "centroids\n",
    "\n",
    "# Afficher le DataFrame\n",
    "df.head()\n",
    "\n",
    "\n"
   ]
  },
  {
   "cell_type": "code",
   "execution_count": 133,
   "metadata": {},
   "outputs": [
    {
     "data": {
      "application/vnd.plotly.v1+json": {
       "config": {
        "plotlyServerURL": "https://plot.ly"
       },
       "data": [
        {
         "coloraxis": "coloraxis",
         "geo": "geo",
         "hovertemplate": "<b>%{hovertext}</b><br><br>id_pays=%{location}<br>cluster=%{z}<extra></extra>",
         "hovertext": [
          "Afrique du Sud",
          "Bhoutan",
          "Islande",
          "Israël",
          "France",
          "Éthiopie",
          "Égypte",
          "Algérie",
          "Danemark",
          "Djibouti",
          "Sri Lanka",
          "Cuba",
          "Colombie",
          "Suisse",
          "Canada",
          "Botswana",
          "China",
          "Belgique",
          "Papouasie-Nouvelle-Guinée",
          "Australie",
          "Autriche",
          "Azerbaïdjan",
          "Bolivie",
          "Bénin",
          "Salvador",
          "Bangladesh",
          "Honduras",
          "Biélorussie",
          "Argentine",
          "Myanmar (Birmanie)",
          "Albanie",
          "Haïti",
          "Hongrie",
          "Tanzanie",
          "Italie",
          "Jordanie",
          "Trinité-et-Tobago",
          "Kazakhstan",
          "Monténégro",
          "Malawi",
          "Kenya",
          "Népal",
          "Koweït",
          "Oman",
          "Mongolie",
          "Croatie",
          "Mexique",
          "Malaisie",
          "Angola",
          "Guyana",
          "République dominicaine",
          "Émirats arabes unis",
          "Arménie",
          "Burkina Faso",
          "Bahreïn",
          "Bosnie-Herzégovine",
          "Brésil",
          "Chili",
          "Costa Rica",
          "République tchèque",
          "Allemagne",
          "Japon",
          "Équateur",
          "Royaume-Uni",
          "Géorgie",
          "Espagne",
          "Ghana",
          "Kirghizstan",
          "Rwanda",
          "Sierra Leone",
          "Singapour",
          "Arabie saoudite",
          "Roumanie",
          "Russie",
          "Serbie",
          "Qatar",
          "Paraguay",
          "Pologne",
          "Iran",
          "Syrie",
          "Serbie",
          "Philippines",
          "Togo",
          "Tadjikistan",
          "Inde",
          "Turquie",
          "Indonésie",
          "Ouganda",
          "Ukraine",
          "United States",
          "Ouzbékistan",
          "Viêt Nam",
          "Bulgarie",
          "Grèce",
          "Pérou",
          "Côte d´Ivoire",
          "Corée du Sud",
          "Laos",
          "Liban",
          "Lituanie",
          "Lettonie",
          "Maroc",
          "Madagascar",
          "Estonie",
          "Macédoine du Nord",
          "Mali",
          "Jamaïque",
          "Panama",
          "Mozambique",
          "Maurice (Île)",
          "République centrafricaine",
          "Namibie",
          "Guatemala",
          "Nigéria",
          "Nicaragua",
          "Pays-Bas",
          "Nouvelle-Zélande",
          "Cambodge",
          "Niger"
         ],
         "locations": [
          "ZAF",
          "BTN",
          "ISL",
          "ISR",
          "FRA",
          "ETH",
          "EGY",
          "DZA",
          "DNK",
          "DJI",
          "LKA",
          "CUB",
          "COL",
          "CHE",
          "CAN",
          "BWA",
          "CHN",
          "BEL",
          "PNG",
          "AUS",
          "AUT",
          "AZE",
          "BOL",
          "BEN",
          "SLV",
          "BGD",
          "HND",
          "BLR",
          "ARG",
          "MMR",
          "ALB",
          "HTI",
          "HUN",
          "TZA",
          "ITA",
          "JOR",
          "TTO",
          "KAZ",
          "MNE",
          "MWI",
          "KEN",
          "NPL",
          "KWT",
          "OMN",
          "MNG",
          "HRV",
          "MEX",
          "MYS",
          "AGO",
          "GUY",
          "DOM",
          "ARE",
          "ARM",
          "BFA",
          "BHR",
          "BIH",
          "BRA",
          "CHL",
          "CRI",
          "CZE",
          "DEU",
          "JPN",
          "ECU",
          "GBR",
          "GEO",
          "ESP",
          "GHA",
          "KGZ",
          "RWA",
          "SLE",
          "SGP",
          "SAU",
          "ROU",
          "RUS",
          "SRB",
          "QAT",
          "PRY",
          "POL",
          "IRN",
          "SYR",
          "SRB",
          "PHL",
          "TGO",
          "TJK",
          "IND",
          "TUR",
          "IDN",
          "UGA",
          "UKR",
          "USA",
          "UZB",
          "VNM",
          "BGR",
          "GRC",
          "PER",
          "CIV",
          "KOR",
          "LAO",
          "LBN",
          "LTU",
          "LVA",
          "MAR",
          "MDG",
          "EST",
          "MKD",
          "MLI",
          "JAM",
          "PAN",
          "MOZ",
          "MUS",
          "CAF",
          "NAM",
          "GTM",
          "NGA",
          "NIC",
          "NLD",
          "NZL",
          "KHM",
          "NER"
         ],
         "name": "",
         "type": "choropleth",
         "z": [
          4,
          3,
          3,
          3,
          3,
          3,
          3,
          3,
          3,
          3,
          3,
          3,
          3,
          3,
          3,
          3,
          3,
          3,
          3,
          3,
          3,
          3,
          3,
          3,
          3,
          3,
          3,
          3,
          2,
          1,
          1,
          1,
          1,
          1,
          1,
          1,
          1,
          1,
          1,
          1,
          1,
          1,
          1,
          1,
          1,
          1,
          1,
          1,
          1,
          1,
          1,
          1,
          1,
          1,
          1,
          1,
          1,
          1,
          1,
          1,
          1,
          1,
          1,
          1,
          1,
          1,
          1,
          0,
          0,
          0,
          0,
          0,
          0,
          0,
          0,
          0,
          0,
          0,
          0,
          0,
          0,
          0,
          0,
          0,
          0,
          0,
          0,
          0,
          0,
          0,
          0,
          0,
          0,
          0,
          0,
          0,
          0,
          0,
          0,
          0,
          0,
          0,
          0,
          0,
          0,
          0,
          0,
          0,
          0,
          0,
          0,
          0,
          0,
          0,
          0,
          0,
          0,
          0,
          0
         ]
        }
       ],
       "layout": {
        "coloraxis": {
         "colorbar": {
          "title": {
           "text": "cluster"
          }
         },
         "colorscale": [
          [
           0,
           "#0d0887"
          ],
          [
           0.1111111111111111,
           "#46039f"
          ],
          [
           0.2222222222222222,
           "#7201a8"
          ],
          [
           0.3333333333333333,
           "#9c179e"
          ],
          [
           0.4444444444444444,
           "#bd3786"
          ],
          [
           0.5555555555555556,
           "#d8576b"
          ],
          [
           0.6666666666666666,
           "#ed7953"
          ],
          [
           0.7777777777777778,
           "#fb9f3a"
          ],
          [
           0.8888888888888888,
           "#fdca26"
          ],
          [
           1,
           "#f0f921"
          ]
         ]
        },
        "geo": {
         "center": {},
         "countrycolor": "Black",
         "domain": {
          "x": [
           0,
           1
          ],
          "y": [
           0,
           1
          ]
         },
         "lakecolor": "Blue",
         "oceancolor": "LightBlue",
         "projection": {
          "type": "natural earth"
         },
         "showcountries": true,
         "showlakes": true,
         "showland": true,
         "showocean": true
        },
        "legend": {
         "tracegroupgap": 0
        },
        "margin": {
         "t": 60
        },
        "template": {
         "data": {
          "bar": [
           {
            "error_x": {
             "color": "#2a3f5f"
            },
            "error_y": {
             "color": "#2a3f5f"
            },
            "marker": {
             "line": {
              "color": "#E5ECF6",
              "width": 0.5
             },
             "pattern": {
              "fillmode": "overlay",
              "size": 10,
              "solidity": 0.2
             }
            },
            "type": "bar"
           }
          ],
          "barpolar": [
           {
            "marker": {
             "line": {
              "color": "#E5ECF6",
              "width": 0.5
             },
             "pattern": {
              "fillmode": "overlay",
              "size": 10,
              "solidity": 0.2
             }
            },
            "type": "barpolar"
           }
          ],
          "carpet": [
           {
            "aaxis": {
             "endlinecolor": "#2a3f5f",
             "gridcolor": "white",
             "linecolor": "white",
             "minorgridcolor": "white",
             "startlinecolor": "#2a3f5f"
            },
            "baxis": {
             "endlinecolor": "#2a3f5f",
             "gridcolor": "white",
             "linecolor": "white",
             "minorgridcolor": "white",
             "startlinecolor": "#2a3f5f"
            },
            "type": "carpet"
           }
          ],
          "choropleth": [
           {
            "colorbar": {
             "outlinewidth": 0,
             "ticks": ""
            },
            "type": "choropleth"
           }
          ],
          "contour": [
           {
            "colorbar": {
             "outlinewidth": 0,
             "ticks": ""
            },
            "colorscale": [
             [
              0,
              "#0d0887"
             ],
             [
              0.1111111111111111,
              "#46039f"
             ],
             [
              0.2222222222222222,
              "#7201a8"
             ],
             [
              0.3333333333333333,
              "#9c179e"
             ],
             [
              0.4444444444444444,
              "#bd3786"
             ],
             [
              0.5555555555555556,
              "#d8576b"
             ],
             [
              0.6666666666666666,
              "#ed7953"
             ],
             [
              0.7777777777777778,
              "#fb9f3a"
             ],
             [
              0.8888888888888888,
              "#fdca26"
             ],
             [
              1,
              "#f0f921"
             ]
            ],
            "type": "contour"
           }
          ],
          "contourcarpet": [
           {
            "colorbar": {
             "outlinewidth": 0,
             "ticks": ""
            },
            "type": "contourcarpet"
           }
          ],
          "heatmap": [
           {
            "colorbar": {
             "outlinewidth": 0,
             "ticks": ""
            },
            "colorscale": [
             [
              0,
              "#0d0887"
             ],
             [
              0.1111111111111111,
              "#46039f"
             ],
             [
              0.2222222222222222,
              "#7201a8"
             ],
             [
              0.3333333333333333,
              "#9c179e"
             ],
             [
              0.4444444444444444,
              "#bd3786"
             ],
             [
              0.5555555555555556,
              "#d8576b"
             ],
             [
              0.6666666666666666,
              "#ed7953"
             ],
             [
              0.7777777777777778,
              "#fb9f3a"
             ],
             [
              0.8888888888888888,
              "#fdca26"
             ],
             [
              1,
              "#f0f921"
             ]
            ],
            "type": "heatmap"
           }
          ],
          "heatmapgl": [
           {
            "colorbar": {
             "outlinewidth": 0,
             "ticks": ""
            },
            "colorscale": [
             [
              0,
              "#0d0887"
             ],
             [
              0.1111111111111111,
              "#46039f"
             ],
             [
              0.2222222222222222,
              "#7201a8"
             ],
             [
              0.3333333333333333,
              "#9c179e"
             ],
             [
              0.4444444444444444,
              "#bd3786"
             ],
             [
              0.5555555555555556,
              "#d8576b"
             ],
             [
              0.6666666666666666,
              "#ed7953"
             ],
             [
              0.7777777777777778,
              "#fb9f3a"
             ],
             [
              0.8888888888888888,
              "#fdca26"
             ],
             [
              1,
              "#f0f921"
             ]
            ],
            "type": "heatmapgl"
           }
          ],
          "histogram": [
           {
            "marker": {
             "pattern": {
              "fillmode": "overlay",
              "size": 10,
              "solidity": 0.2
             }
            },
            "type": "histogram"
           }
          ],
          "histogram2d": [
           {
            "colorbar": {
             "outlinewidth": 0,
             "ticks": ""
            },
            "colorscale": [
             [
              0,
              "#0d0887"
             ],
             [
              0.1111111111111111,
              "#46039f"
             ],
             [
              0.2222222222222222,
              "#7201a8"
             ],
             [
              0.3333333333333333,
              "#9c179e"
             ],
             [
              0.4444444444444444,
              "#bd3786"
             ],
             [
              0.5555555555555556,
              "#d8576b"
             ],
             [
              0.6666666666666666,
              "#ed7953"
             ],
             [
              0.7777777777777778,
              "#fb9f3a"
             ],
             [
              0.8888888888888888,
              "#fdca26"
             ],
             [
              1,
              "#f0f921"
             ]
            ],
            "type": "histogram2d"
           }
          ],
          "histogram2dcontour": [
           {
            "colorbar": {
             "outlinewidth": 0,
             "ticks": ""
            },
            "colorscale": [
             [
              0,
              "#0d0887"
             ],
             [
              0.1111111111111111,
              "#46039f"
             ],
             [
              0.2222222222222222,
              "#7201a8"
             ],
             [
              0.3333333333333333,
              "#9c179e"
             ],
             [
              0.4444444444444444,
              "#bd3786"
             ],
             [
              0.5555555555555556,
              "#d8576b"
             ],
             [
              0.6666666666666666,
              "#ed7953"
             ],
             [
              0.7777777777777778,
              "#fb9f3a"
             ],
             [
              0.8888888888888888,
              "#fdca26"
             ],
             [
              1,
              "#f0f921"
             ]
            ],
            "type": "histogram2dcontour"
           }
          ],
          "mesh3d": [
           {
            "colorbar": {
             "outlinewidth": 0,
             "ticks": ""
            },
            "type": "mesh3d"
           }
          ],
          "parcoords": [
           {
            "line": {
             "colorbar": {
              "outlinewidth": 0,
              "ticks": ""
             }
            },
            "type": "parcoords"
           }
          ],
          "pie": [
           {
            "automargin": true,
            "type": "pie"
           }
          ],
          "scatter": [
           {
            "fillpattern": {
             "fillmode": "overlay",
             "size": 10,
             "solidity": 0.2
            },
            "type": "scatter"
           }
          ],
          "scatter3d": [
           {
            "line": {
             "colorbar": {
              "outlinewidth": 0,
              "ticks": ""
             }
            },
            "marker": {
             "colorbar": {
              "outlinewidth": 0,
              "ticks": ""
             }
            },
            "type": "scatter3d"
           }
          ],
          "scattercarpet": [
           {
            "marker": {
             "colorbar": {
              "outlinewidth": 0,
              "ticks": ""
             }
            },
            "type": "scattercarpet"
           }
          ],
          "scattergeo": [
           {
            "marker": {
             "colorbar": {
              "outlinewidth": 0,
              "ticks": ""
             }
            },
            "type": "scattergeo"
           }
          ],
          "scattergl": [
           {
            "marker": {
             "colorbar": {
              "outlinewidth": 0,
              "ticks": ""
             }
            },
            "type": "scattergl"
           }
          ],
          "scattermapbox": [
           {
            "marker": {
             "colorbar": {
              "outlinewidth": 0,
              "ticks": ""
             }
            },
            "type": "scattermapbox"
           }
          ],
          "scatterpolar": [
           {
            "marker": {
             "colorbar": {
              "outlinewidth": 0,
              "ticks": ""
             }
            },
            "type": "scatterpolar"
           }
          ],
          "scatterpolargl": [
           {
            "marker": {
             "colorbar": {
              "outlinewidth": 0,
              "ticks": ""
             }
            },
            "type": "scatterpolargl"
           }
          ],
          "scatterternary": [
           {
            "marker": {
             "colorbar": {
              "outlinewidth": 0,
              "ticks": ""
             }
            },
            "type": "scatterternary"
           }
          ],
          "surface": [
           {
            "colorbar": {
             "outlinewidth": 0,
             "ticks": ""
            },
            "colorscale": [
             [
              0,
              "#0d0887"
             ],
             [
              0.1111111111111111,
              "#46039f"
             ],
             [
              0.2222222222222222,
              "#7201a8"
             ],
             [
              0.3333333333333333,
              "#9c179e"
             ],
             [
              0.4444444444444444,
              "#bd3786"
             ],
             [
              0.5555555555555556,
              "#d8576b"
             ],
             [
              0.6666666666666666,
              "#ed7953"
             ],
             [
              0.7777777777777778,
              "#fb9f3a"
             ],
             [
              0.8888888888888888,
              "#fdca26"
             ],
             [
              1,
              "#f0f921"
             ]
            ],
            "type": "surface"
           }
          ],
          "table": [
           {
            "cells": {
             "fill": {
              "color": "#EBF0F8"
             },
             "line": {
              "color": "white"
             }
            },
            "header": {
             "fill": {
              "color": "#C8D4E3"
             },
             "line": {
              "color": "white"
             }
            },
            "type": "table"
           }
          ]
         },
         "layout": {
          "annotationdefaults": {
           "arrowcolor": "#2a3f5f",
           "arrowhead": 0,
           "arrowwidth": 1
          },
          "autotypenumbers": "strict",
          "coloraxis": {
           "colorbar": {
            "outlinewidth": 0,
            "ticks": ""
           }
          },
          "colorscale": {
           "diverging": [
            [
             0,
             "#8e0152"
            ],
            [
             0.1,
             "#c51b7d"
            ],
            [
             0.2,
             "#de77ae"
            ],
            [
             0.3,
             "#f1b6da"
            ],
            [
             0.4,
             "#fde0ef"
            ],
            [
             0.5,
             "#f7f7f7"
            ],
            [
             0.6,
             "#e6f5d0"
            ],
            [
             0.7,
             "#b8e186"
            ],
            [
             0.8,
             "#7fbc41"
            ],
            [
             0.9,
             "#4d9221"
            ],
            [
             1,
             "#276419"
            ]
           ],
           "sequential": [
            [
             0,
             "#0d0887"
            ],
            [
             0.1111111111111111,
             "#46039f"
            ],
            [
             0.2222222222222222,
             "#7201a8"
            ],
            [
             0.3333333333333333,
             "#9c179e"
            ],
            [
             0.4444444444444444,
             "#bd3786"
            ],
            [
             0.5555555555555556,
             "#d8576b"
            ],
            [
             0.6666666666666666,
             "#ed7953"
            ],
            [
             0.7777777777777778,
             "#fb9f3a"
            ],
            [
             0.8888888888888888,
             "#fdca26"
            ],
            [
             1,
             "#f0f921"
            ]
           ],
           "sequentialminus": [
            [
             0,
             "#0d0887"
            ],
            [
             0.1111111111111111,
             "#46039f"
            ],
            [
             0.2222222222222222,
             "#7201a8"
            ],
            [
             0.3333333333333333,
             "#9c179e"
            ],
            [
             0.4444444444444444,
             "#bd3786"
            ],
            [
             0.5555555555555556,
             "#d8576b"
            ],
            [
             0.6666666666666666,
             "#ed7953"
            ],
            [
             0.7777777777777778,
             "#fb9f3a"
            ],
            [
             0.8888888888888888,
             "#fdca26"
            ],
            [
             1,
             "#f0f921"
            ]
           ]
          },
          "colorway": [
           "#636efa",
           "#EF553B",
           "#00cc96",
           "#ab63fa",
           "#FFA15A",
           "#19d3f3",
           "#FF6692",
           "#B6E880",
           "#FF97FF",
           "#FECB52"
          ],
          "font": {
           "color": "#2a3f5f"
          },
          "geo": {
           "bgcolor": "white",
           "lakecolor": "white",
           "landcolor": "#E5ECF6",
           "showlakes": true,
           "showland": true,
           "subunitcolor": "white"
          },
          "hoverlabel": {
           "align": "left"
          },
          "hovermode": "closest",
          "mapbox": {
           "style": "light"
          },
          "paper_bgcolor": "white",
          "plot_bgcolor": "#E5ECF6",
          "polar": {
           "angularaxis": {
            "gridcolor": "white",
            "linecolor": "white",
            "ticks": ""
           },
           "bgcolor": "#E5ECF6",
           "radialaxis": {
            "gridcolor": "white",
            "linecolor": "white",
            "ticks": ""
           }
          },
          "scene": {
           "xaxis": {
            "backgroundcolor": "#E5ECF6",
            "gridcolor": "white",
            "gridwidth": 2,
            "linecolor": "white",
            "showbackground": true,
            "ticks": "",
            "zerolinecolor": "white"
           },
           "yaxis": {
            "backgroundcolor": "#E5ECF6",
            "gridcolor": "white",
            "gridwidth": 2,
            "linecolor": "white",
            "showbackground": true,
            "ticks": "",
            "zerolinecolor": "white"
           },
           "zaxis": {
            "backgroundcolor": "#E5ECF6",
            "gridcolor": "white",
            "gridwidth": 2,
            "linecolor": "white",
            "showbackground": true,
            "ticks": "",
            "zerolinecolor": "white"
           }
          },
          "shapedefaults": {
           "line": {
            "color": "#2a3f5f"
           }
          },
          "ternary": {
           "aaxis": {
            "gridcolor": "white",
            "linecolor": "white",
            "ticks": ""
           },
           "baxis": {
            "gridcolor": "white",
            "linecolor": "white",
            "ticks": ""
           },
           "bgcolor": "#E5ECF6",
           "caxis": {
            "gridcolor": "white",
            "linecolor": "white",
            "ticks": ""
           }
          },
          "title": {
           "x": 0.05
          },
          "xaxis": {
           "automargin": true,
           "gridcolor": "white",
           "linecolor": "white",
           "ticks": "",
           "title": {
            "standoff": 15
           },
           "zerolinecolor": "white",
           "zerolinewidth": 2
          },
          "yaxis": {
           "automargin": true,
           "gridcolor": "white",
           "linecolor": "white",
           "ticks": "",
           "title": {
            "standoff": 15
           },
           "zerolinecolor": "white",
           "zerolinewidth": 2
          }
         }
        }
       }
      }
     },
     "metadata": {},
     "output_type": "display_data"
    }
   ],
   "source": [
    "import pycountry\n",
    "\n",
    "# Fonction pour convertir ISO-2 en ISO-3\n",
    "def iso2_to_iso3(iso2):\n",
    "    try:\n",
    "        return pycountry.countries.get(alpha_2=iso2).alpha_3\n",
    "    except (AttributeError, LookupError):\n",
    "        return np.nan\n",
    "    \n",
    "# Appliquer la fonction à la colonne 'id_pays'\n",
    "df['id_pays'] = df['id_pays'].apply(iso2_to_iso3)\n",
    "\n",
    "# Créer une carte du monde\n",
    "fig = px.choropleth(df, locations='id_pays', color='cluster', hover_name='pays', projection='natural earth')\n",
    "\n",
    "# Mettre à jour la carte\n",
    "fig.update_geos(showcountries=True, countrycolor=\"Black\", showland=True, showocean=True, oceancolor=\"LightBlue\", showlakes=True, lakecolor=\"Blue\")\n",
    "\n",
    "# Afficher la carte\n",
    "fig.show()\n"
   ]
  },
  {
   "cell_type": "code",
   "execution_count": 134,
   "metadata": {},
   "outputs": [
    {
     "data": {
      "application/vnd.plotly.v1+json": {
       "config": {
        "plotlyServerURL": "https://plot.ly"
       },
       "data": [
        {
         "marker": {
          "size": 4
         },
         "mode": "markers+text",
         "name": "Cluster 4",
         "text": [
          "Afrique du Sud"
         ],
         "type": "scatter3d",
         "x": [
          0.13561043743254397
         ],
         "y": [
          0.0006016657444176812
         ],
         "z": [
          0.06861071274636574
         ]
        },
        {
         "marker": {
          "size": 4
         },
         "mode": "markers+text",
         "name": "Cluster 3",
         "text": [
          "Bhoutan",
          "Islande",
          "Israël",
          "France",
          "Éthiopie",
          "Égypte",
          "Algérie",
          "Danemark",
          "Djibouti",
          "Sri Lanka",
          "Cuba",
          "Colombie",
          "Suisse",
          "Canada",
          "Botswana",
          "China",
          "Belgique",
          "Papouasie-Nouvelle-Guinée",
          "Australie",
          "Autriche",
          "Azerbaïdjan",
          "Bolivie",
          "Bénin",
          "Salvador",
          "Bangladesh",
          "Honduras",
          "Biélorussie"
         ],
         "type": "scatter3d",
         "x": [
          0.11160137980657313,
          0.5520813493323176,
          0.4163968425285167,
          0.44688167947008656,
          0.023839756205955177,
          0.12042621632488942,
          0.1147546187543648,
          0.5874653461155905,
          0.05030368442215309,
          0.13857321228281802,
          null,
          0.14166296319810381,
          0.7266205320297124,
          0.4874187882250862,
          0.14333481472075846,
          0.17244407762470107,
          0.5182633906841894,
          0.03959536960616257,
          0.5158191014327133,
          0.5501026389858845,
          0.14525003703468564,
          0.08126468160751699,
          0.03371214526061837,
          0.08747592745434152,
          0.059160264956722323,
          0.05320297123992127,
          0.2034368188263179
         ],
         "y": [
          0.2285548686244204,
          0.16355592423613993,
          0.004046395014348797,
          0.0008856291878825265,
          0.013073267764393855,
          0.0011226449248715198,
          0.00146444421061753,
          0.008648767203406868,
          0.5531914893617021,
          0.010830209234515685,
          0.009725499223111009,
          0.0029927546497743414,
          0.006776243624001535,
          0.00045775205819139183,
          0.04105011254080938,
          0.000021617796588814032,
          0.002771656937752521,
          0.04308476736775016,
          0.0006242796772954283,
          0.004000514013634888,
          0.006896953796822621,
          0.012875980256104662,
          0.029647636709939352,
          0.03710615874409924,
          0.002767474802060049,
          0.02677864046902234,
          0.004317400071165935
         ],
         "z": [
          0.29624477642242036,
          0.08380222641256593,
          0.04953587715427007,
          0.13107765783839626,
          0.2460319066125991,
          0.16499636275917698,
          0.08275504513445815,
          0.10936960885843026,
          0.34192546826425885,
          0.42621791220614086,
          0.24017880901890964,
          0.15103150849168084,
          0.13281920348558496,
          0.03548384089748474,
          0.09351259552787998,
          0.07736894662424885,
          0.08702766374091708,
          0.18123699730682527,
          0.02591583858010165,
          0.09425313465871595,
          0.11660335996121687,
          0.11136966418911957,
          0.2733499225696873,
          0.4208278056564958,
          0.4492659397049391,
          0.20627684463743395,
          0.10373293396571806
         ]
        },
        {
         "marker": {
          "size": 4
         },
         "mode": "markers+text",
         "name": "Cluster 2",
         "text": [
          "Argentine"
         ],
         "type": "scatter3d",
         "x": [
          0.20829365331301716
         ],
         "y": [
          0.0015310358305092862
         ],
         "z": [
          0.0784884262994639
         ]
        },
        {
         "marker": {
          "size": 4
         },
         "mode": "markers+text",
         "name": "Cluster 1",
         "text": [
          "Myanmar (Birmanie)",
          "Albanie",
          "Haïti",
          "Hongrie",
          "Tanzanie",
          "Italie",
          "Jordanie",
          "Trinité-et-Tobago",
          "Kazakhstan",
          "Monténégro",
          "Malawi",
          "Kenya",
          "Népal",
          "Koweït",
          "Oman",
          "Mongolie",
          "Croatie",
          "Mexique",
          "Malaisie",
          "Angola",
          "Guyana",
          "République dominicaine",
          "Émirats arabes unis",
          "Arménie",
          "Burkina Faso",
          "Bahreïn",
          "Bosnie-Herzégovine",
          "Brésil",
          "Chili",
          "Costa Rica",
          "République tchèque",
          "Allemagne",
          "Japon",
          "Équateur",
          "Royaume-Uni",
          "Géorgie",
          "Espagne",
          "Ghana"
         ],
         "type": "scatter3d",
         "x": [
          0.052345882801091995,
          0.14026622648297463,
          0.03131018136414619,
          0.33047637187056905,
          0.02699299515374685,
          0.4133599983069858,
          0.09738006052525766,
          0.2475080947241445,
          0.2683639134023237,
          0.19323640827037436,
          0.015766194738958374,
          0.047594861701902524,
          0.039806996381182146,
          0.4647641419592407,
          0.35022114997989545,
          0.12345247920766936,
          0.28517766067762895,
          0.19393477662793895,
          0.2733265612765327,
          0.06382663534590396,
          0.19502465451928977,
          0.17742788817641209,
          0.7160180306012317,
          0.14134552303557446,
          0.02215732334454955,
          0.5062958965568324,
          0.15193744312530422,
          0.14837153196622438,
          0.24356125537002943,
          0.20976445939940322,
          0.4088629293378198,
          0.5485366008507396,
          0.4225657630203373,
          0.10959092544388715,
          0.44424692612109284,
          0.14777897699616954,
          0.38058959219520455,
          0.05570016718515226
         ],
         "y": [
          0.006984584319814847,
          0.0539788282533309,
          0.0737292149677162,
          0.005284871552604127,
          0.0163901492847494,
          0.0008411343866829158,
          0.011280579381236859,
          0.015343709468223086,
          0.0011165818061347817,
          0.09362139917695474,
          0.14426829268292682,
          0.012166526112265257,
          0.015826933882749576,
          0.002563133132341519,
          0.003330447696064976,
          0.01116843759883312,
          0.015140558908036783,
          0.0006175427020599199,
          0.0009651655201756716,
          0.011940750460521335,
          0.08546144121365361,
          0.010340321572637918,
          0.0012579171422844647,
          0.03506951649719858,
          0.04335953964850551,
          0.007286681326262234,
          0.01129528137949472,
          0.000571306045219622,
          0.002789179962229363,
          0.03395814794614921,
          0.002663358668635856,
          0.0003921435384573312,
          0.00023331844605181505,
          0.006871714443379513,
          0.0007665633242540182,
          0.023071672354948804,
          0.001167208831715718,
          0.012195147094297453
         ],
         "z": [
          0.2702182098765432,
          0.34686594956518296,
          0.5844779128530706,
          0.15244820633190434,
          0.25371425425123745,
          0.14105769060358675,
          0.0895776633666608,
          0.04171226154403217,
          0.04988814432402248,
          0.14411092254943433,
          0.6855054534635171,
          0.24862398868635008,
          0.3696664794774465,
          0.014500983011377094,
          0.01619785461084757,
          0.034773112714823036,
          0.1996777357113534,
          0.11957913398355817,
          0.05004212535866571,
          0.14387291956984724,
          0.12432452773387521,
          0.16667910483279869,
          0.006466555875618584,
          0.2961846445305232,
          0.24454888005608796,
          0.008227675970303543,
          0.15084207279988562,
          0.12282697598334448,
          0.10857412496527641,
          0.18950737135571907,
          0.08328405772285799,
          0.10002216350037073,
          0.09877923159285457,
          0.13289440330055147,
          0.12558013110145302,
          0.26877643996095024,
          0.12590918504115925,
          0.34166260161015266
         ]
        },
        {
         "marker": {
          "size": 4
         },
         "mode": "markers+text",
         "name": "Cluster 0",
         "text": [
          "Kirghizstan",
          "Rwanda",
          "Sierra Leone",
          "Singapour",
          "Arabie saoudite",
          "Roumanie",
          "Russie",
          "Serbie",
          "Qatar",
          "Paraguay",
          "Pologne",
          "Iran",
          "Syrie",
          "Serbie",
          "Philippines",
          "Togo",
          "Tadjikistan",
          "Inde",
          "Turquie",
          "Indonésie",
          "Ouganda",
          "Ukraine",
          "United States",
          "Ouzbékistan",
          "Viêt Nam",
          "Bulgarie",
          "Grèce",
          "Pérou",
          "Côte d´Ivoire",
          "Corée du Sud",
          "Laos",
          "Liban",
          "Lituanie",
          "Lettonie",
          "Maroc",
          "Madagascar",
          "Estonie",
          "Macédoine du Nord",
          "Mali",
          "Jamaïque",
          "Panama",
          "Mozambique",
          "Maurice (Île)",
          "République centrafricaine",
          "Namibie",
          "Guatemala",
          "Nigéria",
          "Nicaragua",
          "Pays-Bas",
          "Nouvelle-Zélande",
          "Cambodge",
          "Niger"
         ],
         "type": "scatter3d",
         "x": [
          0.05000740693712569,
          0.021882208537024106,
          0.016782003259052335,
          1,
          0.45385478170698157,
          0.30751486678094514,
          0.28129430935601973,
          0.19327873362537829,
          0.9419401942733795,
          0.14091168814678434,
          0.34439083232810613,
          0.15270988085412565,
          null,
          0.19327873362537829,
          0.082248746111358,
          0.021871627198273125,
          0.03864304911857448,
          0.06469430512348422,
          0.30128245825661865,
          0.12185469705627155,
          0.023702198802192452,
          0.13129325122214464,
          0.6366579899688909,
          0.07770935178718812,
          0.11058557128647917,
          0.23791082047700676,
          0.2867966055065287,
          0.11826762321968975,
          0.053954246291240765,
          0.4486170190252471,
          0.0821535140625992,
          0.1458214293272385,
          0.3932660360188771,
          0.3234609442786701,
          0.07984678221488582,
          0.015194802446405519,
          0.3796901784013713,
          0.167005269506698,
          0.022474763507078915,
          0.09732715383150276,
          0.2699299515374685,
          0.013046790679956828,
          0.21399699489979473,
          0.008972975260830001,
          0.09573995301885595,
          0.08877743212071192,
          0.051478213023511736,
          0.054832497407572005,
          0.5743021607093729,
          0.4406281082682581,
          0.045245804499185235,
          0.012856326582439211
         ],
         "y": [
          0.026056981751302298,
          0.1712011577424023,
          0.22576335877862594,
          0.005413568241619952,
          0.00046070943021186793,
          0.003445764884073168,
          0.0001462054254200934,
          0.005107470593187592,
          0.0027015824696300338,
          0.03123143735892393,
          0.0008473489724013498,
          0.00038374124357140154,
          0.009376015470821808,
          0.005107470593187592,
          0.0017726657341316074,
          0.09796695788994245,
          0.025362318840579712,
          0.00010750458814224394,
          0.0005807471756689024,
          0.00042010166957565467,
          0.04169456878017833,
          0.0014281954515053396,
          0.0000547617683699868,
          0.002047105932108069,
          0.0006658728351745214,
          0.006930672767377212,
          0.004639015571877292,
          0.00507955318824618,
          0.021716582988370706,
          0.00041531956962641243,
          0.012336473937504235,
          0.011017513469212894,
          0.020232943953205972,
          0.034149791435128383,
          0.0035461896447065698,
          0.0861789506274017,
          0.03333558764188054,
          0.034811011226036165,
          0.05700243332449948,
          0.040544245664541775,
          0.024690327360764708,
          0.03406522208624289,
          0.06359873125100801,
          1,
          0.05985630439182351,
          0.014028887887484286,
          0.0021129131499820052,
          0.05163458600672166,
          0.001815599266700482,
          0.007544715032350437,
          0.012684422714016126,
          0.10764576082258469
         ],
         "z": [
          0.23741790097678178,
          1,
          0.6188465725150911,
          0.040567852724349325,
          0.019260241064573542,
          0.20872240499690076,
          0.05545992411141306,
          0.11114980410876471,
          0.0031788646224788046,
          0.0690435708371121,
          0.09833930890089994,
          0.056396998196341155,
          0.22712125142679257,
          0.11114980410876471,
          0.2366778854601733,
          0.3982835956691839,
          0.26479161625937575,
          0.23556157646071224,
          0.09331186804496414,
          0.16189617647004437,
          0.3856994960174808,
          0.19852541354406414,
          0.03918028605184018,
          0.09498446953957582,
          0.12314970974598027,
          0.1654863141738698,
          0.12961813662278981,
          0.21302184460113774,
          0.3872896576130231,
          0.05823668316304811,
          0.12213218349115298,
          0.10770261276699393,
          0.16730306933228362,
          0.20617240632241293,
          0.24226300337311527,
          0.3352724473735606,
          0.13483568812623783,
          0.18308385612714345,
          0.17828630658075867,
          0.2806849877211318,
          0.12315629259619268,
          0.34180933009030257,
          0.14737860089924637,
          0.11521875596323031,
          0.0868360393957728,
          0.23654807385752655,
          0.2552163710300398,
          0.19829429764064516,
          0.08363731025325041,
          0.03653364991403916,
          0.18059026037380133,
          0.1610539521827189
         ]
        },
        {
         "marker": {
          "color": "black",
          "size": 6,
          "symbol": "x"
         },
         "mode": "markers",
         "name": "Centroid",
         "type": "scatter3d",
         "x": [
          0.17858288199853817,
          0.055516107582141816,
          0.44688167947008656,
          0.5254383221602235,
          0.00897297526082999
         ],
         "y": [
          0.12110208103887202,
          0.3394902541470748,
          0.13107765783839626,
          0.07800075376067729,
          0.11521875596323031
         ],
         "z": [
          0.5579931186412649,
          0.524684515026062,
          0.5685567010309278,
          0.7151694092897569,
          0.37313937753721244
         ]
        }
       ],
       "layout": {
        "scene": {
         "xaxis": {
          "title": {
           "text": "pibParHab"
          }
         },
         "yaxis": {
          "title": {
           "text": "gesParHab"
          }
         },
         "zaxis": {
          "title": {
           "text": "GPI"
          }
         }
        },
        "template": {
         "data": {
          "bar": [
           {
            "error_x": {
             "color": "#2a3f5f"
            },
            "error_y": {
             "color": "#2a3f5f"
            },
            "marker": {
             "line": {
              "color": "#E5ECF6",
              "width": 0.5
             },
             "pattern": {
              "fillmode": "overlay",
              "size": 10,
              "solidity": 0.2
             }
            },
            "type": "bar"
           }
          ],
          "barpolar": [
           {
            "marker": {
             "line": {
              "color": "#E5ECF6",
              "width": 0.5
             },
             "pattern": {
              "fillmode": "overlay",
              "size": 10,
              "solidity": 0.2
             }
            },
            "type": "barpolar"
           }
          ],
          "carpet": [
           {
            "aaxis": {
             "endlinecolor": "#2a3f5f",
             "gridcolor": "white",
             "linecolor": "white",
             "minorgridcolor": "white",
             "startlinecolor": "#2a3f5f"
            },
            "baxis": {
             "endlinecolor": "#2a3f5f",
             "gridcolor": "white",
             "linecolor": "white",
             "minorgridcolor": "white",
             "startlinecolor": "#2a3f5f"
            },
            "type": "carpet"
           }
          ],
          "choropleth": [
           {
            "colorbar": {
             "outlinewidth": 0,
             "ticks": ""
            },
            "type": "choropleth"
           }
          ],
          "contour": [
           {
            "colorbar": {
             "outlinewidth": 0,
             "ticks": ""
            },
            "colorscale": [
             [
              0,
              "#0d0887"
             ],
             [
              0.1111111111111111,
              "#46039f"
             ],
             [
              0.2222222222222222,
              "#7201a8"
             ],
             [
              0.3333333333333333,
              "#9c179e"
             ],
             [
              0.4444444444444444,
              "#bd3786"
             ],
             [
              0.5555555555555556,
              "#d8576b"
             ],
             [
              0.6666666666666666,
              "#ed7953"
             ],
             [
              0.7777777777777778,
              "#fb9f3a"
             ],
             [
              0.8888888888888888,
              "#fdca26"
             ],
             [
              1,
              "#f0f921"
             ]
            ],
            "type": "contour"
           }
          ],
          "contourcarpet": [
           {
            "colorbar": {
             "outlinewidth": 0,
             "ticks": ""
            },
            "type": "contourcarpet"
           }
          ],
          "heatmap": [
           {
            "colorbar": {
             "outlinewidth": 0,
             "ticks": ""
            },
            "colorscale": [
             [
              0,
              "#0d0887"
             ],
             [
              0.1111111111111111,
              "#46039f"
             ],
             [
              0.2222222222222222,
              "#7201a8"
             ],
             [
              0.3333333333333333,
              "#9c179e"
             ],
             [
              0.4444444444444444,
              "#bd3786"
             ],
             [
              0.5555555555555556,
              "#d8576b"
             ],
             [
              0.6666666666666666,
              "#ed7953"
             ],
             [
              0.7777777777777778,
              "#fb9f3a"
             ],
             [
              0.8888888888888888,
              "#fdca26"
             ],
             [
              1,
              "#f0f921"
             ]
            ],
            "type": "heatmap"
           }
          ],
          "heatmapgl": [
           {
            "colorbar": {
             "outlinewidth": 0,
             "ticks": ""
            },
            "colorscale": [
             [
              0,
              "#0d0887"
             ],
             [
              0.1111111111111111,
              "#46039f"
             ],
             [
              0.2222222222222222,
              "#7201a8"
             ],
             [
              0.3333333333333333,
              "#9c179e"
             ],
             [
              0.4444444444444444,
              "#bd3786"
             ],
             [
              0.5555555555555556,
              "#d8576b"
             ],
             [
              0.6666666666666666,
              "#ed7953"
             ],
             [
              0.7777777777777778,
              "#fb9f3a"
             ],
             [
              0.8888888888888888,
              "#fdca26"
             ],
             [
              1,
              "#f0f921"
             ]
            ],
            "type": "heatmapgl"
           }
          ],
          "histogram": [
           {
            "marker": {
             "pattern": {
              "fillmode": "overlay",
              "size": 10,
              "solidity": 0.2
             }
            },
            "type": "histogram"
           }
          ],
          "histogram2d": [
           {
            "colorbar": {
             "outlinewidth": 0,
             "ticks": ""
            },
            "colorscale": [
             [
              0,
              "#0d0887"
             ],
             [
              0.1111111111111111,
              "#46039f"
             ],
             [
              0.2222222222222222,
              "#7201a8"
             ],
             [
              0.3333333333333333,
              "#9c179e"
             ],
             [
              0.4444444444444444,
              "#bd3786"
             ],
             [
              0.5555555555555556,
              "#d8576b"
             ],
             [
              0.6666666666666666,
              "#ed7953"
             ],
             [
              0.7777777777777778,
              "#fb9f3a"
             ],
             [
              0.8888888888888888,
              "#fdca26"
             ],
             [
              1,
              "#f0f921"
             ]
            ],
            "type": "histogram2d"
           }
          ],
          "histogram2dcontour": [
           {
            "colorbar": {
             "outlinewidth": 0,
             "ticks": ""
            },
            "colorscale": [
             [
              0,
              "#0d0887"
             ],
             [
              0.1111111111111111,
              "#46039f"
             ],
             [
              0.2222222222222222,
              "#7201a8"
             ],
             [
              0.3333333333333333,
              "#9c179e"
             ],
             [
              0.4444444444444444,
              "#bd3786"
             ],
             [
              0.5555555555555556,
              "#d8576b"
             ],
             [
              0.6666666666666666,
              "#ed7953"
             ],
             [
              0.7777777777777778,
              "#fb9f3a"
             ],
             [
              0.8888888888888888,
              "#fdca26"
             ],
             [
              1,
              "#f0f921"
             ]
            ],
            "type": "histogram2dcontour"
           }
          ],
          "mesh3d": [
           {
            "colorbar": {
             "outlinewidth": 0,
             "ticks": ""
            },
            "type": "mesh3d"
           }
          ],
          "parcoords": [
           {
            "line": {
             "colorbar": {
              "outlinewidth": 0,
              "ticks": ""
             }
            },
            "type": "parcoords"
           }
          ],
          "pie": [
           {
            "automargin": true,
            "type": "pie"
           }
          ],
          "scatter": [
           {
            "fillpattern": {
             "fillmode": "overlay",
             "size": 10,
             "solidity": 0.2
            },
            "type": "scatter"
           }
          ],
          "scatter3d": [
           {
            "line": {
             "colorbar": {
              "outlinewidth": 0,
              "ticks": ""
             }
            },
            "marker": {
             "colorbar": {
              "outlinewidth": 0,
              "ticks": ""
             }
            },
            "type": "scatter3d"
           }
          ],
          "scattercarpet": [
           {
            "marker": {
             "colorbar": {
              "outlinewidth": 0,
              "ticks": ""
             }
            },
            "type": "scattercarpet"
           }
          ],
          "scattergeo": [
           {
            "marker": {
             "colorbar": {
              "outlinewidth": 0,
              "ticks": ""
             }
            },
            "type": "scattergeo"
           }
          ],
          "scattergl": [
           {
            "marker": {
             "colorbar": {
              "outlinewidth": 0,
              "ticks": ""
             }
            },
            "type": "scattergl"
           }
          ],
          "scattermapbox": [
           {
            "marker": {
             "colorbar": {
              "outlinewidth": 0,
              "ticks": ""
             }
            },
            "type": "scattermapbox"
           }
          ],
          "scatterpolar": [
           {
            "marker": {
             "colorbar": {
              "outlinewidth": 0,
              "ticks": ""
             }
            },
            "type": "scatterpolar"
           }
          ],
          "scatterpolargl": [
           {
            "marker": {
             "colorbar": {
              "outlinewidth": 0,
              "ticks": ""
             }
            },
            "type": "scatterpolargl"
           }
          ],
          "scatterternary": [
           {
            "marker": {
             "colorbar": {
              "outlinewidth": 0,
              "ticks": ""
             }
            },
            "type": "scatterternary"
           }
          ],
          "surface": [
           {
            "colorbar": {
             "outlinewidth": 0,
             "ticks": ""
            },
            "colorscale": [
             [
              0,
              "#0d0887"
             ],
             [
              0.1111111111111111,
              "#46039f"
             ],
             [
              0.2222222222222222,
              "#7201a8"
             ],
             [
              0.3333333333333333,
              "#9c179e"
             ],
             [
              0.4444444444444444,
              "#bd3786"
             ],
             [
              0.5555555555555556,
              "#d8576b"
             ],
             [
              0.6666666666666666,
              "#ed7953"
             ],
             [
              0.7777777777777778,
              "#fb9f3a"
             ],
             [
              0.8888888888888888,
              "#fdca26"
             ],
             [
              1,
              "#f0f921"
             ]
            ],
            "type": "surface"
           }
          ],
          "table": [
           {
            "cells": {
             "fill": {
              "color": "#EBF0F8"
             },
             "line": {
              "color": "white"
             }
            },
            "header": {
             "fill": {
              "color": "#C8D4E3"
             },
             "line": {
              "color": "white"
             }
            },
            "type": "table"
           }
          ]
         },
         "layout": {
          "annotationdefaults": {
           "arrowcolor": "#2a3f5f",
           "arrowhead": 0,
           "arrowwidth": 1
          },
          "autotypenumbers": "strict",
          "coloraxis": {
           "colorbar": {
            "outlinewidth": 0,
            "ticks": ""
           }
          },
          "colorscale": {
           "diverging": [
            [
             0,
             "#8e0152"
            ],
            [
             0.1,
             "#c51b7d"
            ],
            [
             0.2,
             "#de77ae"
            ],
            [
             0.3,
             "#f1b6da"
            ],
            [
             0.4,
             "#fde0ef"
            ],
            [
             0.5,
             "#f7f7f7"
            ],
            [
             0.6,
             "#e6f5d0"
            ],
            [
             0.7,
             "#b8e186"
            ],
            [
             0.8,
             "#7fbc41"
            ],
            [
             0.9,
             "#4d9221"
            ],
            [
             1,
             "#276419"
            ]
           ],
           "sequential": [
            [
             0,
             "#0d0887"
            ],
            [
             0.1111111111111111,
             "#46039f"
            ],
            [
             0.2222222222222222,
             "#7201a8"
            ],
            [
             0.3333333333333333,
             "#9c179e"
            ],
            [
             0.4444444444444444,
             "#bd3786"
            ],
            [
             0.5555555555555556,
             "#d8576b"
            ],
            [
             0.6666666666666666,
             "#ed7953"
            ],
            [
             0.7777777777777778,
             "#fb9f3a"
            ],
            [
             0.8888888888888888,
             "#fdca26"
            ],
            [
             1,
             "#f0f921"
            ]
           ],
           "sequentialminus": [
            [
             0,
             "#0d0887"
            ],
            [
             0.1111111111111111,
             "#46039f"
            ],
            [
             0.2222222222222222,
             "#7201a8"
            ],
            [
             0.3333333333333333,
             "#9c179e"
            ],
            [
             0.4444444444444444,
             "#bd3786"
            ],
            [
             0.5555555555555556,
             "#d8576b"
            ],
            [
             0.6666666666666666,
             "#ed7953"
            ],
            [
             0.7777777777777778,
             "#fb9f3a"
            ],
            [
             0.8888888888888888,
             "#fdca26"
            ],
            [
             1,
             "#f0f921"
            ]
           ]
          },
          "colorway": [
           "#636efa",
           "#EF553B",
           "#00cc96",
           "#ab63fa",
           "#FFA15A",
           "#19d3f3",
           "#FF6692",
           "#B6E880",
           "#FF97FF",
           "#FECB52"
          ],
          "font": {
           "color": "#2a3f5f"
          },
          "geo": {
           "bgcolor": "white",
           "lakecolor": "white",
           "landcolor": "#E5ECF6",
           "showlakes": true,
           "showland": true,
           "subunitcolor": "white"
          },
          "hoverlabel": {
           "align": "left"
          },
          "hovermode": "closest",
          "mapbox": {
           "style": "light"
          },
          "paper_bgcolor": "white",
          "plot_bgcolor": "#E5ECF6",
          "polar": {
           "angularaxis": {
            "gridcolor": "white",
            "linecolor": "white",
            "ticks": ""
           },
           "bgcolor": "#E5ECF6",
           "radialaxis": {
            "gridcolor": "white",
            "linecolor": "white",
            "ticks": ""
           }
          },
          "scene": {
           "xaxis": {
            "backgroundcolor": "#E5ECF6",
            "gridcolor": "white",
            "gridwidth": 2,
            "linecolor": "white",
            "showbackground": true,
            "ticks": "",
            "zerolinecolor": "white"
           },
           "yaxis": {
            "backgroundcolor": "#E5ECF6",
            "gridcolor": "white",
            "gridwidth": 2,
            "linecolor": "white",
            "showbackground": true,
            "ticks": "",
            "zerolinecolor": "white"
           },
           "zaxis": {
            "backgroundcolor": "#E5ECF6",
            "gridcolor": "white",
            "gridwidth": 2,
            "linecolor": "white",
            "showbackground": true,
            "ticks": "",
            "zerolinecolor": "white"
           }
          },
          "shapedefaults": {
           "line": {
            "color": "#2a3f5f"
           }
          },
          "ternary": {
           "aaxis": {
            "gridcolor": "white",
            "linecolor": "white",
            "ticks": ""
           },
           "baxis": {
            "gridcolor": "white",
            "linecolor": "white",
            "ticks": ""
           },
           "bgcolor": "#E5ECF6",
           "caxis": {
            "gridcolor": "white",
            "linecolor": "white",
            "ticks": ""
           }
          },
          "title": {
           "x": 0.05
          },
          "xaxis": {
           "automargin": true,
           "gridcolor": "white",
           "linecolor": "white",
           "ticks": "",
           "title": {
            "standoff": 15
           },
           "zerolinecolor": "white",
           "zerolinewidth": 2
          },
          "yaxis": {
           "automargin": true,
           "gridcolor": "white",
           "linecolor": "white",
           "ticks": "",
           "title": {
            "standoff": 15
           },
           "zerolinecolor": "white",
           "zerolinewidth": 2
          }
         }
        }
       }
      }
     },
     "metadata": {},
     "output_type": "display_data"
    }
   ],
   "source": [
    "# Créer une figure\n",
    "fig = go.Figure()\n",
    "\n",
    "# Ajouter les points pour chaque cluster\n",
    "for cluster in df['cluster'].unique():\n",
    "    cluster_df = df[df['cluster'] == cluster]\n",
    "    fig.add_trace(go.Scatter3d(x=cluster_df['pibParHab'],\n",
    "                               y=cluster_df['co2'],\n",
    "                               z=cluster_df['gesParHab'],\n",
    "                               mode='markers+text',\n",
    "                               text=cluster_df['pays'],  # Remplacez 'nom_du_pays' par le nom de la colonne contenant les noms des pays\n",
    "                               marker=dict(size=4),\n",
    "                               name=f'Cluster {cluster}'))\n",
    "    \n",
    "# Ajouter les centroïdes\n",
    "fig.add_trace(go.Scatter3d(x=centroids['pibParHab'],\n",
    "                           y=centroids['gesParHab'],\n",
    "                           z=centroids['gpi'],\n",
    "                           mode='markers',\n",
    "                           marker=dict(size=6, color='black', symbol='x'),\n",
    "                           name='Centroid'))\n",
    "\n",
    "# Mettre à jour les axes\n",
    "fig.update_scenes(xaxis_title='pibParHab',\n",
    "                  yaxis_title='gesParHab',\n",
    "                  zaxis_title='GPI')\n",
    "\n",
    "# Afficher la figure\n",
    "fig.show()"
   ]
  },
  {
   "cell_type": "code",
   "execution_count": 135,
   "metadata": {},
   "outputs": [
    {
     "data": {
      "application/vnd.plotly.v1+json": {
       "config": {
        "plotlyServerURL": "https://plot.ly"
       },
       "data": [
        {
         "customdata": [
          [
           "Afrique du Sud",
           0.4677692960135708,
           0.03319130041243628,
           0.13561043743254397
          ],
          [
           "Bhoutan",
           0.7784050811573747,
           0.0002561716008163335,
           0.11160137980657313
          ],
          [
           "Islande",
           1,
           0.004167058039945691,
           0.5520813493323176
          ],
          [
           "Israël",
           0.4166981488477522,
           0.007574140330802927,
           0.4163968425285167
          ],
          [
           "France",
           0.5685567010309278,
           1,
           0.44688167947008656
          ],
          [
           "Éthiopie",
           0.4527914614121511,
           0.002314083460707546,
           0.023839756205955177
          ],
          [
           "Égypte",
           0.46015853149770547,
           0.031398099206721944,
           0.12042621632488942
          ],
          [
           "Algérie",
           0.5045745654162854,
           0.00504658053608177,
           0.1147546187543648
          ],
          [
           "Danemark",
           0.8439173680183627,
           0.13718843129050715,
           0.5874653461155905
          ],
          [
           "Djibouti",
           0.5087638376383763,
           0.0006404290020408337,
           0.05030368442215309
          ],
          [
           "Sri Lanka",
           0.540951446787641,
           0.004611088814694003,
           0.13857321228281802
          ],
          [
           "Cuba",
           0.53857421875,
           0.009273411949551273,
           null
          ],
          [
           "Colombie",
           0.4141945174615096,
           0.011920518491320052,
           0.14166296319810381
          ],
          [
           "Suisse",
           0.8080586080586081,
           0.03150910690040902,
           0.7266205320297124
          ],
          [
           "Canada",
           0.824981301421092,
           0.043275922431239275,
           0.4874187882250862
          ],
          [
           "Botswana",
           0.6077134986225895,
           0.003056981103074913,
           0.14333481472075846
          ],
          [
           "China",
           0.5659312467932273,
           0.2596043002672724,
           0.17244407762470107
          ],
          [
           "Belgique",
           0.7218586387434555,
           0.02206491388364686,
           0.5182633906841894
          ],
          [
           "Papouasie-Nouvelle-Guinée",
           0.561323155216285,
           0.00033302308106123357,
           0.03959536960616257
          ],
          [
           "Australie",
           0.7691771269177127,
           0.015609389543075254,
           0.5158191014327133
          ],
          [
           "Autriche",
           0.8719367588932807,
           0.12886285426397628,
           0.5501026389858845
          ],
          [
           "Azerbaïdjan",
           0.5391006842619747,
           0.006797086474993382,
           0.14525003703468564
          ],
          [
           "Bolivie",
           0.5414825724104074,
           0.0027581142354558574,
           0.08126468160751699
          ],
          [
           "Bénin",
           0.5,
           0.0030228248896327354,
           0.03371214526061837
          ],
          [
           "Salvador",
           0.4959532374100719,
           0.0060371107259049265,
           0.08747592745434152
          ],
          [
           "Bangladesh",
           0.5438856015779092,
           0.00155410771161909,
           0.059160264956722323
          ],
          [
           "Honduras",
           0.5,
           0.005712626698204237,
           0.05320297123992127
          ],
          [
           "Biélorussie",
           0.5425479586817511,
           0.030723513991238932,
           0.2034368188263179
          ],
          [
           "Argentine",
           0.5662217659137577,
           0.02643690920424562,
           0.20829365331301716
          ],
          [
           "Myanmar (Birmanie)",
           0.49729486023444547,
           0.007710765184571638,
           0.052345882801091995
          ],
          [
           "Albanie",
           0.6217587373167982,
           0.02269680383232715,
           0.14026622648297463
          ],
          [
           "Haïti",
           0.5173545966228893,
           0.002749575182095313,
           0.03131018136414619
          ],
          [
           "Hongrie",
           0.712532299741602,
           0.27018418738098693,
           0.33047637187056905
          ],
          [
           "Tanzanie",
           0.5799158780231336,
           0.005302752136898103,
           0.02699299515374685
          ],
          [
           "Italie",
           0.6766871165644172,
           0.3280618910587572,
           0.4133599983069858
          ],
          [
           "Jordanie",
           0.5553877139979859,
           0.010588426167075117,
           0.09738006052525766
          ],
          [
           "Trinité-et-Tobago",
           0.5471230158730158,
           0.0012040065238367675,
           0.2475080947241445
          ],
          [
           "Kazakhstan",
           0.5534370296036126,
           0.017376973588707954,
           0.2683639134023237
          ],
          [
           "Monténégro",
           0.6057111477210324,
           0.002997207729551102,
           0.19323640827037436
          ],
          [
           "Malawi",
           0.5768828451882846,
           0.0016992716187483456,
           0.015766194738958374
          ],
          [
           "Kenya",
           0.47278182597513924,
           0.004850182308789247,
           0.047594861701902524
          ],
          [
           "Népal",
           0.5473945409429279,
           0.0019639822729252236,
           0.039806996381182146
          ],
          [
           "Koweït",
           0.6442757009345794,
           0.018452894312136557,
           0.4647641419592407
          ],
          [
           "Oman",
           0.5735829433177327,
           0.007420437370313127,
           0.35022114997989545
          ],
          [
           "Mongolie",
           0.6299257567104511,
           0.0005721165751564781,
           0.12345247920766936
          ],
          [
           "Croatie",
           0.720444154147616,
           0.18451186501464448,
           0.28517766067762895
          ],
          [
           "Mexique",
           0.4300194931773879,
           0.43658472021791667,
           0.19393477662793895
          ],
          [
           "Malaisie",
           0.723753280839895,
           0.052105303606042236,
           0.2733265612765327
          ],
          [
           "Angola",
           0.5750782064650678,
           0.0005464994150748448,
           0.06382663534590396
          ],
          [
           "Guyana",
           0.5341404358353511,
           0.0007428976423673672,
           0.19502465451928977
          ],
          [
           "République dominicaine",
           0.5624681285058644,
           0.023465318634776147,
           0.17742788817641209
          ],
          [
           "Émirats arabes unis",
           0.5454995054401583,
           0.06902970736664134,
           0.7160180306012317
          ],
          [
           "Arménie",
           0.5700258397932816,
           0.0032021450102041687,
           0.14134552303557446
          ],
          [
           "Burkina Faso",
           0.48081952920662596,
           0.0005721165751564781,
           0.02215732334454955
          ],
          [
           "Bahreïn",
           0.5135009310986964,
           0.016301052865279355,
           0.5062958965568324
          ],
          [
           "Bosnie-Herzégovine",
           0.5805263157894737,
           0.0016821935120272568,
           0.15193744312530422
          ],
          [
           "Brésil",
           0.4509403107113655,
           0.01832480851172839,
           0.14837153196622438
          ],
          [
           "Chili",
           0.6077134986225895,
           0.011194698955673774,
           0.24356125537002943
          ],
          [
           "Costa Rica",
           0.6454066705675834,
           0.009794294204544484,
           0.20976445939940322
          ],
          [
           "République tchèque",
           0.8194650817236255,
           0.08767046085270987,
           0.4088629293378198
          ],
          [
           "Allemagne",
           0.7343541944074568,
           0.10630267528541786,
           0.5485366008507396
          ],
          [
           "Japon",
           0.8194650817236255,
           0.03514674363200096,
           0.4225657630203373
          ],
          [
           "Équateur",
           0.5430822255046774,
           0.0043293000537960365,
           0.10959092544388715
          ],
          [
           "Royaume-Uni",
           0.6203599550056242,
           0.09479203135540394,
           0.44424692612109284
          ],
          [
           "Géorgie",
           0.5454995054401583,
           0.012919587734503753,
           0.14777897699616954
          ],
          [
           "Espagne",
           0.6872274143302181,
           0.31090693285742343,
           0.38058959219520455
          ],
          [
           "Ghana",
           0.6030617823947513,
           0.00303136394299328,
           0.05570016718515226
          ],
          [
           "Kirghizstan",
           0.5417485265225933,
           0.01775269193657191,
           0.05000740693712569
          ],
          [
           "Rwanda",
           0.5604674796747967,
           0.004243909520190592,
           0.021882208537024106
          ],
          [
           "Sierra Leone",
           0.5917381974248926,
           0.0002220153873741557,
           0.016782003259052335
          ],
          [
           "Singapour",
           0.8311981914091937,
           0.023414084314612883,
           1
          ],
          [
           "Arabie saoudite",
           0.4655972984381595,
           0.041687658506178005,
           0.45385478170698157
          ],
          [
           "Roumanie",
           0.7097812097812097,
           0.04289166503001477,
           0.30751486678094514
          ],
          [
           "Russie",
           0.3712554695388758,
           0.054299840319702156,
           0.28129430935601973
          ],
          [
           "Serbie",
           0.6127777777777778,
           0.003808417798802825,
           0.19327873362537829
          ],
          [
           "Qatar",
           0.6680799515445185,
           0.00496972905583687,
           0.9419401942733795
          ],
          [
           "Paraguay",
           0.5501246882793017,
           0.009196560469306373,
           0.14091168814678434
          ],
          [
           "Pologne",
           0.6915360501567398,
           0.4361406894431683,
           0.34439083232810613
          ],
          [
           "Iran",
           0.395908111988514,
           0.013235532708843898,
           0.15270988085412565
          ],
          [
           "Syrie",
           0.33434374052743254,
           0.004090206559700792,
           null
          ],
          [
           "Serbie",
           0.6127777777777778,
           0.003808417798802825,
           0.19327873362537829
          ],
          [
           "Philippines",
           0.47852494577006505,
           0.013090368801714642,
           0.082248746111358
          ],
          [
           "Togo",
           0.5239904988123515,
           0.004115823719782425,
           0.021871627198273125
          ],
          [
           "Tadjikistan",
           0.5159027128157156,
           0.002997207729551102,
           0.03864304911857448
          ],
          [
           "Inde",
           0.4509403107113655,
           0.05411198114577018,
           0.06469430512348422
          ],
          [
           "Turquie",
           0.39992748368382885,
           0.13637722122125542,
           0.30128245825661865
          ],
          [
           "Indonésie",
           0.6010899182561308,
           0.03460878327028666,
           0.12185469705627155
          ],
          [
           "Ouganda",
           0.47036247334754794,
           0.004038972239537525,
           0.023702198802192452
          ],
          [
           "Ukraine",
           0.40491923641703376,
           0.02887907846536133,
           0.13129325122214464
          ],
          [
           "United States",
           0.46500843170320405,
           0.38248127812550703,
           0.6366579899688909
          ],
          [
           "Ouzbékistan",
           0.5328502415458938,
           0.012842736254258852,
           0.07770935178718812
          ],
          [
           "Viêt Nam",
           0.5627551020408164,
           0.032764347744409054,
           0.11058557128647917
          ],
          [
           "Bulgarie",
           0.6911027568922306,
           0.04246471236198755,
           0.23791082047700676
          ],
          [
           "Grèce",
           0.5981561822125813,
           0.06324022918819219,
           0.2867966055065287
          ],
          [
           "Pérou",
           0.5534370296036126,
           0.00955520071044924,
           0.11826762321968975
          ],
          [
           "Côte d´Ivoire",
           0.5220066256507335,
           0.005704087644843692,
           0.053954246291240765
          ],
          [
           "Corée du Sud",
           0.6313680595306239,
           0.02150987541521147,
           0.4486170190252471
          ],
          [
           "Laos",
           0.6067106710671066,
           0.007565601277442382,
           0.0821535140625992
          ],
          [
           "Liban",
           0.42801707411719053,
           0.0035351680912654023,
           0.1458214293272385
          ],
          [
           "Lituanie",
           0.6676755447941889,
           0.019503197875483522,
           0.3932660360188771
          ],
          [
           "Lettonie",
           0.6787692307692308,
           0.027359126967184417,
           0.3234609442786701
          ],
          [
           "Maroc",
           0.5277511961722489,
           0.02392642751624555,
           0.07984678221488582
          ],
          [
           "Madagascar",
           0.6073788546255506,
           0.0007428976423673672,
           0.015194802446405519
          ],
          [
           "Estonie",
           0.7034438775510203,
           0.014473695446122843,
           0.3796901784013713
          ],
          [
           "Macédoine du Nord",
           0.6104039845047039,
           0.001007608296544245,
           0.167005269506698
          ],
          [
           "Mali",
           0.43170254403131114,
           0.0006404290020408337,
           0.022474763507078915
          ],
          [
           "Jamaïque",
           0.5593306288032455,
           0.011356940969524118,
           0.09732715383150276
          ],
          [
           "Panama",
           0.5898395721925134,
           0.005524767524272259,
           0.2699299515374685
          ],
          [
           "Mozambique",
           0.5171120487576184,
           0.008188952172762127,
           0.013046790679956828
          ],
          [
           "Maurice (Île)",
           0.7088688946015423,
           0.002698340861932046,
           0.21399699489979473
          ],
          [
           "République centrafricaine",
           0.37313937753721244,
           0.00029886686761905576,
           0.008972975260830001
          ],
          [
           "Namibie",
           0.6037219485495348,
           0.0015968029784218121,
           0.09573995301885595
          ],
          [
           "Guatemala",
           0.5118329466357309,
           0.0050721976961634035,
           0.08877743212071192
          ],
          [
           "Nigéria",
           0.40167516387472685,
           0.01032371551289824,
           0.051478213023511736
          ],
          [
           "Nicaragua",
           0.47543103448275864,
           0.00404751129289807,
           0.054832497407572005
          ],
          [
           "Pays-Bas",
           0.7199738903394256,
           0.06203622266435543,
           0.5743021607093729
          ],
          [
           "Nouvelle-Zélande",
           0.8523956723338485,
           0.008504897147102272,
           0.4406281082682581
          ],
          [
           "Cambodge",
           0.5596144089294773,
           0.011152003688871051,
           0.045245804499185235
          ],
          [
           "Niger",
           0.4415532425940752,
           0.0007258195356462783,
           0.012856326582439211
          ]
         ],
         "hovertemplate": "gesParHab=%{x}<br>cluster=%{marker.color}<br>pays=%{customdata[0]}<br>gpi=%{customdata[1]}<br>arriveesTotal=%{customdata[2]}<br>pibParHab=%{customdata[3]}<extra></extra>",
         "legendgroup": "",
         "marker": {
          "color": [
           4,
           3,
           3,
           3,
           3,
           3,
           3,
           3,
           3,
           3,
           3,
           3,
           3,
           3,
           3,
           3,
           3,
           3,
           3,
           3,
           3,
           3,
           3,
           3,
           3,
           3,
           3,
           3,
           2,
           1,
           1,
           1,
           1,
           1,
           1,
           1,
           1,
           1,
           1,
           1,
           1,
           1,
           1,
           1,
           1,
           1,
           1,
           1,
           1,
           1,
           1,
           1,
           1,
           1,
           1,
           1,
           1,
           1,
           1,
           1,
           1,
           1,
           1,
           1,
           1,
           1,
           1,
           0,
           0,
           0,
           0,
           0,
           0,
           0,
           0,
           0,
           0,
           0,
           0,
           0,
           0,
           0,
           0,
           0,
           0,
           0,
           0,
           0,
           0,
           0,
           0,
           0,
           0,
           0,
           0,
           0,
           0,
           0,
           0,
           0,
           0,
           0,
           0,
           0,
           0,
           0,
           0,
           0,
           0,
           0,
           0,
           0,
           0,
           0,
           0,
           0,
           0,
           0,
           0
          ],
          "coloraxis": "coloraxis",
          "symbol": "circle"
         },
         "mode": "markers",
         "name": "",
         "orientation": "v",
         "showlegend": false,
         "type": "scatter",
         "x": [
          0.06861071274636574,
          0.29624477642242036,
          0.08380222641256593,
          0.04953587715427007,
          0.13107765783839626,
          0.2460319066125991,
          0.16499636275917698,
          0.08275504513445815,
          0.10936960885843026,
          0.34192546826425885,
          0.42621791220614086,
          0.24017880901890964,
          0.15103150849168084,
          0.13281920348558496,
          0.03548384089748474,
          0.09351259552787998,
          0.07736894662424885,
          0.08702766374091708,
          0.18123699730682527,
          0.02591583858010165,
          0.09425313465871595,
          0.11660335996121687,
          0.11136966418911957,
          0.2733499225696873,
          0.4208278056564958,
          0.4492659397049391,
          0.20627684463743395,
          0.10373293396571806,
          0.0784884262994639,
          0.2702182098765432,
          0.34686594956518296,
          0.5844779128530706,
          0.15244820633190434,
          0.25371425425123745,
          0.14105769060358675,
          0.0895776633666608,
          0.04171226154403217,
          0.04988814432402248,
          0.14411092254943433,
          0.6855054534635171,
          0.24862398868635008,
          0.3696664794774465,
          0.014500983011377094,
          0.01619785461084757,
          0.034773112714823036,
          0.1996777357113534,
          0.11957913398355817,
          0.05004212535866571,
          0.14387291956984724,
          0.12432452773387521,
          0.16667910483279869,
          0.006466555875618584,
          0.2961846445305232,
          0.24454888005608796,
          0.008227675970303543,
          0.15084207279988562,
          0.12282697598334448,
          0.10857412496527641,
          0.18950737135571907,
          0.08328405772285799,
          0.10002216350037073,
          0.09877923159285457,
          0.13289440330055147,
          0.12558013110145302,
          0.26877643996095024,
          0.12590918504115925,
          0.34166260161015266,
          0.23741790097678178,
          1,
          0.6188465725150911,
          0.040567852724349325,
          0.019260241064573542,
          0.20872240499690076,
          0.05545992411141306,
          0.11114980410876471,
          0.0031788646224788046,
          0.0690435708371121,
          0.09833930890089994,
          0.056396998196341155,
          0.22712125142679257,
          0.11114980410876471,
          0.2366778854601733,
          0.3982835956691839,
          0.26479161625937575,
          0.23556157646071224,
          0.09331186804496414,
          0.16189617647004437,
          0.3856994960174808,
          0.19852541354406414,
          0.03918028605184018,
          0.09498446953957582,
          0.12314970974598027,
          0.1654863141738698,
          0.12961813662278981,
          0.21302184460113774,
          0.3872896576130231,
          0.05823668316304811,
          0.12213218349115298,
          0.10770261276699393,
          0.16730306933228362,
          0.20617240632241293,
          0.24226300337311527,
          0.3352724473735606,
          0.13483568812623783,
          0.18308385612714345,
          0.17828630658075867,
          0.2806849877211318,
          0.12315629259619268,
          0.34180933009030257,
          0.14737860089924637,
          0.11521875596323031,
          0.0868360393957728,
          0.23654807385752655,
          0.2552163710300398,
          0.19829429764064516,
          0.08363731025325041,
          0.03653364991403916,
          0.18059026037380133,
          0.1610539521827189
         ],
         "xaxis": "x",
         "y": [
          4,
          3,
          3,
          3,
          3,
          3,
          3,
          3,
          3,
          3,
          3,
          3,
          3,
          3,
          3,
          3,
          3,
          3,
          3,
          3,
          3,
          3,
          3,
          3,
          3,
          3,
          3,
          3,
          2,
          1,
          1,
          1,
          1,
          1,
          1,
          1,
          1,
          1,
          1,
          1,
          1,
          1,
          1,
          1,
          1,
          1,
          1,
          1,
          1,
          1,
          1,
          1,
          1,
          1,
          1,
          1,
          1,
          1,
          1,
          1,
          1,
          1,
          1,
          1,
          1,
          1,
          1,
          0,
          0,
          0,
          0,
          0,
          0,
          0,
          0,
          0,
          0,
          0,
          0,
          0,
          0,
          0,
          0,
          0,
          0,
          0,
          0,
          0,
          0,
          0,
          0,
          0,
          0,
          0,
          0,
          0,
          0,
          0,
          0,
          0,
          0,
          0,
          0,
          0,
          0,
          0,
          0,
          0,
          0,
          0,
          0,
          0,
          0,
          0,
          0,
          0,
          0,
          0,
          0
         ],
         "yaxis": "y"
        }
       ],
       "layout": {
        "coloraxis": {
         "colorbar": {
          "title": {
           "text": "cluster"
          }
         },
         "colorscale": [
          [
           0,
           "#0d0887"
          ],
          [
           0.1111111111111111,
           "#46039f"
          ],
          [
           0.2222222222222222,
           "#7201a8"
          ],
          [
           0.3333333333333333,
           "#9c179e"
          ],
          [
           0.4444444444444444,
           "#bd3786"
          ],
          [
           0.5555555555555556,
           "#d8576b"
          ],
          [
           0.6666666666666666,
           "#ed7953"
          ],
          [
           0.7777777777777778,
           "#fb9f3a"
          ],
          [
           0.8888888888888888,
           "#fdca26"
          ],
          [
           1,
           "#f0f921"
          ]
         ]
        },
        "legend": {
         "tracegroupgap": 0
        },
        "margin": {
         "t": 60
        },
        "template": {
         "data": {
          "bar": [
           {
            "error_x": {
             "color": "#2a3f5f"
            },
            "error_y": {
             "color": "#2a3f5f"
            },
            "marker": {
             "line": {
              "color": "#E5ECF6",
              "width": 0.5
             },
             "pattern": {
              "fillmode": "overlay",
              "size": 10,
              "solidity": 0.2
             }
            },
            "type": "bar"
           }
          ],
          "barpolar": [
           {
            "marker": {
             "line": {
              "color": "#E5ECF6",
              "width": 0.5
             },
             "pattern": {
              "fillmode": "overlay",
              "size": 10,
              "solidity": 0.2
             }
            },
            "type": "barpolar"
           }
          ],
          "carpet": [
           {
            "aaxis": {
             "endlinecolor": "#2a3f5f",
             "gridcolor": "white",
             "linecolor": "white",
             "minorgridcolor": "white",
             "startlinecolor": "#2a3f5f"
            },
            "baxis": {
             "endlinecolor": "#2a3f5f",
             "gridcolor": "white",
             "linecolor": "white",
             "minorgridcolor": "white",
             "startlinecolor": "#2a3f5f"
            },
            "type": "carpet"
           }
          ],
          "choropleth": [
           {
            "colorbar": {
             "outlinewidth": 0,
             "ticks": ""
            },
            "type": "choropleth"
           }
          ],
          "contour": [
           {
            "colorbar": {
             "outlinewidth": 0,
             "ticks": ""
            },
            "colorscale": [
             [
              0,
              "#0d0887"
             ],
             [
              0.1111111111111111,
              "#46039f"
             ],
             [
              0.2222222222222222,
              "#7201a8"
             ],
             [
              0.3333333333333333,
              "#9c179e"
             ],
             [
              0.4444444444444444,
              "#bd3786"
             ],
             [
              0.5555555555555556,
              "#d8576b"
             ],
             [
              0.6666666666666666,
              "#ed7953"
             ],
             [
              0.7777777777777778,
              "#fb9f3a"
             ],
             [
              0.8888888888888888,
              "#fdca26"
             ],
             [
              1,
              "#f0f921"
             ]
            ],
            "type": "contour"
           }
          ],
          "contourcarpet": [
           {
            "colorbar": {
             "outlinewidth": 0,
             "ticks": ""
            },
            "type": "contourcarpet"
           }
          ],
          "heatmap": [
           {
            "colorbar": {
             "outlinewidth": 0,
             "ticks": ""
            },
            "colorscale": [
             [
              0,
              "#0d0887"
             ],
             [
              0.1111111111111111,
              "#46039f"
             ],
             [
              0.2222222222222222,
              "#7201a8"
             ],
             [
              0.3333333333333333,
              "#9c179e"
             ],
             [
              0.4444444444444444,
              "#bd3786"
             ],
             [
              0.5555555555555556,
              "#d8576b"
             ],
             [
              0.6666666666666666,
              "#ed7953"
             ],
             [
              0.7777777777777778,
              "#fb9f3a"
             ],
             [
              0.8888888888888888,
              "#fdca26"
             ],
             [
              1,
              "#f0f921"
             ]
            ],
            "type": "heatmap"
           }
          ],
          "heatmapgl": [
           {
            "colorbar": {
             "outlinewidth": 0,
             "ticks": ""
            },
            "colorscale": [
             [
              0,
              "#0d0887"
             ],
             [
              0.1111111111111111,
              "#46039f"
             ],
             [
              0.2222222222222222,
              "#7201a8"
             ],
             [
              0.3333333333333333,
              "#9c179e"
             ],
             [
              0.4444444444444444,
              "#bd3786"
             ],
             [
              0.5555555555555556,
              "#d8576b"
             ],
             [
              0.6666666666666666,
              "#ed7953"
             ],
             [
              0.7777777777777778,
              "#fb9f3a"
             ],
             [
              0.8888888888888888,
              "#fdca26"
             ],
             [
              1,
              "#f0f921"
             ]
            ],
            "type": "heatmapgl"
           }
          ],
          "histogram": [
           {
            "marker": {
             "pattern": {
              "fillmode": "overlay",
              "size": 10,
              "solidity": 0.2
             }
            },
            "type": "histogram"
           }
          ],
          "histogram2d": [
           {
            "colorbar": {
             "outlinewidth": 0,
             "ticks": ""
            },
            "colorscale": [
             [
              0,
              "#0d0887"
             ],
             [
              0.1111111111111111,
              "#46039f"
             ],
             [
              0.2222222222222222,
              "#7201a8"
             ],
             [
              0.3333333333333333,
              "#9c179e"
             ],
             [
              0.4444444444444444,
              "#bd3786"
             ],
             [
              0.5555555555555556,
              "#d8576b"
             ],
             [
              0.6666666666666666,
              "#ed7953"
             ],
             [
              0.7777777777777778,
              "#fb9f3a"
             ],
             [
              0.8888888888888888,
              "#fdca26"
             ],
             [
              1,
              "#f0f921"
             ]
            ],
            "type": "histogram2d"
           }
          ],
          "histogram2dcontour": [
           {
            "colorbar": {
             "outlinewidth": 0,
             "ticks": ""
            },
            "colorscale": [
             [
              0,
              "#0d0887"
             ],
             [
              0.1111111111111111,
              "#46039f"
             ],
             [
              0.2222222222222222,
              "#7201a8"
             ],
             [
              0.3333333333333333,
              "#9c179e"
             ],
             [
              0.4444444444444444,
              "#bd3786"
             ],
             [
              0.5555555555555556,
              "#d8576b"
             ],
             [
              0.6666666666666666,
              "#ed7953"
             ],
             [
              0.7777777777777778,
              "#fb9f3a"
             ],
             [
              0.8888888888888888,
              "#fdca26"
             ],
             [
              1,
              "#f0f921"
             ]
            ],
            "type": "histogram2dcontour"
           }
          ],
          "mesh3d": [
           {
            "colorbar": {
             "outlinewidth": 0,
             "ticks": ""
            },
            "type": "mesh3d"
           }
          ],
          "parcoords": [
           {
            "line": {
             "colorbar": {
              "outlinewidth": 0,
              "ticks": ""
             }
            },
            "type": "parcoords"
           }
          ],
          "pie": [
           {
            "automargin": true,
            "type": "pie"
           }
          ],
          "scatter": [
           {
            "fillpattern": {
             "fillmode": "overlay",
             "size": 10,
             "solidity": 0.2
            },
            "type": "scatter"
           }
          ],
          "scatter3d": [
           {
            "line": {
             "colorbar": {
              "outlinewidth": 0,
              "ticks": ""
             }
            },
            "marker": {
             "colorbar": {
              "outlinewidth": 0,
              "ticks": ""
             }
            },
            "type": "scatter3d"
           }
          ],
          "scattercarpet": [
           {
            "marker": {
             "colorbar": {
              "outlinewidth": 0,
              "ticks": ""
             }
            },
            "type": "scattercarpet"
           }
          ],
          "scattergeo": [
           {
            "marker": {
             "colorbar": {
              "outlinewidth": 0,
              "ticks": ""
             }
            },
            "type": "scattergeo"
           }
          ],
          "scattergl": [
           {
            "marker": {
             "colorbar": {
              "outlinewidth": 0,
              "ticks": ""
             }
            },
            "type": "scattergl"
           }
          ],
          "scattermapbox": [
           {
            "marker": {
             "colorbar": {
              "outlinewidth": 0,
              "ticks": ""
             }
            },
            "type": "scattermapbox"
           }
          ],
          "scatterpolar": [
           {
            "marker": {
             "colorbar": {
              "outlinewidth": 0,
              "ticks": ""
             }
            },
            "type": "scatterpolar"
           }
          ],
          "scatterpolargl": [
           {
            "marker": {
             "colorbar": {
              "outlinewidth": 0,
              "ticks": ""
             }
            },
            "type": "scatterpolargl"
           }
          ],
          "scatterternary": [
           {
            "marker": {
             "colorbar": {
              "outlinewidth": 0,
              "ticks": ""
             }
            },
            "type": "scatterternary"
           }
          ],
          "surface": [
           {
            "colorbar": {
             "outlinewidth": 0,
             "ticks": ""
            },
            "colorscale": [
             [
              0,
              "#0d0887"
             ],
             [
              0.1111111111111111,
              "#46039f"
             ],
             [
              0.2222222222222222,
              "#7201a8"
             ],
             [
              0.3333333333333333,
              "#9c179e"
             ],
             [
              0.4444444444444444,
              "#bd3786"
             ],
             [
              0.5555555555555556,
              "#d8576b"
             ],
             [
              0.6666666666666666,
              "#ed7953"
             ],
             [
              0.7777777777777778,
              "#fb9f3a"
             ],
             [
              0.8888888888888888,
              "#fdca26"
             ],
             [
              1,
              "#f0f921"
             ]
            ],
            "type": "surface"
           }
          ],
          "table": [
           {
            "cells": {
             "fill": {
              "color": "#EBF0F8"
             },
             "line": {
              "color": "white"
             }
            },
            "header": {
             "fill": {
              "color": "#C8D4E3"
             },
             "line": {
              "color": "white"
             }
            },
            "type": "table"
           }
          ]
         },
         "layout": {
          "annotationdefaults": {
           "arrowcolor": "#2a3f5f",
           "arrowhead": 0,
           "arrowwidth": 1
          },
          "autotypenumbers": "strict",
          "coloraxis": {
           "colorbar": {
            "outlinewidth": 0,
            "ticks": ""
           }
          },
          "colorscale": {
           "diverging": [
            [
             0,
             "#8e0152"
            ],
            [
             0.1,
             "#c51b7d"
            ],
            [
             0.2,
             "#de77ae"
            ],
            [
             0.3,
             "#f1b6da"
            ],
            [
             0.4,
             "#fde0ef"
            ],
            [
             0.5,
             "#f7f7f7"
            ],
            [
             0.6,
             "#e6f5d0"
            ],
            [
             0.7,
             "#b8e186"
            ],
            [
             0.8,
             "#7fbc41"
            ],
            [
             0.9,
             "#4d9221"
            ],
            [
             1,
             "#276419"
            ]
           ],
           "sequential": [
            [
             0,
             "#0d0887"
            ],
            [
             0.1111111111111111,
             "#46039f"
            ],
            [
             0.2222222222222222,
             "#7201a8"
            ],
            [
             0.3333333333333333,
             "#9c179e"
            ],
            [
             0.4444444444444444,
             "#bd3786"
            ],
            [
             0.5555555555555556,
             "#d8576b"
            ],
            [
             0.6666666666666666,
             "#ed7953"
            ],
            [
             0.7777777777777778,
             "#fb9f3a"
            ],
            [
             0.8888888888888888,
             "#fdca26"
            ],
            [
             1,
             "#f0f921"
            ]
           ],
           "sequentialminus": [
            [
             0,
             "#0d0887"
            ],
            [
             0.1111111111111111,
             "#46039f"
            ],
            [
             0.2222222222222222,
             "#7201a8"
            ],
            [
             0.3333333333333333,
             "#9c179e"
            ],
            [
             0.4444444444444444,
             "#bd3786"
            ],
            [
             0.5555555555555556,
             "#d8576b"
            ],
            [
             0.6666666666666666,
             "#ed7953"
            ],
            [
             0.7777777777777778,
             "#fb9f3a"
            ],
            [
             0.8888888888888888,
             "#fdca26"
            ],
            [
             1,
             "#f0f921"
            ]
           ]
          },
          "colorway": [
           "#636efa",
           "#EF553B",
           "#00cc96",
           "#ab63fa",
           "#FFA15A",
           "#19d3f3",
           "#FF6692",
           "#B6E880",
           "#FF97FF",
           "#FECB52"
          ],
          "font": {
           "color": "#2a3f5f"
          },
          "geo": {
           "bgcolor": "white",
           "lakecolor": "white",
           "landcolor": "#E5ECF6",
           "showlakes": true,
           "showland": true,
           "subunitcolor": "white"
          },
          "hoverlabel": {
           "align": "left"
          },
          "hovermode": "closest",
          "mapbox": {
           "style": "light"
          },
          "paper_bgcolor": "white",
          "plot_bgcolor": "#E5ECF6",
          "polar": {
           "angularaxis": {
            "gridcolor": "white",
            "linecolor": "white",
            "ticks": ""
           },
           "bgcolor": "#E5ECF6",
           "radialaxis": {
            "gridcolor": "white",
            "linecolor": "white",
            "ticks": ""
           }
          },
          "scene": {
           "xaxis": {
            "backgroundcolor": "#E5ECF6",
            "gridcolor": "white",
            "gridwidth": 2,
            "linecolor": "white",
            "showbackground": true,
            "ticks": "",
            "zerolinecolor": "white"
           },
           "yaxis": {
            "backgroundcolor": "#E5ECF6",
            "gridcolor": "white",
            "gridwidth": 2,
            "linecolor": "white",
            "showbackground": true,
            "ticks": "",
            "zerolinecolor": "white"
           },
           "zaxis": {
            "backgroundcolor": "#E5ECF6",
            "gridcolor": "white",
            "gridwidth": 2,
            "linecolor": "white",
            "showbackground": true,
            "ticks": "",
            "zerolinecolor": "white"
           }
          },
          "shapedefaults": {
           "line": {
            "color": "#2a3f5f"
           }
          },
          "ternary": {
           "aaxis": {
            "gridcolor": "white",
            "linecolor": "white",
            "ticks": ""
           },
           "baxis": {
            "gridcolor": "white",
            "linecolor": "white",
            "ticks": ""
           },
           "bgcolor": "#E5ECF6",
           "caxis": {
            "gridcolor": "white",
            "linecolor": "white",
            "ticks": ""
           }
          },
          "title": {
           "x": 0.05
          },
          "xaxis": {
           "automargin": true,
           "gridcolor": "white",
           "linecolor": "white",
           "ticks": "",
           "title": {
            "standoff": 15
           },
           "zerolinecolor": "white",
           "zerolinewidth": 2
          },
          "yaxis": {
           "automargin": true,
           "gridcolor": "white",
           "linecolor": "white",
           "ticks": "",
           "title": {
            "standoff": 15
           },
           "zerolinecolor": "white",
           "zerolinewidth": 2
          }
         }
        },
        "xaxis": {
         "anchor": "y",
         "domain": [
          0,
          1
         ],
         "title": {
          "text": "gesParHab"
         }
        },
        "yaxis": {
         "anchor": "x",
         "domain": [
          0,
          1
         ],
         "title": {
          "text": "cluster"
         }
        }
       }
      }
     },
     "metadata": {},
     "output_type": "display_data"
    }
   ],
   "source": [
    "import plotly.express as px\n",
    "\n",
    "# Créer un DataFrame avec les colonnes nécessaires\n",
    "df_plot = df[['pibParHab', 'arriveesTotal', 'cluster', 'pays', 'gesParHab', 'gpi']]\n",
    "\n",
    "# Créer un graphique de dispersion interactif\n",
    "df_plot = df[['pibParHab', 'arriveesTotal', 'cluster', 'pays', 'gesParHab', 'gpi']]\n",
    "fig = px.scatter(df_plot, x='gesParHab', y='cluster', color='cluster', hover_data=['pays', 'gpi', 'arriveesTotal', 'pibParHab'])\n",
    "\n",
    "# Afficher le graphique\n",
    "fig.show()"
   ]
  }
 ],
 "metadata": {
  "kernelspec": {
   "display_name": "data-science",
   "language": "python",
   "name": "python3"
  },
  "language_info": {
   "codemirror_mode": {
    "name": "ipython",
    "version": 3
   },
   "file_extension": ".py",
   "mimetype": "text/x-python",
   "name": "python",
   "nbconvert_exporter": "python",
   "pygments_lexer": "ipython3",
   "version": "3.11.3"
  }
 },
 "nbformat": 4,
 "nbformat_minor": 2
}
