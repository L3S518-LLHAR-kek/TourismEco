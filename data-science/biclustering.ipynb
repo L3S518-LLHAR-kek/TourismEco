{
 "cells": [
  {
   "cell_type": "code",
   "execution_count": 1,
   "metadata": {},
   "outputs": [],
   "source": [
    "# Importing libraries neeeded for the project\n",
    "import pandas as pd\n",
    "import plotly.express as px\n",
    "import plotly.graph_objects as go"
   ]
  },
  {
   "cell_type": "code",
   "execution_count": 2,
   "metadata": {},
   "outputs": [],
   "source": [
    "#!/usr/bin/env /Applications/MAMP/Library/bin/python\n",
    "\n",
    "import mysql.connector\n",
    "\n",
    "config = {\n",
    "  'user': 'root',\n",
    "  'password': 'root',\n",
    "  'host': '127.0.0.1',\n",
    "  'port': 8889,\n",
    "  'database': 'ecotourisme',\n",
    "  'raise_on_warnings': True\n",
    "}\n",
    "\n",
    "cnx = mysql.connector.connect(**config)\n",
    "\n",
    "cursor = cnx.cursor(dictionary=True)\n",
    "\n",
    "cursor.execute('SELECT pays.nom as pays, s.id_pays, s.annee, s.gpi, t.arriveesTotal as arriveesTotal, t.arriveesAvion, e.pibParHab, eco.co2, eco.GES_hab as gesParHab FROM surete as s, tourisme as t, economie as e, ecologie as eco, pays where pays.id = s.id_pays and s.id_pays = t.id_pays AND t.id_pays = e.id_pays AND e.id_pays = eco.id_pays AND s.annee = t.annee AND t.annee = e.annee AND e.annee = eco.annee AND e.annee=2020;')\n",
    "results = cursor.fetchall()\n",
    " \n",
    "#cursor.execute('SELECT pays.nom as pays, s.id_pays, AVG(s.gpi) as gpi, AVG(t.arriveesTotal) as arriveesTotal, AVG(t.arriveesAvion) as arriveesAvion, AVG(e.pibParHab) as pibParHab, AVG(eco.co2) as co2 FROM surete as s, tourisme as t, economie as e, ecologie as eco, pays where pays.id = s.id_pays and s.id_pays = t.id_pays AND t.id_pays = e.id_pays AND e.id_pays = eco.id_pays AND s.annee = t.annee AND t.annee = e.annee AND e.annee = eco.annee GROUP BY pays.id;')\n",
    "#results = cursor.fetchall()\n",
    " \n",
    "\n",
    "data = []\n",
    "for row in results:\n",
    "    pays = row['pays']\n",
    "    id_pays = row['id_pays']\n",
    "    annee = row['annee']\n",
    "    gpi = row['gpi']\n",
    "    arriveesTotal = row['arriveesTotal']\n",
    "    pibParHab = row['pibParHab']\n",
    "    gesParHab = row['gesParHab']\n",
    "    data.append({'pays': pays,'id_pays': id_pays, 'arriveesTotal': arriveesTotal, 'gpi': gpi, 'pibParHab': pibParHab, 'gesParHab': gesParHab})\n",
    "\n",
    "    #print(id_pays, arriveesTotal, arriveesAvion)\n",
    "\n",
    "cnx.close()\n",
    "\n",
    "df = pd.DataFrame(data)\n",
    "\n",
    "# Normaliser les indicateurs\n",
    "df['arriveesTotal'] = df['arriveesTotal'] / df['arriveesTotal'].max()\n",
    "df['gpi'] = df['gpi'].min() / df['gpi']\n",
    "df['pibParHab'] = df['pibParHab'] / df['pibParHab'].max()\n",
    "df['gesParHab'] = df['gesParHab'].min() / df['gesParHab']\n"
   ]
  },
  {
   "cell_type": "code",
   "execution_count": 3,
   "metadata": {},
   "outputs": [],
   "source": [
    "from sklearn.cluster import KMeans\n",
    "import numpy as np\n",
    "\n",
    "# Sélectionner les variables pour le clustering\n",
    "X = df[['arriveesTotal', 'gpi', 'pibParHab', 'gesParHab']]\n",
    "\n",
    "# Supprimer les lignes avec des valeurs manquantes et réinitialiser l'index\n",
    "X = X.dropna().reset_index(drop=True)\n",
    "\n",
    "# Filtrer df pour correspondre à l'index de X\n",
    "df = df.loc[X.index]\n",
    "\n"
   ]
  },
  {
   "cell_type": "code",
   "execution_count": 4,
   "metadata": {},
   "outputs": [
    {
     "name": "stdout",
     "output_type": "stream",
     "text": [
      "Bicluster indices:\n",
      "[2 0 1 2 0 1 1 2 1 0 0 4 2 1 2 2 2 2 0 2 2 1 1 2 3 4 0 2 2 1 0 1 2 2 2 0 3\n",
      " 1 0 3 1 0 0 1 0 2 0 0 4 3 2 0 2 1 1 3 0 2 1 2 0 0 2 1 1 2 2 4 1 1 0 0 3 2\n",
      " 0 0 2 2 0 2 4 2 2 2 0 0 1 0 2 1 1 0 0 2 3 2 1 1 1 4 1 1 4 4 2 2 4 0 2 1 0\n",
      " 4 0 3 2 2 2 2 0]\n",
      "[3 2 1 4]\n"
     ]
    },
    {
     "data": {
      "text/plain": [
       "bicluster\n",
       "0    0.185806\n",
       "1    0.355042\n",
       "2    0.172226\n",
       "3    0.105364\n",
       "4    0.255075\n",
       "Name: pibParHab, dtype: float64"
      ]
     },
     "execution_count": 4,
     "metadata": {},
     "output_type": "execute_result"
    }
   ],
   "source": [
    "from sklearn.cluster import SpectralCoclustering\n",
    "from sklearn.preprocessing import StandardScaler\n",
    "import numpy as np\n",
    "\n",
    "# Supposons que vous avez déjà une matrice de données à bicluster, par exemple 'data'\n",
    "# data doit être une matrice de dimensions (n_samples, n_features)\n",
    "\n",
    "\n",
    "# Standardiser les données\n",
    "scaler = StandardScaler()\n",
    "X_scaled = scaler.fit_transform(X)\n",
    "\n",
    "# Créer l'objet de biclustering\n",
    "model = SpectralCoclustering(n_clusters=5, random_state=42)\n",
    "\n",
    "# Appliquer le biclustering aux données\n",
    "model.fit(X)\n",
    "\n",
    "# ajouter une colonne bicluster dans le DataFrame\n",
    "df['bicluster'] = model.row_labels_\n",
    "\n",
    "# Afficher les résultats\n",
    "print(\"Bicluster indices:\")\n",
    "print(model.row_labels_)  # Indices des lignes pour les biclusters\n",
    "print(model.column_labels_)  # Indices des colonnes pour les biclusters\n",
    "\n",
    "df = df.sort_values(by='bicluster', ascending=False)\n",
    "\n",
    "df.head(40)\n",
    "\n",
    "\n",
    "df[df['bicluster'] == 2]\n",
    "\n",
    "# moyenne des gpi pour chaque bicluster\n",
    "# moyenne des gpi pour chaque bicluster\n",
    "df.groupby('bicluster')['pibParHab'].mean()\n",
    "\n"
   ]
  },
  {
   "cell_type": "code",
   "execution_count": 5,
   "metadata": {},
   "outputs": [
    {
     "name": "stdout",
     "output_type": "stream",
     "text": [
      "    arriveesTotal       gpi  pibParHab  gesParHab\n",
      "2        0.069030  0.545500   0.716018   0.006467\n",
      "2        0.069030  0.545500   0.716018   0.006467\n",
      "2        0.069030  0.545500   0.716018   0.006467\n",
      "2        0.069030  0.545500   0.716018   0.006467\n",
      "2        0.069030  0.545500   0.716018   0.006467\n",
      "..            ...       ...        ...        ...\n",
      "0        0.000546  0.575078   0.063827   0.143873\n",
      "0        0.000546  0.575078   0.063827   0.143873\n",
      "0        0.000546  0.575078   0.063827   0.143873\n",
      "0        0.000546  0.575078   0.063827   0.143873\n",
      "0        0.000546  0.575078   0.063827   0.143873\n",
      "\n",
      "[119 rows x 4 columns]\n"
     ]
    },
    {
     "data": {
      "image/png": "[encoded data removed]",
      "text/plain": [
       "<Figure size 1000x700 with 2 Axes>"
      ]
     },
     "metadata": {},
     "output_type": "display_data"
    }
   ],
   "source": [
    "import pandas as pd\n",
    "import seaborn as sns\n",
    "import matplotlib.pyplot as plt\n",
    "\n",
    "# Obtenir les labels de biclustering\n",
    "row_labels = model.row_labels_\n",
    "column_labels = model.column_labels_\n",
    "\n",
    "# Créer un nouveau DataFrame avec les lignes réorganisées\n",
    "df_reordered = pd.DataFrame(X.values[row_labels, :], columns=X.columns, index=X.index[row_labels])\n",
    "\n",
    "# classer les collones en ordre decroissant\n",
    "\n",
    "df_reordered = df_reordered.sort_values(by='arriveesTotal', ascending=False)\n",
    "\n",
    "print(df_reordered)\n",
    "\n",
    "# Créer une carte de chaleur\n",
    "plt.figure(figsize=(10, 7))\n",
    "sns.heatmap(df_reordered, cmap='viridis')\n",
    "plt.title('Biclustering results with SpectralCoclustering')\n",
    "plt.show()"
   ]
  },
  {
   "cell_type": "code",
   "execution_count": 6,
   "metadata": {},
   "outputs": [
    {
     "data": {
      "application/vnd.plotly.v1+json": {
       "config": {
        "plotlyServerURL": "https://plot.ly"
       },
       "data": [
        {
         "customdata": [
          [
           "Croatie",
           0.720444154147616,
           0.18451186501464448
          ],
          [
           "Serbie",
           0.6127777777777778,
           0.003808417798802825
          ],
          [
           "Côte d´Ivoire",
           0.5220066256507335,
           0.005704087644843692
          ],
          [
           "Maurice (Île)",
           0.7088688946015423,
           0.002698340861932046
          ],
          [
           "Liban",
           0.42801707411719053,
           0.0035351680912654023
          ],
          [
           "Russie",
           0.3712554695388758,
           0.054299840319702156
          ],
          [
           "Singapour",
           0.8311981914091937,
           0.023414084314612883
          ],
          [
           "Bangladesh",
           0.5438856015779092,
           0.00155410771161909
          ],
          [
           "Sierra Leone",
           0.5917381974248926,
           0.0002220153873741557
          ],
          [
           "Turquie",
           0.39992748368382885,
           0.13637722122125542
          ],
          [
           "Israël",
           0.4166981488477522,
           0.007574140330802927
          ],
          [
           "Éthiopie",
           0.4527914614121511,
           0.002314083460707546
          ],
          [
           "Haïti",
           0.5173545966228893,
           0.002749575182095313
          ],
          [
           "China",
           0.5659312467932273,
           0.2596043002672724
          ],
          [
           "Ouganda",
           0.47036247334754794,
           0.004038972239537525
          ],
          [
           "Papouasie-Nouvelle-Guinée",
           0.561323155216285,
           0.00033302308106123357
          ],
          [
           "Égypte",
           0.46015853149770547,
           0.031398099206721944
          ],
          [
           "Madagascar",
           0.6073788546255506,
           0.0007428976423673672
          ],
          [
           "Hongrie",
           0.712532299741602,
           0.27018418738098693
          ],
          [
           "Mexique",
           0.4300194931773879,
           0.43658472021791667
          ],
          [
           "Koweït",
           0.6442757009345794,
           0.018452894312136557
          ],
          [
           "Laos",
           0.6067106710671066,
           0.007565601277442382
          ],
          [
           "Kirghizstan",
           0.5417485265225933,
           0.01775269193657191
          ],
          [
           "Inde",
           0.4509403107113655,
           0.05411198114577018
          ],
          [
           "Monténégro",
           0.6057111477210324,
           0.002997207729551102
          ],
          [
           "Jamaïque",
           0.5593306288032455,
           0.011356940969524118
          ],
          [
           "Myanmar (Birmanie)",
           0.49729486023444547,
           0.007710765184571638
          ],
          [
           "Angola",
           0.5750782064650678,
           0.0005464994150748448
          ],
          [
           "Mozambique",
           0.5171120487576184,
           0.008188952172762127
          ],
          [
           "Malawi",
           0.5768828451882846,
           0.0016992716187483456
          ],
          [
           "Guatemala",
           0.5118329466357309,
           0.0050721976961634035
          ],
          [
           "Namibie",
           0.6037219485495348,
           0.0015968029784218121
          ],
          [
           "Népal",
           0.5473945409429279,
           0.0019639822729252236
          ],
          [
           "Philippines",
           0.47852494577006505,
           0.013090368801714642
          ],
          [
           "Pologne",
           0.6915360501567398,
           0.4361406894431683
          ],
          [
           "Salvador",
           0.4959532374100719,
           0.0060371107259049265
          ],
          [
           "Serbie",
           0.6127777777777778,
           0.003808417798802825
          ],
          [
           "Togo",
           0.5239904988123515,
           0.004115823719782425
          ],
          [
           "Ukraine",
           0.40491923641703376,
           0.02887907846536133
          ],
          [
           "United States",
           0.46500843170320405,
           0.38248127812550703
          ],
          [
           "Ouzbékistan",
           0.5328502415458938,
           0.012842736254258852
          ],
          [
           "Viêt Nam",
           0.5627551020408164,
           0.032764347744409054
          ],
          [
           "Malaisie",
           0.723753280839895,
           0.052105303606042236
          ],
          [
           "Japon",
           0.8194650817236255,
           0.03514674363200096
          ],
          [
           "Bolivie",
           0.5414825724104074,
           0.0027581142354558574
          ],
          [
           "Cuba",
           0.53857421875,
           0.009273411949551273
          ],
          [
           "Chili",
           0.6077134986225895,
           0.011194698955673774
          ],
          [
           "Costa Rica",
           0.6454066705675834,
           0.009794294204544484
          ],
          [
           "Bulgarie",
           0.6911027568922306,
           0.04246471236198755
          ],
          [
           "Azerbaïdjan",
           0.5391006842619747,
           0.006797086474993382
          ],
          [
           "République centrafricaine",
           0.37313937753721244,
           0.00029886686761905576
          ],
          [
           "Biélorussie",
           0.5425479586817511,
           0.030723513991238932
          ],
          [
           "République dominicaine",
           0.5624681285058644,
           0.023465318634776147
          ],
          [
           "Danemark",
           0.8439173680183627,
           0.13718843129050715
          ],
          [
           "Botswana",
           0.6077134986225895,
           0.003056981103074913
          ],
          [
           "Bosnie-Herzégovine",
           0.5805263157894737,
           0.0016821935120272568
          ],
          [
           "Brésil",
           0.4509403107113655,
           0.01832480851172839
          ],
          [
           "Argentine",
           0.5662217659137577,
           0.02643690920424562
          ],
          [
           "Algérie",
           0.5045745654162854,
           0.00504658053608177
          ],
          [
           "Arabie saoudite",
           0.4655972984381595,
           0.041687658506178005
          ],
          [
           "Bahreïn",
           0.5135009310986964,
           0.016301052865279355
          ],
          [
           "Canada",
           0.824981301421092,
           0.043275922431239275
          ],
          [
           "Rwanda",
           0.5604674796747967,
           0.004243909520190592
          ],
          [
           "Ghana",
           0.6030617823947513,
           0.00303136394299328
          ],
          [
           "Roumanie",
           0.7097812097812097,
           0.04289166503001477
          ],
          [
           "Nicaragua",
           0.47543103448275864,
           0.00404751129289807
          ],
          [
           "Qatar",
           0.6680799515445185,
           0.00496972905583687
          ],
          [
           "Nouvelle-Zélande",
           0.8523956723338485,
           0.008504897147102272
          ],
          [
           "Oman",
           0.5735829433177327,
           0.007420437370313127
          ],
          [
           "Paraguay",
           0.5501246882793017,
           0.009196560469306373
          ],
          [
           "République tchèque",
           0.8194650817236255,
           0.08767046085270987
          ],
          [
           "Suisse",
           0.8080586080586081,
           0.03150910690040902
          ],
          [
           "Sri Lanka",
           0.540951446787641,
           0.004611088814694003
          ],
          [
           "France",
           0.5685567010309278,
           1
          ],
          [
           "Lituanie",
           0.6676755447941889,
           0.019503197875483522
          ],
          [
           "Djibouti",
           0.5087638376383763,
           0.0006404290020408337
          ],
          [
           "Corée du Sud",
           0.6313680595306239,
           0.02150987541521147
          ],
          [
           "Cambodge",
           0.5596144089294773,
           0.011152003688871051
          ],
          [
           "Émirats arabes unis",
           0.5454995054401583,
           0.06902970736664134
          ],
          [
           "Belgique",
           0.7218586387434555,
           0.02206491388364686
          ],
          [
           "Tadjikistan",
           0.5159027128157156,
           0.002997207729551102
          ],
          [
           "Jordanie",
           0.5553877139979859,
           0.010588426167075117
          ],
          [
           "Espagne",
           0.6872274143302181,
           0.31090693285742343
          ],
          [
           "Islande",
           1,
           0.004167058039945691
          ],
          [
           "Iran",
           0.395908111988514,
           0.013235532708843898
          ],
          [
           "Australie",
           0.7691771269177127,
           0.015609389543075254
          ],
          [
           "Autriche",
           0.8719367588932807,
           0.12886285426397628
          ],
          [
           "Arménie",
           0.5700258397932816,
           0.0032021450102041687
          ],
          [
           "Burkina Faso",
           0.48081952920662596,
           0.0005721165751564781
          ],
          [
           "Tanzanie",
           0.5799158780231336,
           0.005302752136898103
          ],
          [
           "Bénin",
           0.5,
           0.0030228248896327354
          ],
          [
           "Syrie",
           0.33434374052743254,
           0.004090206559700792
          ],
          [
           "Trinité-et-Tobago",
           0.5471230158730158,
           0.0012040065238367675
          ],
          [
           "Grèce",
           0.5981561822125813,
           0.06324022918819219
          ],
          [
           "Bhoutan",
           0.7784050811573747,
           0.0002561716008163335
          ],
          [
           "Kenya",
           0.47278182597513924,
           0.004850182308789247
          ],
          [
           "Guyana",
           0.5341404358353511,
           0.0007428976423673672
          ],
          [
           "Honduras",
           0.5,
           0.005712626698204237
          ],
          [
           "Géorgie",
           0.5454995054401583,
           0.012919587734503753
          ],
          [
           "Royaume-Uni",
           0.6203599550056242,
           0.09479203135540394
          ],
          [
           "Indonésie",
           0.6010899182561308,
           0.03460878327028666
          ],
          [
           "Estonie",
           0.7034438775510203,
           0.014473695446122843
          ],
          [
           "Italie",
           0.6766871165644172,
           0.3280618910587572
          ],
          [
           "Équateur",
           0.5430822255046774,
           0.0043293000537960365
          ],
          [
           "Albanie",
           0.6217587373167982,
           0.02269680383232715
          ],
          [
           "Kazakhstan",
           0.5534370296036126,
           0.017376973588707954
          ],
          [
           "Lettonie",
           0.6787692307692308,
           0.027359126967184417
          ],
          [
           "Pérou",
           0.5534370296036126,
           0.00955520071044924
          ],
          [
           "Maroc",
           0.5277511961722489,
           0.02392642751624555
          ],
          [
           "Allemagne",
           0.7343541944074568,
           0.10630267528541786
          ],
          [
           "Macédoine du Nord",
           0.6104039845047039,
           0.001007608296544245
          ],
          [
           "Mali",
           0.43170254403131114,
           0.0006404290020408337
          ],
          [
           "Mongolie",
           0.6299257567104511,
           0.0005721165751564781
          ],
          [
           "Colombie",
           0.4141945174615096,
           0.011920518491320052
          ],
          [
           "Niger",
           0.4415532425940752,
           0.0007258195356462783
          ],
          [
           "Nigéria",
           0.40167516387472685,
           0.01032371551289824
          ],
          [
           "Pays-Bas",
           0.7199738903394256,
           0.06203622266435543
          ],
          [
           "Panama",
           0.5898395721925134,
           0.005524767524272259
          ],
          [
           "Afrique du Sud",
           0.4677692960135708,
           0.03319130041243628
          ]
         ],
         "hovertemplate": "pibParHab=%{x}<br>bicluster=%{marker.color}<br>pays=%{customdata[0]}<br>gpi=%{customdata[1]}<br>arriveesTotal=%{customdata[2]}<extra></extra>",
         "legendgroup": "",
         "marker": {
          "color": [
           4,
           4,
           4,
           4,
           4,
           4,
           4,
           4,
           4,
           4,
           3,
           3,
           3,
           3,
           3,
           3,
           3,
           3,
           2,
           2,
           2,
           2,
           2,
           2,
           2,
           2,
           2,
           2,
           2,
           2,
           2,
           2,
           2,
           2,
           2,
           2,
           2,
           2,
           2,
           2,
           2,
           2,
           2,
           2,
           2,
           2,
           2,
           2,
           2,
           2,
           2,
           2,
           2,
           2,
           2,
           2,
           2,
           2,
           2,
           1,
           1,
           1,
           1,
           1,
           1,
           1,
           1,
           1,
           1,
           1,
           1,
           1,
           1,
           1,
           1,
           1,
           1,
           1,
           1,
           1,
           1,
           1,
           1,
           1,
           1,
           1,
           1,
           0,
           0,
           0,
           0,
           0,
           0,
           0,
           0,
           0,
           0,
           0,
           0,
           0,
           0,
           0,
           0,
           0,
           0,
           0,
           0,
           0,
           0,
           0,
           0,
           0,
           0,
           0,
           0,
           0,
           0,
           0,
           0
          ],
          "coloraxis": "coloraxis",
          "symbol": "circle"
         },
         "mode": "markers",
         "name": "",
         "orientation": "v",
         "showlegend": false,
         "type": "scatter",
         "x": [
          0.28517766067762895,
          0.19327873362537829,
          0.053954246291240765,
          0.21399699489979473,
          0.1458214293272385,
          0.28129430935601973,
          1,
          0.059160264956722323,
          0.016782003259052335,
          0.30128245825661865,
          0.4163968425285167,
          0.023839756205955177,
          0.03131018136414619,
          0.17244407762470107,
          0.023702198802192452,
          0.03959536960616257,
          0.12042621632488942,
          0.015194802446405519,
          0.33047637187056905,
          0.19393477662793895,
          0.4647641419592407,
          0.0821535140625992,
          0.05000740693712569,
          0.06469430512348422,
          0.19323640827037436,
          0.09732715383150276,
          0.052345882801091995,
          0.06382663534590396,
          0.013046790679956828,
          0.015766194738958374,
          0.08877743212071192,
          0.09573995301885595,
          0.039806996381182146,
          0.082248746111358,
          0.34439083232810613,
          0.08747592745434152,
          0.19327873362537829,
          0.021871627198273125,
          0.13129325122214464,
          0.6366579899688909,
          0.07770935178718812,
          0.11058557128647917,
          0.2733265612765327,
          0.4225657630203373,
          0.08126468160751699,
          null,
          0.24356125537002943,
          0.20976445939940322,
          0.23791082047700676,
          0.14525003703468564,
          0.008972975260830001,
          0.2034368188263179,
          0.17742788817641209,
          0.5874653461155905,
          0.14333481472075846,
          0.15193744312530422,
          0.14837153196622438,
          0.20829365331301716,
          0.1147546187543648,
          0.45385478170698157,
          0.5062958965568324,
          0.4874187882250862,
          0.021882208537024106,
          0.05570016718515226,
          0.30751486678094514,
          0.054832497407572005,
          0.9419401942733795,
          0.4406281082682581,
          0.35022114997989545,
          0.14091168814678434,
          0.4088629293378198,
          0.7266205320297124,
          0.13857321228281802,
          0.44688167947008656,
          0.3932660360188771,
          0.05030368442215309,
          0.4486170190252471,
          0.045245804499185235,
          0.7160180306012317,
          0.5182633906841894,
          0.03864304911857448,
          0.09738006052525766,
          0.38058959219520455,
          0.5520813493323176,
          0.15270988085412565,
          0.5158191014327133,
          0.5501026389858845,
          0.14134552303557446,
          0.02215732334454955,
          0.02699299515374685,
          0.03371214526061837,
          null,
          0.2475080947241445,
          0.2867966055065287,
          0.11160137980657313,
          0.047594861701902524,
          0.19502465451928977,
          0.05320297123992127,
          0.14777897699616954,
          0.44424692612109284,
          0.12185469705627155,
          0.3796901784013713,
          0.4133599983069858,
          0.10959092544388715,
          0.14026622648297463,
          0.2683639134023237,
          0.3234609442786701,
          0.11826762321968975,
          0.07984678221488582,
          0.5485366008507396,
          0.167005269506698,
          0.022474763507078915,
          0.12345247920766936,
          0.14166296319810381,
          0.012856326582439211,
          0.051478213023511736,
          0.5743021607093729,
          0.2699299515374685,
          0.13561043743254397
         ],
         "xaxis": "x",
         "y": [
          4,
          4,
          4,
          4,
          4,
          4,
          4,
          4,
          4,
          4,
          3,
          3,
          3,
          3,
          3,
          3,
          3,
          3,
          2,
          2,
          2,
          2,
          2,
          2,
          2,
          2,
          2,
          2,
          2,
          2,
          2,
          2,
          2,
          2,
          2,
          2,
          2,
          2,
          2,
          2,
          2,
          2,
          2,
          2,
          2,
          2,
          2,
          2,
          2,
          2,
          2,
          2,
          2,
          2,
          2,
          2,
          2,
          2,
          2,
          1,
          1,
          1,
          1,
          1,
          1,
          1,
          1,
          1,
          1,
          1,
          1,
          1,
          1,
          1,
          1,
          1,
          1,
          1,
          1,
          1,
          1,
          1,
          1,
          1,
          1,
          1,
          1,
          0,
          0,
          0,
          0,
          0,
          0,
          0,
          0,
          0,
          0,
          0,
          0,
          0,
          0,
          0,
          0,
          0,
          0,
          0,
          0,
          0,
          0,
          0,
          0,
          0,
          0,
          0,
          0,
          0,
          0,
          0,
          0
         ],
         "yaxis": "y"
        }
       ],
       "layout": {
        "coloraxis": {
         "colorbar": {
          "title": {
           "text": "bicluster"
          }
         },
         "colorscale": [
          [
           0,
           "#0d0887"
          ],
          [
           0.1111111111111111,
           "#46039f"
          ],
          [
           0.2222222222222222,
           "#7201a8"
          ],
          [
           0.3333333333333333,
           "#9c179e"
          ],
          [
           0.4444444444444444,
           "#bd3786"
          ],
          [
           0.5555555555555556,
           "#d8576b"
          ],
          [
           0.6666666666666666,
           "#ed7953"
          ],
          [
           0.7777777777777778,
           "#fb9f3a"
          ],
          [
           0.8888888888888888,
           "#fdca26"
          ],
          [
           1,
           "#f0f921"
          ]
         ]
        },
        "legend": {
         "tracegroupgap": 0
        },
        "margin": {
         "t": 60
        },
        "template": {
         "data": {
          "bar": [
           {
            "error_x": {
             "color": "#2a3f5f"
            },
            "error_y": {
             "color": "#2a3f5f"
            },
            "marker": {
             "line": {
              "color": "#E5ECF6",
              "width": 0.5
             },
             "pattern": {
              "fillmode": "overlay",
              "size": 10,
              "solidity": 0.2
             }
            },
            "type": "bar"
           }
          ],
          "barpolar": [
           {
            "marker": {
             "line": {
              "color": "#E5ECF6",
              "width": 0.5
             },
             "pattern": {
              "fillmode": "overlay",
              "size": 10,
              "solidity": 0.2
             }
            },
            "type": "barpolar"
           }
          ],
          "carpet": [
           {
            "aaxis": {
             "endlinecolor": "#2a3f5f",
             "gridcolor": "white",
             "linecolor": "white",
             "minorgridcolor": "white",
             "startlinecolor": "#2a3f5f"
            },
            "baxis": {
             "endlinecolor": "#2a3f5f",
             "gridcolor": "white",
             "linecolor": "white",
             "minorgridcolor": "white",
             "startlinecolor": "#2a3f5f"
            },
            "type": "carpet"
           }
          ],
          "choropleth": [
           {
            "colorbar": {
             "outlinewidth": 0,
             "ticks": ""
            },
            "type": "choropleth"
           }
          ],
          "contour": [
           {
            "colorbar": {
             "outlinewidth": 0,
             "ticks": ""
            },
            "colorscale": [
             [
              0,
              "#0d0887"
             ],
             [
              0.1111111111111111,
              "#46039f"
             ],
             [
              0.2222222222222222,
              "#7201a8"
             ],
             [
              0.3333333333333333,
              "#9c179e"
             ],
             [
              0.4444444444444444,
              "#bd3786"
             ],
             [
              0.5555555555555556,
              "#d8576b"
             ],
             [
              0.6666666666666666,
              "#ed7953"
             ],
             [
              0.7777777777777778,
              "#fb9f3a"
             ],
             [
              0.8888888888888888,
              "#fdca26"
             ],
             [
              1,
              "#f0f921"
             ]
            ],
            "type": "contour"
           }
          ],
          "contourcarpet": [
           {
            "colorbar": {
             "outlinewidth": 0,
             "ticks": ""
            },
            "type": "contourcarpet"
           }
          ],
          "heatmap": [
           {
            "colorbar": {
             "outlinewidth": 0,
             "ticks": ""
            },
            "colorscale": [
             [
              0,
              "#0d0887"
             ],
             [
              0.1111111111111111,
              "#46039f"
             ],
             [
              0.2222222222222222,
              "#7201a8"
             ],
             [
              0.3333333333333333,
              "#9c179e"
             ],
             [
              0.4444444444444444,
              "#bd3786"
             ],
             [
              0.5555555555555556,
              "#d8576b"
             ],
             [
              0.6666666666666666,
              "#ed7953"
             ],
             [
              0.7777777777777778,
              "#fb9f3a"
             ],
             [
              0.8888888888888888,
              "#fdca26"
             ],
             [
              1,
              "#f0f921"
             ]
            ],
            "type": "heatmap"
           }
          ],
          "heatmapgl": [
           {
            "colorbar": {
             "outlinewidth": 0,
             "ticks": ""
            },
            "colorscale": [
             [
              0,
              "#0d0887"
             ],
             [
              0.1111111111111111,
              "#46039f"
             ],
             [
              0.2222222222222222,
              "#7201a8"
             ],
             [
              0.3333333333333333,
              "#9c179e"
             ],
             [
              0.4444444444444444,
              "#bd3786"
             ],
             [
              0.5555555555555556,
              "#d8576b"
             ],
             [
              0.6666666666666666,
              "#ed7953"
             ],
             [
              0.7777777777777778,
              "#fb9f3a"
             ],
             [
              0.8888888888888888,
              "#fdca26"
             ],
             [
              1,
              "#f0f921"
             ]
            ],
            "type": "heatmapgl"
           }
          ],
          "histogram": [
           {
            "marker": {
             "pattern": {
              "fillmode": "overlay",
              "size": 10,
              "solidity": 0.2
             }
            },
            "type": "histogram"
           }
          ],
          "histogram2d": [
           {
            "colorbar": {
             "outlinewidth": 0,
             "ticks": ""
            },
            "colorscale": [
             [
              0,
              "#0d0887"
             ],
             [
              0.1111111111111111,
              "#46039f"
             ],
             [
              0.2222222222222222,
              "#7201a8"
             ],
             [
              0.3333333333333333,
              "#9c179e"
             ],
             [
              0.4444444444444444,
              "#bd3786"
             ],
             [
              0.5555555555555556,
              "#d8576b"
             ],
             [
              0.6666666666666666,
              "#ed7953"
             ],
             [
              0.7777777777777778,
              "#fb9f3a"
             ],
             [
              0.8888888888888888,
              "#fdca26"
             ],
             [
              1,
              "#f0f921"
             ]
            ],
            "type": "histogram2d"
           }
          ],
          "histogram2dcontour": [
           {
            "colorbar": {
             "outlinewidth": 0,
             "ticks": ""
            },
            "colorscale": [
             [
              0,
              "#0d0887"
             ],
             [
              0.1111111111111111,
              "#46039f"
             ],
             [
              0.2222222222222222,
              "#7201a8"
             ],
             [
              0.3333333333333333,
              "#9c179e"
             ],
             [
              0.4444444444444444,
              "#bd3786"
             ],
             [
              0.5555555555555556,
              "#d8576b"
             ],
             [
              0.6666666666666666,
              "#ed7953"
             ],
             [
              0.7777777777777778,
              "#fb9f3a"
             ],
             [
              0.8888888888888888,
              "#fdca26"
             ],
             [
              1,
              "#f0f921"
             ]
            ],
            "type": "histogram2dcontour"
           }
          ],
          "mesh3d": [
           {
            "colorbar": {
             "outlinewidth": 0,
             "ticks": ""
            },
            "type": "mesh3d"
           }
          ],
          "parcoords": [
           {
            "line": {
             "colorbar": {
              "outlinewidth": 0,
              "ticks": ""
             }
            },
            "type": "parcoords"
           }
          ],
          "pie": [
           {
            "automargin": true,
            "type": "pie"
           }
          ],
          "scatter": [
           {
            "fillpattern": {
             "fillmode": "overlay",
             "size": 10,
             "solidity": 0.2
            },
            "type": "scatter"
           }
          ],
          "scatter3d": [
           {
            "line": {
             "colorbar": {
              "outlinewidth": 0,
              "ticks": ""
             }
            },
            "marker": {
             "colorbar": {
              "outlinewidth": 0,
              "ticks": ""
             }
            },
            "type": "scatter3d"
           }
          ],
          "scattercarpet": [
           {
            "marker": {
             "colorbar": {
              "outlinewidth": 0,
              "ticks": ""
             }
            },
            "type": "scattercarpet"
           }
          ],
          "scattergeo": [
           {
            "marker": {
             "colorbar": {
              "outlinewidth": 0,
              "ticks": ""
             }
            },
            "type": "scattergeo"
           }
          ],
          "scattergl": [
           {
            "marker": {
             "colorbar": {
              "outlinewidth": 0,
              "ticks": ""
             }
            },
            "type": "scattergl"
           }
          ],
          "scattermapbox": [
           {
            "marker": {
             "colorbar": {
              "outlinewidth": 0,
              "ticks": ""
             }
            },
            "type": "scattermapbox"
           }
          ],
          "scatterpolar": [
           {
            "marker": {
             "colorbar": {
              "outlinewidth": 0,
              "ticks": ""
             }
            },
            "type": "scatterpolar"
           }
          ],
          "scatterpolargl": [
           {
            "marker": {
             "colorbar": {
              "outlinewidth": 0,
              "ticks": ""
             }
            },
            "type": "scatterpolargl"
           }
          ],
          "scatterternary": [
           {
            "marker": {
             "colorbar": {
              "outlinewidth": 0,
              "ticks": ""
             }
            },
            "type": "scatterternary"
           }
          ],
          "surface": [
           {
            "colorbar": {
             "outlinewidth": 0,
             "ticks": ""
            },
            "colorscale": [
             [
              0,
              "#0d0887"
             ],
             [
              0.1111111111111111,
              "#46039f"
             ],
             [
              0.2222222222222222,
              "#7201a8"
             ],
             [
              0.3333333333333333,
              "#9c179e"
             ],
             [
              0.4444444444444444,
              "#bd3786"
             ],
             [
              0.5555555555555556,
              "#d8576b"
             ],
             [
              0.6666666666666666,
              "#ed7953"
             ],
             [
              0.7777777777777778,
              "#fb9f3a"
             ],
             [
              0.8888888888888888,
              "#fdca26"
             ],
             [
              1,
              "#f0f921"
             ]
            ],
            "type": "surface"
           }
          ],
          "table": [
           {
            "cells": {
             "fill": {
              "color": "#EBF0F8"
             },
             "line": {
              "color": "white"
             }
            },
            "header": {
             "fill": {
              "color": "#C8D4E3"
             },
             "line": {
              "color": "white"
             }
            },
            "type": "table"
           }
          ]
         },
         "layout": {
          "annotationdefaults": {
           "arrowcolor": "#2a3f5f",
           "arrowhead": 0,
           "arrowwidth": 1
          },
          "autotypenumbers": "strict",
          "coloraxis": {
           "colorbar": {
            "outlinewidth": 0,
            "ticks": ""
           }
          },
          "colorscale": {
           "diverging": [
            [
             0,
             "#8e0152"
            ],
            [
             0.1,
             "#c51b7d"
            ],
            [
             0.2,
             "#de77ae"
            ],
            [
             0.3,
             "#f1b6da"
            ],
            [
             0.4,
             "#fde0ef"
            ],
            [
             0.5,
             "#f7f7f7"
            ],
            [
             0.6,
             "#e6f5d0"
            ],
            [
             0.7,
             "#b8e186"
            ],
            [
             0.8,
             "#7fbc41"
            ],
            [
             0.9,
             "#4d9221"
            ],
            [
             1,
             "#276419"
            ]
           ],
           "sequential": [
            [
             0,
             "#0d0887"
            ],
            [
             0.1111111111111111,
             "#46039f"
            ],
            [
             0.2222222222222222,
             "#7201a8"
            ],
            [
             0.3333333333333333,
             "#9c179e"
            ],
            [
             0.4444444444444444,
             "#bd3786"
            ],
            [
             0.5555555555555556,
             "#d8576b"
            ],
            [
             0.6666666666666666,
             "#ed7953"
            ],
            [
             0.7777777777777778,
             "#fb9f3a"
            ],
            [
             0.8888888888888888,
             "#fdca26"
            ],
            [
             1,
             "#f0f921"
            ]
           ],
           "sequentialminus": [
            [
             0,
             "#0d0887"
            ],
            [
             0.1111111111111111,
             "#46039f"
            ],
            [
             0.2222222222222222,
             "#7201a8"
            ],
            [
             0.3333333333333333,
             "#9c179e"
            ],
            [
             0.4444444444444444,
             "#bd3786"
            ],
            [
             0.5555555555555556,
             "#d8576b"
            ],
            [
             0.6666666666666666,
             "#ed7953"
            ],
            [
             0.7777777777777778,
             "#fb9f3a"
            ],
            [
             0.8888888888888888,
             "#fdca26"
            ],
            [
             1,
             "#f0f921"
            ]
           ]
          },
          "colorway": [
           "#636efa",
           "#EF553B",
           "#00cc96",
           "#ab63fa",
           "#FFA15A",
           "#19d3f3",
           "#FF6692",
           "#B6E880",
           "#FF97FF",
           "#FECB52"
          ],
          "font": {
           "color": "#2a3f5f"
          },
          "geo": {
           "bgcolor": "white",
           "lakecolor": "white",
           "landcolor": "#E5ECF6",
           "showlakes": true,
           "showland": true,
           "subunitcolor": "white"
          },
          "hoverlabel": {
           "align": "left"
          },
          "hovermode": "closest",
          "mapbox": {
           "style": "light"
          },
          "paper_bgcolor": "white",
          "plot_bgcolor": "#E5ECF6",
          "polar": {
           "angularaxis": {
            "gridcolor": "white",
            "linecolor": "white",
            "ticks": ""
           },
           "bgcolor": "#E5ECF6",
           "radialaxis": {
            "gridcolor": "white",
            "linecolor": "white",
            "ticks": ""
           }
          },
          "scene": {
           "xaxis": {
            "backgroundcolor": "#E5ECF6",
            "gridcolor": "white",
            "gridwidth": 2,
            "linecolor": "white",
            "showbackground": true,
            "ticks": "",
            "zerolinecolor": "white"
           },
           "yaxis": {
            "backgroundcolor": "#E5ECF6",
            "gridcolor": "white",
            "gridwidth": 2,
            "linecolor": "white",
            "showbackground": true,
            "ticks": "",
            "zerolinecolor": "white"
           },
           "zaxis": {
            "backgroundcolor": "#E5ECF6",
            "gridcolor": "white",
            "gridwidth": 2,
            "linecolor": "white",
            "showbackground": true,
            "ticks": "",
            "zerolinecolor": "white"
           }
          },
          "shapedefaults": {
           "line": {
            "color": "#2a3f5f"
           }
          },
          "ternary": {
           "aaxis": {
            "gridcolor": "white",
            "linecolor": "white",
            "ticks": ""
           },
           "baxis": {
            "gridcolor": "white",
            "linecolor": "white",
            "ticks": ""
           },
           "bgcolor": "#E5ECF6",
           "caxis": {
            "gridcolor": "white",
            "linecolor": "white",
            "ticks": ""
           }
          },
          "title": {
           "x": 0.05
          },
          "xaxis": {
           "automargin": true,
           "gridcolor": "white",
           "linecolor": "white",
           "ticks": "",
           "title": {
            "standoff": 15
           },
           "zerolinecolor": "white",
           "zerolinewidth": 2
          },
          "yaxis": {
           "automargin": true,
           "gridcolor": "white",
           "linecolor": "white",
           "ticks": "",
           "title": {
            "standoff": 15
           },
           "zerolinecolor": "white",
           "zerolinewidth": 2
          }
         }
        },
        "xaxis": {
         "anchor": "y",
         "domain": [
          0,
          1
         ],
         "title": {
          "text": "pibParHab"
         }
        },
        "yaxis": {
         "anchor": "x",
         "domain": [
          0,
          1
         ],
         "title": {
          "text": "bicluster"
         }
        }
       }
      }
     },
     "metadata": {},
     "output_type": "display_data"
    }
   ],
   "source": [
    "import plotly.express as px\n",
    "\n",
    "# Créer un DataFrame avec les colonnes nécessaires\n",
    "df_plot = df[['pibParHab', 'arriveesTotal', 'bicluster', 'pays', 'gesParHab', 'gpi']]\n",
    "\n",
    "# Créer un graphique de dispersion interactif\n",
    "df_plot = df[['pibParHab', 'arriveesTotal', 'bicluster', 'pays', 'gesParHab', 'gpi']]\n",
    "fig = px.scatter(df_plot, x='pibParHab', y='bicluster', color='bicluster', hover_data=['pays', 'gpi', 'arriveesTotal', 'pibParHab'])\n",
    "\n",
    "# Afficher le graphique\n",
    "fig.show()"
   ]
  },
  {
   "cell_type": "code",
   "execution_count": 7,
   "metadata": {},
   "outputs": [
    {
     "data": {
      "application/vnd.plotly.v1+json": {
       "config": {
        "plotlyServerURL": "https://plot.ly"
       },
       "data": [
        {
         "coloraxis": "coloraxis",
         "geo": "geo",
         "hovertemplate": "<b>%{hovertext}</b><br><br>id_pays=%{location}<br>bicluster=%{z}<extra></extra>",
         "hovertext": [
          "Croatie",
          "Serbie",
          "Côte d´Ivoire",
          "Maurice (Île)",
          "Liban",
          "Russie",
          "Singapour",
          "Bangladesh",
          "Sierra Leone",
          "Turquie",
          "Israël",
          "Éthiopie",
          "Haïti",
          "China",
          "Ouganda",
          "Papouasie-Nouvelle-Guinée",
          "Égypte",
          "Madagascar",
          "Hongrie",
          "Mexique",
          "Koweït",
          "Laos",
          "Kirghizstan",
          "Inde",
          "Monténégro",
          "Jamaïque",
          "Myanmar (Birmanie)",
          "Angola",
          "Mozambique",
          "Malawi",
          "Guatemala",
          "Namibie",
          "Népal",
          "Philippines",
          "Pologne",
          "Salvador",
          "Serbie",
          "Togo",
          "Ukraine",
          "United States",
          "Ouzbékistan",
          "Viêt Nam",
          "Malaisie",
          "Japon",
          "Bolivie",
          "Cuba",
          "Chili",
          "Costa Rica",
          "Bulgarie",
          "Azerbaïdjan",
          "République centrafricaine",
          "Biélorussie",
          "République dominicaine",
          "Danemark",
          "Botswana",
          "Bosnie-Herzégovine",
          "Brésil",
          "Argentine",
          "Algérie",
          "Arabie saoudite",
          "Bahreïn",
          "Canada",
          "Rwanda",
          "Ghana",
          "Roumanie",
          "Nicaragua",
          "Qatar",
          "Nouvelle-Zélande",
          "Oman",
          "Paraguay",
          "République tchèque",
          "Suisse",
          "Sri Lanka",
          "France",
          "Lituanie",
          "Djibouti",
          "Corée du Sud",
          "Cambodge",
          "Émirats arabes unis",
          "Belgique",
          "Tadjikistan",
          "Jordanie",
          "Espagne",
          "Islande",
          "Iran",
          "Australie",
          "Autriche",
          "Arménie",
          "Burkina Faso",
          "Tanzanie",
          "Bénin",
          "Syrie",
          "Trinité-et-Tobago",
          "Grèce",
          "Bhoutan",
          "Kenya",
          "Guyana",
          "Honduras",
          "Géorgie",
          "Royaume-Uni",
          "Indonésie",
          "Estonie",
          "Italie",
          "Équateur",
          "Albanie",
          "Kazakhstan",
          "Lettonie",
          "Pérou",
          "Maroc",
          "Allemagne",
          "Macédoine du Nord",
          "Mali",
          "Mongolie",
          "Colombie",
          "Niger",
          "Nigéria",
          "Pays-Bas",
          "Panama",
          "Afrique du Sud"
         ],
         "locations": [
          "HRV",
          "SRB",
          "CIV",
          "MUS",
          "LBN",
          "RUS",
          "SGP",
          "BGD",
          "SLE",
          "TUR",
          "ISR",
          "ETH",
          "HTI",
          "CHN",
          "UGA",
          "PNG",
          "EGY",
          "MDG",
          "HUN",
          "MEX",
          "KWT",
          "LAO",
          "KGZ",
          "IND",
          "MNE",
          "JAM",
          "MMR",
          "AGO",
          "MOZ",
          "MWI",
          "GTM",
          "NAM",
          "NPL",
          "PHL",
          "POL",
          "SLV",
          "SRB",
          "TGO",
          "UKR",
          "USA",
          "UZB",
          "VNM",
          "MYS",
          "JPN",
          "BOL",
          "CUB",
          "CHL",
          "CRI",
          "BGR",
          "AZE",
          "CAF",
          "BLR",
          "DOM",
          "DNK",
          "BWA",
          "BIH",
          "BRA",
          "ARG",
          "DZA",
          "SAU",
          "BHR",
          "CAN",
          "RWA",
          "GHA",
          "ROU",
          "NIC",
          "QAT",
          "NZL",
          "OMN",
          "PRY",
          "CZE",
          "CHE",
          "LKA",
          "FRA",
          "LTU",
          "DJI",
          "KOR",
          "KHM",
          "ARE",
          "BEL",
          "TJK",
          "JOR",
          "ESP",
          "ISL",
          "IRN",
          "AUS",
          "AUT",
          "ARM",
          "BFA",
          "TZA",
          "BEN",
          "SYR",
          "TTO",
          "GRC",
          "BTN",
          "KEN",
          "GUY",
          "HND",
          "GEO",
          "GBR",
          "IDN",
          "EST",
          "ITA",
          "ECU",
          "ALB",
          "KAZ",
          "LVA",
          "PER",
          "MAR",
          "DEU",
          "MKD",
          "MLI",
          "MNG",
          "COL",
          "NER",
          "NGA",
          "NLD",
          "PAN",
          "ZAF"
         ],
         "name": "",
         "type": "choropleth",
         "z": [
          4,
          4,
          4,
          4,
          4,
          4,
          4,
          4,
          4,
          4,
          3,
          3,
          3,
          3,
          3,
          3,
          3,
          3,
          2,
          2,
          2,
          2,
          2,
          2,
          2,
          2,
          2,
          2,
          2,
          2,
          2,
          2,
          2,
          2,
          2,
          2,
          2,
          2,
          2,
          2,
          2,
          2,
          2,
          2,
          2,
          2,
          2,
          2,
          2,
          2,
          2,
          2,
          2,
          2,
          2,
          2,
          2,
          2,
          2,
          1,
          1,
          1,
          1,
          1,
          1,
          1,
          1,
          1,
          1,
          1,
          1,
          1,
          1,
          1,
          1,
          1,
          1,
          1,
          1,
          1,
          1,
          1,
          1,
          1,
          1,
          1,
          1,
          0,
          0,
          0,
          0,
          0,
          0,
          0,
          0,
          0,
          0,
          0,
          0,
          0,
          0,
          0,
          0,
          0,
          0,
          0,
          0,
          0,
          0,
          0,
          0,
          0,
          0,
          0,
          0,
          0,
          0,
          0,
          0
         ]
        }
       ],
       "layout": {
        "coloraxis": {
         "colorbar": {
          "title": {
           "text": "bicluster"
          }
         },
         "colorscale": [
          [
           0,
           "#0d0887"
          ],
          [
           0.1111111111111111,
           "#46039f"
          ],
          [
           0.2222222222222222,
           "#7201a8"
          ],
          [
           0.3333333333333333,
           "#9c179e"
          ],
          [
           0.4444444444444444,
           "#bd3786"
          ],
          [
           0.5555555555555556,
           "#d8576b"
          ],
          [
           0.6666666666666666,
           "#ed7953"
          ],
          [
           0.7777777777777778,
           "#fb9f3a"
          ],
          [
           0.8888888888888888,
           "#fdca26"
          ],
          [
           1,
           "#f0f921"
          ]
         ]
        },
        "geo": {
         "center": {},
         "countrycolor": "Black",
         "domain": {
          "x": [
           0,
           1
          ],
          "y": [
           0,
           1
          ]
         },
         "lakecolor": "Blue",
         "oceancolor": "LightBlue",
         "projection": {
          "type": "natural earth"
         },
         "showcountries": true,
         "showlakes": true,
         "showland": true,
         "showocean": true
        },
        "legend": {
         "tracegroupgap": 0
        },
        "margin": {
         "t": 60
        },
        "template": {
         "data": {
          "bar": [
           {
            "error_x": {
             "color": "#2a3f5f"
            },
            "error_y": {
             "color": "#2a3f5f"
            },
            "marker": {
             "line": {
              "color": "#E5ECF6",
              "width": 0.5
             },
             "pattern": {
              "fillmode": "overlay",
              "size": 10,
              "solidity": 0.2
             }
            },
            "type": "bar"
           }
          ],
          "barpolar": [
           {
            "marker": {
             "line": {
              "color": "#E5ECF6",
              "width": 0.5
             },
             "pattern": {
              "fillmode": "overlay",
              "size": 10,
              "solidity": 0.2
             }
            },
            "type": "barpolar"
           }
          ],
          "carpet": [
           {
            "aaxis": {
             "endlinecolor": "#2a3f5f",
             "gridcolor": "white",
             "linecolor": "white",
             "minorgridcolor": "white",
             "startlinecolor": "#2a3f5f"
            },
            "baxis": {
             "endlinecolor": "#2a3f5f",
             "gridcolor": "white",
             "linecolor": "white",
             "minorgridcolor": "white",
             "startlinecolor": "#2a3f5f"
            },
            "type": "carpet"
           }
          ],
          "choropleth": [
           {
            "colorbar": {
             "outlinewidth": 0,
             "ticks": ""
            },
            "type": "choropleth"
           }
          ],
          "contour": [
           {
            "colorbar": {
             "outlinewidth": 0,
             "ticks": ""
            },
            "colorscale": [
             [
              0,
              "#0d0887"
             ],
             [
              0.1111111111111111,
              "#46039f"
             ],
             [
              0.2222222222222222,
              "#7201a8"
             ],
             [
              0.3333333333333333,
              "#9c179e"
             ],
             [
              0.4444444444444444,
              "#bd3786"
             ],
             [
              0.5555555555555556,
              "#d8576b"
             ],
             [
              0.6666666666666666,
              "#ed7953"
             ],
             [
              0.7777777777777778,
              "#fb9f3a"
             ],
             [
              0.8888888888888888,
              "#fdca26"
             ],
             [
              1,
              "#f0f921"
             ]
            ],
            "type": "contour"
           }
          ],
          "contourcarpet": [
           {
            "colorbar": {
             "outlinewidth": 0,
             "ticks": ""
            },
            "type": "contourcarpet"
           }
          ],
          "heatmap": [
           {
            "colorbar": {
             "outlinewidth": 0,
             "ticks": ""
            },
            "colorscale": [
             [
              0,
              "#0d0887"
             ],
             [
              0.1111111111111111,
              "#46039f"
             ],
             [
              0.2222222222222222,
              "#7201a8"
             ],
             [
              0.3333333333333333,
              "#9c179e"
             ],
             [
              0.4444444444444444,
              "#bd3786"
             ],
             [
              0.5555555555555556,
              "#d8576b"
             ],
             [
              0.6666666666666666,
              "#ed7953"
             ],
             [
              0.7777777777777778,
              "#fb9f3a"
             ],
             [
              0.8888888888888888,
              "#fdca26"
             ],
             [
              1,
              "#f0f921"
             ]
            ],
            "type": "heatmap"
           }
          ],
          "heatmapgl": [
           {
            "colorbar": {
             "outlinewidth": 0,
             "ticks": ""
            },
            "colorscale": [
             [
              0,
              "#0d0887"
             ],
             [
              0.1111111111111111,
              "#46039f"
             ],
             [
              0.2222222222222222,
              "#7201a8"
             ],
             [
              0.3333333333333333,
              "#9c179e"
             ],
             [
              0.4444444444444444,
              "#bd3786"
             ],
             [
              0.5555555555555556,
              "#d8576b"
             ],
             [
              0.6666666666666666,
              "#ed7953"
             ],
             [
              0.7777777777777778,
              "#fb9f3a"
             ],
             [
              0.8888888888888888,
              "#fdca26"
             ],
             [
              1,
              "#f0f921"
             ]
            ],
            "type": "heatmapgl"
           }
          ],
          "histogram": [
           {
            "marker": {
             "pattern": {
              "fillmode": "overlay",
              "size": 10,
              "solidity": 0.2
             }
            },
            "type": "histogram"
           }
          ],
          "histogram2d": [
           {
            "colorbar": {
             "outlinewidth": 0,
             "ticks": ""
            },
            "colorscale": [
             [
              0,
              "#0d0887"
             ],
             [
              0.1111111111111111,
              "#46039f"
             ],
             [
              0.2222222222222222,
              "#7201a8"
             ],
             [
              0.3333333333333333,
              "#9c179e"
             ],
             [
              0.4444444444444444,
              "#bd3786"
             ],
             [
              0.5555555555555556,
              "#d8576b"
             ],
             [
              0.6666666666666666,
              "#ed7953"
             ],
             [
              0.7777777777777778,
              "#fb9f3a"
             ],
             [
              0.8888888888888888,
              "#fdca26"
             ],
             [
              1,
              "#f0f921"
             ]
            ],
            "type": "histogram2d"
           }
          ],
          "histogram2dcontour": [
           {
            "colorbar": {
             "outlinewidth": 0,
             "ticks": ""
            },
            "colorscale": [
             [
              0,
              "#0d0887"
             ],
             [
              0.1111111111111111,
              "#46039f"
             ],
             [
              0.2222222222222222,
              "#7201a8"
             ],
             [
              0.3333333333333333,
              "#9c179e"
             ],
             [
              0.4444444444444444,
              "#bd3786"
             ],
             [
              0.5555555555555556,
              "#d8576b"
             ],
             [
              0.6666666666666666,
              "#ed7953"
             ],
             [
              0.7777777777777778,
              "#fb9f3a"
             ],
             [
              0.8888888888888888,
              "#fdca26"
             ],
             [
              1,
              "#f0f921"
             ]
            ],
            "type": "histogram2dcontour"
           }
          ],
          "mesh3d": [
           {
            "colorbar": {
             "outlinewidth": 0,
             "ticks": ""
            },
            "type": "mesh3d"
           }
          ],
          "parcoords": [
           {
            "line": {
             "colorbar": {
              "outlinewidth": 0,
              "ticks": ""
             }
            },
            "type": "parcoords"
           }
          ],
          "pie": [
           {
            "automargin": true,
            "type": "pie"
           }
          ],
          "scatter": [
           {
            "fillpattern": {
             "fillmode": "overlay",
             "size": 10,
             "solidity": 0.2
            },
            "type": "scatter"
           }
          ],
          "scatter3d": [
           {
            "line": {
             "colorbar": {
              "outlinewidth": 0,
              "ticks": ""
             }
            },
            "marker": {
             "colorbar": {
              "outlinewidth": 0,
              "ticks": ""
             }
            },
            "type": "scatter3d"
           }
          ],
          "scattercarpet": [
           {
            "marker": {
             "colorbar": {
              "outlinewidth": 0,
              "ticks": ""
             }
            },
            "type": "scattercarpet"
           }
          ],
          "scattergeo": [
           {
            "marker": {
             "colorbar": {
              "outlinewidth": 0,
              "ticks": ""
             }
            },
            "type": "scattergeo"
           }
          ],
          "scattergl": [
           {
            "marker": {
             "colorbar": {
              "outlinewidth": 0,
              "ticks": ""
             }
            },
            "type": "scattergl"
           }
          ],
          "scattermapbox": [
           {
            "marker": {
             "colorbar": {
              "outlinewidth": 0,
              "ticks": ""
             }
            },
            "type": "scattermapbox"
           }
          ],
          "scatterpolar": [
           {
            "marker": {
             "colorbar": {
              "outlinewidth": 0,
              "ticks": ""
             }
            },
            "type": "scatterpolar"
           }
          ],
          "scatterpolargl": [
           {
            "marker": {
             "colorbar": {
              "outlinewidth": 0,
              "ticks": ""
             }
            },
            "type": "scatterpolargl"
           }
          ],
          "scatterternary": [
           {
            "marker": {
             "colorbar": {
              "outlinewidth": 0,
              "ticks": ""
             }
            },
            "type": "scatterternary"
           }
          ],
          "surface": [
           {
            "colorbar": {
             "outlinewidth": 0,
             "ticks": ""
            },
            "colorscale": [
             [
              0,
              "#0d0887"
             ],
             [
              0.1111111111111111,
              "#46039f"
             ],
             [
              0.2222222222222222,
              "#7201a8"
             ],
             [
              0.3333333333333333,
              "#9c179e"
             ],
             [
              0.4444444444444444,
              "#bd3786"
             ],
             [
              0.5555555555555556,
              "#d8576b"
             ],
             [
              0.6666666666666666,
              "#ed7953"
             ],
             [
              0.7777777777777778,
              "#fb9f3a"
             ],
             [
              0.8888888888888888,
              "#fdca26"
             ],
             [
              1,
              "#f0f921"
             ]
            ],
            "type": "surface"
           }
          ],
          "table": [
           {
            "cells": {
             "fill": {
              "color": "#EBF0F8"
             },
             "line": {
              "color": "white"
             }
            },
            "header": {
             "fill": {
              "color": "#C8D4E3"
             },
             "line": {
              "color": "white"
             }
            },
            "type": "table"
           }
          ]
         },
         "layout": {
          "annotationdefaults": {
           "arrowcolor": "#2a3f5f",
           "arrowhead": 0,
           "arrowwidth": 1
          },
          "autotypenumbers": "strict",
          "coloraxis": {
           "colorbar": {
            "outlinewidth": 0,
            "ticks": ""
           }
          },
          "colorscale": {
           "diverging": [
            [
             0,
             "#8e0152"
            ],
            [
             0.1,
             "#c51b7d"
            ],
            [
             0.2,
             "#de77ae"
            ],
            [
             0.3,
             "#f1b6da"
            ],
            [
             0.4,
             "#fde0ef"
            ],
            [
             0.5,
             "#f7f7f7"
            ],
            [
             0.6,
             "#e6f5d0"
            ],
            [
             0.7,
             "#b8e186"
            ],
            [
             0.8,
             "#7fbc41"
            ],
            [
             0.9,
             "#4d9221"
            ],
            [
             1,
             "#276419"
            ]
           ],
           "sequential": [
            [
             0,
             "#0d0887"
            ],
            [
             0.1111111111111111,
             "#46039f"
            ],
            [
             0.2222222222222222,
             "#7201a8"
            ],
            [
             0.3333333333333333,
             "#9c179e"
            ],
            [
             0.4444444444444444,
             "#bd3786"
            ],
            [
             0.5555555555555556,
             "#d8576b"
            ],
            [
             0.6666666666666666,
             "#ed7953"
            ],
            [
             0.7777777777777778,
             "#fb9f3a"
            ],
            [
             0.8888888888888888,
             "#fdca26"
            ],
            [
             1,
             "#f0f921"
            ]
           ],
           "sequentialminus": [
            [
             0,
             "#0d0887"
            ],
            [
             0.1111111111111111,
             "#46039f"
            ],
            [
             0.2222222222222222,
             "#7201a8"
            ],
            [
             0.3333333333333333,
             "#9c179e"
            ],
            [
             0.4444444444444444,
             "#bd3786"
            ],
            [
             0.5555555555555556,
             "#d8576b"
            ],
            [
             0.6666666666666666,
             "#ed7953"
            ],
            [
             0.7777777777777778,
             "#fb9f3a"
            ],
            [
             0.8888888888888888,
             "#fdca26"
            ],
            [
             1,
             "#f0f921"
            ]
           ]
          },
          "colorway": [
           "#636efa",
           "#EF553B",
           "#00cc96",
           "#ab63fa",
           "#FFA15A",
           "#19d3f3",
           "#FF6692",
           "#B6E880",
           "#FF97FF",
           "#FECB52"
          ],
          "font": {
           "color": "#2a3f5f"
          },
          "geo": {
           "bgcolor": "white",
           "lakecolor": "white",
           "landcolor": "#E5ECF6",
           "showlakes": true,
           "showland": true,
           "subunitcolor": "white"
          },
          "hoverlabel": {
           "align": "left"
          },
          "hovermode": "closest",
          "mapbox": {
           "style": "light"
          },
          "paper_bgcolor": "white",
          "plot_bgcolor": "#E5ECF6",
          "polar": {
           "angularaxis": {
            "gridcolor": "white",
            "linecolor": "white",
            "ticks": ""
           },
           "bgcolor": "#E5ECF6",
           "radialaxis": {
            "gridcolor": "white",
            "linecolor": "white",
            "ticks": ""
           }
          },
          "scene": {
           "xaxis": {
            "backgroundcolor": "#E5ECF6",
            "gridcolor": "white",
            "gridwidth": 2,
            "linecolor": "white",
            "showbackground": true,
            "ticks": "",
            "zerolinecolor": "white"
           },
           "yaxis": {
            "backgroundcolor": "#E5ECF6",
            "gridcolor": "white",
            "gridwidth": 2,
            "linecolor": "white",
            "showbackground": true,
            "ticks": "",
            "zerolinecolor": "white"
           },
           "zaxis": {
            "backgroundcolor": "#E5ECF6",
            "gridcolor": "white",
            "gridwidth": 2,
            "linecolor": "white",
            "showbackground": true,
            "ticks": "",
            "zerolinecolor": "white"
           }
          },
          "shapedefaults": {
           "line": {
            "color": "#2a3f5f"
           }
          },
          "ternary": {
           "aaxis": {
            "gridcolor": "white",
            "linecolor": "white",
            "ticks": ""
           },
           "baxis": {
            "gridcolor": "white",
            "linecolor": "white",
            "ticks": ""
           },
           "bgcolor": "#E5ECF6",
           "caxis": {
            "gridcolor": "white",
            "linecolor": "white",
            "ticks": ""
           }
          },
          "title": {
           "x": 0.05
          },
          "xaxis": {
           "automargin": true,
           "gridcolor": "white",
           "linecolor": "white",
           "ticks": "",
           "title": {
            "standoff": 15
           },
           "zerolinecolor": "white",
           "zerolinewidth": 2
          },
          "yaxis": {
           "automargin": true,
           "gridcolor": "white",
           "linecolor": "white",
           "ticks": "",
           "title": {
            "standoff": 15
           },
           "zerolinecolor": "white",
           "zerolinewidth": 2
          }
         }
        }
       }
      }
     },
     "metadata": {},
     "output_type": "display_data"
    },
    {
     "data": {
      "text/html": [
       "<div>\n",
       "<style scoped>\n",
       "    .dataframe tbody tr th:only-of-type {\n",
       "        vertical-align: middle;\n",
       "    }\n",
       "\n",
       "    .dataframe tbody tr th {\n",
       "        vertical-align: top;\n",
       "    }\n",
       "\n",
       "    .dataframe thead th {\n",
       "        text-align: right;\n",
       "    }\n",
       "</style>\n",
       "<table border=\"1\" class=\"dataframe\">\n",
       "  <thead>\n",
       "    <tr style=\"text-align: right;\">\n",
       "      <th></th>\n",
       "      <th>pays</th>\n",
       "      <th>id_pays</th>\n",
       "      <th>arriveesTotal</th>\n",
       "      <th>gpi</th>\n",
       "      <th>pibParHab</th>\n",
       "      <th>gesParHab</th>\n",
       "      <th>bicluster</th>\n",
       "    </tr>\n",
       "  </thead>\n",
       "  <tbody>\n",
       "    <tr>\n",
       "      <th>48</th>\n",
       "      <td>Croatie</td>\n",
       "      <td>HRV</td>\n",
       "      <td>0.184512</td>\n",
       "      <td>0.720444</td>\n",
       "      <td>0.285178</td>\n",
       "      <td>0.199678</td>\n",
       "      <td>4</td>\n",
       "    </tr>\n",
       "    <tr>\n",
       "      <th>106</th>\n",
       "      <td>Serbie</td>\n",
       "      <td>SRB</td>\n",
       "      <td>0.003808</td>\n",
       "      <td>0.612778</td>\n",
       "      <td>0.193279</td>\n",
       "      <td>0.111150</td>\n",
       "      <td>4</td>\n",
       "    </tr>\n",
       "    <tr>\n",
       "      <th>25</th>\n",
       "      <td>Côte d´Ivoire</td>\n",
       "      <td>CIV</td>\n",
       "      <td>0.005704</td>\n",
       "      <td>0.522007</td>\n",
       "      <td>0.053954</td>\n",
       "      <td>0.387290</td>\n",
       "      <td>4</td>\n",
       "    </tr>\n",
       "    <tr>\n",
       "      <th>80</th>\n",
       "      <td>Maurice (Île)</td>\n",
       "      <td>MUS</td>\n",
       "      <td>0.002698</td>\n",
       "      <td>0.708869</td>\n",
       "      <td>0.213997</td>\n",
       "      <td>0.147379</td>\n",
       "      <td>4</td>\n",
       "    </tr>\n",
       "    <tr>\n",
       "      <th>67</th>\n",
       "      <td>Liban</td>\n",
       "      <td>LBN</td>\n",
       "      <td>0.003535</td>\n",
       "      <td>0.428017</td>\n",
       "      <td>0.145821</td>\n",
       "      <td>0.107703</td>\n",
       "      <td>4</td>\n",
       "    </tr>\n",
       "  </tbody>\n",
       "</table>\n",
       "</div>"
      ],
      "text/plain": [
       "              pays id_pays  arriveesTotal       gpi  pibParHab  gesParHab   \n",
       "48         Croatie     HRV       0.184512  0.720444   0.285178   0.199678  \\\n",
       "106         Serbie     SRB       0.003808  0.612778   0.193279   0.111150   \n",
       "25   Côte d´Ivoire     CIV       0.005704  0.522007   0.053954   0.387290   \n",
       "80   Maurice (Île)     MUS       0.002698  0.708869   0.213997   0.147379   \n",
       "67           Liban     LBN       0.003535  0.428017   0.145821   0.107703   \n",
       "\n",
       "     bicluster  \n",
       "48           4  \n",
       "106          4  \n",
       "25           4  \n",
       "80           4  \n",
       "67           4  "
      ]
     },
     "execution_count": 7,
     "metadata": {},
     "output_type": "execute_result"
    }
   ],
   "source": [
    "import pycountry\n",
    "\n",
    "# Fonction pour convertir ISO-2 en ISO-3\n",
    "def iso2_to_iso3(iso2):\n",
    "    try:\n",
    "        return pycountry.countries.get(alpha_2=iso2).alpha_3\n",
    "    except AttributeError:\n",
    "        return np.nan\n",
    "\n",
    "# Appliquer la fonction à la colonne 'id_pays'\n",
    "df['id_pays'] = df['id_pays'].apply(iso2_to_iso3)\n",
    "\n",
    "df.head()\n",
    "\n",
    "# Créer une carte du monde\n",
    "fig = px.choropleth(df, locations='id_pays', color='bicluster', hover_name='pays', projection='natural earth')\n",
    "\n",
    "# Mettre à jour la carte\n",
    "fig.update_geos(showcountries=True, countrycolor=\"Black\", showland=True, showocean=True, oceancolor=\"LightBlue\", showlakes=True, lakecolor=\"Blue\")\n",
    "\n",
    "# Afficher la carte\n",
    "fig.show()\n",
    "df.head()\n"
   ]
  },
  {
   "cell_type": "code",
   "execution_count": 8,
   "metadata": {},
   "outputs": [
    {
     "name": "stdout",
     "output_type": "stream",
     "text": [
      "RMSE: 0.1146498341146689\n",
      "Coefficients: [ 0.40005003  0.86742844 -0.57639446]\n",
      "Intercept: -0.18666745176984476\n"
     ]
    },
    {
     "name": "stderr",
     "output_type": "stream",
     "text": [
      "/Library/Frameworks/Python.framework/Versions/3.11/lib/python3.11/site-packages/sklearn/metrics/_regression.py:483: FutureWarning:\n",
      "\n",
      "'squared' is deprecated in version 1.4 and will be removed in 1.6. To calculate the root mean squared error, use the function'root_mean_squared_error'.\n",
      "\n"
     ]
    }
   ],
   "source": [
    "from sklearn.model_selection import train_test_split\n",
    "from sklearn.linear_model import LinearRegression\n",
    "from sklearn.metrics import mean_squared_error\n",
    "\n",
    "# Supprimer les valeurs manquantes du DataFrame\n",
    "df = df.dropna(subset=['arriveesTotal',  'gpi', 'gesParHab', 'pibParHab'])\n",
    "\n",
    "# Séparer les données en variables indépendantes (X) et dépendante (y)\n",
    "X = df[['arriveesTotal', 'gpi','gesParHab']]  # Variables indépendantes\n",
    "y = df['pibParHab']  # Variable dépendante\n",
    "\n",
    "\n",
    "# Diviser les données en ensembles d'entraînement et de test\n",
    "X_train, X_test, y_train, y_test = train_test_split(X, y, test_size=0.2, random_state=42)\n",
    "\n",
    "# Créer le modèle de régression linéaire\n",
    "model = LinearRegression()\n",
    "\n",
    "# Entraîner le modèle sur l'ensemble d'entraînement\n",
    "model.fit(X_train, y_train)\n",
    "\n",
    "# Faire des prédictions sur l'ensemble de test\n",
    "y_pred = model.predict(X_test)\n",
    "\n",
    "# Calculer l'erreur quadratique moyenne (RMSE) pour évaluer les performances du modèle\n",
    "rmse = mean_squared_error(y_test, y_pred, squared=False)\n",
    "print(\"RMSE:\", rmse)\n",
    "\n",
    "# Afficher les coefficients de régression\n",
    "print(\"Coefficients:\", model.coef_)\n",
    "\n",
    "# Afficher l'interception\n",
    "print(\"Intercept:\", model.intercept_)\n",
    "\n",
    "\n",
    "# En interprétant ces résultats, vous pouvez dire que les variables arriveesTotal et arriveesAvion ont des coefficients\n",
    "# positifs, ce qui signifie qu'une augmentation du nombre total d'arrivées touristiques et du nombre d'arrivées par avion \n",
    "# est associée à une augmentation du PIB par habitant. D'autre part, le coefficient négatif pour la variable gpi indique \n",
    "# qu'un GPI (Indice de Puissance Globale) plus élevé est associé à une diminution du PIB par habitant. Les coefficients pour \n",
    "# les variables co2 et gesParHab sont également positifs, ce qui suggère qu'une augmentation des émissions de CO2 et des émissions\n",
    "# de gaz à effet de serre par habitant est associée à une augmentation du PIB par habitant.\n",
    "\n",
    "# Dans votre cas, le RMSE est de 0.08845969610817209. Sans connaître l'échelle de votre variable dépendante pibParHab, \n",
    "# il est difficile de dire si cette valeur est faible ou élevée. Cependant, si pibParHab est normalisé (par exemple, \n",
    "# entre 0 et 1), alors un RMSE de 0.088 serait considéré comme relativement faible, ce qui indiquerait que votre modèle \n",
    "# fait des prédictions assez précises.\n"
   ]
  }
 ],
 "metadata": {
  "kernelspec": {
   "display_name": "Python 3",
   "language": "python",
   "name": "python3"
  },
  "language_info": {
   "codemirror_mode": {
    "name": "ipython",
    "version": 3
   },
   "file_extension": ".py",
   "mimetype": "text/x-python",
   "name": "python",
   "nbconvert_exporter": "python",
   "pygments_lexer": "ipython3",
   "version": "3.11.3"
  }
 },
 "nbformat": 4,
 "nbformat_minor": 2
}
