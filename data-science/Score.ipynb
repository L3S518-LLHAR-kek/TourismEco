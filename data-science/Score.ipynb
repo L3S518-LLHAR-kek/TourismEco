{
 "cells": [
  {
   "cell_type": "code",
   "execution_count": 344,
   "metadata": {},
   "outputs": [],
   "source": [
    "# Importing libraries neeeded for the project\n",
    "import pandas as pd\n",
    "import seaborn as sns\n",
    "import matplotlib.pyplot as plt\n",
    "import plotly.express as px\n",
    "import plotly.graph_objects as go\n",
    "from sklearn.preprocessing import MinMaxScaler\n",
    "import mysql.connector\n",
    "import pycountry\n",
    "import numpy as np\n",
    "import plotly.express as px\n"
   ]
  },
  {
   "cell_type": "markdown",
   "metadata": {},
   "source": [
    "## Connexion à la base pour Wamp"
   ]
  },
  {
   "cell_type": "code",
   "execution_count": 345,
   "metadata": {},
   "outputs": [
    {
     "name": "stdout",
     "output_type": "stream",
     "text": [
      "Connexion à la base de données réussie.\n"
     ]
    }
   ],
   "source": [
    "# Connexion à la BD pour Wamp \n",
    "host = 'localhost'  \n",
    "utilisateur = 'root'\n",
    "mot_de_passe = '' \n",
    "base_de_donnees = 'ecotourisme'\n",
    "\n",
    "# Connexion\n",
    "connexion = mysql.connector.connect(\n",
    "    host=host,\n",
    "    user=utilisateur,\n",
    "    password=mot_de_passe,\n",
    "    database=base_de_donnees\n",
    ")\n",
    "\n",
    "curseur = connexion.cursor()\n",
    "\n",
    "if connexion.is_connected():\n",
    "    print(\"Connexion à la base de données réussie.\")\n",
    "else:\n",
    "    print(\"Échec de la connexion à la base de données.\")"
   ]
  },
  {
   "cell_type": "markdown",
   "metadata": {},
   "source": [
    "## Connexion à la base avec Mamp"
   ]
  },
  {
   "cell_type": "code",
   "execution_count": 346,
   "metadata": {},
   "outputs": [],
   "source": [
    "#!/usr/bin/env /Applications/MAMP/Library/bin/python\n",
    "\n",
    "# import mysql.connector\n",
    "\n",
    "# config = {\n",
    "#   'user': 'root',\n",
    "#   'password': 'root',\n",
    "#   'host': '127.0.0.1',\n",
    "#   'port': 8889,\n",
    "#   'database': 'ecotourisme',\n",
    "#   'raise_on_warnings': True\n",
    "# }\n",
    "\n",
    "# cnx = mysql.connector.connect(**config)\n",
    "\n",
    "# curseur = cnx.cursor(dictionary=True)"
   ]
  },
  {
   "cell_type": "markdown",
   "metadata": {},
   "source": [
    "## Traitement des données"
   ]
  },
  {
   "cell_type": "code",
   "execution_count": 347,
   "metadata": {},
   "outputs": [],
   "source": [
    "\n",
    "\n",
    "curseur.execute('''\n",
    "    SELECT \n",
    "        p.nom as pays, \n",
    "        s.id_pays, \n",
    "        s.annee, \n",
    "        s.gpi, \n",
    "        t.arriveesTotal as arriveesTotal, \n",
    "        e.pibParHab, \n",
    "        eco.GES_hab,\n",
    "        eco.elecRenew,\n",
    "        d.idh as idh\n",
    "    FROM \n",
    "        surete as s, \n",
    "        tourisme as t, \n",
    "        economie as e, \n",
    "        ecologie as eco, \n",
    "        pays as p, \n",
    "        idh as d\n",
    "    WHERE \n",
    "        p.id = s.id_pays \n",
    "        AND s.id_pays = t.id_pays \n",
    "        AND t.id_pays = e.id_pays \n",
    "        AND e.id_pays = eco.id_pays \n",
    "        AND d.id_pays = eco.id_pays\n",
    "        AND s.annee = t.annee \n",
    "        AND t.annee = e.annee \n",
    "        AND e.annee = eco.annee \n",
    "        AND d.annee = eco.annee\n",
    "        AND e.annee=2020;\n",
    "''')\n",
    "\n",
    "dataset = curseur.fetchall()\n",
    "\n",
    "# Création de 4 dataframes pour chaque score \n",
    "\n",
    "df = pd.DataFrame(dataset, columns=['pays', 'id_pays', 'annee', 'gpi', 'arriveesTotal', 'pibParHab', 'GES_hab', 'elecRenew', 'idh'])\n",
    "df_ecol = df[['pays', 'id_pays', 'annee', 'GES_hab', 'elecRenew']].copy()\n",
    "df_eco = df[['pays', 'id_pays', 'annee', 'arriveesTotal','pibParHab','idh']].copy()\n",
    "df_decouverte = df[['pays', 'id_pays', 'annee', 'arriveesTotal', 'GES_hab', 'idh']].copy()\n",
    "\n",
    "# Fonction pour convertir ISO-2 en ISO-3\n",
    "def iso2_to_iso3(iso2):\n",
    "    try:\n",
    "        return pycountry.countries.get(alpha_2=iso2).alpha_3\n",
    "    except AttributeError:\n",
    "        return np.nan\n"
   ]
  },
  {
   "cell_type": "markdown",
   "metadata": {},
   "source": [
    "## Score global ou score touristique"
   ]
  },
  {
   "cell_type": "code",
   "execution_count": 348,
   "metadata": {},
   "outputs": [
    {
     "name": "stdout",
     "output_type": "stream",
     "text": [
      "max :  0.5965868227056257 min :  0.1810022074886945 variance:  0.07938479582918744 esperance:  0.3883544190848649\n"
     ]
    },
    {
     "data": {
      "application/vnd.plotly.v1+json": {
       "config": {
        "plotlyServerURL": "https://plot.ly"
       },
       "data": [
        {
         "alignmentgroup": "True",
         "bingroup": "x",
         "hovertemplate": "score_touristique=%{x}<br>count=%{y}<extra></extra>",
         "legendgroup": "",
         "marker": {
          "color": "#636EFA",
          "line": {
           "color": "white",
           "width": 1
          },
          "opacity": 0.7,
          "pattern": {
           "shape": ""
          }
         },
         "name": "",
         "nbinsx": 5,
         "offsetgroup": "",
         "opacity": 0.7,
         "orientation": "v",
         "showlegend": false,
         "type": "histogram",
         "x": [
          0.5965868227056257,
          0.5718070748617854,
          0.5616199394045742,
          0.5571196631092702,
          0.5549856483392497,
          0.5400544832517785,
          0.5212221344346302,
          0.5201870430921217,
          0.5154474791425635,
          0.5084030829281035,
          0.507504861876078,
          0.5008852434071146,
          0.4987750512588855,
          0.4970955210835653,
          0.49607365712486884,
          0.4929235150574365,
          0.4903849399576454,
          0.48866365774541926,
          0.48680354236894746,
          0.4858582866428914,
          0.48087575518708414,
          0.4759851420846619,
          0.46314308269053894,
          0.45991100664657497,
          0.4591268942115625,
          0.456987142333985,
          0.455993791586287,
          0.4544254163734672,
          0.4531360250501053,
          0.45300089474460836,
          0.452695088402889,
          0.45176405895106,
          0.4436013680203941,
          0.4419430597261367,
          0.4373474855580227,
          0.43630583047077454,
          0.43454675029163575,
          0.434099992731152,
          0.430676301365889,
          0.4301466982558863,
          0.4289417298764719,
          0.4252170687974027,
          0.4192780078960607,
          0.41756946113887383,
          0.4143527784247901,
          0.41239962618791254,
          0.41234304108506026,
          0.40978284015718686,
          0.4092786099102949,
          0.40735885252535614,
          0.4065456976250018,
          0.40639959399397907,
          0.4060670423120475,
          0.40172510150092094,
          0.39879720861888773,
          0.3956714632351992,
          0.38983644479784346,
          0.3893881604705459,
          0.38929847085983404,
          0.38730230926194537,
          0.3848704091207199,
          0.383225766311288,
          0.3831153811420402,
          0.3802198850674011,
          0.3788324756477048,
          0.37632385174624566,
          0.374572009993764,
          0.37423109378769687,
          0.3734051206451398,
          0.372933926920068,
          0.37053151476303714,
          0.36922061196817946,
          0.3687045243268903,
          0.3666851102259211,
          0.3653234752767994,
          0.36216128474033155,
          0.36072031025152773,
          0.3586438481235179,
          0.3580161582475605,
          0.3563353430470911,
          0.35633230124107435,
          0.3544214914323393,
          0.3528828182078587,
          0.35274567295351555,
          0.35231514120695356,
          0.3518634503990766,
          0.3493556493218043,
          0.3489503239014916,
          0.3483720364812856,
          0.3458623332405673,
          0.3454289719994084,
          0.3449847871898021,
          0.34170681409356807,
          0.33545388671644366,
          0.3346292474447144,
          0.3342406727370407,
          0.33401994523585177,
          0.332546407080886,
          0.32484550012269076,
          0.32305265781922554,
          0.3202611062448015,
          0.3202270121278594,
          0.32004707707263574,
          0.31958876798159974,
          0.3187252179720882,
          0.31761319009298616,
          0.3167584342408447,
          0.3165043085044613,
          0.31344820029969456,
          0.3134145179516534,
          0.31286927963150357,
          0.3113504226172492,
          0.30799649762698694,
          0.3070398696569479,
          0.3012787164155209,
          0.29966821606053884,
          0.2984889417161113,
          0.29657733655056945,
          0.2925702408158649,
          0.29017592755617183,
          0.28936032438135656,
          0.2874774107742823,
          0.27855850247482694,
          0.27640481866312105,
          0.27460482496316585,
          0.2720710592280201,
          0.2719202169417291,
          0.26080386107530623,
          0.2606757977713812,
          0.21919744388991833
         ],
         "xaxis": "x",
         "yaxis": "y"
        }
       ],
       "layout": {
        "annotations": [
         {
          "font": {
           "color": "black",
           "size": 12
          },
          "showarrow": false,
          "text": "E",
          "x": 0.22050110374434725,
          "y": 20
         },
         {
          "font": {
           "color": "black",
           "size": 12
          },
          "showarrow": false,
          "text": "D",
          "x": 0.30000000000000004,
          "y": 20
         },
         {
          "font": {
           "color": "black",
           "size": 12
          },
          "showarrow": false,
          "text": "C",
          "x": 0.38,
          "y": 20
         },
         {
          "font": {
           "color": "black",
           "size": 12
          },
          "showarrow": false,
          "text": "B",
          "x": 0.45999999999999996,
          "y": 20
         },
         {
          "font": {
           "color": "black",
           "size": 12
          },
          "showarrow": false,
          "text": "A",
          "x": 0.5482934113528128,
          "y": 20
         }
        ],
        "bargap": 0.05,
        "barmode": "relative",
        "legend": {
         "tracegroupgap": 0
        },
        "margin": {
         "t": 60
        },
        "shapes": [
         {
          "line": {
           "color": "gray",
           "dash": "dash",
           "width": 1
          },
          "type": "line",
          "x0": 0.26,
          "x1": 0.26,
          "xref": "x",
          "y0": 0,
          "y1": 1,
          "yref": "y domain"
         },
         {
          "line": {
           "color": "gray",
           "dash": "dash",
           "width": 1
          },
          "type": "line",
          "x0": 0.34,
          "x1": 0.34,
          "xref": "x",
          "y0": 0,
          "y1": 1,
          "yref": "y domain"
         },
         {
          "line": {
           "color": "gray",
           "dash": "dash",
           "width": 1
          },
          "type": "line",
          "x0": 0.42,
          "x1": 0.42,
          "xref": "x",
          "y0": 0,
          "y1": 1,
          "yref": "y domain"
         },
         {
          "line": {
           "color": "gray",
           "dash": "dash",
           "width": 1
          },
          "type": "line",
          "x0": 0.5,
          "x1": 0.5,
          "xref": "x",
          "y0": 0,
          "y1": 1,
          "yref": "y domain"
         },
         {
          "line": {
           "color": "gray",
           "dash": "dash",
           "width": 1
          },
          "type": "line",
          "x0": 0.5965868227056257,
          "x1": 0.5965868227056257,
          "xref": "x",
          "y0": 0,
          "y1": 1,
          "yref": "y domain"
         },
         {
          "line": {
           "color": "gray",
           "dash": "dash",
           "width": 1
          },
          "type": "line",
          "x0": 0.5965868227056257,
          "x1": 0.5965868227056257,
          "xref": "x",
          "y0": 0,
          "y1": 1,
          "yref": "y domain"
         }
        ],
        "showlegend": false,
        "template": {
         "data": {
          "bar": [
           {
            "error_x": {
             "color": "#2a3f5f"
            },
            "error_y": {
             "color": "#2a3f5f"
            },
            "marker": {
             "line": {
              "color": "#E5ECF6",
              "width": 0.5
             },
             "pattern": {
              "fillmode": "overlay",
              "size": 10,
              "solidity": 0.2
             }
            },
            "type": "bar"
           }
          ],
          "barpolar": [
           {
            "marker": {
             "line": {
              "color": "#E5ECF6",
              "width": 0.5
             },
             "pattern": {
              "fillmode": "overlay",
              "size": 10,
              "solidity": 0.2
             }
            },
            "type": "barpolar"
           }
          ],
          "carpet": [
           {
            "aaxis": {
             "endlinecolor": "#2a3f5f",
             "gridcolor": "white",
             "linecolor": "white",
             "minorgridcolor": "white",
             "startlinecolor": "#2a3f5f"
            },
            "baxis": {
             "endlinecolor": "#2a3f5f",
             "gridcolor": "white",
             "linecolor": "white",
             "minorgridcolor": "white",
             "startlinecolor": "#2a3f5f"
            },
            "type": "carpet"
           }
          ],
          "choropleth": [
           {
            "colorbar": {
             "outlinewidth": 0,
             "ticks": ""
            },
            "type": "choropleth"
           }
          ],
          "contour": [
           {
            "colorbar": {
             "outlinewidth": 0,
             "ticks": ""
            },
            "colorscale": [
             [
              0,
              "#0d0887"
             ],
             [
              0.1111111111111111,
              "#46039f"
             ],
             [
              0.2222222222222222,
              "#7201a8"
             ],
             [
              0.3333333333333333,
              "#9c179e"
             ],
             [
              0.4444444444444444,
              "#bd3786"
             ],
             [
              0.5555555555555556,
              "#d8576b"
             ],
             [
              0.6666666666666666,
              "#ed7953"
             ],
             [
              0.7777777777777778,
              "#fb9f3a"
             ],
             [
              0.8888888888888888,
              "#fdca26"
             ],
             [
              1,
              "#f0f921"
             ]
            ],
            "type": "contour"
           }
          ],
          "contourcarpet": [
           {
            "colorbar": {
             "outlinewidth": 0,
             "ticks": ""
            },
            "type": "contourcarpet"
           }
          ],
          "heatmap": [
           {
            "colorbar": {
             "outlinewidth": 0,
             "ticks": ""
            },
            "colorscale": [
             [
              0,
              "#0d0887"
             ],
             [
              0.1111111111111111,
              "#46039f"
             ],
             [
              0.2222222222222222,
              "#7201a8"
             ],
             [
              0.3333333333333333,
              "#9c179e"
             ],
             [
              0.4444444444444444,
              "#bd3786"
             ],
             [
              0.5555555555555556,
              "#d8576b"
             ],
             [
              0.6666666666666666,
              "#ed7953"
             ],
             [
              0.7777777777777778,
              "#fb9f3a"
             ],
             [
              0.8888888888888888,
              "#fdca26"
             ],
             [
              1,
              "#f0f921"
             ]
            ],
            "type": "heatmap"
           }
          ],
          "heatmapgl": [
           {
            "colorbar": {
             "outlinewidth": 0,
             "ticks": ""
            },
            "colorscale": [
             [
              0,
              "#0d0887"
             ],
             [
              0.1111111111111111,
              "#46039f"
             ],
             [
              0.2222222222222222,
              "#7201a8"
             ],
             [
              0.3333333333333333,
              "#9c179e"
             ],
             [
              0.4444444444444444,
              "#bd3786"
             ],
             [
              0.5555555555555556,
              "#d8576b"
             ],
             [
              0.6666666666666666,
              "#ed7953"
             ],
             [
              0.7777777777777778,
              "#fb9f3a"
             ],
             [
              0.8888888888888888,
              "#fdca26"
             ],
             [
              1,
              "#f0f921"
             ]
            ],
            "type": "heatmapgl"
           }
          ],
          "histogram": [
           {
            "marker": {
             "pattern": {
              "fillmode": "overlay",
              "size": 10,
              "solidity": 0.2
             }
            },
            "type": "histogram"
           }
          ],
          "histogram2d": [
           {
            "colorbar": {
             "outlinewidth": 0,
             "ticks": ""
            },
            "colorscale": [
             [
              0,
              "#0d0887"
             ],
             [
              0.1111111111111111,
              "#46039f"
             ],
             [
              0.2222222222222222,
              "#7201a8"
             ],
             [
              0.3333333333333333,
              "#9c179e"
             ],
             [
              0.4444444444444444,
              "#bd3786"
             ],
             [
              0.5555555555555556,
              "#d8576b"
             ],
             [
              0.6666666666666666,
              "#ed7953"
             ],
             [
              0.7777777777777778,
              "#fb9f3a"
             ],
             [
              0.8888888888888888,
              "#fdca26"
             ],
             [
              1,
              "#f0f921"
             ]
            ],
            "type": "histogram2d"
           }
          ],
          "histogram2dcontour": [
           {
            "colorbar": {
             "outlinewidth": 0,
             "ticks": ""
            },
            "colorscale": [
             [
              0,
              "#0d0887"
             ],
             [
              0.1111111111111111,
              "#46039f"
             ],
             [
              0.2222222222222222,
              "#7201a8"
             ],
             [
              0.3333333333333333,
              "#9c179e"
             ],
             [
              0.4444444444444444,
              "#bd3786"
             ],
             [
              0.5555555555555556,
              "#d8576b"
             ],
             [
              0.6666666666666666,
              "#ed7953"
             ],
             [
              0.7777777777777778,
              "#fb9f3a"
             ],
             [
              0.8888888888888888,
              "#fdca26"
             ],
             [
              1,
              "#f0f921"
             ]
            ],
            "type": "histogram2dcontour"
           }
          ],
          "mesh3d": [
           {
            "colorbar": {
             "outlinewidth": 0,
             "ticks": ""
            },
            "type": "mesh3d"
           }
          ],
          "parcoords": [
           {
            "line": {
             "colorbar": {
              "outlinewidth": 0,
              "ticks": ""
             }
            },
            "type": "parcoords"
           }
          ],
          "pie": [
           {
            "automargin": true,
            "type": "pie"
           }
          ],
          "scatter": [
           {
            "fillpattern": {
             "fillmode": "overlay",
             "size": 10,
             "solidity": 0.2
            },
            "type": "scatter"
           }
          ],
          "scatter3d": [
           {
            "line": {
             "colorbar": {
              "outlinewidth": 0,
              "ticks": ""
             }
            },
            "marker": {
             "colorbar": {
              "outlinewidth": 0,
              "ticks": ""
             }
            },
            "type": "scatter3d"
           }
          ],
          "scattercarpet": [
           {
            "marker": {
             "colorbar": {
              "outlinewidth": 0,
              "ticks": ""
             }
            },
            "type": "scattercarpet"
           }
          ],
          "scattergeo": [
           {
            "marker": {
             "colorbar": {
              "outlinewidth": 0,
              "ticks": ""
             }
            },
            "type": "scattergeo"
           }
          ],
          "scattergl": [
           {
            "marker": {
             "colorbar": {
              "outlinewidth": 0,
              "ticks": ""
             }
            },
            "type": "scattergl"
           }
          ],
          "scattermapbox": [
           {
            "marker": {
             "colorbar": {
              "outlinewidth": 0,
              "ticks": ""
             }
            },
            "type": "scattermapbox"
           }
          ],
          "scatterpolar": [
           {
            "marker": {
             "colorbar": {
              "outlinewidth": 0,
              "ticks": ""
             }
            },
            "type": "scatterpolar"
           }
          ],
          "scatterpolargl": [
           {
            "marker": {
             "colorbar": {
              "outlinewidth": 0,
              "ticks": ""
             }
            },
            "type": "scatterpolargl"
           }
          ],
          "scatterternary": [
           {
            "marker": {
             "colorbar": {
              "outlinewidth": 0,
              "ticks": ""
             }
            },
            "type": "scatterternary"
           }
          ],
          "surface": [
           {
            "colorbar": {
             "outlinewidth": 0,
             "ticks": ""
            },
            "colorscale": [
             [
              0,
              "#0d0887"
             ],
             [
              0.1111111111111111,
              "#46039f"
             ],
             [
              0.2222222222222222,
              "#7201a8"
             ],
             [
              0.3333333333333333,
              "#9c179e"
             ],
             [
              0.4444444444444444,
              "#bd3786"
             ],
             [
              0.5555555555555556,
              "#d8576b"
             ],
             [
              0.6666666666666666,
              "#ed7953"
             ],
             [
              0.7777777777777778,
              "#fb9f3a"
             ],
             [
              0.8888888888888888,
              "#fdca26"
             ],
             [
              1,
              "#f0f921"
             ]
            ],
            "type": "surface"
           }
          ],
          "table": [
           {
            "cells": {
             "fill": {
              "color": "#EBF0F8"
             },
             "line": {
              "color": "white"
             }
            },
            "header": {
             "fill": {
              "color": "#C8D4E3"
             },
             "line": {
              "color": "white"
             }
            },
            "type": "table"
           }
          ]
         },
         "layout": {
          "annotationdefaults": {
           "arrowcolor": "#2a3f5f",
           "arrowhead": 0,
           "arrowwidth": 1
          },
          "autotypenumbers": "strict",
          "coloraxis": {
           "colorbar": {
            "outlinewidth": 0,
            "ticks": ""
           }
          },
          "colorscale": {
           "diverging": [
            [
             0,
             "#8e0152"
            ],
            [
             0.1,
             "#c51b7d"
            ],
            [
             0.2,
             "#de77ae"
            ],
            [
             0.3,
             "#f1b6da"
            ],
            [
             0.4,
             "#fde0ef"
            ],
            [
             0.5,
             "#f7f7f7"
            ],
            [
             0.6,
             "#e6f5d0"
            ],
            [
             0.7,
             "#b8e186"
            ],
            [
             0.8,
             "#7fbc41"
            ],
            [
             0.9,
             "#4d9221"
            ],
            [
             1,
             "#276419"
            ]
           ],
           "sequential": [
            [
             0,
             "#0d0887"
            ],
            [
             0.1111111111111111,
             "#46039f"
            ],
            [
             0.2222222222222222,
             "#7201a8"
            ],
            [
             0.3333333333333333,
             "#9c179e"
            ],
            [
             0.4444444444444444,
             "#bd3786"
            ],
            [
             0.5555555555555556,
             "#d8576b"
            ],
            [
             0.6666666666666666,
             "#ed7953"
            ],
            [
             0.7777777777777778,
             "#fb9f3a"
            ],
            [
             0.8888888888888888,
             "#fdca26"
            ],
            [
             1,
             "#f0f921"
            ]
           ],
           "sequentialminus": [
            [
             0,
             "#0d0887"
            ],
            [
             0.1111111111111111,
             "#46039f"
            ],
            [
             0.2222222222222222,
             "#7201a8"
            ],
            [
             0.3333333333333333,
             "#9c179e"
            ],
            [
             0.4444444444444444,
             "#bd3786"
            ],
            [
             0.5555555555555556,
             "#d8576b"
            ],
            [
             0.6666666666666666,
             "#ed7953"
            ],
            [
             0.7777777777777778,
             "#fb9f3a"
            ],
            [
             0.8888888888888888,
             "#fdca26"
            ],
            [
             1,
             "#f0f921"
            ]
           ]
          },
          "colorway": [
           "#636efa",
           "#EF553B",
           "#00cc96",
           "#ab63fa",
           "#FFA15A",
           "#19d3f3",
           "#FF6692",
           "#B6E880",
           "#FF97FF",
           "#FECB52"
          ],
          "font": {
           "color": "#2a3f5f"
          },
          "geo": {
           "bgcolor": "white",
           "lakecolor": "white",
           "landcolor": "#E5ECF6",
           "showlakes": true,
           "showland": true,
           "subunitcolor": "white"
          },
          "hoverlabel": {
           "align": "left"
          },
          "hovermode": "closest",
          "mapbox": {
           "style": "light"
          },
          "paper_bgcolor": "white",
          "plot_bgcolor": "#E5ECF6",
          "polar": {
           "angularaxis": {
            "gridcolor": "white",
            "linecolor": "white",
            "ticks": ""
           },
           "bgcolor": "#E5ECF6",
           "radialaxis": {
            "gridcolor": "white",
            "linecolor": "white",
            "ticks": ""
           }
          },
          "scene": {
           "xaxis": {
            "backgroundcolor": "#E5ECF6",
            "gridcolor": "white",
            "gridwidth": 2,
            "linecolor": "white",
            "showbackground": true,
            "ticks": "",
            "zerolinecolor": "white"
           },
           "yaxis": {
            "backgroundcolor": "#E5ECF6",
            "gridcolor": "white",
            "gridwidth": 2,
            "linecolor": "white",
            "showbackground": true,
            "ticks": "",
            "zerolinecolor": "white"
           },
           "zaxis": {
            "backgroundcolor": "#E5ECF6",
            "gridcolor": "white",
            "gridwidth": 2,
            "linecolor": "white",
            "showbackground": true,
            "ticks": "",
            "zerolinecolor": "white"
           }
          },
          "shapedefaults": {
           "line": {
            "color": "#2a3f5f"
           }
          },
          "ternary": {
           "aaxis": {
            "gridcolor": "white",
            "linecolor": "white",
            "ticks": ""
           },
           "baxis": {
            "gridcolor": "white",
            "linecolor": "white",
            "ticks": ""
           },
           "bgcolor": "#E5ECF6",
           "caxis": {
            "gridcolor": "white",
            "linecolor": "white",
            "ticks": ""
           }
          },
          "title": {
           "x": 0.05
          },
          "xaxis": {
           "automargin": true,
           "gridcolor": "white",
           "linecolor": "white",
           "ticks": "",
           "title": {
            "standoff": 15
           },
           "zerolinecolor": "white",
           "zerolinewidth": 2
          },
          "yaxis": {
           "automargin": true,
           "gridcolor": "white",
           "linecolor": "white",
           "ticks": "",
           "title": {
            "standoff": 15
           },
           "zerolinecolor": "white",
           "zerolinewidth": 2
          }
         }
        },
        "title": {
         "text": "Distribution du Score Touristique"
        },
        "xaxis": {
         "anchor": "y",
         "domain": [
          0,
          1
         ],
         "title": {
          "text": "Score Touristique"
         }
        },
        "yaxis": {
         "anchor": "x",
         "domain": [
          0,
          1
         ],
         "title": {
          "text": "Nombre d'observations"
         }
        }
       }
      }
     },
     "metadata": {},
     "output_type": "display_data"
    },
    {
     "data": {
      "application/vnd.plotly.v1+json": {
       "config": {
        "plotlyServerURL": "https://plot.ly"
       },
       "data": [
        {
         "colorscale": [
          [
           0,
           "#636efa"
          ],
          [
           1,
           "#636efa"
          ]
         ],
         "geo": "geo",
         "hovertemplate": "<b>%{hovertext}</b><br><br>label_touristique=A<br>id_pays=%{location}<extra></extra>",
         "hovertext": [
          "Islande",
          "Autriche",
          "Danemark",
          "Norvège",
          "Rwanda",
          "Suisse",
          "Albanie",
          "Suède",
          "Nouvelle-Zélande",
          "Bhoutan",
          "Malawi",
          "Canada"
         ],
         "locations": [
          "ISL",
          "AUT",
          "DNK",
          "NOR",
          "RWA",
          "CHE",
          "ALB",
          "SWE",
          "NZL",
          "BTN",
          "MWI",
          "CAN"
         ],
         "name": "A",
         "showlegend": true,
         "showscale": false,
         "type": "choropleth",
         "z": [
          1,
          1,
          1,
          1,
          1,
          1,
          1,
          1,
          1,
          1,
          1,
          1
         ]
        },
        {
         "colorscale": [
          [
           0,
           "#EF553B"
          ],
          [
           1,
           "#EF553B"
          ]
         ],
         "geo": "geo",
         "hovertemplate": "<b>%{hovertext}</b><br><br>label_touristique=B<br>id_pays=%{location}<extra></extra>",
         "hovertext": [
          "Portugal",
          "Italie",
          "Allemagne",
          "Costa Rica",
          "France",
          "Croatie",
          "Finlande",
          "Sierra Leone",
          "Espagne",
          "Lettonie",
          "Lituanie",
          "Népal",
          "Royaume-Uni",
          "Singapour",
          "Slovénie",
          "Roumanie",
          "Géorgie",
          "Salvador",
          "Pays-Bas",
          "Estonie",
          "Congo (RDC)",
          "Japon",
          "Panama",
          "Belgique",
          "Ouganda",
          "Kirghizstan",
          "Sri Lanka",
          "Australie",
          "Tadjikistan",
          "Paraguay"
         ],
         "locations": [
          "PRT",
          "ITA",
          "DEU",
          "CRI",
          "FRA",
          "HRV",
          "FIN",
          "SLE",
          "ESP",
          "LVA",
          "LTU",
          "NPL",
          "GBR",
          "SGP",
          "SVN",
          "ROU",
          "GEO",
          "SLV",
          "NLD",
          "EST",
          "COD",
          "JPN",
          "PAN",
          "BEL",
          "UGA",
          "KGZ",
          "LKA",
          "AUS",
          "TJK",
          "PRY"
         ],
         "name": "B",
         "showlegend": true,
         "showscale": false,
         "type": "choropleth",
         "z": [
          1,
          1,
          1,
          1,
          1,
          1,
          1,
          1,
          1,
          1,
          1,
          1,
          1,
          1,
          1,
          1,
          1,
          1,
          1,
          1,
          1,
          1,
          1,
          1,
          1,
          1,
          1,
          1,
          1,
          1
         ]
        },
        {
         "colorscale": [
          [
           0,
           "#00cc96"
          ],
          [
           1,
           "#00cc96"
          ]
         ],
         "geo": "geo",
         "hovertemplate": "<b>%{hovertext}</b><br><br>label_touristique=C<br>id_pays=%{location}<extra></extra>",
         "hovertext": [
          "République tchèque",
          "Grèce",
          "United States",
          "Pérou",
          "Hongrie",
          "Namibie",
          "Monténégro",
          "Kenya",
          "Pologne",
          "Équateur",
          "Brésil",
          "Zambie",
          "Chili",
          "Mozambique",
          "Qatar",
          "Turquie",
          "Éthiopie",
          "Guatemala",
          "Arménie",
          "Bulgarie",
          "Laos",
          "Émirats arabes unis",
          "Maurice (Île)",
          "Ghana",
          "Colombie",
          "Corée du Sud",
          "Haïti",
          "Angola",
          "Malaisie",
          "Chypre",
          "Macédoine du Nord",
          "Mexique",
          "Zimbabwe",
          "Serbie",
          "Bosnie-Herzégovine",
          "Myanmar (Birmanie)",
          "Moldavie",
          "China",
          "Argentine",
          "Cambodge",
          "Bangladesh",
          "Nicaragua",
          "Viêt Nam",
          "Côte d´Ivoire",
          "Jamaïque",
          "Tanzanie",
          "Honduras",
          "République dominicaine",
          "Madagascar",
          "Togo",
          "Indonésie"
         ],
         "locations": [
          "CZE",
          "GRC",
          "USA",
          "PER",
          "HUN",
          "NAM",
          "MNE",
          "KEN",
          "POL",
          "ECU",
          "BRA",
          "ZMB",
          "CHL",
          "MOZ",
          "QAT",
          "TUR",
          "ETH",
          "GTM",
          "ARM",
          "BGR",
          "LAO",
          "ARE",
          "MUS",
          "GHA",
          "COL",
          "KOR",
          "HTI",
          "AGO",
          "MYS",
          "CYP",
          "MKD",
          "MEX",
          "ZWE",
          "SRB",
          "BIH",
          "MMR",
          "MDA",
          "CHN",
          "ARG",
          "KHM",
          "BGD",
          "NIC",
          "VNM",
          "CIV",
          "JAM",
          "TZA",
          "HND",
          "DOM",
          "MDG",
          "TGO",
          "IDN"
         ],
         "name": "C",
         "showlegend": true,
         "showscale": false,
         "type": "choropleth",
         "z": [
          1,
          1,
          1,
          1,
          1,
          1,
          1,
          1,
          1,
          1,
          1,
          1,
          1,
          1,
          1,
          1,
          1,
          1,
          1,
          1,
          1,
          1,
          1,
          1,
          1,
          1,
          1,
          1,
          1,
          1,
          1,
          1,
          1,
          1,
          1,
          1,
          1,
          1,
          1,
          1,
          1,
          1,
          1,
          1,
          1,
          1,
          1,
          1,
          1,
          1,
          1
         ]
        },
        {
         "colorscale": [
          [
           0,
           "#ab63fa"
          ],
          [
           1,
           "#ab63fa"
          ]
         ],
         "geo": "geo",
         "hovertemplate": "<b>%{hovertext}</b><br><br>label_touristique=D<br>id_pays=%{location}<extra></extra>",
         "hovertext": [
          "Maroc",
          "Bolivie",
          "Koweït",
          "Thaïlande",
          "Philippines",
          "Bahreïn",
          "Kazakhstan",
          "Cameroun",
          "République centrafricaine",
          "Israël",
          "Inde",
          "Russie",
          "Tunisie",
          "Jordanie",
          "Arabie saoudite",
          "Guyana",
          "Ukraine",
          "Biélorussie",
          "Oman",
          "Égypte",
          "Papouasie-Nouvelle-Guinée",
          "Mongolie",
          "Trinité-et-Tobago",
          "Gambie",
          "Azerbaïdjan",
          "Botswana",
          "Ouzbékistan",
          "Nigéria",
          "Djibouti",
          "Liban",
          "Afrique du Sud",
          "Algérie",
          "Iran",
          "Bénin",
          "Mali",
          "Burkina Faso"
         ],
         "locations": [
          "MAR",
          "BOL",
          "KWT",
          "THA",
          "PHL",
          "BHR",
          "KAZ",
          "CMR",
          "CAF",
          "ISR",
          "IND",
          "RUS",
          "TUN",
          "JOR",
          "SAU",
          "GUY",
          "UKR",
          "BLR",
          "OMN",
          "EGY",
          "PNG",
          "MNG",
          "TTO",
          "GMB",
          "AZE",
          "BWA",
          "UZB",
          "NGA",
          "DJI",
          "LBN",
          "ZAF",
          "DZA",
          "IRN",
          "BEN",
          "MLI",
          "BFA"
         ],
         "name": "D",
         "showlegend": true,
         "showscale": false,
         "type": "choropleth",
         "z": [
          1,
          1,
          1,
          1,
          1,
          1,
          1,
          1,
          1,
          1,
          1,
          1,
          1,
          1,
          1,
          1,
          1,
          1,
          1,
          1,
          1,
          1,
          1,
          1,
          1,
          1,
          1,
          1,
          1,
          1,
          1,
          1,
          1,
          1,
          1,
          1
         ]
        },
        {
         "colorscale": [
          [
           0,
           "#FFA15A"
          ],
          [
           1,
           "#FFA15A"
          ]
         ],
         "geo": "geo",
         "hovertemplate": "<b>%{hovertext}</b><br><br>label_touristique=E<br>id_pays=%{location}<extra></extra>",
         "hovertext": [
          "Niger"
         ],
         "locations": [
          "NER"
         ],
         "name": "E",
         "showlegend": true,
         "showscale": false,
         "type": "choropleth",
         "z": [
          1
         ]
        }
       ],
       "layout": {
        "geo": {
         "center": {},
         "countrycolor": "Black",
         "domain": {
          "x": [
           0,
           1
          ],
          "y": [
           0,
           1
          ]
         },
         "lakecolor": "Blue",
         "oceancolor": "LightBlue",
         "projection": {
          "type": "natural earth"
         },
         "showcountries": true,
         "showlakes": true,
         "showland": true,
         "showocean": true
        },
        "legend": {
         "title": {
          "text": "label_touristique"
         },
         "tracegroupgap": 0
        },
        "margin": {
         "t": 60
        },
        "template": {
         "data": {
          "bar": [
           {
            "error_x": {
             "color": "#2a3f5f"
            },
            "error_y": {
             "color": "#2a3f5f"
            },
            "marker": {
             "line": {
              "color": "#E5ECF6",
              "width": 0.5
             },
             "pattern": {
              "fillmode": "overlay",
              "size": 10,
              "solidity": 0.2
             }
            },
            "type": "bar"
           }
          ],
          "barpolar": [
           {
            "marker": {
             "line": {
              "color": "#E5ECF6",
              "width": 0.5
             },
             "pattern": {
              "fillmode": "overlay",
              "size": 10,
              "solidity": 0.2
             }
            },
            "type": "barpolar"
           }
          ],
          "carpet": [
           {
            "aaxis": {
             "endlinecolor": "#2a3f5f",
             "gridcolor": "white",
             "linecolor": "white",
             "minorgridcolor": "white",
             "startlinecolor": "#2a3f5f"
            },
            "baxis": {
             "endlinecolor": "#2a3f5f",
             "gridcolor": "white",
             "linecolor": "white",
             "minorgridcolor": "white",
             "startlinecolor": "#2a3f5f"
            },
            "type": "carpet"
           }
          ],
          "choropleth": [
           {
            "colorbar": {
             "outlinewidth": 0,
             "ticks": ""
            },
            "type": "choropleth"
           }
          ],
          "contour": [
           {
            "colorbar": {
             "outlinewidth": 0,
             "ticks": ""
            },
            "colorscale": [
             [
              0,
              "#0d0887"
             ],
             [
              0.1111111111111111,
              "#46039f"
             ],
             [
              0.2222222222222222,
              "#7201a8"
             ],
             [
              0.3333333333333333,
              "#9c179e"
             ],
             [
              0.4444444444444444,
              "#bd3786"
             ],
             [
              0.5555555555555556,
              "#d8576b"
             ],
             [
              0.6666666666666666,
              "#ed7953"
             ],
             [
              0.7777777777777778,
              "#fb9f3a"
             ],
             [
              0.8888888888888888,
              "#fdca26"
             ],
             [
              1,
              "#f0f921"
             ]
            ],
            "type": "contour"
           }
          ],
          "contourcarpet": [
           {
            "colorbar": {
             "outlinewidth": 0,
             "ticks": ""
            },
            "type": "contourcarpet"
           }
          ],
          "heatmap": [
           {
            "colorbar": {
             "outlinewidth": 0,
             "ticks": ""
            },
            "colorscale": [
             [
              0,
              "#0d0887"
             ],
             [
              0.1111111111111111,
              "#46039f"
             ],
             [
              0.2222222222222222,
              "#7201a8"
             ],
             [
              0.3333333333333333,
              "#9c179e"
             ],
             [
              0.4444444444444444,
              "#bd3786"
             ],
             [
              0.5555555555555556,
              "#d8576b"
             ],
             [
              0.6666666666666666,
              "#ed7953"
             ],
             [
              0.7777777777777778,
              "#fb9f3a"
             ],
             [
              0.8888888888888888,
              "#fdca26"
             ],
             [
              1,
              "#f0f921"
             ]
            ],
            "type": "heatmap"
           }
          ],
          "heatmapgl": [
           {
            "colorbar": {
             "outlinewidth": 0,
             "ticks": ""
            },
            "colorscale": [
             [
              0,
              "#0d0887"
             ],
             [
              0.1111111111111111,
              "#46039f"
             ],
             [
              0.2222222222222222,
              "#7201a8"
             ],
             [
              0.3333333333333333,
              "#9c179e"
             ],
             [
              0.4444444444444444,
              "#bd3786"
             ],
             [
              0.5555555555555556,
              "#d8576b"
             ],
             [
              0.6666666666666666,
              "#ed7953"
             ],
             [
              0.7777777777777778,
              "#fb9f3a"
             ],
             [
              0.8888888888888888,
              "#fdca26"
             ],
             [
              1,
              "#f0f921"
             ]
            ],
            "type": "heatmapgl"
           }
          ],
          "histogram": [
           {
            "marker": {
             "pattern": {
              "fillmode": "overlay",
              "size": 10,
              "solidity": 0.2
             }
            },
            "type": "histogram"
           }
          ],
          "histogram2d": [
           {
            "colorbar": {
             "outlinewidth": 0,
             "ticks": ""
            },
            "colorscale": [
             [
              0,
              "#0d0887"
             ],
             [
              0.1111111111111111,
              "#46039f"
             ],
             [
              0.2222222222222222,
              "#7201a8"
             ],
             [
              0.3333333333333333,
              "#9c179e"
             ],
             [
              0.4444444444444444,
              "#bd3786"
             ],
             [
              0.5555555555555556,
              "#d8576b"
             ],
             [
              0.6666666666666666,
              "#ed7953"
             ],
             [
              0.7777777777777778,
              "#fb9f3a"
             ],
             [
              0.8888888888888888,
              "#fdca26"
             ],
             [
              1,
              "#f0f921"
             ]
            ],
            "type": "histogram2d"
           }
          ],
          "histogram2dcontour": [
           {
            "colorbar": {
             "outlinewidth": 0,
             "ticks": ""
            },
            "colorscale": [
             [
              0,
              "#0d0887"
             ],
             [
              0.1111111111111111,
              "#46039f"
             ],
             [
              0.2222222222222222,
              "#7201a8"
             ],
             [
              0.3333333333333333,
              "#9c179e"
             ],
             [
              0.4444444444444444,
              "#bd3786"
             ],
             [
              0.5555555555555556,
              "#d8576b"
             ],
             [
              0.6666666666666666,
              "#ed7953"
             ],
             [
              0.7777777777777778,
              "#fb9f3a"
             ],
             [
              0.8888888888888888,
              "#fdca26"
             ],
             [
              1,
              "#f0f921"
             ]
            ],
            "type": "histogram2dcontour"
           }
          ],
          "mesh3d": [
           {
            "colorbar": {
             "outlinewidth": 0,
             "ticks": ""
            },
            "type": "mesh3d"
           }
          ],
          "parcoords": [
           {
            "line": {
             "colorbar": {
              "outlinewidth": 0,
              "ticks": ""
             }
            },
            "type": "parcoords"
           }
          ],
          "pie": [
           {
            "automargin": true,
            "type": "pie"
           }
          ],
          "scatter": [
           {
            "fillpattern": {
             "fillmode": "overlay",
             "size": 10,
             "solidity": 0.2
            },
            "type": "scatter"
           }
          ],
          "scatter3d": [
           {
            "line": {
             "colorbar": {
              "outlinewidth": 0,
              "ticks": ""
             }
            },
            "marker": {
             "colorbar": {
              "outlinewidth": 0,
              "ticks": ""
             }
            },
            "type": "scatter3d"
           }
          ],
          "scattercarpet": [
           {
            "marker": {
             "colorbar": {
              "outlinewidth": 0,
              "ticks": ""
             }
            },
            "type": "scattercarpet"
           }
          ],
          "scattergeo": [
           {
            "marker": {
             "colorbar": {
              "outlinewidth": 0,
              "ticks": ""
             }
            },
            "type": "scattergeo"
           }
          ],
          "scattergl": [
           {
            "marker": {
             "colorbar": {
              "outlinewidth": 0,
              "ticks": ""
             }
            },
            "type": "scattergl"
           }
          ],
          "scattermapbox": [
           {
            "marker": {
             "colorbar": {
              "outlinewidth": 0,
              "ticks": ""
             }
            },
            "type": "scattermapbox"
           }
          ],
          "scatterpolar": [
           {
            "marker": {
             "colorbar": {
              "outlinewidth": 0,
              "ticks": ""
             }
            },
            "type": "scatterpolar"
           }
          ],
          "scatterpolargl": [
           {
            "marker": {
             "colorbar": {
              "outlinewidth": 0,
              "ticks": ""
             }
            },
            "type": "scatterpolargl"
           }
          ],
          "scatterternary": [
           {
            "marker": {
             "colorbar": {
              "outlinewidth": 0,
              "ticks": ""
             }
            },
            "type": "scatterternary"
           }
          ],
          "surface": [
           {
            "colorbar": {
             "outlinewidth": 0,
             "ticks": ""
            },
            "colorscale": [
             [
              0,
              "#0d0887"
             ],
             [
              0.1111111111111111,
              "#46039f"
             ],
             [
              0.2222222222222222,
              "#7201a8"
             ],
             [
              0.3333333333333333,
              "#9c179e"
             ],
             [
              0.4444444444444444,
              "#bd3786"
             ],
             [
              0.5555555555555556,
              "#d8576b"
             ],
             [
              0.6666666666666666,
              "#ed7953"
             ],
             [
              0.7777777777777778,
              "#fb9f3a"
             ],
             [
              0.8888888888888888,
              "#fdca26"
             ],
             [
              1,
              "#f0f921"
             ]
            ],
            "type": "surface"
           }
          ],
          "table": [
           {
            "cells": {
             "fill": {
              "color": "#EBF0F8"
             },
             "line": {
              "color": "white"
             }
            },
            "header": {
             "fill": {
              "color": "#C8D4E3"
             },
             "line": {
              "color": "white"
             }
            },
            "type": "table"
           }
          ]
         },
         "layout": {
          "annotationdefaults": {
           "arrowcolor": "#2a3f5f",
           "arrowhead": 0,
           "arrowwidth": 1
          },
          "autotypenumbers": "strict",
          "coloraxis": {
           "colorbar": {
            "outlinewidth": 0,
            "ticks": ""
           }
          },
          "colorscale": {
           "diverging": [
            [
             0,
             "#8e0152"
            ],
            [
             0.1,
             "#c51b7d"
            ],
            [
             0.2,
             "#de77ae"
            ],
            [
             0.3,
             "#f1b6da"
            ],
            [
             0.4,
             "#fde0ef"
            ],
            [
             0.5,
             "#f7f7f7"
            ],
            [
             0.6,
             "#e6f5d0"
            ],
            [
             0.7,
             "#b8e186"
            ],
            [
             0.8,
             "#7fbc41"
            ],
            [
             0.9,
             "#4d9221"
            ],
            [
             1,
             "#276419"
            ]
           ],
           "sequential": [
            [
             0,
             "#0d0887"
            ],
            [
             0.1111111111111111,
             "#46039f"
            ],
            [
             0.2222222222222222,
             "#7201a8"
            ],
            [
             0.3333333333333333,
             "#9c179e"
            ],
            [
             0.4444444444444444,
             "#bd3786"
            ],
            [
             0.5555555555555556,
             "#d8576b"
            ],
            [
             0.6666666666666666,
             "#ed7953"
            ],
            [
             0.7777777777777778,
             "#fb9f3a"
            ],
            [
             0.8888888888888888,
             "#fdca26"
            ],
            [
             1,
             "#f0f921"
            ]
           ],
           "sequentialminus": [
            [
             0,
             "#0d0887"
            ],
            [
             0.1111111111111111,
             "#46039f"
            ],
            [
             0.2222222222222222,
             "#7201a8"
            ],
            [
             0.3333333333333333,
             "#9c179e"
            ],
            [
             0.4444444444444444,
             "#bd3786"
            ],
            [
             0.5555555555555556,
             "#d8576b"
            ],
            [
             0.6666666666666666,
             "#ed7953"
            ],
            [
             0.7777777777777778,
             "#fb9f3a"
            ],
            [
             0.8888888888888888,
             "#fdca26"
            ],
            [
             1,
             "#f0f921"
            ]
           ]
          },
          "colorway": [
           "#636efa",
           "#EF553B",
           "#00cc96",
           "#ab63fa",
           "#FFA15A",
           "#19d3f3",
           "#FF6692",
           "#B6E880",
           "#FF97FF",
           "#FECB52"
          ],
          "font": {
           "color": "#2a3f5f"
          },
          "geo": {
           "bgcolor": "white",
           "lakecolor": "white",
           "landcolor": "#E5ECF6",
           "showlakes": true,
           "showland": true,
           "subunitcolor": "white"
          },
          "hoverlabel": {
           "align": "left"
          },
          "hovermode": "closest",
          "mapbox": {
           "style": "light"
          },
          "paper_bgcolor": "white",
          "plot_bgcolor": "#E5ECF6",
          "polar": {
           "angularaxis": {
            "gridcolor": "white",
            "linecolor": "white",
            "ticks": ""
           },
           "bgcolor": "#E5ECF6",
           "radialaxis": {
            "gridcolor": "white",
            "linecolor": "white",
            "ticks": ""
           }
          },
          "scene": {
           "xaxis": {
            "backgroundcolor": "#E5ECF6",
            "gridcolor": "white",
            "gridwidth": 2,
            "linecolor": "white",
            "showbackground": true,
            "ticks": "",
            "zerolinecolor": "white"
           },
           "yaxis": {
            "backgroundcolor": "#E5ECF6",
            "gridcolor": "white",
            "gridwidth": 2,
            "linecolor": "white",
            "showbackground": true,
            "ticks": "",
            "zerolinecolor": "white"
           },
           "zaxis": {
            "backgroundcolor": "#E5ECF6",
            "gridcolor": "white",
            "gridwidth": 2,
            "linecolor": "white",
            "showbackground": true,
            "ticks": "",
            "zerolinecolor": "white"
           }
          },
          "shapedefaults": {
           "line": {
            "color": "#2a3f5f"
           }
          },
          "ternary": {
           "aaxis": {
            "gridcolor": "white",
            "linecolor": "white",
            "ticks": ""
           },
           "baxis": {
            "gridcolor": "white",
            "linecolor": "white",
            "ticks": ""
           },
           "bgcolor": "#E5ECF6",
           "caxis": {
            "gridcolor": "white",
            "linecolor": "white",
            "ticks": ""
           }
          },
          "title": {
           "x": 0.05
          },
          "xaxis": {
           "automargin": true,
           "gridcolor": "white",
           "linecolor": "white",
           "ticks": "",
           "title": {
            "standoff": 15
           },
           "zerolinecolor": "white",
           "zerolinewidth": 2
          },
          "yaxis": {
           "automargin": true,
           "gridcolor": "white",
           "linecolor": "white",
           "ticks": "",
           "title": {
            "standoff": 15
           },
           "zerolinecolor": "white",
           "zerolinewidth": 2
          }
         }
        }
       }
      }
     },
     "metadata": {},
     "output_type": "display_data"
    }
   ],
   "source": [
    " \n",
    "# Normalisation des indicateurs\n",
    "df['arriveesTotal'] = df['arriveesTotal'] / df['arriveesTotal'].max()\n",
    "df['gpi'] = df['gpi'].min() / df['gpi']\n",
    "df['pibParHab'] = df['pibParHab'] / df['pibParHab'].max()\n",
    "df['GES_hab'] = df['GES_hab'].min() / df['GES_hab']\n",
    "df['elecRenew'] = df['elecRenew'] / df['elecRenew'].max()\n",
    "df['idh'] = df['idh'] / df['idh'].max()\n",
    "\n",
    "# Les poids pour chaque variable\n",
    "poids = {\n",
    "    'arriveesTotal': 2,\n",
    "    'gpi': 4,\n",
    "    'pibParHab': 2,\n",
    "    'GES_hab': 6, \n",
    "    'elecRenew': 3,\n",
    "    'idh' : 4\n",
    "}\n",
    "\n",
    "# Calcul du score touristique \n",
    "df['score_touristique'] = df.apply(lambda row: sum(float(row[var]) * poids[var] for var in poids) / sum(poids.values()), axis=1)\n",
    "\n",
    "df.head()\n",
    "\n",
    "\n",
    "max_score = df['score_touristique'].max()\n",
    "min_score = df['score_touristique'].min()\n",
    "\n",
    "variance = df['score_touristique'].std()\n",
    "esperance = df['score_touristique'].mean()\n",
    "\n",
    "\n",
    "# création des intervalles pour chaque label du score\n",
    "bins = [min_score, 0.26, 0.34, 0.42, 0.5, max_score]\n",
    "\n",
    "print(\"max : \",max_score, \"min : \",min_score, \"variance: \",variance, \"esperance: \",esperance)\n",
    "\n",
    "\n",
    "labels = ['E', 'D', 'C', 'B', 'A']\n",
    "\n",
    "# Créer une nouvelle colonne score\n",
    "df['label_touristique'] = pd.cut(df['score_touristique'], bins=bins, labels=labels)\n",
    "\n",
    "df = df.sort_values(by='score_touristique', ascending=False)\n",
    "\n",
    "# suppression des valeurs NaN\n",
    "df.dropna(inplace=True)\n",
    "\n",
    "\n",
    "# Visualisation des scores\n",
    "\n",
    "# Création d'un histogramme interactif avec Plotly\n",
    "fig = px.histogram(df, x='score_touristique', nbins=5, color_discrete_sequence=['#636EFA'], opacity=0.7)\n",
    "\n",
    "# Ajout d'effets de relief\n",
    "fig.update_traces(marker_line_color='white', marker_line_width=1, opacity=0.7)\n",
    "\n",
    "# Ajout de lignes verticales pour séparer les catégories de scores\n",
    "for i in range(1,len(bins)):  \n",
    "    fig.add_vline(x=bins[i], line_dash='dash', line_color='gray', line_width=1)\n",
    "fig.add_vline(x=max(df['score_touristique']), line_dash='dash', line_color='gray', line_width=1)\n",
    "\n",
    "# Ajout de légendes pour les catégories de scores\n",
    "for i, label in enumerate(labels):\n",
    "    fig.add_annotation(x=bins[i] + (bins[i+1] - bins[i]) / 2, y=20, text=label, font=dict(color='black', size=12), showarrow=False)\n",
    "\n",
    "# Mise en forme du graphique\n",
    "fig.update_layout(\n",
    "    title='Distribution du Score Touristique',\n",
    "    xaxis_title='Score Touristique',\n",
    "    yaxis_title='Nombre d\\'observations',\n",
    "    bargap=0.05,\n",
    "    showlegend=False\n",
    ")\n",
    "\n",
    "# Affichage du graphique interactif\n",
    "fig.show()\n",
    "\n",
    "# Appliquer la fonction à la colonne 'id_pays'\n",
    "df['id_pays'] = df['id_pays'].apply(iso2_to_iso3)\n",
    "\n",
    "# Créer une carte du monde\n",
    "fig = px.choropleth(df, locations='id_pays', color='label_touristique', hover_name='pays', projection='natural earth')\n",
    "\n",
    "# Mettre à jour la carte\n",
    "fig.update_geos(showcountries=True, countrycolor=\"Black\", showland=True, showocean=True, oceancolor=\"LightBlue\", showlakes=True, lakecolor=\"Blue\")\n",
    "\n",
    "# Afficher la carte\n",
    "fig.show()\n",
    "\n",
    "\n",
    "# 99 score sur 196 enregistré "
   ]
  },
  {
   "cell_type": "markdown",
   "metadata": {},
   "source": [
    "## Score écologique"
   ]
  },
  {
   "cell_type": "code",
   "execution_count": 349,
   "metadata": {},
   "outputs": [
    {
     "name": "stdout",
     "output_type": "stream",
     "text": [
      "max :  0.8742857199999999 min :  0.0018257330541103425 variance:  0.17147176859325916 esperance:  0.2559393077856318\n"
     ]
    },
    {
     "data": {
      "application/vnd.plotly.v1+json": {
       "config": {
        "plotlyServerURL": "https://plot.ly"
       },
       "data": [
        {
         "alignmentgroup": "True",
         "bingroup": "x",
         "hovertemplate": "score_ecologique=%{x}<br>count=%{y}<extra></extra>",
         "legendgroup": "",
         "marker": {
          "color": "#F5F5DC",
          "line": {
           "color": "white",
           "width": 1
          },
          "opacity": 0.7,
          "pattern": {
           "shape": ""
          }
         },
         "name": "",
         "nbinsx": 5,
         "offsetgroup": "",
         "opacity": 0.7,
         "orientation": "v",
         "showlegend": false,
         "type": "histogram",
         "x": [
          0.8742857199999999,
          0.7773122838589297,
          0.7059495866047589,
          0.6848230710683356,
          0.682449776462106,
          0.6014990868979858,
          0.5914767540544762,
          0.5880960419877352,
          0.5796667260949665,
          0.5534463938281421,
          0.5355487502774413,
          0.5271564551098746,
          0.5048655405931936,
          0.5043111647539318,
          0.49746101612263266,
          0.49168588466450647,
          0.4890858204504802,
          0.4596800484296553,
          0.443407176973955,
          0.4423352805246166,
          0.4381433184371243,
          0.43592454366924305,
          0.4351604678843894,
          0.4326708860720272,
          0.4060130859117875,
          0.40218558666031423,
          0.3949833770426768,
          0.39107957866764653,
          0.3863546925372382,
          0.3831383560886093,
          0.37327199262753574,
          0.36921354709803217,
          0.3682551832871389,
          0.3662640926563774,
          0.3660539073276213,
          0.36569709502591274,
          0.3617355650084386,
          0.36133693222117136,
          0.35979868785099295,
          0.3589378440755592,
          0.35056907331974124,
          0.350556636460977,
          0.3409423747021415,
          0.3373433587279298,
          0.3319857423703704,
          0.32775738060337967,
          0.32311015140112936,
          0.32171534331677687,
          0.3176542036382931,
          0.31668518934495593,
          0.3153250063242309,
          0.3137421003068847,
          0.31358980584468743,
          0.31223886203073004,
          0.31173268070668964,
          0.311298524104264,
          0.3108737291654621,
          0.3097478967708125,
          0.30459535914628255,
          0.29349818340009887,
          0.28509898322643396,
          0.2834949194509574,
          0.26523580702959737,
          0.2565024952132478,
          0.2554219596649974,
          0.24266866320108585,
          0.24122297188088412,
          0.2404609075527074,
          0.23962724971879407,
          0.23734725129717268,
          0.23648854694263952,
          0.23646662324214027,
          0.23146662198880907,
          0.2291382644506137,
          0.2225125160360552,
          0.21641618168279758,
          0.21324918233787601,
          0.21318571739686143,
          0.21290263930043776,
          0.20897073759787546,
          0.20828612449643816,
          0.20569366592220825,
          0.20422045742307268,
          0.20283791698935608,
          0.20281384841124508,
          0.19864846610337392,
          0.1949239128374965,
          0.19171764052760457,
          0.19098625783442663,
          0.18847891140629414,
          0.18766814120542435,
          0.17818446964636903,
          0.17788889740651212,
          0.17710769687407243,
          0.17201611343127327,
          0.16726892674881486,
          0.16726892674881486,
          0.16401097336420573,
          0.1629386059037324,
          0.16231850586901522,
          0.16000861818879467,
          0.15954961617741178,
          0.15897881274213208,
          0.15638178466066427,
          0.1560465899271796,
          0.15519263057775956,
          0.15306076046659597,
          0.151847690049085,
          0.15020676680119274,
          0.15000796707981542,
          0.14751179519423377,
          0.1469594886006908,
          0.14244861203708176,
          0.13688287315683303,
          0.1364645369672728,
          0.13262623754707112,
          0.12993300836206037,
          0.12948055324911517,
          0.1227964614873502,
          0.11612072400230045,
          0.11543634151131792,
          0.11244860762662182,
          0.11170031606028012,
          0.10996383509255839,
          0.10155704917313475,
          0.09807207393422271,
          0.09499155628595074,
          0.09327862981168518,
          0.08502336182848252,
          0.0806201473828216,
          0.080413641238586,
          0.06980235212458545,
          0.0677638671285328,
          0.05884255386446793,
          0.05866072966756789,
          0.058487678354988734,
          0.05468983171085569,
          0.05382600299705326,
          0.05037862050709119,
          0.04721941331959127,
          0.046824617965915215,
          0.04297901715428726,
          0.027539437363458173,
          0.025306937356519392,
          0.02209297940103596,
          0.02073392457699978,
          0.010224757373336418,
          0.009904298499768661,
          0.008575790468986383,
          0.007809873023973404,
          0.0043956613274767405
         ],
         "xaxis": "x",
         "yaxis": "y"
        }
       ],
       "layout": {
        "annotations": [
         {
          "font": {
           "color": "white",
           "size": 12
          },
          "showarrow": false,
          "text": "E",
          "x": 0.08591286652705517,
          "y": 20
         },
         {
          "font": {
           "color": "white",
           "size": 12
          },
          "showarrow": false,
          "text": "D",
          "x": 0.255,
          "y": 20
         },
         {
          "font": {
           "color": "white",
           "size": 12
          },
          "showarrow": false,
          "text": "C",
          "x": 0.42500000000000004,
          "y": 20
         },
         {
          "font": {
           "color": "white",
           "size": 12
          },
          "showarrow": false,
          "text": "B",
          "x": 0.595,
          "y": 20
         },
         {
          "font": {
           "color": "white",
           "size": 12
          },
          "showarrow": false,
          "text": "A",
          "x": 0.77714286,
          "y": 20
         }
        ],
        "bargap": 0.05,
        "barmode": "relative",
        "legend": {
         "tracegroupgap": 0
        },
        "margin": {
         "t": 60
        },
        "shapes": [
         {
          "line": {
           "color": "gray",
           "dash": "dash",
           "width": 1
          },
          "type": "line",
          "x0": 0.17,
          "x1": 0.17,
          "xref": "x",
          "y0": 0,
          "y1": 1,
          "yref": "y domain"
         },
         {
          "line": {
           "color": "gray",
           "dash": "dash",
           "width": 1
          },
          "type": "line",
          "x0": 0.34,
          "x1": 0.34,
          "xref": "x",
          "y0": 0,
          "y1": 1,
          "yref": "y domain"
         },
         {
          "line": {
           "color": "gray",
           "dash": "dash",
           "width": 1
          },
          "type": "line",
          "x0": 0.51,
          "x1": 0.51,
          "xref": "x",
          "y0": 0,
          "y1": 1,
          "yref": "y domain"
         },
         {
          "line": {
           "color": "gray",
           "dash": "dash",
           "width": 1
          },
          "type": "line",
          "x0": 0.68,
          "x1": 0.68,
          "xref": "x",
          "y0": 0,
          "y1": 1,
          "yref": "y domain"
         },
         {
          "line": {
           "color": "gray",
           "dash": "dash",
           "width": 1
          },
          "type": "line",
          "x0": 0.8742857199999999,
          "x1": 0.8742857199999999,
          "xref": "x",
          "y0": 0,
          "y1": 1,
          "yref": "y domain"
         },
         {
          "line": {
           "color": "gray",
           "dash": "dash",
           "width": 1
          },
          "type": "line",
          "x0": 0.8742857199999999,
          "x1": 0.8742857199999999,
          "xref": "x",
          "y0": 0,
          "y1": 1,
          "yref": "y domain"
         }
        ],
        "showlegend": false,
        "template": {
         "data": {
          "bar": [
           {
            "error_x": {
             "color": "#f2f5fa"
            },
            "error_y": {
             "color": "#f2f5fa"
            },
            "marker": {
             "line": {
              "color": "rgb(17,17,17)",
              "width": 0.5
             },
             "pattern": {
              "fillmode": "overlay",
              "size": 10,
              "solidity": 0.2
             }
            },
            "type": "bar"
           }
          ],
          "barpolar": [
           {
            "marker": {
             "line": {
              "color": "rgb(17,17,17)",
              "width": 0.5
             },
             "pattern": {
              "fillmode": "overlay",
              "size": 10,
              "solidity": 0.2
             }
            },
            "type": "barpolar"
           }
          ],
          "carpet": [
           {
            "aaxis": {
             "endlinecolor": "#A2B1C6",
             "gridcolor": "#506784",
             "linecolor": "#506784",
             "minorgridcolor": "#506784",
             "startlinecolor": "#A2B1C6"
            },
            "baxis": {
             "endlinecolor": "#A2B1C6",
             "gridcolor": "#506784",
             "linecolor": "#506784",
             "minorgridcolor": "#506784",
             "startlinecolor": "#A2B1C6"
            },
            "type": "carpet"
           }
          ],
          "choropleth": [
           {
            "colorbar": {
             "outlinewidth": 0,
             "ticks": ""
            },
            "type": "choropleth"
           }
          ],
          "contour": [
           {
            "colorbar": {
             "outlinewidth": 0,
             "ticks": ""
            },
            "colorscale": [
             [
              0,
              "#0d0887"
             ],
             [
              0.1111111111111111,
              "#46039f"
             ],
             [
              0.2222222222222222,
              "#7201a8"
             ],
             [
              0.3333333333333333,
              "#9c179e"
             ],
             [
              0.4444444444444444,
              "#bd3786"
             ],
             [
              0.5555555555555556,
              "#d8576b"
             ],
             [
              0.6666666666666666,
              "#ed7953"
             ],
             [
              0.7777777777777778,
              "#fb9f3a"
             ],
             [
              0.8888888888888888,
              "#fdca26"
             ],
             [
              1,
              "#f0f921"
             ]
            ],
            "type": "contour"
           }
          ],
          "contourcarpet": [
           {
            "colorbar": {
             "outlinewidth": 0,
             "ticks": ""
            },
            "type": "contourcarpet"
           }
          ],
          "heatmap": [
           {
            "colorbar": {
             "outlinewidth": 0,
             "ticks": ""
            },
            "colorscale": [
             [
              0,
              "#0d0887"
             ],
             [
              0.1111111111111111,
              "#46039f"
             ],
             [
              0.2222222222222222,
              "#7201a8"
             ],
             [
              0.3333333333333333,
              "#9c179e"
             ],
             [
              0.4444444444444444,
              "#bd3786"
             ],
             [
              0.5555555555555556,
              "#d8576b"
             ],
             [
              0.6666666666666666,
              "#ed7953"
             ],
             [
              0.7777777777777778,
              "#fb9f3a"
             ],
             [
              0.8888888888888888,
              "#fdca26"
             ],
             [
              1,
              "#f0f921"
             ]
            ],
            "type": "heatmap"
           }
          ],
          "heatmapgl": [
           {
            "colorbar": {
             "outlinewidth": 0,
             "ticks": ""
            },
            "colorscale": [
             [
              0,
              "#0d0887"
             ],
             [
              0.1111111111111111,
              "#46039f"
             ],
             [
              0.2222222222222222,
              "#7201a8"
             ],
             [
              0.3333333333333333,
              "#9c179e"
             ],
             [
              0.4444444444444444,
              "#bd3786"
             ],
             [
              0.5555555555555556,
              "#d8576b"
             ],
             [
              0.6666666666666666,
              "#ed7953"
             ],
             [
              0.7777777777777778,
              "#fb9f3a"
             ],
             [
              0.8888888888888888,
              "#fdca26"
             ],
             [
              1,
              "#f0f921"
             ]
            ],
            "type": "heatmapgl"
           }
          ],
          "histogram": [
           {
            "marker": {
             "pattern": {
              "fillmode": "overlay",
              "size": 10,
              "solidity": 0.2
             }
            },
            "type": "histogram"
           }
          ],
          "histogram2d": [
           {
            "colorbar": {
             "outlinewidth": 0,
             "ticks": ""
            },
            "colorscale": [
             [
              0,
              "#0d0887"
             ],
             [
              0.1111111111111111,
              "#46039f"
             ],
             [
              0.2222222222222222,
              "#7201a8"
             ],
             [
              0.3333333333333333,
              "#9c179e"
             ],
             [
              0.4444444444444444,
              "#bd3786"
             ],
             [
              0.5555555555555556,
              "#d8576b"
             ],
             [
              0.6666666666666666,
              "#ed7953"
             ],
             [
              0.7777777777777778,
              "#fb9f3a"
             ],
             [
              0.8888888888888888,
              "#fdca26"
             ],
             [
              1,
              "#f0f921"
             ]
            ],
            "type": "histogram2d"
           }
          ],
          "histogram2dcontour": [
           {
            "colorbar": {
             "outlinewidth": 0,
             "ticks": ""
            },
            "colorscale": [
             [
              0,
              "#0d0887"
             ],
             [
              0.1111111111111111,
              "#46039f"
             ],
             [
              0.2222222222222222,
              "#7201a8"
             ],
             [
              0.3333333333333333,
              "#9c179e"
             ],
             [
              0.4444444444444444,
              "#bd3786"
             ],
             [
              0.5555555555555556,
              "#d8576b"
             ],
             [
              0.6666666666666666,
              "#ed7953"
             ],
             [
              0.7777777777777778,
              "#fb9f3a"
             ],
             [
              0.8888888888888888,
              "#fdca26"
             ],
             [
              1,
              "#f0f921"
             ]
            ],
            "type": "histogram2dcontour"
           }
          ],
          "mesh3d": [
           {
            "colorbar": {
             "outlinewidth": 0,
             "ticks": ""
            },
            "type": "mesh3d"
           }
          ],
          "parcoords": [
           {
            "line": {
             "colorbar": {
              "outlinewidth": 0,
              "ticks": ""
             }
            },
            "type": "parcoords"
           }
          ],
          "pie": [
           {
            "automargin": true,
            "type": "pie"
           }
          ],
          "scatter": [
           {
            "marker": {
             "line": {
              "color": "#283442"
             }
            },
            "type": "scatter"
           }
          ],
          "scatter3d": [
           {
            "line": {
             "colorbar": {
              "outlinewidth": 0,
              "ticks": ""
             }
            },
            "marker": {
             "colorbar": {
              "outlinewidth": 0,
              "ticks": ""
             }
            },
            "type": "scatter3d"
           }
          ],
          "scattercarpet": [
           {
            "marker": {
             "colorbar": {
              "outlinewidth": 0,
              "ticks": ""
             }
            },
            "type": "scattercarpet"
           }
          ],
          "scattergeo": [
           {
            "marker": {
             "colorbar": {
              "outlinewidth": 0,
              "ticks": ""
             }
            },
            "type": "scattergeo"
           }
          ],
          "scattergl": [
           {
            "marker": {
             "line": {
              "color": "#283442"
             }
            },
            "type": "scattergl"
           }
          ],
          "scattermapbox": [
           {
            "marker": {
             "colorbar": {
              "outlinewidth": 0,
              "ticks": ""
             }
            },
            "type": "scattermapbox"
           }
          ],
          "scatterpolar": [
           {
            "marker": {
             "colorbar": {
              "outlinewidth": 0,
              "ticks": ""
             }
            },
            "type": "scatterpolar"
           }
          ],
          "scatterpolargl": [
           {
            "marker": {
             "colorbar": {
              "outlinewidth": 0,
              "ticks": ""
             }
            },
            "type": "scatterpolargl"
           }
          ],
          "scatterternary": [
           {
            "marker": {
             "colorbar": {
              "outlinewidth": 0,
              "ticks": ""
             }
            },
            "type": "scatterternary"
           }
          ],
          "surface": [
           {
            "colorbar": {
             "outlinewidth": 0,
             "ticks": ""
            },
            "colorscale": [
             [
              0,
              "#0d0887"
             ],
             [
              0.1111111111111111,
              "#46039f"
             ],
             [
              0.2222222222222222,
              "#7201a8"
             ],
             [
              0.3333333333333333,
              "#9c179e"
             ],
             [
              0.4444444444444444,
              "#bd3786"
             ],
             [
              0.5555555555555556,
              "#d8576b"
             ],
             [
              0.6666666666666666,
              "#ed7953"
             ],
             [
              0.7777777777777778,
              "#fb9f3a"
             ],
             [
              0.8888888888888888,
              "#fdca26"
             ],
             [
              1,
              "#f0f921"
             ]
            ],
            "type": "surface"
           }
          ],
          "table": [
           {
            "cells": {
             "fill": {
              "color": "#506784"
             },
             "line": {
              "color": "rgb(17,17,17)"
             }
            },
            "header": {
             "fill": {
              "color": "#2a3f5f"
             },
             "line": {
              "color": "rgb(17,17,17)"
             }
            },
            "type": "table"
           }
          ]
         },
         "layout": {
          "annotationdefaults": {
           "arrowcolor": "#f2f5fa",
           "arrowhead": 0,
           "arrowwidth": 1
          },
          "autotypenumbers": "strict",
          "coloraxis": {
           "colorbar": {
            "outlinewidth": 0,
            "ticks": ""
           }
          },
          "colorscale": {
           "diverging": [
            [
             0,
             "#8e0152"
            ],
            [
             0.1,
             "#c51b7d"
            ],
            [
             0.2,
             "#de77ae"
            ],
            [
             0.3,
             "#f1b6da"
            ],
            [
             0.4,
             "#fde0ef"
            ],
            [
             0.5,
             "#f7f7f7"
            ],
            [
             0.6,
             "#e6f5d0"
            ],
            [
             0.7,
             "#b8e186"
            ],
            [
             0.8,
             "#7fbc41"
            ],
            [
             0.9,
             "#4d9221"
            ],
            [
             1,
             "#276419"
            ]
           ],
           "sequential": [
            [
             0,
             "#0d0887"
            ],
            [
             0.1111111111111111,
             "#46039f"
            ],
            [
             0.2222222222222222,
             "#7201a8"
            ],
            [
             0.3333333333333333,
             "#9c179e"
            ],
            [
             0.4444444444444444,
             "#bd3786"
            ],
            [
             0.5555555555555556,
             "#d8576b"
            ],
            [
             0.6666666666666666,
             "#ed7953"
            ],
            [
             0.7777777777777778,
             "#fb9f3a"
            ],
            [
             0.8888888888888888,
             "#fdca26"
            ],
            [
             1,
             "#f0f921"
            ]
           ],
           "sequentialminus": [
            [
             0,
             "#0d0887"
            ],
            [
             0.1111111111111111,
             "#46039f"
            ],
            [
             0.2222222222222222,
             "#7201a8"
            ],
            [
             0.3333333333333333,
             "#9c179e"
            ],
            [
             0.4444444444444444,
             "#bd3786"
            ],
            [
             0.5555555555555556,
             "#d8576b"
            ],
            [
             0.6666666666666666,
             "#ed7953"
            ],
            [
             0.7777777777777778,
             "#fb9f3a"
            ],
            [
             0.8888888888888888,
             "#fdca26"
            ],
            [
             1,
             "#f0f921"
            ]
           ]
          },
          "colorway": [
           "#636efa",
           "#EF553B",
           "#00cc96",
           "#ab63fa",
           "#FFA15A",
           "#19d3f3",
           "#FF6692",
           "#B6E880",
           "#FF97FF",
           "#FECB52"
          ],
          "font": {
           "color": "#f2f5fa"
          },
          "geo": {
           "bgcolor": "rgb(17,17,17)",
           "lakecolor": "rgb(17,17,17)",
           "landcolor": "rgb(17,17,17)",
           "showlakes": true,
           "showland": true,
           "subunitcolor": "#506784"
          },
          "hoverlabel": {
           "align": "left"
          },
          "hovermode": "closest",
          "mapbox": {
           "style": "dark"
          },
          "paper_bgcolor": "rgb(17,17,17)",
          "plot_bgcolor": "rgb(17,17,17)",
          "polar": {
           "angularaxis": {
            "gridcolor": "#506784",
            "linecolor": "#506784",
            "ticks": ""
           },
           "bgcolor": "rgb(17,17,17)",
           "radialaxis": {
            "gridcolor": "#506784",
            "linecolor": "#506784",
            "ticks": ""
           }
          },
          "scene": {
           "xaxis": {
            "backgroundcolor": "rgb(17,17,17)",
            "gridcolor": "#506784",
            "gridwidth": 2,
            "linecolor": "#506784",
            "showbackground": true,
            "ticks": "",
            "zerolinecolor": "#C8D4E3"
           },
           "yaxis": {
            "backgroundcolor": "rgb(17,17,17)",
            "gridcolor": "#506784",
            "gridwidth": 2,
            "linecolor": "#506784",
            "showbackground": true,
            "ticks": "",
            "zerolinecolor": "#C8D4E3"
           },
           "zaxis": {
            "backgroundcolor": "rgb(17,17,17)",
            "gridcolor": "#506784",
            "gridwidth": 2,
            "linecolor": "#506784",
            "showbackground": true,
            "ticks": "",
            "zerolinecolor": "#C8D4E3"
           }
          },
          "shapedefaults": {
           "line": {
            "color": "#f2f5fa"
           }
          },
          "sliderdefaults": {
           "bgcolor": "#C8D4E3",
           "bordercolor": "rgb(17,17,17)",
           "borderwidth": 1,
           "tickwidth": 0
          },
          "ternary": {
           "aaxis": {
            "gridcolor": "#506784",
            "linecolor": "#506784",
            "ticks": ""
           },
           "baxis": {
            "gridcolor": "#506784",
            "linecolor": "#506784",
            "ticks": ""
           },
           "bgcolor": "rgb(17,17,17)",
           "caxis": {
            "gridcolor": "#506784",
            "linecolor": "#506784",
            "ticks": ""
           }
          },
          "title": {
           "x": 0.05
          },
          "updatemenudefaults": {
           "bgcolor": "#506784",
           "borderwidth": 0
          },
          "xaxis": {
           "automargin": true,
           "gridcolor": "#283442",
           "linecolor": "#506784",
           "ticks": "",
           "title": {
            "standoff": 15
           },
           "zerolinecolor": "#283442",
           "zerolinewidth": 2
          },
          "yaxis": {
           "automargin": true,
           "gridcolor": "#283442",
           "linecolor": "#506784",
           "ticks": "",
           "title": {
            "standoff": 15
           },
           "zerolinecolor": "#283442",
           "zerolinewidth": 2
          }
         }
        },
        "title": {
         "text": "Distribution du Score Touristique"
        },
        "xaxis": {
         "anchor": "y",
         "domain": [
          0,
          1
         ],
         "title": {
          "text": "Score Touristique"
         }
        },
        "yaxis": {
         "anchor": "x",
         "domain": [
          0,
          1
         ],
         "title": {
          "text": "Nombre d'observations"
         }
        }
       }
      }
     },
     "metadata": {},
     "output_type": "display_data"
    },
    {
     "data": {
      "application/vnd.plotly.v1+json": {
       "config": {
        "plotlyServerURL": "https://plot.ly"
       },
       "data": [
        {
         "colorscale": [
          [
           0,
           "#636efa"
          ],
          [
           1,
           "#636efa"
          ]
         ],
         "geo": "geo",
         "hovertemplate": "<b>%{hovertext}</b><br><br>label_ecol=A<br>id_pays=%{location}<extra></extra>",
         "hovertext": [
          "Burundi",
          "Rwanda",
          "Malawi",
          "Congo (RDC)",
          "Sierra Leone"
         ],
         "locations": [
          "BDI",
          "RWA",
          "MWI",
          "COD",
          "SLE"
         ],
         "name": "A",
         "showlegend": true,
         "showscale": false,
         "type": "choropleth",
         "z": [
          1,
          1,
          1,
          1,
          1
         ]
        },
        {
         "colorscale": [
          [
           0,
           "#EF553B"
          ],
          [
           1,
           "#EF553B"
          ]
         ],
         "geo": "geo",
         "hovertemplate": "<b>%{hovertext}</b><br><br>label_ecol=B<br>id_pays=%{location}<extra></extra>",
         "hovertext": [
          "Lesotho",
          "Népal",
          "Ouganda",
          "Albanie",
          "Bhoutan",
          "Salvador",
          "Éthiopie"
         ],
         "locations": [
          "LSO",
          "NPL",
          "UGA",
          "ALB",
          "BTN",
          "SLV",
          "ETH"
         ],
         "name": "B",
         "showlegend": true,
         "showscale": false,
         "type": "choropleth",
         "z": [
          1,
          1,
          1,
          1,
          1,
          1,
          1
         ]
        },
        {
         "colorscale": [
          [
           0,
           "#00cc96"
          ],
          [
           1,
           "#00cc96"
          ]
         ],
         "geo": "geo",
         "hovertemplate": "<b>%{hovertext}</b><br><br>label_ecol=C<br>id_pays=%{location}<extra></extra>",
         "hovertext": [
          "Mozambique",
          "Tadjikistan",
          "Kenya",
          "Costa Rica",
          "Kirghizstan",
          "République centrafricaine",
          "Islande",
          "Zambie",
          "Géorgie",
          "Norvège",
          "Paraguay",
          "Namibie",
          "Guinée",
          "Brésil",
          "Zimbabwe",
          "Guatemala",
          "Équateur",
          "Danemark",
          "Sri Lanka",
          "Autriche",
          "Uruguay",
          "Angola",
          "Panama",
          "Pérou",
          "Croatie",
          "Lettonie",
          "Laos",
          "Suède",
          "Haïti",
          "Soudan",
          "Nouvelle-Zélande"
         ],
         "locations": [
          "MOZ",
          "TJK",
          "KEN",
          "CRI",
          "KGZ",
          "CAF",
          "ISL",
          "ZMB",
          "GEO",
          "NOR",
          "PRY",
          "NAM",
          "GIN",
          "BRA",
          "ZWE",
          "GTM",
          "ECU",
          "DNK",
          "LKA",
          "AUT",
          "URY",
          "AGO",
          "PAN",
          "PER",
          "HRV",
          "LVA",
          "LAO",
          "SWE",
          "HTI",
          "SDN",
          "NZL"
         ],
         "name": "C",
         "showlegend": true,
         "showscale": false,
         "type": "choropleth",
         "z": [
          1,
          1,
          1,
          1,
          1,
          1,
          1,
          1,
          1,
          1,
          1,
          1,
          1,
          1,
          1,
          1,
          1,
          1,
          1,
          1,
          1,
          1,
          1,
          1,
          1,
          1,
          1,
          1,
          1,
          1,
          1
         ]
        },
        {
         "colorscale": [
          [
           0,
           "#ab63fa"
          ],
          [
           1,
           "#ab63fa"
          ]
         ],
         "geo": "geo",
         "hovertemplate": "<b>%{hovertext}</b><br><br>label_ecol=D<br>id_pays=%{location}<extra></extra>",
         "hovertext": [
          "Colombie",
          "Myanmar (Birmanie)",
          "Côte d´Ivoire",
          "Ghana",
          "Nicaragua",
          "Cameroun",
          "Tanzanie",
          "Portugal",
          "Honduras",
          "Lituanie",
          "Cambodge",
          "Madagascar",
          "Venezuela",
          "Suisse",
          "Togo",
          "Yémen",
          "Canada",
          "Roumanie",
          "Monténégro",
          "Estonie",
          "Arménie",
          "Finlande",
          "Pakistan",
          "Italie",
          "Espagne",
          "Bangladesh",
          "Mali",
          "Royaume-Uni",
          "Nigéria",
          "Chili",
          "Allemagne",
          "Bolivie",
          "Turquie",
          "Gabon",
          "Philippines",
          "Grèce",
          "Viêt Nam",
          "Jamaïque",
          "Macédoine du Nord",
          "Papouasie-Nouvelle-Guinée",
          "Inde",
          "Bosnie-Herzégovine",
          "Maroc",
          "Irlande",
          "Cuba",
          "Slovénie",
          "Gambie",
          "Sénégal",
          "Moldavie",
          "Burkina Faso",
          "Djibouti",
          "Guinée-Bissau"
         ],
         "locations": [
          "COL",
          "MMR",
          "CIV",
          "GHA",
          "NIC",
          "CMR",
          "TZA",
          "PRT",
          "HND",
          "LTU",
          "KHM",
          "MDG",
          "VEN",
          "CHE",
          "TGO",
          "YEM",
          "CAN",
          "ROU",
          "MNE",
          "EST",
          "ARM",
          "FIN",
          "PAK",
          "ITA",
          "ESP",
          "BGD",
          "MLI",
          "GBR",
          "NGA",
          "CHL",
          "DEU",
          "BOL",
          "TUR",
          "GAB",
          "PHL",
          "GRC",
          "VNM",
          "JAM",
          "MKD",
          "PNG",
          "IND",
          "BIH",
          "MAR",
          "IRL",
          "CUB",
          "SVN",
          "GMB",
          "SEN",
          "MDA",
          "BFA",
          "DJI",
          "GNB"
         ],
         "name": "D",
         "showlegend": true,
         "showscale": false,
         "type": "choropleth",
         "z": [
          1,
          1,
          1,
          1,
          1,
          1,
          1,
          1,
          1,
          1,
          1,
          1,
          1,
          1,
          1,
          1,
          1,
          1,
          1,
          1,
          1,
          1,
          1,
          1,
          1,
          1,
          1,
          1,
          1,
          1,
          1,
          1,
          1,
          1,
          1,
          1,
          1,
          1,
          1,
          1,
          1,
          1,
          1,
          1,
          1,
          1,
          1,
          1,
          1,
          1,
          1,
          1
         ]
        },
        {
         "colorscale": [
          [
           0,
           "#FFA15A"
          ],
          [
           1,
           "#FFA15A"
          ]
         ],
         "geo": "geo",
         "hovertemplate": "<b>%{hovertext}</b><br><br>label_ecol=E<br>id_pays=%{location}<extra></extra>",
         "hovertext": [
          "Serbie",
          "Serbie",
          "Érythrée",
          "France",
          "Slovaquie",
          "Bulgarie",
          "Maurice (Île)",
          "Bénin",
          "Indonésie",
          "République dominicaine",
          "Congo (République)",
          "China",
          "Belgique",
          "Ukraine",
          "Pays-Bas",
          "Argentine",
          "Mexique",
          "Hongrie",
          "Syrie",
          "Japon",
          "Jordanie",
          "Niger",
          "Égypte",
          "Pologne",
          "Guyana",
          "Australie",
          "Thaïlande",
          "Russie",
          "Tunisie",
          "United States",
          "Malaisie",
          "République tchèque",
          "Chypre",
          "Ouzbékistan",
          "Liban",
          "Azerbaïdjan",
          "Kazakhstan",
          "Biélorussie",
          "Iran",
          "Afrique du Sud",
          "Mongolie",
          "Corée du Sud",
          "Irak",
          "Botswana",
          "Israël",
          "Algérie",
          "Tchad",
          "Singapour",
          "Libye",
          "Trinité-et-Tobago",
          "Émirats arabes unis",
          "Arabie saoudite",
          "Oman",
          "Turkménistan",
          "Koweït",
          "Bahreïn"
         ],
         "locations": [
          "SRB",
          "SRB",
          "ERI",
          "FRA",
          "SVK",
          "BGR",
          "MUS",
          "BEN",
          "IDN",
          "DOM",
          "COG",
          "CHN",
          "BEL",
          "UKR",
          "NLD",
          "ARG",
          "MEX",
          "HUN",
          "SYR",
          "JPN",
          "JOR",
          "NER",
          "EGY",
          "POL",
          "GUY",
          "AUS",
          "THA",
          "RUS",
          "TUN",
          "USA",
          "MYS",
          "CZE",
          "CYP",
          "UZB",
          "LBN",
          "AZE",
          "KAZ",
          "BLR",
          "IRN",
          "ZAF",
          "MNG",
          "KOR",
          "IRQ",
          "BWA",
          "ISR",
          "DZA",
          "TCD",
          "SGP",
          "LBY",
          "TTO",
          "ARE",
          "SAU",
          "OMN",
          "TKM",
          "KWT",
          "BHR"
         ],
         "name": "E",
         "showlegend": true,
         "showscale": false,
         "type": "choropleth",
         "z": [
          1,
          1,
          1,
          1,
          1,
          1,
          1,
          1,
          1,
          1,
          1,
          1,
          1,
          1,
          1,
          1,
          1,
          1,
          1,
          1,
          1,
          1,
          1,
          1,
          1,
          1,
          1,
          1,
          1,
          1,
          1,
          1,
          1,
          1,
          1,
          1,
          1,
          1,
          1,
          1,
          1,
          1,
          1,
          1,
          1,
          1,
          1,
          1,
          1,
          1,
          1,
          1,
          1,
          1,
          1,
          1
         ]
        }
       ],
       "layout": {
        "geo": {
         "center": {},
         "countrycolor": "Black",
         "domain": {
          "x": [
           0,
           1
          ],
          "y": [
           0,
           1
          ]
         },
         "lakecolor": "Blue",
         "oceancolor": "LightBlue",
         "projection": {
          "type": "natural earth"
         },
         "showcountries": true,
         "showlakes": true,
         "showland": true,
         "showocean": true
        },
        "legend": {
         "title": {
          "text": "label_ecol"
         },
         "tracegroupgap": 0
        },
        "margin": {
         "t": 60
        },
        "template": {
         "data": {
          "bar": [
           {
            "error_x": {
             "color": "#2a3f5f"
            },
            "error_y": {
             "color": "#2a3f5f"
            },
            "marker": {
             "line": {
              "color": "#E5ECF6",
              "width": 0.5
             },
             "pattern": {
              "fillmode": "overlay",
              "size": 10,
              "solidity": 0.2
             }
            },
            "type": "bar"
           }
          ],
          "barpolar": [
           {
            "marker": {
             "line": {
              "color": "#E5ECF6",
              "width": 0.5
             },
             "pattern": {
              "fillmode": "overlay",
              "size": 10,
              "solidity": 0.2
             }
            },
            "type": "barpolar"
           }
          ],
          "carpet": [
           {
            "aaxis": {
             "endlinecolor": "#2a3f5f",
             "gridcolor": "white",
             "linecolor": "white",
             "minorgridcolor": "white",
             "startlinecolor": "#2a3f5f"
            },
            "baxis": {
             "endlinecolor": "#2a3f5f",
             "gridcolor": "white",
             "linecolor": "white",
             "minorgridcolor": "white",
             "startlinecolor": "#2a3f5f"
            },
            "type": "carpet"
           }
          ],
          "choropleth": [
           {
            "colorbar": {
             "outlinewidth": 0,
             "ticks": ""
            },
            "type": "choropleth"
           }
          ],
          "contour": [
           {
            "colorbar": {
             "outlinewidth": 0,
             "ticks": ""
            },
            "colorscale": [
             [
              0,
              "#0d0887"
             ],
             [
              0.1111111111111111,
              "#46039f"
             ],
             [
              0.2222222222222222,
              "#7201a8"
             ],
             [
              0.3333333333333333,
              "#9c179e"
             ],
             [
              0.4444444444444444,
              "#bd3786"
             ],
             [
              0.5555555555555556,
              "#d8576b"
             ],
             [
              0.6666666666666666,
              "#ed7953"
             ],
             [
              0.7777777777777778,
              "#fb9f3a"
             ],
             [
              0.8888888888888888,
              "#fdca26"
             ],
             [
              1,
              "#f0f921"
             ]
            ],
            "type": "contour"
           }
          ],
          "contourcarpet": [
           {
            "colorbar": {
             "outlinewidth": 0,
             "ticks": ""
            },
            "type": "contourcarpet"
           }
          ],
          "heatmap": [
           {
            "colorbar": {
             "outlinewidth": 0,
             "ticks": ""
            },
            "colorscale": [
             [
              0,
              "#0d0887"
             ],
             [
              0.1111111111111111,
              "#46039f"
             ],
             [
              0.2222222222222222,
              "#7201a8"
             ],
             [
              0.3333333333333333,
              "#9c179e"
             ],
             [
              0.4444444444444444,
              "#bd3786"
             ],
             [
              0.5555555555555556,
              "#d8576b"
             ],
             [
              0.6666666666666666,
              "#ed7953"
             ],
             [
              0.7777777777777778,
              "#fb9f3a"
             ],
             [
              0.8888888888888888,
              "#fdca26"
             ],
             [
              1,
              "#f0f921"
             ]
            ],
            "type": "heatmap"
           }
          ],
          "heatmapgl": [
           {
            "colorbar": {
             "outlinewidth": 0,
             "ticks": ""
            },
            "colorscale": [
             [
              0,
              "#0d0887"
             ],
             [
              0.1111111111111111,
              "#46039f"
             ],
             [
              0.2222222222222222,
              "#7201a8"
             ],
             [
              0.3333333333333333,
              "#9c179e"
             ],
             [
              0.4444444444444444,
              "#bd3786"
             ],
             [
              0.5555555555555556,
              "#d8576b"
             ],
             [
              0.6666666666666666,
              "#ed7953"
             ],
             [
              0.7777777777777778,
              "#fb9f3a"
             ],
             [
              0.8888888888888888,
              "#fdca26"
             ],
             [
              1,
              "#f0f921"
             ]
            ],
            "type": "heatmapgl"
           }
          ],
          "histogram": [
           {
            "marker": {
             "pattern": {
              "fillmode": "overlay",
              "size": 10,
              "solidity": 0.2
             }
            },
            "type": "histogram"
           }
          ],
          "histogram2d": [
           {
            "colorbar": {
             "outlinewidth": 0,
             "ticks": ""
            },
            "colorscale": [
             [
              0,
              "#0d0887"
             ],
             [
              0.1111111111111111,
              "#46039f"
             ],
             [
              0.2222222222222222,
              "#7201a8"
             ],
             [
              0.3333333333333333,
              "#9c179e"
             ],
             [
              0.4444444444444444,
              "#bd3786"
             ],
             [
              0.5555555555555556,
              "#d8576b"
             ],
             [
              0.6666666666666666,
              "#ed7953"
             ],
             [
              0.7777777777777778,
              "#fb9f3a"
             ],
             [
              0.8888888888888888,
              "#fdca26"
             ],
             [
              1,
              "#f0f921"
             ]
            ],
            "type": "histogram2d"
           }
          ],
          "histogram2dcontour": [
           {
            "colorbar": {
             "outlinewidth": 0,
             "ticks": ""
            },
            "colorscale": [
             [
              0,
              "#0d0887"
             ],
             [
              0.1111111111111111,
              "#46039f"
             ],
             [
              0.2222222222222222,
              "#7201a8"
             ],
             [
              0.3333333333333333,
              "#9c179e"
             ],
             [
              0.4444444444444444,
              "#bd3786"
             ],
             [
              0.5555555555555556,
              "#d8576b"
             ],
             [
              0.6666666666666666,
              "#ed7953"
             ],
             [
              0.7777777777777778,
              "#fb9f3a"
             ],
             [
              0.8888888888888888,
              "#fdca26"
             ],
             [
              1,
              "#f0f921"
             ]
            ],
            "type": "histogram2dcontour"
           }
          ],
          "mesh3d": [
           {
            "colorbar": {
             "outlinewidth": 0,
             "ticks": ""
            },
            "type": "mesh3d"
           }
          ],
          "parcoords": [
           {
            "line": {
             "colorbar": {
              "outlinewidth": 0,
              "ticks": ""
             }
            },
            "type": "parcoords"
           }
          ],
          "pie": [
           {
            "automargin": true,
            "type": "pie"
           }
          ],
          "scatter": [
           {
            "fillpattern": {
             "fillmode": "overlay",
             "size": 10,
             "solidity": 0.2
            },
            "type": "scatter"
           }
          ],
          "scatter3d": [
           {
            "line": {
             "colorbar": {
              "outlinewidth": 0,
              "ticks": ""
             }
            },
            "marker": {
             "colorbar": {
              "outlinewidth": 0,
              "ticks": ""
             }
            },
            "type": "scatter3d"
           }
          ],
          "scattercarpet": [
           {
            "marker": {
             "colorbar": {
              "outlinewidth": 0,
              "ticks": ""
             }
            },
            "type": "scattercarpet"
           }
          ],
          "scattergeo": [
           {
            "marker": {
             "colorbar": {
              "outlinewidth": 0,
              "ticks": ""
             }
            },
            "type": "scattergeo"
           }
          ],
          "scattergl": [
           {
            "marker": {
             "colorbar": {
              "outlinewidth": 0,
              "ticks": ""
             }
            },
            "type": "scattergl"
           }
          ],
          "scattermapbox": [
           {
            "marker": {
             "colorbar": {
              "outlinewidth": 0,
              "ticks": ""
             }
            },
            "type": "scattermapbox"
           }
          ],
          "scatterpolar": [
           {
            "marker": {
             "colorbar": {
              "outlinewidth": 0,
              "ticks": ""
             }
            },
            "type": "scatterpolar"
           }
          ],
          "scatterpolargl": [
           {
            "marker": {
             "colorbar": {
              "outlinewidth": 0,
              "ticks": ""
             }
            },
            "type": "scatterpolargl"
           }
          ],
          "scatterternary": [
           {
            "marker": {
             "colorbar": {
              "outlinewidth": 0,
              "ticks": ""
             }
            },
            "type": "scatterternary"
           }
          ],
          "surface": [
           {
            "colorbar": {
             "outlinewidth": 0,
             "ticks": ""
            },
            "colorscale": [
             [
              0,
              "#0d0887"
             ],
             [
              0.1111111111111111,
              "#46039f"
             ],
             [
              0.2222222222222222,
              "#7201a8"
             ],
             [
              0.3333333333333333,
              "#9c179e"
             ],
             [
              0.4444444444444444,
              "#bd3786"
             ],
             [
              0.5555555555555556,
              "#d8576b"
             ],
             [
              0.6666666666666666,
              "#ed7953"
             ],
             [
              0.7777777777777778,
              "#fb9f3a"
             ],
             [
              0.8888888888888888,
              "#fdca26"
             ],
             [
              1,
              "#f0f921"
             ]
            ],
            "type": "surface"
           }
          ],
          "table": [
           {
            "cells": {
             "fill": {
              "color": "#EBF0F8"
             },
             "line": {
              "color": "white"
             }
            },
            "header": {
             "fill": {
              "color": "#C8D4E3"
             },
             "line": {
              "color": "white"
             }
            },
            "type": "table"
           }
          ]
         },
         "layout": {
          "annotationdefaults": {
           "arrowcolor": "#2a3f5f",
           "arrowhead": 0,
           "arrowwidth": 1
          },
          "autotypenumbers": "strict",
          "coloraxis": {
           "colorbar": {
            "outlinewidth": 0,
            "ticks": ""
           }
          },
          "colorscale": {
           "diverging": [
            [
             0,
             "#8e0152"
            ],
            [
             0.1,
             "#c51b7d"
            ],
            [
             0.2,
             "#de77ae"
            ],
            [
             0.3,
             "#f1b6da"
            ],
            [
             0.4,
             "#fde0ef"
            ],
            [
             0.5,
             "#f7f7f7"
            ],
            [
             0.6,
             "#e6f5d0"
            ],
            [
             0.7,
             "#b8e186"
            ],
            [
             0.8,
             "#7fbc41"
            ],
            [
             0.9,
             "#4d9221"
            ],
            [
             1,
             "#276419"
            ]
           ],
           "sequential": [
            [
             0,
             "#0d0887"
            ],
            [
             0.1111111111111111,
             "#46039f"
            ],
            [
             0.2222222222222222,
             "#7201a8"
            ],
            [
             0.3333333333333333,
             "#9c179e"
            ],
            [
             0.4444444444444444,
             "#bd3786"
            ],
            [
             0.5555555555555556,
             "#d8576b"
            ],
            [
             0.6666666666666666,
             "#ed7953"
            ],
            [
             0.7777777777777778,
             "#fb9f3a"
            ],
            [
             0.8888888888888888,
             "#fdca26"
            ],
            [
             1,
             "#f0f921"
            ]
           ],
           "sequentialminus": [
            [
             0,
             "#0d0887"
            ],
            [
             0.1111111111111111,
             "#46039f"
            ],
            [
             0.2222222222222222,
             "#7201a8"
            ],
            [
             0.3333333333333333,
             "#9c179e"
            ],
            [
             0.4444444444444444,
             "#bd3786"
            ],
            [
             0.5555555555555556,
             "#d8576b"
            ],
            [
             0.6666666666666666,
             "#ed7953"
            ],
            [
             0.7777777777777778,
             "#fb9f3a"
            ],
            [
             0.8888888888888888,
             "#fdca26"
            ],
            [
             1,
             "#f0f921"
            ]
           ]
          },
          "colorway": [
           "#636efa",
           "#EF553B",
           "#00cc96",
           "#ab63fa",
           "#FFA15A",
           "#19d3f3",
           "#FF6692",
           "#B6E880",
           "#FF97FF",
           "#FECB52"
          ],
          "font": {
           "color": "#2a3f5f"
          },
          "geo": {
           "bgcolor": "white",
           "lakecolor": "white",
           "landcolor": "#E5ECF6",
           "showlakes": true,
           "showland": true,
           "subunitcolor": "white"
          },
          "hoverlabel": {
           "align": "left"
          },
          "hovermode": "closest",
          "mapbox": {
           "style": "light"
          },
          "paper_bgcolor": "white",
          "plot_bgcolor": "#E5ECF6",
          "polar": {
           "angularaxis": {
            "gridcolor": "white",
            "linecolor": "white",
            "ticks": ""
           },
           "bgcolor": "#E5ECF6",
           "radialaxis": {
            "gridcolor": "white",
            "linecolor": "white",
            "ticks": ""
           }
          },
          "scene": {
           "xaxis": {
            "backgroundcolor": "#E5ECF6",
            "gridcolor": "white",
            "gridwidth": 2,
            "linecolor": "white",
            "showbackground": true,
            "ticks": "",
            "zerolinecolor": "white"
           },
           "yaxis": {
            "backgroundcolor": "#E5ECF6",
            "gridcolor": "white",
            "gridwidth": 2,
            "linecolor": "white",
            "showbackground": true,
            "ticks": "",
            "zerolinecolor": "white"
           },
           "zaxis": {
            "backgroundcolor": "#E5ECF6",
            "gridcolor": "white",
            "gridwidth": 2,
            "linecolor": "white",
            "showbackground": true,
            "ticks": "",
            "zerolinecolor": "white"
           }
          },
          "shapedefaults": {
           "line": {
            "color": "#2a3f5f"
           }
          },
          "ternary": {
           "aaxis": {
            "gridcolor": "white",
            "linecolor": "white",
            "ticks": ""
           },
           "baxis": {
            "gridcolor": "white",
            "linecolor": "white",
            "ticks": ""
           },
           "bgcolor": "#E5ECF6",
           "caxis": {
            "gridcolor": "white",
            "linecolor": "white",
            "ticks": ""
           }
          },
          "title": {
           "x": 0.05
          },
          "xaxis": {
           "automargin": true,
           "gridcolor": "white",
           "linecolor": "white",
           "ticks": "",
           "title": {
            "standoff": 15
           },
           "zerolinecolor": "white",
           "zerolinewidth": 2
          },
          "yaxis": {
           "automargin": true,
           "gridcolor": "white",
           "linecolor": "white",
           "ticks": "",
           "title": {
            "standoff": 15
           },
           "zerolinecolor": "white",
           "zerolinewidth": 2
          }
         }
        }
       }
      }
     },
     "metadata": {},
     "output_type": "display_data"
    }
   ],
   "source": [
    "\n",
    "# Normalisation des indicateurs par la méthode min-max\n",
    "df_ecol['GES_hab'] = df_ecol['GES_hab'].min() / df_ecol['GES_hab']\n",
    "df_ecol['elecRenew'] = df_ecol['elecRenew'] / df_ecol['elecRenew'].max()\n",
    "\n",
    "# Définir les poids pour chaque variable\n",
    "poids_ecol = {\n",
    "    'GES_hab': 3, \n",
    "    'elecRenew': 2\n",
    "}\n",
    "\n",
    "# Calculer le score écologique \n",
    "df_ecol['score_ecologique'] = df_ecol.apply(lambda row: sum(float(row[var]) * poids_ecol[var] for var in poids_ecol) / sum(poids_ecol.values()), axis=1)\n",
    "\n",
    "\n",
    "df_ecol.head()\n",
    "\n",
    "max_score = df_ecol['score_ecologique'].max()\n",
    "min_score = df_ecol['score_ecologique'].min()\n",
    "\n",
    "variance = df_ecol['score_ecologique'].std()\n",
    "esperance = df_ecol['score_ecologique'].mean()\n",
    "\n",
    "# Les limites des scores/labels\n",
    "bins = [min_score, 0.17, 0.34, 0.51, 0.68, max_score]\n",
    "\n",
    "print(\"max : \",max_score, \"min : \",min_score, \"variance: \",variance, \"esperance: \",esperance)\n",
    "\n",
    "# Les labels\n",
    "labels = ['E', 'D', 'C', 'B', 'A']\n",
    "\n",
    "# Créer une nouvelle colonne score\n",
    "df_ecol['label_ecol'] = pd.cut(df_ecol['score_ecologique'], bins=bins, labels=labels)\n",
    "\n",
    "df_ecol = df_ecol.sort_values(by='score_ecologique', ascending=False)\n",
    "\n",
    "df_ecol.head()\n",
    "\n",
    "df_ecol.dropna(inplace=True)\n",
    "\n",
    "\n",
    "# Création d'un histogramme interactif avec Plotly\n",
    "fig = px.histogram(df_ecol, x='score_ecologique', nbins=5, color_discrete_sequence=['#F5F5DC'], opacity=0.7)\n",
    "\n",
    "# Ajout d'effets de relief\n",
    "fig.update_traces(marker_line_color='white', marker_line_width=1, opacity=0.7)\n",
    "\n",
    "# Ajout de lignes verticales pour séparer les catégories de scores\n",
    "for i in range(1,len(bins)):  \n",
    "    fig.add_vline(x=bins[i], line_dash='dash', line_color='gray', line_width=1)\n",
    "fig.add_vline(x=max(df_ecol['score_ecologique']), line_dash='dash', line_color='gray', line_width=1)\n",
    "\n",
    "# Ajout de légendes pour les catégories de scores\n",
    "for i, label in enumerate(labels):\n",
    "    fig.add_annotation(x=bins[i] + (bins[i+1] - bins[i]) / 2, y=20, text=label, font=dict(color='white', size=12), showarrow=False)\n",
    "\n",
    "# Mise en forme du graphique\n",
    "fig.update_layout(\n",
    "    title='Distribution du Score Touristique',\n",
    "    xaxis_title='Score Touristique',\n",
    "    yaxis_title='Nombre d\\'observations',\n",
    "    bargap=0.05,\n",
    "    showlegend=False,\n",
    "    template='plotly_dark'\n",
    ")\n",
    "\n",
    "# Affichage du graphique interactif\n",
    "fig.show()\n",
    "\n",
    "\n",
    "# Appliquer la fonction à la colonne 'id_pays'\n",
    "df_ecol['id_pays'] = df_ecol['id_pays'].apply(iso2_to_iso3)\n",
    "\n",
    "df_ecol.head()\n",
    "\n",
    "# Créer une carte du monde\n",
    "fig = px.choropleth(df_ecol, locations='id_pays', color='label_ecol', hover_name='pays', projection='natural earth')\n",
    "\n",
    "# Mettre à jour la carte\n",
    "fig.update_geos(showcountries=True, countrycolor=\"Black\", showland=True, showocean=True, oceancolor=\"LightBlue\", showlakes=True, lakecolor=\"Blue\")\n",
    "\n",
    "# Afficher la carte\n",
    "fig.show()\n",
    "\n",
    "# Nombre de score enregistré : 151/196\n"
   ]
  },
  {
   "cell_type": "markdown",
   "metadata": {},
   "source": [
    "## Score économique "
   ]
  },
  {
   "cell_type": "code",
   "execution_count": 350,
   "metadata": {},
   "outputs": [
    {
     "name": "stdout",
     "output_type": "stream",
     "text": [
      "max :  0.7938203729074744 min :  0.13791954268099327 variance:  0.13938543448940582 esperance:  0.35361106904067097\n"
     ]
    },
    {
     "data": {
      "application/vnd.plotly.v1+json": {
       "config": {
        "plotlyServerURL": "https://plot.ly"
       },
       "data": [
        {
         "colorscale": [
          [
           0,
           "#636efa"
          ],
          [
           1,
           "#636efa"
          ]
         ],
         "geo": "geo",
         "hovertemplate": "<b>%{hovertext}</b><br><br>label_eco=A<br>id_pays=%{location}<extra></extra>",
         "hovertext": [
          "France"
         ],
         "locations": [
          "FRA"
         ],
         "name": "A",
         "showlegend": true,
         "showscale": false,
         "type": "choropleth",
         "z": [
          1
         ]
        },
        {
         "colorscale": [
          [
           0,
           "#EF553B"
          ],
          [
           1,
           "#EF553B"
          ]
         ],
         "geo": "geo",
         "hovertemplate": "<b>%{hovertext}</b><br><br>label_eco=B<br>id_pays=%{location}<extra></extra>",
         "hovertext": [
          "United States",
          "Singapour",
          "Italie",
          "Autriche",
          "Émirats arabes unis",
          "Qatar",
          "Allemagne",
          "Suisse",
          "Espagne",
          "Pays-Bas",
          "Danemark",
          "Norvège"
         ],
         "locations": [
          "USA",
          "SGP",
          "ITA",
          "AUT",
          "ARE",
          "QAT",
          "DEU",
          "CHE",
          "ESP",
          "NLD",
          "DNK",
          "NOR"
         ],
         "name": "B",
         "showlegend": true,
         "showscale": false,
         "type": "choropleth",
         "z": [
          1,
          1,
          1,
          1,
          1,
          1,
          1,
          1,
          1,
          1,
          1,
          1
         ]
        },
        {
         "colorscale": [
          [
           0,
           "#00cc96"
          ],
          [
           1,
           "#00cc96"
          ]
         ],
         "geo": "geo",
         "hovertemplate": "<b>%{hovertext}</b><br><br>label_eco=C<br>id_pays=%{location}<extra></extra>",
         "hovertext": [
          "Royaume-Uni",
          "Mexique",
          "Suède",
          "Islande",
          "Turquie",
          "Belgique",
          "Australie",
          "Canada",
          "Finlande",
          "Japon",
          "Corée du Sud",
          "Pologne",
          "Arabie saoudite",
          "Bahreïn",
          "Nouvelle-Zélande",
          "République tchèque",
          "Hongrie",
          "Grèce",
          "Israël",
          "Chypre",
          "Slovénie",
          "Portugal",
          "Lituanie",
          "Estonie",
          "Koweït",
          "Croatie",
          "Russie",
          "Roumanie"
         ],
         "locations": [
          "GBR",
          "MEX",
          "SWE",
          "ISL",
          "TUR",
          "BEL",
          "AUS",
          "CAN",
          "FIN",
          "JPN",
          "KOR",
          "POL",
          "SAU",
          "BHR",
          "NZL",
          "CZE",
          "HUN",
          "GRC",
          "ISR",
          "CYP",
          "SVN",
          "PRT",
          "LTU",
          "EST",
          "KWT",
          "HRV",
          "RUS",
          "ROU"
         ],
         "name": "C",
         "showlegend": true,
         "showscale": false,
         "type": "choropleth",
         "z": [
          1,
          1,
          1,
          1,
          1,
          1,
          1,
          1,
          1,
          1,
          1,
          1,
          1,
          1,
          1,
          1,
          1,
          1,
          1,
          1,
          1,
          1,
          1,
          1,
          1,
          1,
          1,
          1
         ]
        },
        {
         "colorscale": [
          [
           0,
           "#ab63fa"
          ],
          [
           1,
           "#ab63fa"
          ]
         ],
         "geo": "geo",
         "hovertemplate": "<b>%{hovertext}</b><br><br>label_eco=D<br>id_pays=%{location}<extra></extra>",
         "hovertext": [
          "Lettonie",
          "Oman",
          "Malaisie",
          "China",
          "Thaïlande",
          "Kazakhstan",
          "Chili",
          "Argentine",
          "Panama",
          "Bulgarie",
          "Trinité-et-Tobago",
          "Costa Rica",
          "Monténégro",
          "Biélorussie",
          "Maurice (Île)",
          "Serbie",
          "République dominicaine",
          "Albanie",
          "Géorgie",
          "Iran",
          "Ukraine",
          "Brésil",
          "Macédoine du Nord",
          "Égypte",
          "Bosnie-Herzégovine",
          "Sri Lanka",
          "Colombie",
          "Viêt Nam",
          "Indonésie",
          "Afrique du Sud",
          "Guyana",
          "Arménie",
          "Pérou",
          "Liban",
          "Moldavie",
          "Paraguay",
          "Tunisie",
          "Azerbaïdjan",
          "Mongolie",
          "Jordanie",
          "Algérie",
          "Équateur",
          "Botswana",
          "Inde",
          "Ouzbékistan",
          "Maroc",
          "Jamaïque",
          "Philippines"
         ],
         "locations": [
          "LVA",
          "OMN",
          "MYS",
          "CHN",
          "THA",
          "KAZ",
          "CHL",
          "ARG",
          "PAN",
          "BGR",
          "TTO",
          "CRI",
          "MNE",
          "BLR",
          "MUS",
          "SRB",
          "DOM",
          "ALB",
          "GEO",
          "IRN",
          "UKR",
          "BRA",
          "MKD",
          "EGY",
          "BIH",
          "LKA",
          "COL",
          "VNM",
          "IDN",
          "ZAF",
          "GUY",
          "ARM",
          "PER",
          "LBN",
          "MDA",
          "PRY",
          "TUN",
          "AZE",
          "MNG",
          "JOR",
          "DZA",
          "ECU",
          "BWA",
          "IND",
          "UZB",
          "MAR",
          "JAM",
          "PHL"
         ],
         "name": "D",
         "showlegend": true,
         "showscale": false,
         "type": "choropleth",
         "z": [
          1,
          1,
          1,
          1,
          1,
          1,
          1,
          1,
          1,
          1,
          1,
          1,
          1,
          1,
          1,
          1,
          1,
          1,
          1,
          1,
          1,
          1,
          1,
          1,
          1,
          1,
          1,
          1,
          1,
          1,
          1,
          1,
          1,
          1,
          1,
          1,
          1,
          1,
          1,
          1,
          1,
          1,
          1,
          1,
          1,
          1,
          1,
          1
         ]
        },
        {
         "colorscale": [
          [
           0,
           "#FFA15A"
          ],
          [
           1,
           "#FFA15A"
          ]
         ],
         "geo": "geo",
         "hovertemplate": "<b>%{hovertext}</b><br><br>label_eco=E<br>id_pays=%{location}<extra></extra>",
         "hovertext": [
          "Bhoutan",
          "Bolivie",
          "Salvador",
          "Kirghizstan",
          "Guatemala",
          "Namibie",
          "Bangladesh",
          "Laos",
          "Nicaragua",
          "Tadjikistan",
          "Myanmar (Birmanie)",
          "Honduras",
          "Cambodge",
          "Ghana",
          "Kenya",
          "Angola",
          "Népal",
          "Cameroun",
          "Zambie",
          "Papouasie-Nouvelle-Guinée",
          "Nigéria",
          "Côte d´Ivoire",
          "Haïti",
          "Zimbabwe",
          "Ouganda",
          "Tanzanie",
          "Togo",
          "Rwanda",
          "Djibouti",
          "Bénin",
          "Malawi",
          "Gambie",
          "Éthiopie",
          "Madagascar",
          "Mozambique",
          "Congo (RDC)",
          "Sierra Leone",
          "Burkina Faso",
          "Mali",
          "Tchad",
          "Niger"
         ],
         "locations": [
          "BTN",
          "BOL",
          "SLV",
          "KGZ",
          "GTM",
          "NAM",
          "BGD",
          "LAO",
          "NIC",
          "TJK",
          "MMR",
          "HND",
          "KHM",
          "GHA",
          "KEN",
          "AGO",
          "NPL",
          "CMR",
          "ZMB",
          "PNG",
          "NGA",
          "CIV",
          "HTI",
          "ZWE",
          "UGA",
          "TZA",
          "TGO",
          "RWA",
          "DJI",
          "BEN",
          "MWI",
          "GMB",
          "ETH",
          "MDG",
          "MOZ",
          "COD",
          "SLE",
          "BFA",
          "MLI",
          "TCD",
          "NER"
         ],
         "name": "E",
         "showlegend": true,
         "showscale": false,
         "type": "choropleth",
         "z": [
          1,
          1,
          1,
          1,
          1,
          1,
          1,
          1,
          1,
          1,
          1,
          1,
          1,
          1,
          1,
          1,
          1,
          1,
          1,
          1,
          1,
          1,
          1,
          1,
          1,
          1,
          1,
          1,
          1,
          1,
          1,
          1,
          1,
          1,
          1,
          1,
          1,
          1,
          1,
          1,
          1
         ]
        }
       ],
       "layout": {
        "geo": {
         "center": {},
         "countrycolor": "Black",
         "domain": {
          "x": [
           0,
           1
          ],
          "y": [
           0,
           1
          ]
         },
         "lakecolor": "Blue",
         "oceancolor": "LightBlue",
         "projection": {
          "type": "natural earth"
         },
         "showcountries": true,
         "showlakes": true,
         "showland": true,
         "showocean": true
        },
        "legend": {
         "title": {
          "text": "label_eco"
         },
         "tracegroupgap": 0
        },
        "margin": {
         "t": 60
        },
        "template": {
         "data": {
          "bar": [
           {
            "error_x": {
             "color": "#2a3f5f"
            },
            "error_y": {
             "color": "#2a3f5f"
            },
            "marker": {
             "line": {
              "color": "#E5ECF6",
              "width": 0.5
             },
             "pattern": {
              "fillmode": "overlay",
              "size": 10,
              "solidity": 0.2
             }
            },
            "type": "bar"
           }
          ],
          "barpolar": [
           {
            "marker": {
             "line": {
              "color": "#E5ECF6",
              "width": 0.5
             },
             "pattern": {
              "fillmode": "overlay",
              "size": 10,
              "solidity": 0.2
             }
            },
            "type": "barpolar"
           }
          ],
          "carpet": [
           {
            "aaxis": {
             "endlinecolor": "#2a3f5f",
             "gridcolor": "white",
             "linecolor": "white",
             "minorgridcolor": "white",
             "startlinecolor": "#2a3f5f"
            },
            "baxis": {
             "endlinecolor": "#2a3f5f",
             "gridcolor": "white",
             "linecolor": "white",
             "minorgridcolor": "white",
             "startlinecolor": "#2a3f5f"
            },
            "type": "carpet"
           }
          ],
          "choropleth": [
           {
            "colorbar": {
             "outlinewidth": 0,
             "ticks": ""
            },
            "type": "choropleth"
           }
          ],
          "contour": [
           {
            "colorbar": {
             "outlinewidth": 0,
             "ticks": ""
            },
            "colorscale": [
             [
              0,
              "#0d0887"
             ],
             [
              0.1111111111111111,
              "#46039f"
             ],
             [
              0.2222222222222222,
              "#7201a8"
             ],
             [
              0.3333333333333333,
              "#9c179e"
             ],
             [
              0.4444444444444444,
              "#bd3786"
             ],
             [
              0.5555555555555556,
              "#d8576b"
             ],
             [
              0.6666666666666666,
              "#ed7953"
             ],
             [
              0.7777777777777778,
              "#fb9f3a"
             ],
             [
              0.8888888888888888,
              "#fdca26"
             ],
             [
              1,
              "#f0f921"
             ]
            ],
            "type": "contour"
           }
          ],
          "contourcarpet": [
           {
            "colorbar": {
             "outlinewidth": 0,
             "ticks": ""
            },
            "type": "contourcarpet"
           }
          ],
          "heatmap": [
           {
            "colorbar": {
             "outlinewidth": 0,
             "ticks": ""
            },
            "colorscale": [
             [
              0,
              "#0d0887"
             ],
             [
              0.1111111111111111,
              "#46039f"
             ],
             [
              0.2222222222222222,
              "#7201a8"
             ],
             [
              0.3333333333333333,
              "#9c179e"
             ],
             [
              0.4444444444444444,
              "#bd3786"
             ],
             [
              0.5555555555555556,
              "#d8576b"
             ],
             [
              0.6666666666666666,
              "#ed7953"
             ],
             [
              0.7777777777777778,
              "#fb9f3a"
             ],
             [
              0.8888888888888888,
              "#fdca26"
             ],
             [
              1,
              "#f0f921"
             ]
            ],
            "type": "heatmap"
           }
          ],
          "heatmapgl": [
           {
            "colorbar": {
             "outlinewidth": 0,
             "ticks": ""
            },
            "colorscale": [
             [
              0,
              "#0d0887"
             ],
             [
              0.1111111111111111,
              "#46039f"
             ],
             [
              0.2222222222222222,
              "#7201a8"
             ],
             [
              0.3333333333333333,
              "#9c179e"
             ],
             [
              0.4444444444444444,
              "#bd3786"
             ],
             [
              0.5555555555555556,
              "#d8576b"
             ],
             [
              0.6666666666666666,
              "#ed7953"
             ],
             [
              0.7777777777777778,
              "#fb9f3a"
             ],
             [
              0.8888888888888888,
              "#fdca26"
             ],
             [
              1,
              "#f0f921"
             ]
            ],
            "type": "heatmapgl"
           }
          ],
          "histogram": [
           {
            "marker": {
             "pattern": {
              "fillmode": "overlay",
              "size": 10,
              "solidity": 0.2
             }
            },
            "type": "histogram"
           }
          ],
          "histogram2d": [
           {
            "colorbar": {
             "outlinewidth": 0,
             "ticks": ""
            },
            "colorscale": [
             [
              0,
              "#0d0887"
             ],
             [
              0.1111111111111111,
              "#46039f"
             ],
             [
              0.2222222222222222,
              "#7201a8"
             ],
             [
              0.3333333333333333,
              "#9c179e"
             ],
             [
              0.4444444444444444,
              "#bd3786"
             ],
             [
              0.5555555555555556,
              "#d8576b"
             ],
             [
              0.6666666666666666,
              "#ed7953"
             ],
             [
              0.7777777777777778,
              "#fb9f3a"
             ],
             [
              0.8888888888888888,
              "#fdca26"
             ],
             [
              1,
              "#f0f921"
             ]
            ],
            "type": "histogram2d"
           }
          ],
          "histogram2dcontour": [
           {
            "colorbar": {
             "outlinewidth": 0,
             "ticks": ""
            },
            "colorscale": [
             [
              0,
              "#0d0887"
             ],
             [
              0.1111111111111111,
              "#46039f"
             ],
             [
              0.2222222222222222,
              "#7201a8"
             ],
             [
              0.3333333333333333,
              "#9c179e"
             ],
             [
              0.4444444444444444,
              "#bd3786"
             ],
             [
              0.5555555555555556,
              "#d8576b"
             ],
             [
              0.6666666666666666,
              "#ed7953"
             ],
             [
              0.7777777777777778,
              "#fb9f3a"
             ],
             [
              0.8888888888888888,
              "#fdca26"
             ],
             [
              1,
              "#f0f921"
             ]
            ],
            "type": "histogram2dcontour"
           }
          ],
          "mesh3d": [
           {
            "colorbar": {
             "outlinewidth": 0,
             "ticks": ""
            },
            "type": "mesh3d"
           }
          ],
          "parcoords": [
           {
            "line": {
             "colorbar": {
              "outlinewidth": 0,
              "ticks": ""
             }
            },
            "type": "parcoords"
           }
          ],
          "pie": [
           {
            "automargin": true,
            "type": "pie"
           }
          ],
          "scatter": [
           {
            "fillpattern": {
             "fillmode": "overlay",
             "size": 10,
             "solidity": 0.2
            },
            "type": "scatter"
           }
          ],
          "scatter3d": [
           {
            "line": {
             "colorbar": {
              "outlinewidth": 0,
              "ticks": ""
             }
            },
            "marker": {
             "colorbar": {
              "outlinewidth": 0,
              "ticks": ""
             }
            },
            "type": "scatter3d"
           }
          ],
          "scattercarpet": [
           {
            "marker": {
             "colorbar": {
              "outlinewidth": 0,
              "ticks": ""
             }
            },
            "type": "scattercarpet"
           }
          ],
          "scattergeo": [
           {
            "marker": {
             "colorbar": {
              "outlinewidth": 0,
              "ticks": ""
             }
            },
            "type": "scattergeo"
           }
          ],
          "scattergl": [
           {
            "marker": {
             "colorbar": {
              "outlinewidth": 0,
              "ticks": ""
             }
            },
            "type": "scattergl"
           }
          ],
          "scattermapbox": [
           {
            "marker": {
             "colorbar": {
              "outlinewidth": 0,
              "ticks": ""
             }
            },
            "type": "scattermapbox"
           }
          ],
          "scatterpolar": [
           {
            "marker": {
             "colorbar": {
              "outlinewidth": 0,
              "ticks": ""
             }
            },
            "type": "scatterpolar"
           }
          ],
          "scatterpolargl": [
           {
            "marker": {
             "colorbar": {
              "outlinewidth": 0,
              "ticks": ""
             }
            },
            "type": "scatterpolargl"
           }
          ],
          "scatterternary": [
           {
            "marker": {
             "colorbar": {
              "outlinewidth": 0,
              "ticks": ""
             }
            },
            "type": "scatterternary"
           }
          ],
          "surface": [
           {
            "colorbar": {
             "outlinewidth": 0,
             "ticks": ""
            },
            "colorscale": [
             [
              0,
              "#0d0887"
             ],
             [
              0.1111111111111111,
              "#46039f"
             ],
             [
              0.2222222222222222,
              "#7201a8"
             ],
             [
              0.3333333333333333,
              "#9c179e"
             ],
             [
              0.4444444444444444,
              "#bd3786"
             ],
             [
              0.5555555555555556,
              "#d8576b"
             ],
             [
              0.6666666666666666,
              "#ed7953"
             ],
             [
              0.7777777777777778,
              "#fb9f3a"
             ],
             [
              0.8888888888888888,
              "#fdca26"
             ],
             [
              1,
              "#f0f921"
             ]
            ],
            "type": "surface"
           }
          ],
          "table": [
           {
            "cells": {
             "fill": {
              "color": "#EBF0F8"
             },
             "line": {
              "color": "white"
             }
            },
            "header": {
             "fill": {
              "color": "#C8D4E3"
             },
             "line": {
              "color": "white"
             }
            },
            "type": "table"
           }
          ]
         },
         "layout": {
          "annotationdefaults": {
           "arrowcolor": "#2a3f5f",
           "arrowhead": 0,
           "arrowwidth": 1
          },
          "autotypenumbers": "strict",
          "coloraxis": {
           "colorbar": {
            "outlinewidth": 0,
            "ticks": ""
           }
          },
          "colorscale": {
           "diverging": [
            [
             0,
             "#8e0152"
            ],
            [
             0.1,
             "#c51b7d"
            ],
            [
             0.2,
             "#de77ae"
            ],
            [
             0.3,
             "#f1b6da"
            ],
            [
             0.4,
             "#fde0ef"
            ],
            [
             0.5,
             "#f7f7f7"
            ],
            [
             0.6,
             "#e6f5d0"
            ],
            [
             0.7,
             "#b8e186"
            ],
            [
             0.8,
             "#7fbc41"
            ],
            [
             0.9,
             "#4d9221"
            ],
            [
             1,
             "#276419"
            ]
           ],
           "sequential": [
            [
             0,
             "#0d0887"
            ],
            [
             0.1111111111111111,
             "#46039f"
            ],
            [
             0.2222222222222222,
             "#7201a8"
            ],
            [
             0.3333333333333333,
             "#9c179e"
            ],
            [
             0.4444444444444444,
             "#bd3786"
            ],
            [
             0.5555555555555556,
             "#d8576b"
            ],
            [
             0.6666666666666666,
             "#ed7953"
            ],
            [
             0.7777777777777778,
             "#fb9f3a"
            ],
            [
             0.8888888888888888,
             "#fdca26"
            ],
            [
             1,
             "#f0f921"
            ]
           ],
           "sequentialminus": [
            [
             0,
             "#0d0887"
            ],
            [
             0.1111111111111111,
             "#46039f"
            ],
            [
             0.2222222222222222,
             "#7201a8"
            ],
            [
             0.3333333333333333,
             "#9c179e"
            ],
            [
             0.4444444444444444,
             "#bd3786"
            ],
            [
             0.5555555555555556,
             "#d8576b"
            ],
            [
             0.6666666666666666,
             "#ed7953"
            ],
            [
             0.7777777777777778,
             "#fb9f3a"
            ],
            [
             0.8888888888888888,
             "#fdca26"
            ],
            [
             1,
             "#f0f921"
            ]
           ]
          },
          "colorway": [
           "#636efa",
           "#EF553B",
           "#00cc96",
           "#ab63fa",
           "#FFA15A",
           "#19d3f3",
           "#FF6692",
           "#B6E880",
           "#FF97FF",
           "#FECB52"
          ],
          "font": {
           "color": "#2a3f5f"
          },
          "geo": {
           "bgcolor": "white",
           "lakecolor": "white",
           "landcolor": "#E5ECF6",
           "showlakes": true,
           "showland": true,
           "subunitcolor": "white"
          },
          "hoverlabel": {
           "align": "left"
          },
          "hovermode": "closest",
          "mapbox": {
           "style": "light"
          },
          "paper_bgcolor": "white",
          "plot_bgcolor": "#E5ECF6",
          "polar": {
           "angularaxis": {
            "gridcolor": "white",
            "linecolor": "white",
            "ticks": ""
           },
           "bgcolor": "#E5ECF6",
           "radialaxis": {
            "gridcolor": "white",
            "linecolor": "white",
            "ticks": ""
           }
          },
          "scene": {
           "xaxis": {
            "backgroundcolor": "#E5ECF6",
            "gridcolor": "white",
            "gridwidth": 2,
            "linecolor": "white",
            "showbackground": true,
            "ticks": "",
            "zerolinecolor": "white"
           },
           "yaxis": {
            "backgroundcolor": "#E5ECF6",
            "gridcolor": "white",
            "gridwidth": 2,
            "linecolor": "white",
            "showbackground": true,
            "ticks": "",
            "zerolinecolor": "white"
           },
           "zaxis": {
            "backgroundcolor": "#E5ECF6",
            "gridcolor": "white",
            "gridwidth": 2,
            "linecolor": "white",
            "showbackground": true,
            "ticks": "",
            "zerolinecolor": "white"
           }
          },
          "shapedefaults": {
           "line": {
            "color": "#2a3f5f"
           }
          },
          "ternary": {
           "aaxis": {
            "gridcolor": "white",
            "linecolor": "white",
            "ticks": ""
           },
           "baxis": {
            "gridcolor": "white",
            "linecolor": "white",
            "ticks": ""
           },
           "bgcolor": "#E5ECF6",
           "caxis": {
            "gridcolor": "white",
            "linecolor": "white",
            "ticks": ""
           }
          },
          "title": {
           "x": 0.05
          },
          "xaxis": {
           "automargin": true,
           "gridcolor": "white",
           "linecolor": "white",
           "ticks": "",
           "title": {
            "standoff": 15
           },
           "zerolinecolor": "white",
           "zerolinewidth": 2
          },
          "yaxis": {
           "automargin": true,
           "gridcolor": "white",
           "linecolor": "white",
           "ticks": "",
           "title": {
            "standoff": 15
           },
           "zerolinecolor": "white",
           "zerolinewidth": 2
          }
         }
        }
       }
      }
     },
     "metadata": {},
     "output_type": "display_data"
    }
   ],
   "source": [
    "# Normalisation des indicateurs par la méthode min-max\n",
    "df_eco['arriveesTotal'] = df_eco['arriveesTotal'] / df_eco['arriveesTotal'].max()\n",
    "df_eco['pibParHab'] = df_eco['pibParHab'] / df_eco['pibParHab'].max()\n",
    "df_eco['idh'] = df_eco['idh'] / df_eco['idh'].max()\n",
    "\n",
    "\n",
    "# Les poids\n",
    "poids_eco = {\n",
    "    'arriveesTotal': 2,\n",
    "    'pibParHab': 2,\n",
    "    'idh' : 2\n",
    "}\n",
    "\n",
    "# Calcul du score économique \n",
    "df_eco['score_economique'] = df_eco.apply(lambda row: sum(float(row[var]) * poids_eco[var] for var in poids_eco) / sum(poids_eco.values()), axis=1)\n",
    "df_eco.head()\n",
    "\n",
    "max_score = df_eco['score_economique'].max()\n",
    "min_score = df_eco['score_economique'].min()\n",
    "\n",
    "variance = df_eco['score_economique'].std()\n",
    "esperance = df_eco['score_economique'].mean()\n",
    "\n",
    "# Les limites des scores/labels\n",
    "bins = [min_score, 0.28, 0.42, 0.56, 0.7, max_score]\n",
    "\n",
    "print(\"max : \",max_score, \"min : \",min_score, \"variance: \",variance, \"esperance: \",esperance)\n",
    "\n",
    "\n",
    "# Labels\n",
    "labels = ['E', 'D', 'C', 'B', 'A']\n",
    "\n",
    "# création d'une nouvelle colonne pour les labels\n",
    "df_eco['label_eco'] = pd.cut(df_eco['score_economique'], bins=bins, labels=labels)\n",
    "\n",
    "df_eco = df_eco.sort_values(by='score_economique', ascending=False)\n",
    "\n",
    "df_eco.dropna(inplace=True)\n",
    "\n",
    "# application de la fonction faite précédement \n",
    "df_eco['id_pays'] = df_eco['id_pays'].apply(iso2_to_iso3)\n",
    "\n",
    "df_eco.head()\n",
    "\n",
    "# Visualisation par une carte\n",
    "fig = px.choropleth(df_eco, locations='id_pays', color='label_eco', hover_name='pays', projection='natural earth')\n",
    "fig.update_geos(showcountries=True, countrycolor=\"Black\", showland=True, showocean=True, oceancolor=\"LightBlue\", showlakes=True, lakecolor=\"Blue\")\n",
    "fig.show()\n",
    "\n",
    "# Nombre de score enregistré : 130 / 196 "
   ]
  },
  {
   "cell_type": "markdown",
   "metadata": {},
   "source": [
    "## Score découverte "
   ]
  },
  {
   "cell_type": "code",
   "execution_count": 351,
   "metadata": {},
   "outputs": [
    {
     "name": "stdout",
     "output_type": "stream",
     "text": [
      "max :  0.7964632790021787 min :  0.17432017511517411 variance:  0.08742056217183063 esperance:  0.36583160610316195\n",
      "              pays id_pays  annee  arriveesTotal   GES_hab       idh  \\\n",
      "47          France      FR   2020       1.000000  0.113158  0.934579   \n",
      "69          Italie      IT   2020       0.604309  0.121773  0.926272   \n",
      "43         Espagne      ES   2020       0.454203  0.108696  0.928349   \n",
      "144  United States      US   2020       0.460896  0.033824  0.958463   \n",
      "89         Mexique      MX   2020       0.595528  0.103231  0.786085   \n",
      "\n",
      "     score_decouverte label_decouverte  \n",
      "47           0.796463                A  \n",
      "69           0.636587                A  \n",
      "43           0.574760                A  \n",
      "144          0.574509                A  \n",
      "89           0.573292                A  \n"
     ]
    },
    {
     "data": {
      "application/vnd.plotly.v1+json": {
       "config": {
        "plotlyServerURL": "https://plot.ly"
       },
       "data": [
        {
         "colorscale": [
          [
           0,
           "#636efa"
          ],
          [
           1,
           "#636efa"
          ]
         ],
         "geo": "geo",
         "hovertemplate": "<b>%{hovertext}</b><br><br>label_decouverte=A<br>id_pays=%{location}<extra></extra>",
         "hovertext": [
          "France",
          "Italie",
          "Espagne",
          "United States",
          "Mexique",
          "Autriche"
         ],
         "locations": [
          "FRA",
          "ITA",
          "ESP",
          "USA",
          "MEX",
          "AUT"
         ],
         "name": "A",
         "showlegend": true,
         "showscale": false,
         "type": "choropleth",
         "z": [
          1,
          1,
          1,
          1,
          1,
          1
         ]
        },
        {
         "colorscale": [
          [
           0,
           "#EF553B"
          ],
          [
           1,
           "#EF553B"
          ]
         ],
         "geo": "geo",
         "hovertemplate": "<b>%{hovertext}</b><br><br>label_decouverte=B<br>id_pays=%{location}<extra></extra>",
         "hovertext": [
          "Allemagne",
          "Turquie",
          "Royaume-Uni",
          "Pays-Bas",
          "Danemark",
          "Grèce",
          "Pologne",
          "Émirats arabes unis",
          "Suisse",
          "Hongrie"
         ],
         "locations": [
          "DEU",
          "TUR",
          "GBR",
          "NLD",
          "DNK",
          "GRC",
          "POL",
          "ARE",
          "CHE",
          "HUN"
         ],
         "name": "B",
         "showlegend": true,
         "showscale": false,
         "type": "choropleth",
         "z": [
          1,
          1,
          1,
          1,
          1,
          1,
          1,
          1,
          1,
          1
         ]
        },
        {
         "colorscale": [
          [
           0,
           "#00cc96"
          ],
          [
           1,
           "#00cc96"
          ]
         ],
         "geo": "geo",
         "hovertemplate": "<b>%{hovertext}</b><br><br>label_decouverte=C<br>id_pays=%{location}<extra></extra>",
         "hovertext": [
          "Croatie",
          "Suède",
          "Japon",
          "Roumanie",
          "Norvège",
          "Belgique",
          "Portugal",
          "République tchèque",
          "Canada",
          "Singapour",
          "Corée du Sud",
          "Thaïlande",
          "Islande",
          "Australie",
          "Finlande",
          "China",
          "Russie",
          "Albanie",
          "Slovénie",
          "Lettonie",
          "Nouvelle-Zélande",
          "Lituanie",
          "Estonie",
          "Sri Lanka",
          "Arabie saoudite",
          "Rwanda",
          "Chypre",
          "Israël",
          "Géorgie",
          "Malaisie",
          "Argentine",
          "Chili",
          "Ukraine",
          "Costa Rica",
          "Bahreïn",
          "Arménie",
          "Bulgarie",
          "Monténégro",
          "Moldavie",
          "République dominicaine",
          "Cuba",
          "Inde",
          "Égypte",
          "Qatar",
          "Kazakhstan",
          "Panama",
          "Indonésie",
          "Pérou"
         ],
         "locations": [
          "HRV",
          "SWE",
          "JPN",
          "ROU",
          "NOR",
          "BEL",
          "PRT",
          "CZE",
          "CAN",
          "SGP",
          "KOR",
          "THA",
          "ISL",
          "AUS",
          "FIN",
          "CHN",
          "RUS",
          "ALB",
          "SVN",
          "LVA",
          "NZL",
          "LTU",
          "EST",
          "LKA",
          "SAU",
          "RWA",
          "CYP",
          "ISR",
          "GEO",
          "MYS",
          "ARG",
          "CHL",
          "UKR",
          "CRI",
          "BHR",
          "ARM",
          "BGR",
          "MNE",
          "MDA",
          "DOM",
          "CUB",
          "IND",
          "EGY",
          "QAT",
          "KAZ",
          "PAN",
          "IDN",
          "PER"
         ],
         "name": "C",
         "showlegend": true,
         "showscale": false,
         "type": "choropleth",
         "z": [
          1,
          1,
          1,
          1,
          1,
          1,
          1,
          1,
          1,
          1,
          1,
          1,
          1,
          1,
          1,
          1,
          1,
          1,
          1,
          1,
          1,
          1,
          1,
          1,
          1,
          1,
          1,
          1,
          1,
          1,
          1,
          1,
          1,
          1,
          1,
          1,
          1,
          1,
          1,
          1,
          1,
          1,
          1,
          1,
          1,
          1,
          1,
          1
         ]
        },
        {
         "colorscale": [
          [
           0,
           "#ab63fa"
          ],
          [
           1,
           "#ab63fa"
          ]
         ],
         "geo": "geo",
         "hovertemplate": "<b>%{hovertext}</b><br><br>label_decouverte=D<br>id_pays=%{location}<extra></extra>",
         "hovertext": [
          "Viêt Nam",
          "Serbie",
          "Maurice (Île)",
          "Brésil",
          "Biélorussie",
          "Tunisie",
          "Salvador",
          "Bangladesh",
          "Maroc",
          "Colombie",
          "Macédoine du Nord",
          "Oman",
          "Jamaïque",
          "Bosnie-Herzégovine",
          "Iran",
          "Philippines",
          "Trinité-et-Tobago",
          "Koweït",
          "Afrique du Sud",
          "Haïti",
          "Jordanie",
          "Malawi",
          "Équateur",
          "Bhoutan",
          "Liban",
          "Kirghizstan",
          "Ouzbékistan",
          "Azerbaïdjan",
          "Guyana",
          "Algérie",
          "Paraguay",
          "Tadjikistan",
          "Mongolie",
          "Népal",
          "Ghana",
          "Myanmar (Birmanie)",
          "Botswana",
          "Guatemala",
          "Bolivie",
          "Nicaragua",
          "Togo",
          "Ouganda",
          "Kenya",
          "Honduras",
          "Congo (RDC)",
          "Sierra Leone",
          "Zimbabwe",
          "Côte d´Ivoire",
          "Cambodge",
          "Laos",
          "Namibie",
          "Syrie",
          "Zambie",
          "Nigéria",
          "Djibouti",
          "Angola",
          "Tanzanie"
         ],
         "locations": [
          "VNM",
          "SRB",
          "MUS",
          "BRA",
          "BLR",
          "TUN",
          "SLV",
          "BGD",
          "MAR",
          "COL",
          "MKD",
          "OMN",
          "JAM",
          "BIH",
          "IRN",
          "PHL",
          "TTO",
          "KWT",
          "ZAF",
          "HTI",
          "JOR",
          "MWI",
          "ECU",
          "BTN",
          "LBN",
          "KGZ",
          "UZB",
          "AZE",
          "GUY",
          "DZA",
          "PRY",
          "TJK",
          "MNG",
          "NPL",
          "GHA",
          "MMR",
          "BWA",
          "GTM",
          "BOL",
          "NIC",
          "TGO",
          "UGA",
          "KEN",
          "HND",
          "COD",
          "SLE",
          "ZWE",
          "CIV",
          "KHM",
          "LAO",
          "NAM",
          "SYR",
          "ZMB",
          "NGA",
          "DJI",
          "AGO",
          "TZA"
         ],
         "name": "D",
         "showlegend": true,
         "showscale": false,
         "type": "choropleth",
         "z": [
          1,
          1,
          1,
          1,
          1,
          1,
          1,
          1,
          1,
          1,
          1,
          1,
          1,
          1,
          1,
          1,
          1,
          1,
          1,
          1,
          1,
          1,
          1,
          1,
          1,
          1,
          1,
          1,
          1,
          1,
          1,
          1,
          1,
          1,
          1,
          1,
          1,
          1,
          1,
          1,
          1,
          1,
          1,
          1,
          1,
          1,
          1,
          1,
          1,
          1,
          1,
          1,
          1,
          1,
          1,
          1,
          1
         ]
        },
        {
         "colorscale": [
          [
           0,
           "#FFA15A"
          ],
          [
           1,
           "#FFA15A"
          ]
         ],
         "geo": "geo",
         "hovertemplate": "<b>%{hovertext}</b><br><br>label_decouverte=E<br>id_pays=%{location}<extra></extra>",
         "hovertext": [
          "Gambie",
          "Papouasie-Nouvelle-Guinée",
          "Cameroun",
          "Mozambique",
          "Madagascar",
          "Bénin",
          "Éthiopie",
          "Burkina Faso",
          "Mali",
          "Niger",
          "République centrafricaine"
         ],
         "locations": [
          "GMB",
          "PNG",
          "CMR",
          "MOZ",
          "MDG",
          "BEN",
          "ETH",
          "BFA",
          "MLI",
          "NER",
          "CAF"
         ],
         "name": "E",
         "showlegend": true,
         "showscale": false,
         "type": "choropleth",
         "z": [
          1,
          1,
          1,
          1,
          1,
          1,
          1,
          1,
          1,
          1,
          1
         ]
        }
       ],
       "layout": {
        "geo": {
         "center": {},
         "countrycolor": "Black",
         "domain": {
          "x": [
           0,
           1
          ],
          "y": [
           0,
           1
          ]
         },
         "lakecolor": "Blue",
         "oceancolor": "LightBlue",
         "projection": {
          "type": "natural earth"
         },
         "showcountries": true,
         "showlakes": true,
         "showland": true,
         "showocean": true
        },
        "legend": {
         "title": {
          "text": "label_decouverte"
         },
         "tracegroupgap": 0
        },
        "margin": {
         "t": 60
        },
        "template": {
         "data": {
          "bar": [
           {
            "error_x": {
             "color": "#2a3f5f"
            },
            "error_y": {
             "color": "#2a3f5f"
            },
            "marker": {
             "line": {
              "color": "#E5ECF6",
              "width": 0.5
             },
             "pattern": {
              "fillmode": "overlay",
              "size": 10,
              "solidity": 0.2
             }
            },
            "type": "bar"
           }
          ],
          "barpolar": [
           {
            "marker": {
             "line": {
              "color": "#E5ECF6",
              "width": 0.5
             },
             "pattern": {
              "fillmode": "overlay",
              "size": 10,
              "solidity": 0.2
             }
            },
            "type": "barpolar"
           }
          ],
          "carpet": [
           {
            "aaxis": {
             "endlinecolor": "#2a3f5f",
             "gridcolor": "white",
             "linecolor": "white",
             "minorgridcolor": "white",
             "startlinecolor": "#2a3f5f"
            },
            "baxis": {
             "endlinecolor": "#2a3f5f",
             "gridcolor": "white",
             "linecolor": "white",
             "minorgridcolor": "white",
             "startlinecolor": "#2a3f5f"
            },
            "type": "carpet"
           }
          ],
          "choropleth": [
           {
            "colorbar": {
             "outlinewidth": 0,
             "ticks": ""
            },
            "type": "choropleth"
           }
          ],
          "contour": [
           {
            "colorbar": {
             "outlinewidth": 0,
             "ticks": ""
            },
            "colorscale": [
             [
              0,
              "#0d0887"
             ],
             [
              0.1111111111111111,
              "#46039f"
             ],
             [
              0.2222222222222222,
              "#7201a8"
             ],
             [
              0.3333333333333333,
              "#9c179e"
             ],
             [
              0.4444444444444444,
              "#bd3786"
             ],
             [
              0.5555555555555556,
              "#d8576b"
             ],
             [
              0.6666666666666666,
              "#ed7953"
             ],
             [
              0.7777777777777778,
              "#fb9f3a"
             ],
             [
              0.8888888888888888,
              "#fdca26"
             ],
             [
              1,
              "#f0f921"
             ]
            ],
            "type": "contour"
           }
          ],
          "contourcarpet": [
           {
            "colorbar": {
             "outlinewidth": 0,
             "ticks": ""
            },
            "type": "contourcarpet"
           }
          ],
          "heatmap": [
           {
            "colorbar": {
             "outlinewidth": 0,
             "ticks": ""
            },
            "colorscale": [
             [
              0,
              "#0d0887"
             ],
             [
              0.1111111111111111,
              "#46039f"
             ],
             [
              0.2222222222222222,
              "#7201a8"
             ],
             [
              0.3333333333333333,
              "#9c179e"
             ],
             [
              0.4444444444444444,
              "#bd3786"
             ],
             [
              0.5555555555555556,
              "#d8576b"
             ],
             [
              0.6666666666666666,
              "#ed7953"
             ],
             [
              0.7777777777777778,
              "#fb9f3a"
             ],
             [
              0.8888888888888888,
              "#fdca26"
             ],
             [
              1,
              "#f0f921"
             ]
            ],
            "type": "heatmap"
           }
          ],
          "heatmapgl": [
           {
            "colorbar": {
             "outlinewidth": 0,
             "ticks": ""
            },
            "colorscale": [
             [
              0,
              "#0d0887"
             ],
             [
              0.1111111111111111,
              "#46039f"
             ],
             [
              0.2222222222222222,
              "#7201a8"
             ],
             [
              0.3333333333333333,
              "#9c179e"
             ],
             [
              0.4444444444444444,
              "#bd3786"
             ],
             [
              0.5555555555555556,
              "#d8576b"
             ],
             [
              0.6666666666666666,
              "#ed7953"
             ],
             [
              0.7777777777777778,
              "#fb9f3a"
             ],
             [
              0.8888888888888888,
              "#fdca26"
             ],
             [
              1,
              "#f0f921"
             ]
            ],
            "type": "heatmapgl"
           }
          ],
          "histogram": [
           {
            "marker": {
             "pattern": {
              "fillmode": "overlay",
              "size": 10,
              "solidity": 0.2
             }
            },
            "type": "histogram"
           }
          ],
          "histogram2d": [
           {
            "colorbar": {
             "outlinewidth": 0,
             "ticks": ""
            },
            "colorscale": [
             [
              0,
              "#0d0887"
             ],
             [
              0.1111111111111111,
              "#46039f"
             ],
             [
              0.2222222222222222,
              "#7201a8"
             ],
             [
              0.3333333333333333,
              "#9c179e"
             ],
             [
              0.4444444444444444,
              "#bd3786"
             ],
             [
              0.5555555555555556,
              "#d8576b"
             ],
             [
              0.6666666666666666,
              "#ed7953"
             ],
             [
              0.7777777777777778,
              "#fb9f3a"
             ],
             [
              0.8888888888888888,
              "#fdca26"
             ],
             [
              1,
              "#f0f921"
             ]
            ],
            "type": "histogram2d"
           }
          ],
          "histogram2dcontour": [
           {
            "colorbar": {
             "outlinewidth": 0,
             "ticks": ""
            },
            "colorscale": [
             [
              0,
              "#0d0887"
             ],
             [
              0.1111111111111111,
              "#46039f"
             ],
             [
              0.2222222222222222,
              "#7201a8"
             ],
             [
              0.3333333333333333,
              "#9c179e"
             ],
             [
              0.4444444444444444,
              "#bd3786"
             ],
             [
              0.5555555555555556,
              "#d8576b"
             ],
             [
              0.6666666666666666,
              "#ed7953"
             ],
             [
              0.7777777777777778,
              "#fb9f3a"
             ],
             [
              0.8888888888888888,
              "#fdca26"
             ],
             [
              1,
              "#f0f921"
             ]
            ],
            "type": "histogram2dcontour"
           }
          ],
          "mesh3d": [
           {
            "colorbar": {
             "outlinewidth": 0,
             "ticks": ""
            },
            "type": "mesh3d"
           }
          ],
          "parcoords": [
           {
            "line": {
             "colorbar": {
              "outlinewidth": 0,
              "ticks": ""
             }
            },
            "type": "parcoords"
           }
          ],
          "pie": [
           {
            "automargin": true,
            "type": "pie"
           }
          ],
          "scatter": [
           {
            "fillpattern": {
             "fillmode": "overlay",
             "size": 10,
             "solidity": 0.2
            },
            "type": "scatter"
           }
          ],
          "scatter3d": [
           {
            "line": {
             "colorbar": {
              "outlinewidth": 0,
              "ticks": ""
             }
            },
            "marker": {
             "colorbar": {
              "outlinewidth": 0,
              "ticks": ""
             }
            },
            "type": "scatter3d"
           }
          ],
          "scattercarpet": [
           {
            "marker": {
             "colorbar": {
              "outlinewidth": 0,
              "ticks": ""
             }
            },
            "type": "scattercarpet"
           }
          ],
          "scattergeo": [
           {
            "marker": {
             "colorbar": {
              "outlinewidth": 0,
              "ticks": ""
             }
            },
            "type": "scattergeo"
           }
          ],
          "scattergl": [
           {
            "marker": {
             "colorbar": {
              "outlinewidth": 0,
              "ticks": ""
             }
            },
            "type": "scattergl"
           }
          ],
          "scattermapbox": [
           {
            "marker": {
             "colorbar": {
              "outlinewidth": 0,
              "ticks": ""
             }
            },
            "type": "scattermapbox"
           }
          ],
          "scatterpolar": [
           {
            "marker": {
             "colorbar": {
              "outlinewidth": 0,
              "ticks": ""
             }
            },
            "type": "scatterpolar"
           }
          ],
          "scatterpolargl": [
           {
            "marker": {
             "colorbar": {
              "outlinewidth": 0,
              "ticks": ""
             }
            },
            "type": "scatterpolargl"
           }
          ],
          "scatterternary": [
           {
            "marker": {
             "colorbar": {
              "outlinewidth": 0,
              "ticks": ""
             }
            },
            "type": "scatterternary"
           }
          ],
          "surface": [
           {
            "colorbar": {
             "outlinewidth": 0,
             "ticks": ""
            },
            "colorscale": [
             [
              0,
              "#0d0887"
             ],
             [
              0.1111111111111111,
              "#46039f"
             ],
             [
              0.2222222222222222,
              "#7201a8"
             ],
             [
              0.3333333333333333,
              "#9c179e"
             ],
             [
              0.4444444444444444,
              "#bd3786"
             ],
             [
              0.5555555555555556,
              "#d8576b"
             ],
             [
              0.6666666666666666,
              "#ed7953"
             ],
             [
              0.7777777777777778,
              "#fb9f3a"
             ],
             [
              0.8888888888888888,
              "#fdca26"
             ],
             [
              1,
              "#f0f921"
             ]
            ],
            "type": "surface"
           }
          ],
          "table": [
           {
            "cells": {
             "fill": {
              "color": "#EBF0F8"
             },
             "line": {
              "color": "white"
             }
            },
            "header": {
             "fill": {
              "color": "#C8D4E3"
             },
             "line": {
              "color": "white"
             }
            },
            "type": "table"
           }
          ]
         },
         "layout": {
          "annotationdefaults": {
           "arrowcolor": "#2a3f5f",
           "arrowhead": 0,
           "arrowwidth": 1
          },
          "autotypenumbers": "strict",
          "coloraxis": {
           "colorbar": {
            "outlinewidth": 0,
            "ticks": ""
           }
          },
          "colorscale": {
           "diverging": [
            [
             0,
             "#8e0152"
            ],
            [
             0.1,
             "#c51b7d"
            ],
            [
             0.2,
             "#de77ae"
            ],
            [
             0.3,
             "#f1b6da"
            ],
            [
             0.4,
             "#fde0ef"
            ],
            [
             0.5,
             "#f7f7f7"
            ],
            [
             0.6,
             "#e6f5d0"
            ],
            [
             0.7,
             "#b8e186"
            ],
            [
             0.8,
             "#7fbc41"
            ],
            [
             0.9,
             "#4d9221"
            ],
            [
             1,
             "#276419"
            ]
           ],
           "sequential": [
            [
             0,
             "#0d0887"
            ],
            [
             0.1111111111111111,
             "#46039f"
            ],
            [
             0.2222222222222222,
             "#7201a8"
            ],
            [
             0.3333333333333333,
             "#9c179e"
            ],
            [
             0.4444444444444444,
             "#bd3786"
            ],
            [
             0.5555555555555556,
             "#d8576b"
            ],
            [
             0.6666666666666666,
             "#ed7953"
            ],
            [
             0.7777777777777778,
             "#fb9f3a"
            ],
            [
             0.8888888888888888,
             "#fdca26"
            ],
            [
             1,
             "#f0f921"
            ]
           ],
           "sequentialminus": [
            [
             0,
             "#0d0887"
            ],
            [
             0.1111111111111111,
             "#46039f"
            ],
            [
             0.2222222222222222,
             "#7201a8"
            ],
            [
             0.3333333333333333,
             "#9c179e"
            ],
            [
             0.4444444444444444,
             "#bd3786"
            ],
            [
             0.5555555555555556,
             "#d8576b"
            ],
            [
             0.6666666666666666,
             "#ed7953"
            ],
            [
             0.7777777777777778,
             "#fb9f3a"
            ],
            [
             0.8888888888888888,
             "#fdca26"
            ],
            [
             1,
             "#f0f921"
            ]
           ]
          },
          "colorway": [
           "#636efa",
           "#EF553B",
           "#00cc96",
           "#ab63fa",
           "#FFA15A",
           "#19d3f3",
           "#FF6692",
           "#B6E880",
           "#FF97FF",
           "#FECB52"
          ],
          "font": {
           "color": "#2a3f5f"
          },
          "geo": {
           "bgcolor": "white",
           "lakecolor": "white",
           "landcolor": "#E5ECF6",
           "showlakes": true,
           "showland": true,
           "subunitcolor": "white"
          },
          "hoverlabel": {
           "align": "left"
          },
          "hovermode": "closest",
          "mapbox": {
           "style": "light"
          },
          "paper_bgcolor": "white",
          "plot_bgcolor": "#E5ECF6",
          "polar": {
           "angularaxis": {
            "gridcolor": "white",
            "linecolor": "white",
            "ticks": ""
           },
           "bgcolor": "#E5ECF6",
           "radialaxis": {
            "gridcolor": "white",
            "linecolor": "white",
            "ticks": ""
           }
          },
          "scene": {
           "xaxis": {
            "backgroundcolor": "#E5ECF6",
            "gridcolor": "white",
            "gridwidth": 2,
            "linecolor": "white",
            "showbackground": true,
            "ticks": "",
            "zerolinecolor": "white"
           },
           "yaxis": {
            "backgroundcolor": "#E5ECF6",
            "gridcolor": "white",
            "gridwidth": 2,
            "linecolor": "white",
            "showbackground": true,
            "ticks": "",
            "zerolinecolor": "white"
           },
           "zaxis": {
            "backgroundcolor": "#E5ECF6",
            "gridcolor": "white",
            "gridwidth": 2,
            "linecolor": "white",
            "showbackground": true,
            "ticks": "",
            "zerolinecolor": "white"
           }
          },
          "shapedefaults": {
           "line": {
            "color": "#2a3f5f"
           }
          },
          "ternary": {
           "aaxis": {
            "gridcolor": "white",
            "linecolor": "white",
            "ticks": ""
           },
           "baxis": {
            "gridcolor": "white",
            "linecolor": "white",
            "ticks": ""
           },
           "bgcolor": "#E5ECF6",
           "caxis": {
            "gridcolor": "white",
            "linecolor": "white",
            "ticks": ""
           }
          },
          "title": {
           "x": 0.05
          },
          "xaxis": {
           "automargin": true,
           "gridcolor": "white",
           "linecolor": "white",
           "ticks": "",
           "title": {
            "standoff": 15
           },
           "zerolinecolor": "white",
           "zerolinewidth": 2
          },
          "yaxis": {
           "automargin": true,
           "gridcolor": "white",
           "linecolor": "white",
           "ticks": "",
           "title": {
            "standoff": 15
           },
           "zerolinecolor": "white",
           "zerolinewidth": 2
          }
         }
        }
       }
      }
     },
     "metadata": {},
     "output_type": "display_data"
    }
   ],
   "source": [
    "\n",
    "# Normalisation des indicateurs par la méthode min-max\n",
    "df_decouverte['arriveesTotal'] = df_decouverte['arriveesTotal'] / df_decouverte['arriveesTotal'].max()\n",
    "df_decouverte['GES_hab'] = df_decouverte['GES_hab'].min() / df_decouverte['GES_hab']\n",
    "df_decouverte['idh'] = df_decouverte['idh'] / df_decouverte['idh'].max()\n",
    "\n",
    "\n",
    "# Les poids pour le tourisme de découverte\n",
    "poids_decouverte = {\n",
    "    'arriveesTotal': 2,\n",
    "    'idh' : 2,\n",
    "    'GES_hab': 1\n",
    "}\n",
    "\n",
    "# Calcul du score pour le tourisme culturel et historique / tourisme d'exploration et de découverte\n",
    "df_decouverte['score_decouverte'] = df_decouverte.apply(lambda row: sum(float(row[var]) * poids_decouverte[var] for var in poids_decouverte) / sum(poids_decouverte.values()), axis=1)\n",
    "\n",
    "max_score = df_decouverte['score_decouverte'].max()\n",
    "min_score = df_decouverte['score_decouverte'].min()\n",
    "esperance = df_decouverte['score_decouverte'].mean()\n",
    "variance = df_decouverte['score_decouverte'].std()\n",
    "\n",
    "\n",
    "print(\"max : \",max_score, \"min : \",min_score, \"variance: \",variance, \"esperance: \",esperance)\n",
    "\n",
    "#Pour le score découverte\n",
    "bins = [min_score, 0.27, 0.36, 0.45, 0.54, max_score]\n",
    "\n",
    "# Les labels\n",
    "labels = ['E', 'D', 'C', 'B', 'A']\n",
    "\n",
    "\n",
    "# Création d'une nouvelle colonne pour les labels\n",
    "df_decouverte['label_decouverte'] = pd.cut(df_decouverte['score_decouverte'], bins=bins, labels=labels)\n",
    "\n",
    "df_decouverte = df_decouverte.sort_values(by='score_decouverte', ascending=False)\n",
    "\n",
    "print(df_decouverte.head())\n",
    "\n",
    "df_decouverte.dropna(inplace=True)\n",
    "\n",
    "\n",
    "df_decouverte['id_pays'] = df_decouverte['id_pays'].apply(iso2_to_iso3)\n",
    "\n",
    "df_decouverte.head()\n",
    "\n",
    "# Visualisation par une carte\n",
    "fig = px.choropleth(df_decouverte, locations='id_pays', color='label_decouverte', hover_name='pays', projection='natural earth')\n",
    "fig.update_geos(showcountries=True, countrycolor=\"Black\", showland=True, showocean=True, oceancolor=\"LightBlue\", showlakes=True, lakecolor=\"Blue\")\n",
    "fig.show()\n",
    "\n",
    "# 99 score sur 196 enregistré "
   ]
  }
 ],
 "metadata": {
  "kernelspec": {
   "display_name": "Python 3",
   "language": "python",
   "name": "python3"
  },
  "language_info": {
   "codemirror_mode": {
    "name": "ipython",
    "version": 3
   },
   "file_extension": ".py",
   "mimetype": "text/x-python",
   "name": "python",
   "nbconvert_exporter": "python",
   "pygments_lexer": "ipython3",
   "version": "3.12.0"
  }
 },
 "nbformat": 4,
 "nbformat_minor": 2
}
