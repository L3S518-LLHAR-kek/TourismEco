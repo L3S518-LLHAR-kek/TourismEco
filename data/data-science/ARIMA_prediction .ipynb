{
 "cells": [
  {
   "cell_type": "code",
   "execution_count": 16,
   "metadata": {},
   "outputs": [],
   "source": [
    "# Importing libraries neeeded for the project\n",
    "import pandas as pd\n",
    "import plotly.express as px\n",
    "import plotly.graph_objects as go\n",
    "\n",
    "from sklearn.preprocessing import MinMaxScaler\n",
    "from matplotlib import pyplot\n",
    "from statsmodels.tsa.arima.model import ARIMA\n",
    "from sklearn.metrics import mean_squared_error\n",
    "from math import sqrt\n",
    "\n",
    "from pandas import read_csv\n",
    "from statsmodels.tsa.arima.model import ARIMA\n",
    "import numpy\n",
    "\n",
    "import warnings"
   ]
  },
  {
   "cell_type": "code",
   "execution_count": 17,
   "metadata": {},
   "outputs": [
    {
     "data": {
      "text/html": [
       "<div>\n",
       "<style scoped>\n",
       "    .dataframe tbody tr th:only-of-type {\n",
       "        vertical-align: middle;\n",
       "    }\n",
       "\n",
       "    .dataframe tbody tr th {\n",
       "        vertical-align: top;\n",
       "    }\n",
       "\n",
       "    .dataframe thead th {\n",
       "        text-align: right;\n",
       "    }\n",
       "</style>\n",
       "<table border=\"1\" class=\"dataframe\">\n",
       "  <thead>\n",
       "    <tr style=\"text-align: right;\">\n",
       "      <th></th>\n",
       "      <th>id</th>\n",
       "      <th>id_pays</th>\n",
       "      <th>annee</th>\n",
       "      <th>co2</th>\n",
       "      <th>ges</th>\n",
       "      <th>elecRenew</th>\n",
       "      <th>GES_hab</th>\n",
       "    </tr>\n",
       "  </thead>\n",
       "  <tbody>\n",
       "    <tr>\n",
       "      <th>0</th>\n",
       "      <td>198</td>\n",
       "      <td>US</td>\n",
       "      <td>1990</td>\n",
       "      <td>4844517.4</td>\n",
       "      <td>5855541.470</td>\n",
       "      <td>10.917163</td>\n",
       "      <td>23.7677</td>\n",
       "    </tr>\n",
       "    <tr>\n",
       "      <th>1</th>\n",
       "      <td>409</td>\n",
       "      <td>US</td>\n",
       "      <td>1991</td>\n",
       "      <td>4807496.5</td>\n",
       "      <td>5810376.768</td>\n",
       "      <td>10.741865</td>\n",
       "      <td>23.5844</td>\n",
       "    </tr>\n",
       "    <tr>\n",
       "      <th>2</th>\n",
       "      <td>620</td>\n",
       "      <td>US</td>\n",
       "      <td>1992</td>\n",
       "      <td>4879626.1</td>\n",
       "      <td>5894661.485</td>\n",
       "      <td>9.729862</td>\n",
       "      <td>23.9265</td>\n",
       "    </tr>\n",
       "    <tr>\n",
       "      <th>3</th>\n",
       "      <td>831</td>\n",
       "      <td>US</td>\n",
       "      <td>1993</td>\n",
       "      <td>4995209.5</td>\n",
       "      <td>6006008.717</td>\n",
       "      <td>10.270782</td>\n",
       "      <td>24.3784</td>\n",
       "    </tr>\n",
       "    <tr>\n",
       "      <th>4</th>\n",
       "      <td>1042</td>\n",
       "      <td>US</td>\n",
       "      <td>1994</td>\n",
       "      <td>5066803.0</td>\n",
       "      <td>6100512.901</td>\n",
       "      <td>9.532383</td>\n",
       "      <td>24.7620</td>\n",
       "    </tr>\n",
       "  </tbody>\n",
       "</table>\n",
       "</div>"
      ],
      "text/plain": [
       "     id id_pays  annee        co2          ges  elecRenew  GES_hab\n",
       "0   198      US   1990  4844517.4  5855541.470  10.917163  23.7677\n",
       "1   409      US   1991  4807496.5  5810376.768  10.741865  23.5844\n",
       "2   620      US   1992  4879626.1  5894661.485   9.729862  23.9265\n",
       "3   831      US   1993  4995209.5  6006008.717  10.270782  24.3784\n",
       "4  1042      US   1994  5066803.0  6100512.901   9.532383  24.7620"
      ]
     },
     "execution_count": 17,
     "metadata": {},
     "output_type": "execute_result"
    }
   ],
   "source": [
    "#!/usr/bin/env /Applications/MAMP/Library/bin/python\n",
    "\n",
    "import mysql.connector\n",
    "\n",
    "config = {\n",
    "  'user': 'root',\n",
    "  'password': 'root',\n",
    "  'host': '127.0.0.1',\n",
    "  'port': 8889,\n",
    "  'database': 'ecotourisme',\n",
    "  'raise_on_warnings': True\n",
    "}\n",
    "\n",
    "cnx = mysql.connector.connect(**config)\n",
    "\n",
    "cursor = cnx.cursor(dictionary=True)\n",
    "\n",
    "cursor.execute('SELECT * FROM `ecologie` where id_pays = \"US\"')\n",
    "results = cursor.fetchall()\n",
    "cnx.close()\n",
    "\n",
    "data1 = pd.DataFrame(results)\n",
    "\n",
    "data = data1\n",
    "# afficher  par ordre decroissant annee\n",
    "data = data.sort_values(by='annee', ascending=True) \n",
    "data.head()\n"
   ]
  },
  {
   "cell_type": "code",
   "execution_count": 18,
   "metadata": {},
   "outputs": [],
   "source": [
    "data = data.set_index('annee')\n",
    "series = data[['elecRenew']]"
   ]
  },
  {
   "cell_type": "markdown",
   "metadata": {},
   "source": [
    "MISE EN PLACE DES PREDISCTIONS SANS ECHANTILLION"
   ]
  },
  {
   "cell_type": "code",
   "execution_count": 19,
   "metadata": {},
   "outputs": [],
   "source": [
    "X = series.values"
   ]
  },
  {
   "cell_type": "code",
   "execution_count": 20,
   "metadata": {},
   "outputs": [],
   "source": [
    "# pour avoir les tendance entre k et k+1 \n",
    "def difference(dataset, interval=1):\n",
    "\tdiff = list()\n",
    "\tfor i in range(interval, len(dataset)):\n",
    "\t\tvalue = dataset[i] - dataset[i - interval]\n",
    "\t\tdiff.append(value)\n",
    "\t\twarnings.filterwarnings(\"ignore\")\n",
    "\treturn numpy.array(diff)\n",
    "\n",
    "# pour transformer les prédictions faite sur la série transformer en valeur réel\n",
    "def inverse_difference(history, prediction, interval=1):\n",
    " return prediction + history[-interval]\n",
    "\n",
    "differenced = difference(X)\n",
    "\n",
    "# faire apprendre le modele \n",
    "model = ARIMA(differenced, order=(10,2,1))\n",
    "model_fit = model.fit()\n"
   ]
  },
  {
   "cell_type": "code",
   "execution_count": 21,
   "metadata": {},
   "outputs": [
    {
     "name": "stdout",
     "output_type": "stream",
     "text": [
      "[  10940.09203171  -12496.90052813 -290114.38200899  -77943.20448239\n",
      "  -68878.77833823 -198286.40132127 -110966.65685208]\n",
      "Année 1: 4331472.592032\n",
      "Année 2: 4318975.691504\n",
      "Année 3: 4028861.309495\n",
      "Année 4: 3950918.105012\n",
      "Année 5: 3882039.326674\n",
      "Année 6: 3683752.925353\n",
      "Année 7: 3572786.268501\n"
     ]
    }
   ],
   "source": [
    "# utilisation de forecast pour faire les prédiction\n",
    "forecast = model_fit.forecast(steps=7)\n",
    "print(forecast)\n",
    "\n",
    "# inverse les prédictions faite pour avoir les valeurs réelles \n",
    "history = [x for x in X] # crée une copie de la série originale X \n",
    "annee = 1\n",
    "for prediction in forecast:\n",
    "\tinverted = inverse_difference(history, prediction)\n",
    "\tprint('Année %d: %f' % (annee, inverted))\n",
    "\thistory.append(inverted)\n",
    "\tannee += 1\n"
   ]
  },
  {
   "cell_type": "code",
   "execution_count": 22,
   "metadata": {},
   "outputs": [
    {
     "data": {
      "image/png": "[encoded data removed]",
      "text/plain": [
       "<Figure size 640x480 with 1 Axes>"
      ]
     },
     "metadata": {},
     "output_type": "display_data"
    }
   ],
   "source": [
    "pyplot.plot(history, color='blue')\n",
    "pyplot.plot(X, color='red')\n",
    "pyplot.legend(['Prediction', 'Reel'])\n",
    "pyplot.show()"
   ]
  }
 ],
 "metadata": {
  "kernelspec": {
   "display_name": "Python 3",
   "language": "python",
   "name": "python3"
  },
  "language_info": {
   "codemirror_mode": {
    "name": "ipython",
    "version": 3
   },
   "file_extension": ".py",
   "mimetype": "text/x-python",
   "name": "python",
   "nbconvert_exporter": "python",
   "pygments_lexer": "ipython3",
   "version": "3.11.3"
  }
 },
 "nbformat": 4,
 "nbformat_minor": 2
}
