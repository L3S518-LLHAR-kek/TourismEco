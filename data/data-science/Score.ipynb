{
 "cells": [
  {
   "cell_type": "code",
   "execution_count": 53,
   "metadata": {},
   "outputs": [],
   "source": [
    "# Importing libraries neeeded for the project\n",
    "import pandas as pd\n",
    "import plotly.express as px\n",
    "import plotly.graph_objects as go\n",
    "from sklearn.preprocessing import MinMaxScaler\n",
    "import mysql.connector\n",
    "import pycountry\n",
    "import numpy as np\n"
   ]
  },
  {
   "cell_type": "markdown",
   "metadata": {},
   "source": [
    "## Connexion à la base pour Wamp"
   ]
  },
  {
   "cell_type": "code",
   "execution_count": 54,
   "metadata": {},
   "outputs": [
    {
     "name": "stdout",
     "output_type": "stream",
     "text": [
      "Connexion à la base de données réussie.\n"
     ]
    }
   ],
   "source": [
    "# Connexion à la BD pour Wamp \n",
    "host = 'localhost'  \n",
    "utilisateur = 'root'\n",
    "mot_de_passe = '' \n",
    "base_de_donnees = 'ecotourisme'\n",
    "\n",
    "# Connexion\n",
    "connexion = mysql.connector.connect(\n",
    "    host=host,\n",
    "    user=utilisateur,\n",
    "    password=mot_de_passe,\n",
    "    database=base_de_donnees\n",
    ")\n",
    "\n",
    "curseur = connexion.cursor()\n",
    "\n",
    "if connexion.is_connected():\n",
    "    print(\"Connexion à la base de données réussie.\")\n",
    "else:\n",
    "    print(\"Échec de la connexion à la base de données.\")"
   ]
  },
  {
   "cell_type": "markdown",
   "metadata": {},
   "source": [
    "## Connexion à la base avec Mamp"
   ]
  },
  {
   "cell_type": "code",
   "execution_count": 55,
   "metadata": {},
   "outputs": [],
   "source": [
    "#!/usr/bin/env /Applications/MAMP/Library/bin/python\n",
    "\n",
    "# import mysql.connector\n",
    "\n",
    "# config = {\n",
    "#   'user': 'root',\n",
    "#   'password': 'root',\n",
    "#   'host': '127.0.0.1',\n",
    "#   'port': 8889,\n",
    "#   'database': 'ecotourisme',\n",
    "#   'raise_on_warnings': True\n",
    "# }\n",
    "\n",
    "# cnx = mysql.connector.connect(**config)\n",
    "\n",
    "# curseur = cnx.cursor(dictionary=True)"
   ]
  },
  {
   "cell_type": "markdown",
   "metadata": {},
   "source": [
    "## Traitement des données"
   ]
  },
  {
   "cell_type": "code",
   "execution_count": 56,
   "metadata": {},
   "outputs": [],
   "source": [
    "\n",
    "\n",
    "curseur.execute('''\n",
    "    SELECT \n",
    "        p.nom as pays, \n",
    "        s.id_pays, \n",
    "        s.annee, \n",
    "        s.gpi, \n",
    "        t.arriveesTotal as arriveesTotal, \n",
    "        t.arriveesAvion, \n",
    "        e.pibParHab, \n",
    "        eco.GES_hab,\n",
    "        eco.elecRenew,\n",
    "        d.Value as idh\n",
    "    FROM \n",
    "        surete as s, \n",
    "        tourisme as t, \n",
    "        economie as e, \n",
    "        ecologie as eco, \n",
    "        pays as p, \n",
    "        developpement_humain as d\n",
    "    WHERE \n",
    "        p.id = s.id_pays \n",
    "        AND s.id_pays = t.id_pays \n",
    "        AND t.id_pays = e.id_pays \n",
    "        AND e.id_pays = eco.id_pays \n",
    "        AND d.iso_code = eco.id_pays\n",
    "        AND s.annee = t.annee \n",
    "        AND t.annee = e.annee \n",
    "        AND e.annee = eco.annee \n",
    "        AND e.annee=2020\n",
    "        AND d.annee=2021;\n",
    "''')\n",
    "\n",
    "dataset = curseur.fetchall()\n",
    "\n",
    "df = pd.DataFrame(dataset, columns=['pays', 'id_pays', 'annee', 'gpi', 'arriveesTotal', 'arriveesAvion', 'pibParHab', 'GES_hab', 'elecRenew', 'idh'])\n",
    "df_ecol = df[['pays', 'id_pays', 'annee', 'GES_hab', 'elecRenew']].copy()\n",
    "df_eco = df[['pays', 'id_pays', 'annee', 'arriveesTotal','pibParHab','idh']].copy()\n",
    "df_decouverte = df[['pays', 'id_pays', 'annee', 'gpi', 'arriveesTotal', 'arriveesAvion', 'pibParHab', 'GES_hab', 'elecRenew', 'idh']].copy()\n",
    "\n",
    "# Fonction pour convertir ISO-2 en ISO-3\n",
    "def iso2_to_iso3(iso2):\n",
    "    try:\n",
    "        return pycountry.countries.get(alpha_2=iso2).alpha_3\n",
    "    except AttributeError:\n",
    "        return np.nan\n"
   ]
  },
  {
   "cell_type": "markdown",
   "metadata": {},
   "source": [
    "## Score global ou score touristique"
   ]
  },
  {
   "cell_type": "code",
   "execution_count": 57,
   "metadata": {},
   "outputs": [
    {
     "name": "stdout",
     "output_type": "stream",
     "text": [
      "0.5975751788341688 0.1806876277348624 0.08110374263507238 0.3903514651809921\n",
      "Nombre total de lignes mises à jour : 141\n"
     ]
    }
   ],
   "source": [
    " \n",
    "# Normalisation des indicateurs\n",
    "df['arriveesTotal'] = df['arriveesTotal'] / df['arriveesTotal'].max()\n",
    "df['gpi'] = df['gpi'].min() / df['gpi']\n",
    "df['pibParHab'] = df['pibParHab'] / df['pibParHab'].max()\n",
    "df['GES_hab'] = df['GES_hab'].min() / df['GES_hab']\n",
    "df['elecRenew'] = df['elecRenew'] / df['elecRenew'].max()\n",
    "df['idh'] = df['idh'].str.replace(',', '.').astype(float)\n",
    "df['idh'] = df['idh'] / df['idh'].max()\n",
    "\n",
    "# Les poids pour chaque variable\n",
    "poids = {\n",
    "    'arriveesTotal': 2,\n",
    "    'gpi': 4,\n",
    "    'pibParHab': 2,\n",
    "    'GES_hab': 6, \n",
    "    'elecRenew': 3,\n",
    "    'idh' : 4\n",
    "\n",
    "}\n",
    "\n",
    "# Calcul du score touristique \n",
    "df['score_touristique'] = df.apply(lambda row: sum(float(row[var]) * poids[var] for var in poids) / sum(poids.values()), axis=1)\n",
    "\n",
    "df.head()\n",
    "\n",
    "\n",
    "max_score = df['score_touristique'].max()\n",
    "min_score = df['score_touristique'].min()\n",
    "\n",
    "variance = df['score_touristique'].std()\n",
    "esperance = df['score_touristique'].mean()\n",
    "\n",
    "\n",
    "# Limites des scores/label\n",
    "bins = [min_score, 0.30, 0.394, 0.46, 0.53, max_score]\n",
    "\n",
    "print(max_score, min_score, variance, esperance)\n",
    "\n",
    "# Les labels \n",
    "labels = ['E', 'D', 'C', 'B', 'A']\n",
    "\n",
    "# Créer une nouvelle colonne score\n",
    "df['label_touristique'] = pd.cut(df['score_touristique'], bins=bins, labels=labels)\n",
    "\n",
    "df = df.sort_values(by='score_touristique', ascending=False)\n",
    "\n",
    "# suppression des valeurs NaN\n",
    "df.dropna(inplace=True)\n",
    "\n",
    "# Appliquer la fonction à la colonne 'id_pays'\n",
    "df['id_pays'] = df['id_pays'].apply(iso2_to_iso3)\n",
    "\n",
    "# Créer une carte du monde\n",
    "fig = px.choropleth(df, locations='id_pays', color='label_touristique', hover_name='pays', projection='natural earth')\n",
    "\n",
    "# Mettre à jour la carte\n",
    "fig.update_geos(showcountries=True, countrycolor=\"Black\", showland=True, showocean=True, oceancolor=\"LightBlue\", showlakes=True, lakecolor=\"Blue\")\n",
    "\n",
    "# Afficher la carte\n",
    "fig.show()\n"
   ]
  },
  {
   "cell_type": "markdown",
   "metadata": {},
   "source": [
    "## Score écologique"
   ]
  },
  {
   "cell_type": "code",
   "execution_count": 59,
   "metadata": {},
   "outputs": [
    {
     "name": "stdout",
     "output_type": "stream",
     "text": [
      "0.8742857199999999 0.0018257330541103425 0.17151731378557097 0.2573908042145492\n"
     ]
    },
    {
     "data": {
      "application/vnd.plotly.v1+json": {
       "config": {
        "plotlyServerURL": "https://plot.ly"
       },
       "data": [
        {
         "colorscale": [
          [
           0,
           "#636efa"
          ],
          [
           1,
           "#636efa"
          ]
         ],
         "geo": "geo",
         "hovertemplate": "<b>%{hovertext}</b><br><br>label_ecol=A<br>id_pays=%{location}<extra></extra>",
         "hovertext": [
          "Burundi",
          "Rwanda",
          "Malawi",
          "Sierra Leone"
         ],
         "locations": [
          "BDI",
          "RWA",
          "MWI",
          "SLE"
         ],
         "name": "A",
         "showlegend": true,
         "showscale": false,
         "type": "choropleth",
         "z": [
          1,
          1,
          1,
          1
         ]
        },
        {
         "colorscale": [
          [
           0,
           "#EF553B"
          ],
          [
           1,
           "#EF553B"
          ]
         ],
         "geo": "geo",
         "hovertemplate": "<b>%{hovertext}</b><br><br>label_ecol=B<br>id_pays=%{location}<extra></extra>",
         "hovertext": [
          "Lesotho",
          "Népal",
          "Ouganda",
          "Albanie",
          "Bhoutan",
          "Salvador",
          "Éthiopie"
         ],
         "locations": [
          "LSO",
          "NPL",
          "UGA",
          "ALB",
          "BTN",
          "SLV",
          "ETH"
         ],
         "name": "B",
         "showlegend": true,
         "showscale": false,
         "type": "choropleth",
         "z": [
          1,
          1,
          1,
          1,
          1,
          1,
          1
         ]
        },
        {
         "colorscale": [
          [
           0,
           "#00cc96"
          ],
          [
           1,
           "#00cc96"
          ]
         ],
         "geo": "geo",
         "hovertemplate": "<b>%{hovertext}</b><br><br>label_ecol=C<br>id_pays=%{location}<extra></extra>",
         "hovertext": [
          "Mozambique",
          "Tadjikistan",
          "Kenya",
          "Costa Rica",
          "Kirghizstan",
          "République centrafricaine",
          "Islande",
          "Zambie",
          "Géorgie",
          "Norvège",
          "Paraguay",
          "Namibie",
          "Guinée",
          "Brésil",
          "Zimbabwe",
          "Guatemala",
          "Équateur",
          "Danemark",
          "Sri Lanka",
          "Autriche",
          "Uruguay",
          "Angola",
          "Panama",
          "Pérou",
          "Croatie",
          "Lettonie",
          "Laos",
          "Suède",
          "Haïti",
          "Soudan",
          "Nouvelle-Zélande"
         ],
         "locations": [
          "MOZ",
          "TJK",
          "KEN",
          "CRI",
          "KGZ",
          "CAF",
          "ISL",
          "ZMB",
          "GEO",
          "NOR",
          "PRY",
          "NAM",
          "GIN",
          "BRA",
          "ZWE",
          "GTM",
          "ECU",
          "DNK",
          "LKA",
          "AUT",
          "URY",
          "AGO",
          "PAN",
          "PER",
          "HRV",
          "LVA",
          "LAO",
          "SWE",
          "HTI",
          "SDN",
          "NZL"
         ],
         "name": "C",
         "showlegend": true,
         "showscale": false,
         "type": "choropleth",
         "z": [
          1,
          1,
          1,
          1,
          1,
          1,
          1,
          1,
          1,
          1,
          1,
          1,
          1,
          1,
          1,
          1,
          1,
          1,
          1,
          1,
          1,
          1,
          1,
          1,
          1,
          1,
          1,
          1,
          1,
          1,
          1
         ]
        },
        {
         "colorscale": [
          [
           0,
           "#ab63fa"
          ],
          [
           1,
           "#ab63fa"
          ]
         ],
         "geo": "geo",
         "hovertemplate": "<b>%{hovertext}</b><br><br>label_ecol=D<br>id_pays=%{location}<extra></extra>",
         "hovertext": [
          "Colombie",
          "Myanmar (Birmanie)",
          "Ghana",
          "Nicaragua",
          "Cameroun",
          "Portugal",
          "Honduras",
          "Lituanie",
          "Cambodge",
          "Madagascar",
          "Suisse",
          "Togo",
          "Yémen",
          "Canada",
          "Roumanie",
          "Monténégro",
          "Estonie",
          "Arménie",
          "Finlande",
          "Pakistan",
          "Italie",
          "Espagne",
          "Bangladesh",
          "Mali",
          "Royaume-Uni",
          "Nigéria",
          "Chili",
          "Allemagne",
          "Turquie",
          "Gabon",
          "Philippines",
          "Grèce",
          "Viêt Nam",
          "Jamaïque",
          "Papouasie-Nouvelle-Guinée",
          "Inde",
          "Bosnie-Herzégovine",
          "Maroc",
          "Irlande",
          "Cuba",
          "Slovénie",
          "Gambie",
          "Sénégal",
          "Burkina Faso",
          "Djibouti",
          "Guinée-Bissau"
         ],
         "locations": [
          "COL",
          "MMR",
          "GHA",
          "NIC",
          "CMR",
          "PRT",
          "HND",
          "LTU",
          "KHM",
          "MDG",
          "CHE",
          "TGO",
          "YEM",
          "CAN",
          "ROU",
          "MNE",
          "EST",
          "ARM",
          "FIN",
          "PAK",
          "ITA",
          "ESP",
          "BGD",
          "MLI",
          "GBR",
          "NGA",
          "CHL",
          "DEU",
          "TUR",
          "GAB",
          "PHL",
          "GRC",
          "VNM",
          "JAM",
          "PNG",
          "IND",
          "BIH",
          "MAR",
          "IRL",
          "CUB",
          "SVN",
          "GMB",
          "SEN",
          "BFA",
          "DJI",
          "GNB"
         ],
         "name": "D",
         "showlegend": true,
         "showscale": false,
         "type": "choropleth",
         "z": [
          1,
          1,
          1,
          1,
          1,
          1,
          1,
          1,
          1,
          1,
          1,
          1,
          1,
          1,
          1,
          1,
          1,
          1,
          1,
          1,
          1,
          1,
          1,
          1,
          1,
          1,
          1,
          1,
          1,
          1,
          1,
          1,
          1,
          1,
          1,
          1,
          1,
          1,
          1,
          1,
          1,
          1,
          1,
          1,
          1,
          1
         ]
        },
        {
         "colorscale": [
          [
           0,
           "#FFA15A"
          ],
          [
           1,
           "#FFA15A"
          ]
         ],
         "geo": "geo",
         "hovertemplate": "<b>%{hovertext}</b><br><br>label_ecol=E<br>id_pays=%{location}<extra></extra>",
         "hovertext": [
          "Serbie",
          "Serbie",
          "Érythrée",
          "France",
          "Slovaquie",
          "Bulgarie",
          "Maurice (Île)",
          "Bénin",
          "Indonésie",
          "République dominicaine",
          "China",
          "Belgique",
          "Ukraine",
          "Pays-Bas",
          "Argentine",
          "Mexique",
          "Hongrie",
          "Syrie",
          "Japon",
          "Jordanie",
          "Niger",
          "Égypte",
          "Pologne",
          "Guyana",
          "Australie",
          "Thaïlande",
          "Russie",
          "Tunisie",
          "United States",
          "Malaisie",
          "Chypre",
          "Ouzbékistan",
          "Liban",
          "Azerbaïdjan",
          "Kazakhstan",
          "Biélorussie",
          "Afrique du Sud",
          "Mongolie",
          "Irak",
          "Botswana",
          "Israël",
          "Algérie",
          "Tchad",
          "Singapour",
          "Libye",
          "Trinité-et-Tobago",
          "Émirats arabes unis",
          "Arabie saoudite",
          "Oman",
          "Turkménistan",
          "Koweït",
          "Bahreïn"
         ],
         "locations": [
          "SRB",
          "SRB",
          "ERI",
          "FRA",
          "SVK",
          "BGR",
          "MUS",
          "BEN",
          "IDN",
          "DOM",
          "CHN",
          "BEL",
          "UKR",
          "NLD",
          "ARG",
          "MEX",
          "HUN",
          "SYR",
          "JPN",
          "JOR",
          "NER",
          "EGY",
          "POL",
          "GUY",
          "AUS",
          "THA",
          "RUS",
          "TUN",
          "USA",
          "MYS",
          "CYP",
          "UZB",
          "LBN",
          "AZE",
          "KAZ",
          "BLR",
          "ZAF",
          "MNG",
          "IRQ",
          "BWA",
          "ISR",
          "DZA",
          "TCD",
          "SGP",
          "LBY",
          "TTO",
          "ARE",
          "SAU",
          "OMN",
          "TKM",
          "KWT",
          "BHR"
         ],
         "name": "E",
         "showlegend": true,
         "showscale": false,
         "type": "choropleth",
         "z": [
          1,
          1,
          1,
          1,
          1,
          1,
          1,
          1,
          1,
          1,
          1,
          1,
          1,
          1,
          1,
          1,
          1,
          1,
          1,
          1,
          1,
          1,
          1,
          1,
          1,
          1,
          1,
          1,
          1,
          1,
          1,
          1,
          1,
          1,
          1,
          1,
          1,
          1,
          1,
          1,
          1,
          1,
          1,
          1,
          1,
          1,
          1,
          1,
          1,
          1,
          1,
          1
         ]
        }
       ],
       "layout": {
        "geo": {
         "center": {},
         "countrycolor": "Black",
         "domain": {
          "x": [
           0,
           1
          ],
          "y": [
           0,
           1
          ]
         },
         "lakecolor": "Blue",
         "oceancolor": "LightBlue",
         "projection": {
          "type": "natural earth"
         },
         "showcountries": true,
         "showlakes": true,
         "showland": true,
         "showocean": true
        },
        "legend": {
         "title": {
          "text": "label_ecol"
         },
         "tracegroupgap": 0
        },
        "margin": {
         "t": 60
        },
        "template": {
         "data": {
          "bar": [
           {
            "error_x": {
             "color": "#2a3f5f"
            },
            "error_y": {
             "color": "#2a3f5f"
            },
            "marker": {
             "line": {
              "color": "#E5ECF6",
              "width": 0.5
             },
             "pattern": {
              "fillmode": "overlay",
              "size": 10,
              "solidity": 0.2
             }
            },
            "type": "bar"
           }
          ],
          "barpolar": [
           {
            "marker": {
             "line": {
              "color": "#E5ECF6",
              "width": 0.5
             },
             "pattern": {
              "fillmode": "overlay",
              "size": 10,
              "solidity": 0.2
             }
            },
            "type": "barpolar"
           }
          ],
          "carpet": [
           {
            "aaxis": {
             "endlinecolor": "#2a3f5f",
             "gridcolor": "white",
             "linecolor": "white",
             "minorgridcolor": "white",
             "startlinecolor": "#2a3f5f"
            },
            "baxis": {
             "endlinecolor": "#2a3f5f",
             "gridcolor": "white",
             "linecolor": "white",
             "minorgridcolor": "white",
             "startlinecolor": "#2a3f5f"
            },
            "type": "carpet"
           }
          ],
          "choropleth": [
           {
            "colorbar": {
             "outlinewidth": 0,
             "ticks": ""
            },
            "type": "choropleth"
           }
          ],
          "contour": [
           {
            "colorbar": {
             "outlinewidth": 0,
             "ticks": ""
            },
            "colorscale": [
             [
              0,
              "#0d0887"
             ],
             [
              0.1111111111111111,
              "#46039f"
             ],
             [
              0.2222222222222222,
              "#7201a8"
             ],
             [
              0.3333333333333333,
              "#9c179e"
             ],
             [
              0.4444444444444444,
              "#bd3786"
             ],
             [
              0.5555555555555556,
              "#d8576b"
             ],
             [
              0.6666666666666666,
              "#ed7953"
             ],
             [
              0.7777777777777778,
              "#fb9f3a"
             ],
             [
              0.8888888888888888,
              "#fdca26"
             ],
             [
              1,
              "#f0f921"
             ]
            ],
            "type": "contour"
           }
          ],
          "contourcarpet": [
           {
            "colorbar": {
             "outlinewidth": 0,
             "ticks": ""
            },
            "type": "contourcarpet"
           }
          ],
          "heatmap": [
           {
            "colorbar": {
             "outlinewidth": 0,
             "ticks": ""
            },
            "colorscale": [
             [
              0,
              "#0d0887"
             ],
             [
              0.1111111111111111,
              "#46039f"
             ],
             [
              0.2222222222222222,
              "#7201a8"
             ],
             [
              0.3333333333333333,
              "#9c179e"
             ],
             [
              0.4444444444444444,
              "#bd3786"
             ],
             [
              0.5555555555555556,
              "#d8576b"
             ],
             [
              0.6666666666666666,
              "#ed7953"
             ],
             [
              0.7777777777777778,
              "#fb9f3a"
             ],
             [
              0.8888888888888888,
              "#fdca26"
             ],
             [
              1,
              "#f0f921"
             ]
            ],
            "type": "heatmap"
           }
          ],
          "heatmapgl": [
           {
            "colorbar": {
             "outlinewidth": 0,
             "ticks": ""
            },
            "colorscale": [
             [
              0,
              "#0d0887"
             ],
             [
              0.1111111111111111,
              "#46039f"
             ],
             [
              0.2222222222222222,
              "#7201a8"
             ],
             [
              0.3333333333333333,
              "#9c179e"
             ],
             [
              0.4444444444444444,
              "#bd3786"
             ],
             [
              0.5555555555555556,
              "#d8576b"
             ],
             [
              0.6666666666666666,
              "#ed7953"
             ],
             [
              0.7777777777777778,
              "#fb9f3a"
             ],
             [
              0.8888888888888888,
              "#fdca26"
             ],
             [
              1,
              "#f0f921"
             ]
            ],
            "type": "heatmapgl"
           }
          ],
          "histogram": [
           {
            "marker": {
             "pattern": {
              "fillmode": "overlay",
              "size": 10,
              "solidity": 0.2
             }
            },
            "type": "histogram"
           }
          ],
          "histogram2d": [
           {
            "colorbar": {
             "outlinewidth": 0,
             "ticks": ""
            },
            "colorscale": [
             [
              0,
              "#0d0887"
             ],
             [
              0.1111111111111111,
              "#46039f"
             ],
             [
              0.2222222222222222,
              "#7201a8"
             ],
             [
              0.3333333333333333,
              "#9c179e"
             ],
             [
              0.4444444444444444,
              "#bd3786"
             ],
             [
              0.5555555555555556,
              "#d8576b"
             ],
             [
              0.6666666666666666,
              "#ed7953"
             ],
             [
              0.7777777777777778,
              "#fb9f3a"
             ],
             [
              0.8888888888888888,
              "#fdca26"
             ],
             [
              1,
              "#f0f921"
             ]
            ],
            "type": "histogram2d"
           }
          ],
          "histogram2dcontour": [
           {
            "colorbar": {
             "outlinewidth": 0,
             "ticks": ""
            },
            "colorscale": [
             [
              0,
              "#0d0887"
             ],
             [
              0.1111111111111111,
              "#46039f"
             ],
             [
              0.2222222222222222,
              "#7201a8"
             ],
             [
              0.3333333333333333,
              "#9c179e"
             ],
             [
              0.4444444444444444,
              "#bd3786"
             ],
             [
              0.5555555555555556,
              "#d8576b"
             ],
             [
              0.6666666666666666,
              "#ed7953"
             ],
             [
              0.7777777777777778,
              "#fb9f3a"
             ],
             [
              0.8888888888888888,
              "#fdca26"
             ],
             [
              1,
              "#f0f921"
             ]
            ],
            "type": "histogram2dcontour"
           }
          ],
          "mesh3d": [
           {
            "colorbar": {
             "outlinewidth": 0,
             "ticks": ""
            },
            "type": "mesh3d"
           }
          ],
          "parcoords": [
           {
            "line": {
             "colorbar": {
              "outlinewidth": 0,
              "ticks": ""
             }
            },
            "type": "parcoords"
           }
          ],
          "pie": [
           {
            "automargin": true,
            "type": "pie"
           }
          ],
          "scatter": [
           {
            "fillpattern": {
             "fillmode": "overlay",
             "size": 10,
             "solidity": 0.2
            },
            "type": "scatter"
           }
          ],
          "scatter3d": [
           {
            "line": {
             "colorbar": {
              "outlinewidth": 0,
              "ticks": ""
             }
            },
            "marker": {
             "colorbar": {
              "outlinewidth": 0,
              "ticks": ""
             }
            },
            "type": "scatter3d"
           }
          ],
          "scattercarpet": [
           {
            "marker": {
             "colorbar": {
              "outlinewidth": 0,
              "ticks": ""
             }
            },
            "type": "scattercarpet"
           }
          ],
          "scattergeo": [
           {
            "marker": {
             "colorbar": {
              "outlinewidth": 0,
              "ticks": ""
             }
            },
            "type": "scattergeo"
           }
          ],
          "scattergl": [
           {
            "marker": {
             "colorbar": {
              "outlinewidth": 0,
              "ticks": ""
             }
            },
            "type": "scattergl"
           }
          ],
          "scattermapbox": [
           {
            "marker": {
             "colorbar": {
              "outlinewidth": 0,
              "ticks": ""
             }
            },
            "type": "scattermapbox"
           }
          ],
          "scatterpolar": [
           {
            "marker": {
             "colorbar": {
              "outlinewidth": 0,
              "ticks": ""
             }
            },
            "type": "scatterpolar"
           }
          ],
          "scatterpolargl": [
           {
            "marker": {
             "colorbar": {
              "outlinewidth": 0,
              "ticks": ""
             }
            },
            "type": "scatterpolargl"
           }
          ],
          "scatterternary": [
           {
            "marker": {
             "colorbar": {
              "outlinewidth": 0,
              "ticks": ""
             }
            },
            "type": "scatterternary"
           }
          ],
          "surface": [
           {
            "colorbar": {
             "outlinewidth": 0,
             "ticks": ""
            },
            "colorscale": [
             [
              0,
              "#0d0887"
             ],
             [
              0.1111111111111111,
              "#46039f"
             ],
             [
              0.2222222222222222,
              "#7201a8"
             ],
             [
              0.3333333333333333,
              "#9c179e"
             ],
             [
              0.4444444444444444,
              "#bd3786"
             ],
             [
              0.5555555555555556,
              "#d8576b"
             ],
             [
              0.6666666666666666,
              "#ed7953"
             ],
             [
              0.7777777777777778,
              "#fb9f3a"
             ],
             [
              0.8888888888888888,
              "#fdca26"
             ],
             [
              1,
              "#f0f921"
             ]
            ],
            "type": "surface"
           }
          ],
          "table": [
           {
            "cells": {
             "fill": {
              "color": "#EBF0F8"
             },
             "line": {
              "color": "white"
             }
            },
            "header": {
             "fill": {
              "color": "#C8D4E3"
             },
             "line": {
              "color": "white"
             }
            },
            "type": "table"
           }
          ]
         },
         "layout": {
          "annotationdefaults": {
           "arrowcolor": "#2a3f5f",
           "arrowhead": 0,
           "arrowwidth": 1
          },
          "autotypenumbers": "strict",
          "coloraxis": {
           "colorbar": {
            "outlinewidth": 0,
            "ticks": ""
           }
          },
          "colorscale": {
           "diverging": [
            [
             0,
             "#8e0152"
            ],
            [
             0.1,
             "#c51b7d"
            ],
            [
             0.2,
             "#de77ae"
            ],
            [
             0.3,
             "#f1b6da"
            ],
            [
             0.4,
             "#fde0ef"
            ],
            [
             0.5,
             "#f7f7f7"
            ],
            [
             0.6,
             "#e6f5d0"
            ],
            [
             0.7,
             "#b8e186"
            ],
            [
             0.8,
             "#7fbc41"
            ],
            [
             0.9,
             "#4d9221"
            ],
            [
             1,
             "#276419"
            ]
           ],
           "sequential": [
            [
             0,
             "#0d0887"
            ],
            [
             0.1111111111111111,
             "#46039f"
            ],
            [
             0.2222222222222222,
             "#7201a8"
            ],
            [
             0.3333333333333333,
             "#9c179e"
            ],
            [
             0.4444444444444444,
             "#bd3786"
            ],
            [
             0.5555555555555556,
             "#d8576b"
            ],
            [
             0.6666666666666666,
             "#ed7953"
            ],
            [
             0.7777777777777778,
             "#fb9f3a"
            ],
            [
             0.8888888888888888,
             "#fdca26"
            ],
            [
             1,
             "#f0f921"
            ]
           ],
           "sequentialminus": [
            [
             0,
             "#0d0887"
            ],
            [
             0.1111111111111111,
             "#46039f"
            ],
            [
             0.2222222222222222,
             "#7201a8"
            ],
            [
             0.3333333333333333,
             "#9c179e"
            ],
            [
             0.4444444444444444,
             "#bd3786"
            ],
            [
             0.5555555555555556,
             "#d8576b"
            ],
            [
             0.6666666666666666,
             "#ed7953"
            ],
            [
             0.7777777777777778,
             "#fb9f3a"
            ],
            [
             0.8888888888888888,
             "#fdca26"
            ],
            [
             1,
             "#f0f921"
            ]
           ]
          },
          "colorway": [
           "#636efa",
           "#EF553B",
           "#00cc96",
           "#ab63fa",
           "#FFA15A",
           "#19d3f3",
           "#FF6692",
           "#B6E880",
           "#FF97FF",
           "#FECB52"
          ],
          "font": {
           "color": "#2a3f5f"
          },
          "geo": {
           "bgcolor": "white",
           "lakecolor": "white",
           "landcolor": "#E5ECF6",
           "showlakes": true,
           "showland": true,
           "subunitcolor": "white"
          },
          "hoverlabel": {
           "align": "left"
          },
          "hovermode": "closest",
          "mapbox": {
           "style": "light"
          },
          "paper_bgcolor": "white",
          "plot_bgcolor": "#E5ECF6",
          "polar": {
           "angularaxis": {
            "gridcolor": "white",
            "linecolor": "white",
            "ticks": ""
           },
           "bgcolor": "#E5ECF6",
           "radialaxis": {
            "gridcolor": "white",
            "linecolor": "white",
            "ticks": ""
           }
          },
          "scene": {
           "xaxis": {
            "backgroundcolor": "#E5ECF6",
            "gridcolor": "white",
            "gridwidth": 2,
            "linecolor": "white",
            "showbackground": true,
            "ticks": "",
            "zerolinecolor": "white"
           },
           "yaxis": {
            "backgroundcolor": "#E5ECF6",
            "gridcolor": "white",
            "gridwidth": 2,
            "linecolor": "white",
            "showbackground": true,
            "ticks": "",
            "zerolinecolor": "white"
           },
           "zaxis": {
            "backgroundcolor": "#E5ECF6",
            "gridcolor": "white",
            "gridwidth": 2,
            "linecolor": "white",
            "showbackground": true,
            "ticks": "",
            "zerolinecolor": "white"
           }
          },
          "shapedefaults": {
           "line": {
            "color": "#2a3f5f"
           }
          },
          "ternary": {
           "aaxis": {
            "gridcolor": "white",
            "linecolor": "white",
            "ticks": ""
           },
           "baxis": {
            "gridcolor": "white",
            "linecolor": "white",
            "ticks": ""
           },
           "bgcolor": "#E5ECF6",
           "caxis": {
            "gridcolor": "white",
            "linecolor": "white",
            "ticks": ""
           }
          },
          "title": {
           "x": 0.05
          },
          "xaxis": {
           "automargin": true,
           "gridcolor": "white",
           "linecolor": "white",
           "ticks": "",
           "title": {
            "standoff": 15
           },
           "zerolinecolor": "white",
           "zerolinewidth": 2
          },
          "yaxis": {
           "automargin": true,
           "gridcolor": "white",
           "linecolor": "white",
           "ticks": "",
           "title": {
            "standoff": 15
           },
           "zerolinecolor": "white",
           "zerolinewidth": 2
          }
         }
        }
       }
      }
     },
     "metadata": {},
     "output_type": "display_data"
    }
   ],
   "source": [
    "\n",
    "# Normalisation des indicateurs par la méthode min-max\n",
    "df_ecol['GES_hab'] = df_ecol['GES_hab'].min() / df_ecol['GES_hab']\n",
    "df_ecol['elecRenew'] = df_ecol['elecRenew'] / df_ecol['elecRenew'].max()\n",
    "\n",
    "# Définir les poids pour chaque variable\n",
    "poids_ecol = {\n",
    "    'GES_hab': 3, \n",
    "    'elecRenew': 2\n",
    "}\n",
    "\n",
    "# Calculer le score écologique \n",
    "df_ecol['score_ecologique'] = df_ecol.apply(lambda row: sum(float(row[var]) * poids_ecol[var] for var in poids_ecol) / sum(poids_ecol.values()), axis=1)\n",
    "\n",
    "\n",
    "df_ecol.head()\n",
    "\n",
    "max_score_ecol = df_ecol['score_ecologique'].max()\n",
    "min_score_ecol = df_ecol['score_ecologique'].min()\n",
    "\n",
    "variance_ecol = df_ecol['score_ecologique'].std()\n",
    "esperance_ecol = df_ecol['score_ecologique'].mean()\n",
    "\n",
    "# Les limites des scores/labels\n",
    "bins = [min_score_ecol, 0.17, 0.34, 0.51, 0.68, max_score_ecol]\n",
    "\n",
    "print(max_score_ecol, min_score_ecol, variance_ecol, esperance_ecol)\n",
    "\n",
    "# Les labels\n",
    "labels = ['E', 'D', 'C', 'B', 'A']\n",
    "\n",
    "# Créer une nouvelle colonne score\n",
    "df_ecol['label_ecol'] = pd.cut(df_ecol['score_ecologique'], bins=bins, labels=labels)\n",
    "\n",
    "df_ecol = df_ecol.sort_values(by='score_ecologique', ascending=False)\n",
    "\n",
    "df_ecol.head()\n",
    "\n",
    "df_ecol.dropna(inplace=True)\n",
    "\n",
    "# Appliquer la fonction à la colonne 'id_pays'\n",
    "df_ecol['id_pays'] = df_ecol['id_pays'].apply(iso2_to_iso3)\n",
    "\n",
    "df_ecol.head()\n",
    "\n",
    "# Créer une carte du monde\n",
    "fig = px.choropleth(df_ecol, locations='id_pays', color='label_ecol', hover_name='pays', projection='natural earth')\n",
    "\n",
    "# Mettre à jour la carte\n",
    "fig.update_geos(showcountries=True, countrycolor=\"Black\", showland=True, showocean=True, oceancolor=\"LightBlue\", showlakes=True, lakecolor=\"Blue\")\n",
    "\n",
    "# Afficher la carte\n",
    "fig.show()\n"
   ]
  },
  {
   "cell_type": "markdown",
   "metadata": {},
   "source": [
    "## Score économique "
   ]
  },
  {
   "cell_type": "code",
   "execution_count": 60,
   "metadata": {},
   "outputs": [
    {
     "name": "stdout",
     "output_type": "stream",
     "text": [
      "0.7951837060465085 0.14186097106176157 0.14087026023151913 0.3572549677903555\n"
     ]
    },
    {
     "data": {
      "application/vnd.plotly.v1+json": {
       "config": {
        "plotlyServerURL": "https://plot.ly"
       },
       "data": [
        {
         "colorscale": [
          [
           0,
           "#636efa"
          ],
          [
           1,
           "#636efa"
          ]
         ],
         "geo": "geo",
         "hovertemplate": "<b>%{hovertext}</b><br><br>label_eco=A<br>id_pays=%{location}<extra></extra>",
         "hovertext": [
          "France"
         ],
         "locations": [
          "FRA"
         ],
         "name": "A",
         "showlegend": true,
         "showscale": false,
         "type": "choropleth",
         "z": [
          1
         ]
        },
        {
         "colorscale": [
          [
           0,
           "#EF553B"
          ],
          [
           1,
           "#EF553B"
          ]
         ],
         "geo": "geo",
         "hovertemplate": "<b>%{hovertext}</b><br><br>label_eco=B<br>id_pays=%{location}<extra></extra>",
         "hovertext": [
          "United States",
          "Singapour",
          "Italie",
          "Autriche",
          "Qatar",
          "Émirats arabes unis",
          "Allemagne",
          "Suisse",
          "Espagne",
          "Pays-Bas",
          "Danemark",
          "Norvège"
         ],
         "locations": [
          "USA",
          "SGP",
          "ITA",
          "AUT",
          "QAT",
          "ARE",
          "DEU",
          "CHE",
          "ESP",
          "NLD",
          "DNK",
          "NOR"
         ],
         "name": "B",
         "showlegend": true,
         "showscale": false,
         "type": "choropleth",
         "z": [
          1,
          1,
          1,
          1,
          1,
          1,
          1,
          1,
          1,
          1,
          1,
          1
         ]
        },
        {
         "colorscale": [
          [
           0,
           "#00cc96"
          ],
          [
           1,
           "#00cc96"
          ]
         ],
         "geo": "geo",
         "hovertemplate": "<b>%{hovertext}</b><br><br>label_eco=C<br>id_pays=%{location}<extra></extra>",
         "hovertext": [
          "Royaume-Uni",
          "Mexique",
          "Suède",
          "Islande",
          "Belgique",
          "Turquie",
          "Australie",
          "Canada",
          "Finlande",
          "Japon",
          "Arabie saoudite",
          "Pologne",
          "Nouvelle-Zélande",
          "Bahreïn",
          "Israël",
          "Hongrie",
          "Grèce",
          "Slovénie",
          "Chypre",
          "Portugal",
          "Koweït",
          "Estonie",
          "Lituanie",
          "Croatie",
          "Russie",
          "Roumanie"
         ],
         "locations": [
          "GBR",
          "MEX",
          "SWE",
          "ISL",
          "BEL",
          "TUR",
          "AUS",
          "CAN",
          "FIN",
          "JPN",
          "SAU",
          "POL",
          "NZL",
          "BHR",
          "ISR",
          "HUN",
          "GRC",
          "SVN",
          "CYP",
          "PRT",
          "KWT",
          "EST",
          "LTU",
          "HRV",
          "RUS",
          "ROU"
         ],
         "name": "C",
         "showlegend": true,
         "showscale": false,
         "type": "choropleth",
         "z": [
          1,
          1,
          1,
          1,
          1,
          1,
          1,
          1,
          1,
          1,
          1,
          1,
          1,
          1,
          1,
          1,
          1,
          1,
          1,
          1,
          1,
          1,
          1,
          1,
          1,
          1
         ]
        },
        {
         "colorscale": [
          [
           0,
           "#ab63fa"
          ],
          [
           1,
           "#ab63fa"
          ]
         ],
         "geo": "geo",
         "hovertemplate": "<b>%{hovertext}</b><br><br>label_eco=D<br>id_pays=%{location}<extra></extra>",
         "hovertext": [
          "Lettonie",
          "Oman",
          "Malaisie",
          "Thaïlande",
          "China",
          "Kazakhstan",
          "Chili",
          "Argentine",
          "Panama",
          "Bulgarie",
          "Trinité-et-Tobago",
          "Costa Rica",
          "Monténégro",
          "Biélorussie",
          "Maurice (Île)",
          "Serbie",
          "République dominicaine",
          "Albanie",
          "Ukraine",
          "Géorgie",
          "Brésil",
          "Bosnie-Herzégovine",
          "Égypte",
          "Sri Lanka",
          "Colombie",
          "Indonésie",
          "Afrique du Sud",
          "Arménie",
          "Guyana",
          "Azerbaïdjan",
          "Viêt Nam",
          "Pérou",
          "Tunisie",
          "Algérie",
          "Mongolie",
          "Paraguay",
          "Équateur",
          "Liban",
          "Inde",
          "Botswana",
          "Jordanie",
          "Ouzbékistan",
          "Maroc",
          "Jamaïque",
          "Philippines"
         ],
         "locations": [
          "LVA",
          "OMN",
          "MYS",
          "THA",
          "CHN",
          "KAZ",
          "CHL",
          "ARG",
          "PAN",
          "BGR",
          "TTO",
          "CRI",
          "MNE",
          "BLR",
          "MUS",
          "SRB",
          "DOM",
          "ALB",
          "UKR",
          "GEO",
          "BRA",
          "BIH",
          "EGY",
          "LKA",
          "COL",
          "IDN",
          "ZAF",
          "ARM",
          "GUY",
          "AZE",
          "VNM",
          "PER",
          "TUN",
          "DZA",
          "MNG",
          "PRY",
          "ECU",
          "LBN",
          "IND",
          "BWA",
          "JOR",
          "UZB",
          "MAR",
          "JAM",
          "PHL"
         ],
         "name": "D",
         "showlegend": true,
         "showscale": false,
         "type": "choropleth",
         "z": [
          1,
          1,
          1,
          1,
          1,
          1,
          1,
          1,
          1,
          1,
          1,
          1,
          1,
          1,
          1,
          1,
          1,
          1,
          1,
          1,
          1,
          1,
          1,
          1,
          1,
          1,
          1,
          1,
          1,
          1,
          1,
          1,
          1,
          1,
          1,
          1,
          1,
          1,
          1,
          1,
          1,
          1,
          1,
          1,
          1
         ]
        },
        {
         "colorscale": [
          [
           0,
           "#FFA15A"
          ],
          [
           1,
           "#FFA15A"
          ]
         ],
         "geo": "geo",
         "hovertemplate": "<b>%{hovertext}</b><br><br>label_eco=E<br>id_pays=%{location}<extra></extra>",
         "hovertext": [
          "Bhoutan",
          "Salvador",
          "Kirghizstan",
          "Tadjikistan",
          "Nicaragua",
          "Bangladesh",
          "Guatemala",
          "Namibie",
          "Laos",
          "Ghana",
          "Honduras",
          "Cambodge",
          "Myanmar (Birmanie)",
          "Angola",
          "Népal",
          "Kenya",
          "Zimbabwe",
          "Cameroun",
          "Zambie",
          "Papouasie-Nouvelle-Guinée",
          "Nigéria",
          "Togo",
          "Haïti",
          "Rwanda",
          "Bénin",
          "Djibouti",
          "Ouganda",
          "Malawi",
          "Éthiopie",
          "Gambie",
          "Madagascar",
          "Sierra Leone",
          "Mozambique",
          "Burkina Faso",
          "Mali",
          "Niger",
          "République centrafricaine"
         ],
         "locations": [
          "BTN",
          "SLV",
          "KGZ",
          "TJK",
          "NIC",
          "BGD",
          "GTM",
          "NAM",
          "LAO",
          "GHA",
          "HND",
          "KHM",
          "MMR",
          "AGO",
          "NPL",
          "KEN",
          "ZWE",
          "CMR",
          "ZMB",
          "PNG",
          "NGA",
          "TGO",
          "HTI",
          "RWA",
          "BEN",
          "DJI",
          "UGA",
          "MWI",
          "ETH",
          "GMB",
          "MDG",
          "SLE",
          "MOZ",
          "BFA",
          "MLI",
          "NER",
          "CAF"
         ],
         "name": "E",
         "showlegend": true,
         "showscale": false,
         "type": "choropleth",
         "z": [
          1,
          1,
          1,
          1,
          1,
          1,
          1,
          1,
          1,
          1,
          1,
          1,
          1,
          1,
          1,
          1,
          1,
          1,
          1,
          1,
          1,
          1,
          1,
          1,
          1,
          1,
          1,
          1,
          1,
          1,
          1,
          1,
          1,
          1,
          1,
          1,
          1
         ]
        }
       ],
       "layout": {
        "geo": {
         "center": {},
         "countrycolor": "Black",
         "domain": {
          "x": [
           0,
           1
          ],
          "y": [
           0,
           1
          ]
         },
         "lakecolor": "Blue",
         "oceancolor": "LightBlue",
         "projection": {
          "type": "natural earth"
         },
         "showcountries": true,
         "showlakes": true,
         "showland": true,
         "showocean": true
        },
        "legend": {
         "title": {
          "text": "label_eco"
         },
         "tracegroupgap": 0
        },
        "margin": {
         "t": 60
        },
        "template": {
         "data": {
          "bar": [
           {
            "error_x": {
             "color": "#2a3f5f"
            },
            "error_y": {
             "color": "#2a3f5f"
            },
            "marker": {
             "line": {
              "color": "#E5ECF6",
              "width": 0.5
             },
             "pattern": {
              "fillmode": "overlay",
              "size": 10,
              "solidity": 0.2
             }
            },
            "type": "bar"
           }
          ],
          "barpolar": [
           {
            "marker": {
             "line": {
              "color": "#E5ECF6",
              "width": 0.5
             },
             "pattern": {
              "fillmode": "overlay",
              "size": 10,
              "solidity": 0.2
             }
            },
            "type": "barpolar"
           }
          ],
          "carpet": [
           {
            "aaxis": {
             "endlinecolor": "#2a3f5f",
             "gridcolor": "white",
             "linecolor": "white",
             "minorgridcolor": "white",
             "startlinecolor": "#2a3f5f"
            },
            "baxis": {
             "endlinecolor": "#2a3f5f",
             "gridcolor": "white",
             "linecolor": "white",
             "minorgridcolor": "white",
             "startlinecolor": "#2a3f5f"
            },
            "type": "carpet"
           }
          ],
          "choropleth": [
           {
            "colorbar": {
             "outlinewidth": 0,
             "ticks": ""
            },
            "type": "choropleth"
           }
          ],
          "contour": [
           {
            "colorbar": {
             "outlinewidth": 0,
             "ticks": ""
            },
            "colorscale": [
             [
              0,
              "#0d0887"
             ],
             [
              0.1111111111111111,
              "#46039f"
             ],
             [
              0.2222222222222222,
              "#7201a8"
             ],
             [
              0.3333333333333333,
              "#9c179e"
             ],
             [
              0.4444444444444444,
              "#bd3786"
             ],
             [
              0.5555555555555556,
              "#d8576b"
             ],
             [
              0.6666666666666666,
              "#ed7953"
             ],
             [
              0.7777777777777778,
              "#fb9f3a"
             ],
             [
              0.8888888888888888,
              "#fdca26"
             ],
             [
              1,
              "#f0f921"
             ]
            ],
            "type": "contour"
           }
          ],
          "contourcarpet": [
           {
            "colorbar": {
             "outlinewidth": 0,
             "ticks": ""
            },
            "type": "contourcarpet"
           }
          ],
          "heatmap": [
           {
            "colorbar": {
             "outlinewidth": 0,
             "ticks": ""
            },
            "colorscale": [
             [
              0,
              "#0d0887"
             ],
             [
              0.1111111111111111,
              "#46039f"
             ],
             [
              0.2222222222222222,
              "#7201a8"
             ],
             [
              0.3333333333333333,
              "#9c179e"
             ],
             [
              0.4444444444444444,
              "#bd3786"
             ],
             [
              0.5555555555555556,
              "#d8576b"
             ],
             [
              0.6666666666666666,
              "#ed7953"
             ],
             [
              0.7777777777777778,
              "#fb9f3a"
             ],
             [
              0.8888888888888888,
              "#fdca26"
             ],
             [
              1,
              "#f0f921"
             ]
            ],
            "type": "heatmap"
           }
          ],
          "heatmapgl": [
           {
            "colorbar": {
             "outlinewidth": 0,
             "ticks": ""
            },
            "colorscale": [
             [
              0,
              "#0d0887"
             ],
             [
              0.1111111111111111,
              "#46039f"
             ],
             [
              0.2222222222222222,
              "#7201a8"
             ],
             [
              0.3333333333333333,
              "#9c179e"
             ],
             [
              0.4444444444444444,
              "#bd3786"
             ],
             [
              0.5555555555555556,
              "#d8576b"
             ],
             [
              0.6666666666666666,
              "#ed7953"
             ],
             [
              0.7777777777777778,
              "#fb9f3a"
             ],
             [
              0.8888888888888888,
              "#fdca26"
             ],
             [
              1,
              "#f0f921"
             ]
            ],
            "type": "heatmapgl"
           }
          ],
          "histogram": [
           {
            "marker": {
             "pattern": {
              "fillmode": "overlay",
              "size": 10,
              "solidity": 0.2
             }
            },
            "type": "histogram"
           }
          ],
          "histogram2d": [
           {
            "colorbar": {
             "outlinewidth": 0,
             "ticks": ""
            },
            "colorscale": [
             [
              0,
              "#0d0887"
             ],
             [
              0.1111111111111111,
              "#46039f"
             ],
             [
              0.2222222222222222,
              "#7201a8"
             ],
             [
              0.3333333333333333,
              "#9c179e"
             ],
             [
              0.4444444444444444,
              "#bd3786"
             ],
             [
              0.5555555555555556,
              "#d8576b"
             ],
             [
              0.6666666666666666,
              "#ed7953"
             ],
             [
              0.7777777777777778,
              "#fb9f3a"
             ],
             [
              0.8888888888888888,
              "#fdca26"
             ],
             [
              1,
              "#f0f921"
             ]
            ],
            "type": "histogram2d"
           }
          ],
          "histogram2dcontour": [
           {
            "colorbar": {
             "outlinewidth": 0,
             "ticks": ""
            },
            "colorscale": [
             [
              0,
              "#0d0887"
             ],
             [
              0.1111111111111111,
              "#46039f"
             ],
             [
              0.2222222222222222,
              "#7201a8"
             ],
             [
              0.3333333333333333,
              "#9c179e"
             ],
             [
              0.4444444444444444,
              "#bd3786"
             ],
             [
              0.5555555555555556,
              "#d8576b"
             ],
             [
              0.6666666666666666,
              "#ed7953"
             ],
             [
              0.7777777777777778,
              "#fb9f3a"
             ],
             [
              0.8888888888888888,
              "#fdca26"
             ],
             [
              1,
              "#f0f921"
             ]
            ],
            "type": "histogram2dcontour"
           }
          ],
          "mesh3d": [
           {
            "colorbar": {
             "outlinewidth": 0,
             "ticks": ""
            },
            "type": "mesh3d"
           }
          ],
          "parcoords": [
           {
            "line": {
             "colorbar": {
              "outlinewidth": 0,
              "ticks": ""
             }
            },
            "type": "parcoords"
           }
          ],
          "pie": [
           {
            "automargin": true,
            "type": "pie"
           }
          ],
          "scatter": [
           {
            "fillpattern": {
             "fillmode": "overlay",
             "size": 10,
             "solidity": 0.2
            },
            "type": "scatter"
           }
          ],
          "scatter3d": [
           {
            "line": {
             "colorbar": {
              "outlinewidth": 0,
              "ticks": ""
             }
            },
            "marker": {
             "colorbar": {
              "outlinewidth": 0,
              "ticks": ""
             }
            },
            "type": "scatter3d"
           }
          ],
          "scattercarpet": [
           {
            "marker": {
             "colorbar": {
              "outlinewidth": 0,
              "ticks": ""
             }
            },
            "type": "scattercarpet"
           }
          ],
          "scattergeo": [
           {
            "marker": {
             "colorbar": {
              "outlinewidth": 0,
              "ticks": ""
             }
            },
            "type": "scattergeo"
           }
          ],
          "scattergl": [
           {
            "marker": {
             "colorbar": {
              "outlinewidth": 0,
              "ticks": ""
             }
            },
            "type": "scattergl"
           }
          ],
          "scattermapbox": [
           {
            "marker": {
             "colorbar": {
              "outlinewidth": 0,
              "ticks": ""
             }
            },
            "type": "scattermapbox"
           }
          ],
          "scatterpolar": [
           {
            "marker": {
             "colorbar": {
              "outlinewidth": 0,
              "ticks": ""
             }
            },
            "type": "scatterpolar"
           }
          ],
          "scatterpolargl": [
           {
            "marker": {
             "colorbar": {
              "outlinewidth": 0,
              "ticks": ""
             }
            },
            "type": "scatterpolargl"
           }
          ],
          "scatterternary": [
           {
            "marker": {
             "colorbar": {
              "outlinewidth": 0,
              "ticks": ""
             }
            },
            "type": "scatterternary"
           }
          ],
          "surface": [
           {
            "colorbar": {
             "outlinewidth": 0,
             "ticks": ""
            },
            "colorscale": [
             [
              0,
              "#0d0887"
             ],
             [
              0.1111111111111111,
              "#46039f"
             ],
             [
              0.2222222222222222,
              "#7201a8"
             ],
             [
              0.3333333333333333,
              "#9c179e"
             ],
             [
              0.4444444444444444,
              "#bd3786"
             ],
             [
              0.5555555555555556,
              "#d8576b"
             ],
             [
              0.6666666666666666,
              "#ed7953"
             ],
             [
              0.7777777777777778,
              "#fb9f3a"
             ],
             [
              0.8888888888888888,
              "#fdca26"
             ],
             [
              1,
              "#f0f921"
             ]
            ],
            "type": "surface"
           }
          ],
          "table": [
           {
            "cells": {
             "fill": {
              "color": "#EBF0F8"
             },
             "line": {
              "color": "white"
             }
            },
            "header": {
             "fill": {
              "color": "#C8D4E3"
             },
             "line": {
              "color": "white"
             }
            },
            "type": "table"
           }
          ]
         },
         "layout": {
          "annotationdefaults": {
           "arrowcolor": "#2a3f5f",
           "arrowhead": 0,
           "arrowwidth": 1
          },
          "autotypenumbers": "strict",
          "coloraxis": {
           "colorbar": {
            "outlinewidth": 0,
            "ticks": ""
           }
          },
          "colorscale": {
           "diverging": [
            [
             0,
             "#8e0152"
            ],
            [
             0.1,
             "#c51b7d"
            ],
            [
             0.2,
             "#de77ae"
            ],
            [
             0.3,
             "#f1b6da"
            ],
            [
             0.4,
             "#fde0ef"
            ],
            [
             0.5,
             "#f7f7f7"
            ],
            [
             0.6,
             "#e6f5d0"
            ],
            [
             0.7,
             "#b8e186"
            ],
            [
             0.8,
             "#7fbc41"
            ],
            [
             0.9,
             "#4d9221"
            ],
            [
             1,
             "#276419"
            ]
           ],
           "sequential": [
            [
             0,
             "#0d0887"
            ],
            [
             0.1111111111111111,
             "#46039f"
            ],
            [
             0.2222222222222222,
             "#7201a8"
            ],
            [
             0.3333333333333333,
             "#9c179e"
            ],
            [
             0.4444444444444444,
             "#bd3786"
            ],
            [
             0.5555555555555556,
             "#d8576b"
            ],
            [
             0.6666666666666666,
             "#ed7953"
            ],
            [
             0.7777777777777778,
             "#fb9f3a"
            ],
            [
             0.8888888888888888,
             "#fdca26"
            ],
            [
             1,
             "#f0f921"
            ]
           ],
           "sequentialminus": [
            [
             0,
             "#0d0887"
            ],
            [
             0.1111111111111111,
             "#46039f"
            ],
            [
             0.2222222222222222,
             "#7201a8"
            ],
            [
             0.3333333333333333,
             "#9c179e"
            ],
            [
             0.4444444444444444,
             "#bd3786"
            ],
            [
             0.5555555555555556,
             "#d8576b"
            ],
            [
             0.6666666666666666,
             "#ed7953"
            ],
            [
             0.7777777777777778,
             "#fb9f3a"
            ],
            [
             0.8888888888888888,
             "#fdca26"
            ],
            [
             1,
             "#f0f921"
            ]
           ]
          },
          "colorway": [
           "#636efa",
           "#EF553B",
           "#00cc96",
           "#ab63fa",
           "#FFA15A",
           "#19d3f3",
           "#FF6692",
           "#B6E880",
           "#FF97FF",
           "#FECB52"
          ],
          "font": {
           "color": "#2a3f5f"
          },
          "geo": {
           "bgcolor": "white",
           "lakecolor": "white",
           "landcolor": "#E5ECF6",
           "showlakes": true,
           "showland": true,
           "subunitcolor": "white"
          },
          "hoverlabel": {
           "align": "left"
          },
          "hovermode": "closest",
          "mapbox": {
           "style": "light"
          },
          "paper_bgcolor": "white",
          "plot_bgcolor": "#E5ECF6",
          "polar": {
           "angularaxis": {
            "gridcolor": "white",
            "linecolor": "white",
            "ticks": ""
           },
           "bgcolor": "#E5ECF6",
           "radialaxis": {
            "gridcolor": "white",
            "linecolor": "white",
            "ticks": ""
           }
          },
          "scene": {
           "xaxis": {
            "backgroundcolor": "#E5ECF6",
            "gridcolor": "white",
            "gridwidth": 2,
            "linecolor": "white",
            "showbackground": true,
            "ticks": "",
            "zerolinecolor": "white"
           },
           "yaxis": {
            "backgroundcolor": "#E5ECF6",
            "gridcolor": "white",
            "gridwidth": 2,
            "linecolor": "white",
            "showbackground": true,
            "ticks": "",
            "zerolinecolor": "white"
           },
           "zaxis": {
            "backgroundcolor": "#E5ECF6",
            "gridcolor": "white",
            "gridwidth": 2,
            "linecolor": "white",
            "showbackground": true,
            "ticks": "",
            "zerolinecolor": "white"
           }
          },
          "shapedefaults": {
           "line": {
            "color": "#2a3f5f"
           }
          },
          "ternary": {
           "aaxis": {
            "gridcolor": "white",
            "linecolor": "white",
            "ticks": ""
           },
           "baxis": {
            "gridcolor": "white",
            "linecolor": "white",
            "ticks": ""
           },
           "bgcolor": "#E5ECF6",
           "caxis": {
            "gridcolor": "white",
            "linecolor": "white",
            "ticks": ""
           }
          },
          "title": {
           "x": 0.05
          },
          "xaxis": {
           "automargin": true,
           "gridcolor": "white",
           "linecolor": "white",
           "ticks": "",
           "title": {
            "standoff": 15
           },
           "zerolinecolor": "white",
           "zerolinewidth": 2
          },
          "yaxis": {
           "automargin": true,
           "gridcolor": "white",
           "linecolor": "white",
           "ticks": "",
           "title": {
            "standoff": 15
           },
           "zerolinecolor": "white",
           "zerolinewidth": 2
          }
         }
        }
       }
      }
     },
     "metadata": {},
     "output_type": "display_data"
    }
   ],
   "source": [
    "# Normalisation des indicateurs par la méthode min-max\n",
    "df_eco['arriveesTotal'] = df_eco['arriveesTotal'] / df_eco['arriveesTotal'].max()\n",
    "df_eco['pibParHab'] = df_eco['pibParHab'] / df_eco['pibParHab'].max()\n",
    "df_eco['idh'] = df_eco['idh'].str.replace(',', '.').astype(float)\n",
    "df_eco['idh'] = df_eco['idh'] / df_eco['idh'].max()\n",
    "\n",
    "\n",
    "# Les poids\n",
    "poids_eco = {\n",
    "    'arriveesTotal': 2,\n",
    "    'pibParHab': 2,\n",
    "    'idh' : 2\n",
    "}\n",
    "\n",
    "# Calcul du score économique \n",
    "df_eco['score_economique'] = df_eco.apply(lambda row: sum(float(row[var]) * poids_eco[var] for var in poids_eco) / sum(poids_eco.values()), axis=1)\n",
    "df_eco.head()\n",
    "\n",
    "max_score_eco = df_eco['score_economique'].max()\n",
    "min_score_eco = df_eco['score_economique'].min()\n",
    "\n",
    "variance_eco = df_eco['score_economique'].std()\n",
    "esperance_eco = df_eco['score_economique'].mean()\n",
    "\n",
    "# Les limites des scores/labels\n",
    "bins = [min_score_eco, 0.28, 0.42, 0.56, 0.7, max_score_eco]\n",
    "\n",
    "print(max_score_eco, min_score_eco, variance_eco, esperance_eco)\n",
    "\n",
    "\n",
    "# Labels\n",
    "labels = ['E', 'D', 'C', 'B', 'A']\n",
    "\n",
    "# création d'une nouvelle colonne pour les labels\n",
    "df_eco['label_eco'] = pd.cut(df_eco['score_economique'], bins=bins, labels=labels)\n",
    "\n",
    "df_eco = df_eco.sort_values(by='score_economique', ascending=False)\n",
    "\n",
    "df_eco.dropna(inplace=True)\n",
    "\n",
    "\n",
    "# application de la fonction faite précédement \n",
    "df_eco['id_pays'] = df_eco['id_pays'].apply(iso2_to_iso3)\n",
    "\n",
    "df_eco.head()\n",
    "\n",
    "# Visualisation par une carte\n",
    "fig = px.choropleth(df_eco, locations='id_pays', color='label_eco', hover_name='pays', projection='natural earth')\n",
    "fig.update_geos(showcountries=True, countrycolor=\"Black\", showland=True, showocean=True, oceancolor=\"LightBlue\", showlakes=True, lakecolor=\"Blue\")\n",
    "fig.show()"
   ]
  },
  {
   "cell_type": "markdown",
   "metadata": {},
   "source": [
    "## Score découverte "
   ]
  },
  {
   "cell_type": "code",
   "execution_count": 61,
   "metadata": {},
   "outputs": [
    {
     "name": "stdout",
     "output_type": "stream",
     "text": [
      "0.7980992787690196 0.1736595576321267 0.36796918619072555 0.08938731100444197\n"
     ]
    },
    {
     "data": {
      "application/vnd.plotly.v1+json": {
       "config": {
        "plotlyServerURL": "https://plot.ly"
       },
       "data": [
        {
         "colorscale": [
          [
           0,
           "#636efa"
          ],
          [
           1,
           "#636efa"
          ]
         ],
         "geo": "geo",
         "hovertemplate": "<b>%{hovertext}</b><br><br>label_decouverte=A<br>id_pays=%{location}<extra></extra>",
         "hovertext": [
          "Italie"
         ],
         "locations": [
          "ITA"
         ],
         "name": "A",
         "showlegend": true,
         "showscale": false,
         "type": "choropleth",
         "z": [
          1
         ]
        },
        {
         "colorscale": [
          [
           0,
           "#EF553B"
          ],
          [
           1,
           "#EF553B"
          ]
         ],
         "geo": "geo",
         "hovertemplate": "<b>%{hovertext}</b><br><br>label_decouverte=B<br>id_pays=%{location}<extra></extra>",
         "hovertext": [
          "Espagne",
          "United States",
          "Mexique",
          "Allemagne",
          "Turquie"
         ],
         "locations": [
          "ESP",
          "USA",
          "MEX",
          "DEU",
          "TUR"
         ],
         "name": "B",
         "showlegend": true,
         "showscale": false,
         "type": "choropleth",
         "z": [
          1,
          1,
          1,
          1,
          1
         ]
        },
        {
         "colorscale": [
          [
           0,
           "#00cc96"
          ],
          [
           1,
           "#00cc96"
          ]
         ],
         "geo": "geo",
         "hovertemplate": "<b>%{hovertext}</b><br><br>label_decouverte=C<br>id_pays=%{location}<extra></extra>",
         "hovertext": [
          "Pologne",
          "Grèce",
          "Hongrie",
          "Émirats arabes unis",
          "Croatie",
          "Japon",
          "Roumanie",
          "Canada",
          "Islande",
          "Singapour",
          "Australie",
          "Thaïlande",
          "Albanie",
          "Slovénie",
          "Arabie saoudite",
          "Nouvelle-Zélande",
          "Sri Lanka",
          "Lituanie",
          "Lettonie"
         ],
         "locations": [
          "POL",
          "GRC",
          "HUN",
          "ARE",
          "HRV",
          "JPN",
          "ROU",
          "CAN",
          "ISL",
          "SGP",
          "AUS",
          "THA",
          "ALB",
          "SVN",
          "SAU",
          "NZL",
          "LKA",
          "LTU",
          "LVA"
         ],
         "name": "C",
         "showlegend": true,
         "showscale": false,
         "type": "choropleth",
         "z": [
          1,
          1,
          1,
          1,
          1,
          1,
          1,
          1,
          1,
          1,
          1,
          1,
          1,
          1,
          1,
          1,
          1,
          1,
          1
         ]
        },
        {
         "colorscale": [
          [
           0,
           "#ab63fa"
          ],
          [
           1,
           "#ab63fa"
          ]
         ],
         "geo": "geo",
         "hovertemplate": "<b>%{hovertext}</b><br><br>label_decouverte=D<br>id_pays=%{location}<extra></extra>",
         "hovertext": [
          "Rwanda",
          "Israël",
          "Géorgie",
          "Ukraine",
          "Chili",
          "Malaisie",
          "Argentine",
          "Costa Rica",
          "Bahreïn",
          "République dominicaine",
          "Arménie",
          "Égypte",
          "Inde",
          "Pérou",
          "Maurice (Île)",
          "Qatar",
          "Panama",
          "Biélorussie",
          "Indonésie",
          "Salvador",
          "Brésil",
          "Tunisie",
          "Maroc",
          "Bosnie-Herzégovine",
          "Jamaïque",
          "Colombie",
          "Viêt Nam",
          "Koweït",
          "Philippines",
          "Trinité-et-Tobago",
          "Azerbaïdjan",
          "Équateur",
          "Afrique du Sud",
          "Malawi",
          "Kirghizstan",
          "Bhoutan",
          "Haïti",
          "Jordanie",
          "Guyana",
          "Népal",
          "Liban",
          "Nicaragua",
          "Paraguay",
          "Zimbabwe",
          "Botswana",
          "Sierra Leone",
          "Guatemala"
         ],
         "locations": [
          "RWA",
          "ISR",
          "GEO",
          "UKR",
          "CHL",
          "MYS",
          "ARG",
          "CRI",
          "BHR",
          "DOM",
          "ARM",
          "EGY",
          "IND",
          "PER",
          "MUS",
          "QAT",
          "PAN",
          "BLR",
          "IDN",
          "SLV",
          "BRA",
          "TUN",
          "MAR",
          "BIH",
          "JAM",
          "COL",
          "VNM",
          "KWT",
          "PHL",
          "TTO",
          "AZE",
          "ECU",
          "ZAF",
          "MWI",
          "KGZ",
          "BTN",
          "HTI",
          "JOR",
          "GUY",
          "NPL",
          "LBN",
          "NIC",
          "PRY",
          "ZWE",
          "BWA",
          "SLE",
          "GTM"
         ],
         "name": "D",
         "showlegend": true,
         "showscale": false,
         "type": "choropleth",
         "z": [
          1,
          1,
          1,
          1,
          1,
          1,
          1,
          1,
          1,
          1,
          1,
          1,
          1,
          1,
          1,
          1,
          1,
          1,
          1,
          1,
          1,
          1,
          1,
          1,
          1,
          1,
          1,
          1,
          1,
          1,
          1,
          1,
          1,
          1,
          1,
          1,
          1,
          1,
          1,
          1,
          1,
          1,
          1,
          1,
          1,
          1,
          1
         ]
        },
        {
         "colorscale": [
          [
           0,
           "#FFA15A"
          ],
          [
           1,
           "#FFA15A"
          ]
         ],
         "geo": "geo",
         "hovertemplate": "<b>%{hovertext}</b><br><br>label_decouverte=E<br>id_pays=%{location}<extra></extra>",
         "hovertext": [
          "Myanmar (Birmanie)",
          "Honduras",
          "Cambodge",
          "Ouganda",
          "Kenya",
          "Laos",
          "Gambie",
          "Namibie",
          "Zambie",
          "Djibouti",
          "Nigéria",
          "Angola",
          "Bénin",
          "Madagascar",
          "Papouasie-Nouvelle-Guinée",
          "Cameroun",
          "Mozambique",
          "Éthiopie",
          "Burkina Faso",
          "Mali",
          "Niger",
          "République centrafricaine"
         ],
         "locations": [
          "MMR",
          "HND",
          "KHM",
          "UGA",
          "KEN",
          "LAO",
          "GMB",
          "NAM",
          "ZMB",
          "DJI",
          "NGA",
          "AGO",
          "BEN",
          "MDG",
          "PNG",
          "CMR",
          "MOZ",
          "ETH",
          "BFA",
          "MLI",
          "NER",
          "CAF"
         ],
         "name": "E",
         "showlegend": true,
         "showscale": false,
         "type": "choropleth",
         "z": [
          1,
          1,
          1,
          1,
          1,
          1,
          1,
          1,
          1,
          1,
          1,
          1,
          1,
          1,
          1,
          1,
          1,
          1,
          1,
          1,
          1,
          1
         ]
        }
       ],
       "layout": {
        "geo": {
         "center": {},
         "countrycolor": "Black",
         "domain": {
          "x": [
           0,
           1
          ],
          "y": [
           0,
           1
          ]
         },
         "lakecolor": "Blue",
         "oceancolor": "LightBlue",
         "projection": {
          "type": "natural earth"
         },
         "showcountries": true,
         "showlakes": true,
         "showland": true,
         "showocean": true
        },
        "legend": {
         "title": {
          "text": "label_decouverte"
         },
         "tracegroupgap": 0
        },
        "margin": {
         "t": 60
        },
        "template": {
         "data": {
          "bar": [
           {
            "error_x": {
             "color": "#2a3f5f"
            },
            "error_y": {
             "color": "#2a3f5f"
            },
            "marker": {
             "line": {
              "color": "#E5ECF6",
              "width": 0.5
             },
             "pattern": {
              "fillmode": "overlay",
              "size": 10,
              "solidity": 0.2
             }
            },
            "type": "bar"
           }
          ],
          "barpolar": [
           {
            "marker": {
             "line": {
              "color": "#E5ECF6",
              "width": 0.5
             },
             "pattern": {
              "fillmode": "overlay",
              "size": 10,
              "solidity": 0.2
             }
            },
            "type": "barpolar"
           }
          ],
          "carpet": [
           {
            "aaxis": {
             "endlinecolor": "#2a3f5f",
             "gridcolor": "white",
             "linecolor": "white",
             "minorgridcolor": "white",
             "startlinecolor": "#2a3f5f"
            },
            "baxis": {
             "endlinecolor": "#2a3f5f",
             "gridcolor": "white",
             "linecolor": "white",
             "minorgridcolor": "white",
             "startlinecolor": "#2a3f5f"
            },
            "type": "carpet"
           }
          ],
          "choropleth": [
           {
            "colorbar": {
             "outlinewidth": 0,
             "ticks": ""
            },
            "type": "choropleth"
           }
          ],
          "contour": [
           {
            "colorbar": {
             "outlinewidth": 0,
             "ticks": ""
            },
            "colorscale": [
             [
              0,
              "#0d0887"
             ],
             [
              0.1111111111111111,
              "#46039f"
             ],
             [
              0.2222222222222222,
              "#7201a8"
             ],
             [
              0.3333333333333333,
              "#9c179e"
             ],
             [
              0.4444444444444444,
              "#bd3786"
             ],
             [
              0.5555555555555556,
              "#d8576b"
             ],
             [
              0.6666666666666666,
              "#ed7953"
             ],
             [
              0.7777777777777778,
              "#fb9f3a"
             ],
             [
              0.8888888888888888,
              "#fdca26"
             ],
             [
              1,
              "#f0f921"
             ]
            ],
            "type": "contour"
           }
          ],
          "contourcarpet": [
           {
            "colorbar": {
             "outlinewidth": 0,
             "ticks": ""
            },
            "type": "contourcarpet"
           }
          ],
          "heatmap": [
           {
            "colorbar": {
             "outlinewidth": 0,
             "ticks": ""
            },
            "colorscale": [
             [
              0,
              "#0d0887"
             ],
             [
              0.1111111111111111,
              "#46039f"
             ],
             [
              0.2222222222222222,
              "#7201a8"
             ],
             [
              0.3333333333333333,
              "#9c179e"
             ],
             [
              0.4444444444444444,
              "#bd3786"
             ],
             [
              0.5555555555555556,
              "#d8576b"
             ],
             [
              0.6666666666666666,
              "#ed7953"
             ],
             [
              0.7777777777777778,
              "#fb9f3a"
             ],
             [
              0.8888888888888888,
              "#fdca26"
             ],
             [
              1,
              "#f0f921"
             ]
            ],
            "type": "heatmap"
           }
          ],
          "heatmapgl": [
           {
            "colorbar": {
             "outlinewidth": 0,
             "ticks": ""
            },
            "colorscale": [
             [
              0,
              "#0d0887"
             ],
             [
              0.1111111111111111,
              "#46039f"
             ],
             [
              0.2222222222222222,
              "#7201a8"
             ],
             [
              0.3333333333333333,
              "#9c179e"
             ],
             [
              0.4444444444444444,
              "#bd3786"
             ],
             [
              0.5555555555555556,
              "#d8576b"
             ],
             [
              0.6666666666666666,
              "#ed7953"
             ],
             [
              0.7777777777777778,
              "#fb9f3a"
             ],
             [
              0.8888888888888888,
              "#fdca26"
             ],
             [
              1,
              "#f0f921"
             ]
            ],
            "type": "heatmapgl"
           }
          ],
          "histogram": [
           {
            "marker": {
             "pattern": {
              "fillmode": "overlay",
              "size": 10,
              "solidity": 0.2
             }
            },
            "type": "histogram"
           }
          ],
          "histogram2d": [
           {
            "colorbar": {
             "outlinewidth": 0,
             "ticks": ""
            },
            "colorscale": [
             [
              0,
              "#0d0887"
             ],
             [
              0.1111111111111111,
              "#46039f"
             ],
             [
              0.2222222222222222,
              "#7201a8"
             ],
             [
              0.3333333333333333,
              "#9c179e"
             ],
             [
              0.4444444444444444,
              "#bd3786"
             ],
             [
              0.5555555555555556,
              "#d8576b"
             ],
             [
              0.6666666666666666,
              "#ed7953"
             ],
             [
              0.7777777777777778,
              "#fb9f3a"
             ],
             [
              0.8888888888888888,
              "#fdca26"
             ],
             [
              1,
              "#f0f921"
             ]
            ],
            "type": "histogram2d"
           }
          ],
          "histogram2dcontour": [
           {
            "colorbar": {
             "outlinewidth": 0,
             "ticks": ""
            },
            "colorscale": [
             [
              0,
              "#0d0887"
             ],
             [
              0.1111111111111111,
              "#46039f"
             ],
             [
              0.2222222222222222,
              "#7201a8"
             ],
             [
              0.3333333333333333,
              "#9c179e"
             ],
             [
              0.4444444444444444,
              "#bd3786"
             ],
             [
              0.5555555555555556,
              "#d8576b"
             ],
             [
              0.6666666666666666,
              "#ed7953"
             ],
             [
              0.7777777777777778,
              "#fb9f3a"
             ],
             [
              0.8888888888888888,
              "#fdca26"
             ],
             [
              1,
              "#f0f921"
             ]
            ],
            "type": "histogram2dcontour"
           }
          ],
          "mesh3d": [
           {
            "colorbar": {
             "outlinewidth": 0,
             "ticks": ""
            },
            "type": "mesh3d"
           }
          ],
          "parcoords": [
           {
            "line": {
             "colorbar": {
              "outlinewidth": 0,
              "ticks": ""
             }
            },
            "type": "parcoords"
           }
          ],
          "pie": [
           {
            "automargin": true,
            "type": "pie"
           }
          ],
          "scatter": [
           {
            "fillpattern": {
             "fillmode": "overlay",
             "size": 10,
             "solidity": 0.2
            },
            "type": "scatter"
           }
          ],
          "scatter3d": [
           {
            "line": {
             "colorbar": {
              "outlinewidth": 0,
              "ticks": ""
             }
            },
            "marker": {
             "colorbar": {
              "outlinewidth": 0,
              "ticks": ""
             }
            },
            "type": "scatter3d"
           }
          ],
          "scattercarpet": [
           {
            "marker": {
             "colorbar": {
              "outlinewidth": 0,
              "ticks": ""
             }
            },
            "type": "scattercarpet"
           }
          ],
          "scattergeo": [
           {
            "marker": {
             "colorbar": {
              "outlinewidth": 0,
              "ticks": ""
             }
            },
            "type": "scattergeo"
           }
          ],
          "scattergl": [
           {
            "marker": {
             "colorbar": {
              "outlinewidth": 0,
              "ticks": ""
             }
            },
            "type": "scattergl"
           }
          ],
          "scattermapbox": [
           {
            "marker": {
             "colorbar": {
              "outlinewidth": 0,
              "ticks": ""
             }
            },
            "type": "scattermapbox"
           }
          ],
          "scatterpolar": [
           {
            "marker": {
             "colorbar": {
              "outlinewidth": 0,
              "ticks": ""
             }
            },
            "type": "scatterpolar"
           }
          ],
          "scatterpolargl": [
           {
            "marker": {
             "colorbar": {
              "outlinewidth": 0,
              "ticks": ""
             }
            },
            "type": "scatterpolargl"
           }
          ],
          "scatterternary": [
           {
            "marker": {
             "colorbar": {
              "outlinewidth": 0,
              "ticks": ""
             }
            },
            "type": "scatterternary"
           }
          ],
          "surface": [
           {
            "colorbar": {
             "outlinewidth": 0,
             "ticks": ""
            },
            "colorscale": [
             [
              0,
              "#0d0887"
             ],
             [
              0.1111111111111111,
              "#46039f"
             ],
             [
              0.2222222222222222,
              "#7201a8"
             ],
             [
              0.3333333333333333,
              "#9c179e"
             ],
             [
              0.4444444444444444,
              "#bd3786"
             ],
             [
              0.5555555555555556,
              "#d8576b"
             ],
             [
              0.6666666666666666,
              "#ed7953"
             ],
             [
              0.7777777777777778,
              "#fb9f3a"
             ],
             [
              0.8888888888888888,
              "#fdca26"
             ],
             [
              1,
              "#f0f921"
             ]
            ],
            "type": "surface"
           }
          ],
          "table": [
           {
            "cells": {
             "fill": {
              "color": "#EBF0F8"
             },
             "line": {
              "color": "white"
             }
            },
            "header": {
             "fill": {
              "color": "#C8D4E3"
             },
             "line": {
              "color": "white"
             }
            },
            "type": "table"
           }
          ]
         },
         "layout": {
          "annotationdefaults": {
           "arrowcolor": "#2a3f5f",
           "arrowhead": 0,
           "arrowwidth": 1
          },
          "autotypenumbers": "strict",
          "coloraxis": {
           "colorbar": {
            "outlinewidth": 0,
            "ticks": ""
           }
          },
          "colorscale": {
           "diverging": [
            [
             0,
             "#8e0152"
            ],
            [
             0.1,
             "#c51b7d"
            ],
            [
             0.2,
             "#de77ae"
            ],
            [
             0.3,
             "#f1b6da"
            ],
            [
             0.4,
             "#fde0ef"
            ],
            [
             0.5,
             "#f7f7f7"
            ],
            [
             0.6,
             "#e6f5d0"
            ],
            [
             0.7,
             "#b8e186"
            ],
            [
             0.8,
             "#7fbc41"
            ],
            [
             0.9,
             "#4d9221"
            ],
            [
             1,
             "#276419"
            ]
           ],
           "sequential": [
            [
             0,
             "#0d0887"
            ],
            [
             0.1111111111111111,
             "#46039f"
            ],
            [
             0.2222222222222222,
             "#7201a8"
            ],
            [
             0.3333333333333333,
             "#9c179e"
            ],
            [
             0.4444444444444444,
             "#bd3786"
            ],
            [
             0.5555555555555556,
             "#d8576b"
            ],
            [
             0.6666666666666666,
             "#ed7953"
            ],
            [
             0.7777777777777778,
             "#fb9f3a"
            ],
            [
             0.8888888888888888,
             "#fdca26"
            ],
            [
             1,
             "#f0f921"
            ]
           ],
           "sequentialminus": [
            [
             0,
             "#0d0887"
            ],
            [
             0.1111111111111111,
             "#46039f"
            ],
            [
             0.2222222222222222,
             "#7201a8"
            ],
            [
             0.3333333333333333,
             "#9c179e"
            ],
            [
             0.4444444444444444,
             "#bd3786"
            ],
            [
             0.5555555555555556,
             "#d8576b"
            ],
            [
             0.6666666666666666,
             "#ed7953"
            ],
            [
             0.7777777777777778,
             "#fb9f3a"
            ],
            [
             0.8888888888888888,
             "#fdca26"
            ],
            [
             1,
             "#f0f921"
            ]
           ]
          },
          "colorway": [
           "#636efa",
           "#EF553B",
           "#00cc96",
           "#ab63fa",
           "#FFA15A",
           "#19d3f3",
           "#FF6692",
           "#B6E880",
           "#FF97FF",
           "#FECB52"
          ],
          "font": {
           "color": "#2a3f5f"
          },
          "geo": {
           "bgcolor": "white",
           "lakecolor": "white",
           "landcolor": "#E5ECF6",
           "showlakes": true,
           "showland": true,
           "subunitcolor": "white"
          },
          "hoverlabel": {
           "align": "left"
          },
          "hovermode": "closest",
          "mapbox": {
           "style": "light"
          },
          "paper_bgcolor": "white",
          "plot_bgcolor": "#E5ECF6",
          "polar": {
           "angularaxis": {
            "gridcolor": "white",
            "linecolor": "white",
            "ticks": ""
           },
           "bgcolor": "#E5ECF6",
           "radialaxis": {
            "gridcolor": "white",
            "linecolor": "white",
            "ticks": ""
           }
          },
          "scene": {
           "xaxis": {
            "backgroundcolor": "#E5ECF6",
            "gridcolor": "white",
            "gridwidth": 2,
            "linecolor": "white",
            "showbackground": true,
            "ticks": "",
            "zerolinecolor": "white"
           },
           "yaxis": {
            "backgroundcolor": "#E5ECF6",
            "gridcolor": "white",
            "gridwidth": 2,
            "linecolor": "white",
            "showbackground": true,
            "ticks": "",
            "zerolinecolor": "white"
           },
           "zaxis": {
            "backgroundcolor": "#E5ECF6",
            "gridcolor": "white",
            "gridwidth": 2,
            "linecolor": "white",
            "showbackground": true,
            "ticks": "",
            "zerolinecolor": "white"
           }
          },
          "shapedefaults": {
           "line": {
            "color": "#2a3f5f"
           }
          },
          "ternary": {
           "aaxis": {
            "gridcolor": "white",
            "linecolor": "white",
            "ticks": ""
           },
           "baxis": {
            "gridcolor": "white",
            "linecolor": "white",
            "ticks": ""
           },
           "bgcolor": "#E5ECF6",
           "caxis": {
            "gridcolor": "white",
            "linecolor": "white",
            "ticks": ""
           }
          },
          "title": {
           "x": 0.05
          },
          "xaxis": {
           "automargin": true,
           "gridcolor": "white",
           "linecolor": "white",
           "ticks": "",
           "title": {
            "standoff": 15
           },
           "zerolinecolor": "white",
           "zerolinewidth": 2
          },
          "yaxis": {
           "automargin": true,
           "gridcolor": "white",
           "linecolor": "white",
           "ticks": "",
           "title": {
            "standoff": 15
           },
           "zerolinecolor": "white",
           "zerolinewidth": 2
          }
         }
        }
       }
      }
     },
     "metadata": {},
     "output_type": "display_data"
    }
   ],
   "source": [
    "\n",
    "# Normalisation des indicateurs par la méthode min-max\n",
    "df_decouverte['arriveesTotal'] = df_decouverte['arriveesTotal'] / df_decouverte['arriveesTotal'].max()\n",
    "df_decouverte['GES_hab'] = df_decouverte['GES_hab'].min() / df_decouverte['GES_hab']\n",
    "df_decouverte['idh'] = df_decouverte['idh'].str.replace(',', '.').astype(float)\n",
    "df_decouverte['idh'] = df_decouverte['idh'] / df_decouverte['idh'].max()\n",
    "\n",
    "\n",
    "# Les poids pour le tourisme de découverte\n",
    "poids_decouverte = {\n",
    "    'arriveesTotal': 2,\n",
    "    'idh' : 2,\n",
    "    'GES_hab': 1\n",
    "}\n",
    "\n",
    "# Calcul du score pour le tourisme culturel et historique / tourisme d'exploration et de découverte\n",
    "df_decouverte['score_decouverte'] = df_decouverte.apply(lambda row: sum(float(row[var]) * poids_decouverte[var] for var in poids_decouverte) / sum(poids_decouverte.values()), axis=1)\n",
    "\n",
    "max_decouverte = df_decouverte['score_decouverte'].max()\n",
    "min_decouverte = df_decouverte['score_decouverte'].min()\n",
    "esperance_decouverte = df_decouverte['score_decouverte'].mean()\n",
    "variance_decouverte = df_decouverte['score_decouverte'].std()\n",
    "\n",
    "\n",
    "print(max_decouverte, min_decouverte, esperance_decouverte, variance_decouverte )\n",
    "\n",
    "bins = [min_decouverte, 0.30, 0.40, 0.50, 0.62, max_decouverte]\n",
    "\n",
    "# Les labels\n",
    "labels = ['E', 'D', 'C', 'B', 'A']\n",
    "\n",
    "\n",
    "# Création d'une nouvelle colonne pour les labels\n",
    "df_decouverte['label_decouverte'] = pd.cut(df_decouverte['score_decouverte'], bins=bins, labels=labels)\n",
    "\n",
    "df_decouverte = df_decouverte.sort_values(by='score_decouverte', ascending=False)\n",
    "\n",
    "df_decouverte.dropna(inplace=True)\n",
    "\n",
    "df_decouverte['id_pays'] = df_decouverte['id_pays'].apply(iso2_to_iso3)\n",
    "\n",
    "df_decouverte.head()\n",
    "\n",
    "# Visualisation par une carte\n",
    "fig = px.choropleth(df_decouverte, locations='id_pays', color='label_decouverte', hover_name='pays', projection='natural earth')\n",
    "fig.update_geos(showcountries=True, countrycolor=\"Black\", showland=True, showocean=True, oceancolor=\"LightBlue\", showlakes=True, lakecolor=\"Blue\")\n",
    "fig.show()"
   ]
  }
 ],
 "metadata": {
  "kernelspec": {
   "display_name": "Python 3",
   "language": "python",
   "name": "python3"
  },
  "language_info": {
   "codemirror_mode": {
    "name": "ipython",
    "version": 3
   },
   "file_extension": ".py",
   "mimetype": "text/x-python",
   "name": "python",
   "nbconvert_exporter": "python",
   "pygments_lexer": "ipython3",
   "version": "3.12.0"
  }
 },
 "nbformat": 4,
 "nbformat_minor": 2
}
