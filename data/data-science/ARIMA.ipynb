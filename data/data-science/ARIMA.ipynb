{
 "cells": [
  {
   "cell_type": "code",
   "execution_count": 33,
   "metadata": {},
   "outputs": [],
   "source": [
    "# Importing libraries neeeded for the project\n",
    "import pandas as pd\n",
    "import plotly.express as px\n",
    "import plotly.graph_objects as go\n",
    "\n",
    "from sklearn.preprocessing import MinMaxScaler\n",
    "from matplotlib import pyplot\n",
    "from statsmodels.tsa.arima.model import ARIMA\n",
    "from sklearn.metrics import mean_squared_error\n",
    "from math import sqrt\n",
    "\n",
    "import numpy \n",
    "import warnings"
   ]
  },
  {
   "cell_type": "code",
   "execution_count": 34,
   "metadata": {},
   "outputs": [
    {
     "data": {
      "text/html": [
       "<div>\n",
       "<style scoped>\n",
       "    .dataframe tbody tr th:only-of-type {\n",
       "        vertical-align: middle;\n",
       "    }\n",
       "\n",
       "    .dataframe tbody tr th {\n",
       "        vertical-align: top;\n",
       "    }\n",
       "\n",
       "    .dataframe thead th {\n",
       "        text-align: right;\n",
       "    }\n",
       "</style>\n",
       "<table border=\"1\" class=\"dataframe\">\n",
       "  <thead>\n",
       "    <tr style=\"text-align: right;\">\n",
       "      <th></th>\n",
       "      <th>id</th>\n",
       "      <th>id_pays</th>\n",
       "      <th>annee</th>\n",
       "      <th>co2</th>\n",
       "      <th>ges</th>\n",
       "      <th>elecRenew</th>\n",
       "      <th>GES_hab</th>\n",
       "    </tr>\n",
       "  </thead>\n",
       "  <tbody>\n",
       "    <tr>\n",
       "      <th>0</th>\n",
       "      <td>198</td>\n",
       "      <td>US</td>\n",
       "      <td>1990</td>\n",
       "      <td>4844517.4</td>\n",
       "      <td>5855541.470</td>\n",
       "      <td>10.917163</td>\n",
       "      <td>23.7677</td>\n",
       "    </tr>\n",
       "    <tr>\n",
       "      <th>1</th>\n",
       "      <td>409</td>\n",
       "      <td>US</td>\n",
       "      <td>1991</td>\n",
       "      <td>4807496.5</td>\n",
       "      <td>5810376.768</td>\n",
       "      <td>10.741865</td>\n",
       "      <td>23.5844</td>\n",
       "    </tr>\n",
       "    <tr>\n",
       "      <th>2</th>\n",
       "      <td>620</td>\n",
       "      <td>US</td>\n",
       "      <td>1992</td>\n",
       "      <td>4879626.1</td>\n",
       "      <td>5894661.485</td>\n",
       "      <td>9.729862</td>\n",
       "      <td>23.9265</td>\n",
       "    </tr>\n",
       "    <tr>\n",
       "      <th>3</th>\n",
       "      <td>831</td>\n",
       "      <td>US</td>\n",
       "      <td>1993</td>\n",
       "      <td>4995209.5</td>\n",
       "      <td>6006008.717</td>\n",
       "      <td>10.270782</td>\n",
       "      <td>24.3784</td>\n",
       "    </tr>\n",
       "    <tr>\n",
       "      <th>4</th>\n",
       "      <td>1042</td>\n",
       "      <td>US</td>\n",
       "      <td>1994</td>\n",
       "      <td>5066803.0</td>\n",
       "      <td>6100512.901</td>\n",
       "      <td>9.532383</td>\n",
       "      <td>24.7620</td>\n",
       "    </tr>\n",
       "  </tbody>\n",
       "</table>\n",
       "</div>"
      ],
      "text/plain": [
       "     id id_pays  annee        co2          ges  elecRenew  GES_hab\n",
       "0   198      US   1990  4844517.4  5855541.470  10.917163  23.7677\n",
       "1   409      US   1991  4807496.5  5810376.768  10.741865  23.5844\n",
       "2   620      US   1992  4879626.1  5894661.485   9.729862  23.9265\n",
       "3   831      US   1993  4995209.5  6006008.717  10.270782  24.3784\n",
       "4  1042      US   1994  5066803.0  6100512.901   9.532383  24.7620"
      ]
     },
     "execution_count": 34,
     "metadata": {},
     "output_type": "execute_result"
    }
   ],
   "source": [
    "#!/usr/bin/env /Applications/MAMP/Library/bin/python\n",
    "\n",
    "import mysql.connector\n",
    "\n",
    "config = {\n",
    "  'user': 'root',\n",
    "  'password': 'root',\n",
    "  'host': '127.0.0.1',\n",
    "  'port': 8889,\n",
    "  'database': 'ecotourisme',\n",
    "  'raise_on_warnings': True\n",
    "}\n",
    "\n",
    "cnx = mysql.connector.connect(**config)\n",
    "\n",
    "cursor = cnx.cursor(dictionary=True)\n",
    "\n",
    "cursor.execute('SELECT * FROM `ecologie` where id_pays = \"US\"')\n",
    "results = cursor.fetchall()\n",
    "cnx.close()\n",
    "\n",
    "data1 = pd.DataFrame(results)\n",
    "\n",
    "data = data1\n",
    "# afficher  par ordre decroissant annee\n",
    "data = data.sort_values(by='annee', ascending=True) \n",
    "data.head()\n"
   ]
  },
  {
   "cell_type": "code",
   "execution_count": 35,
   "metadata": {},
   "outputs": [],
   "source": [
    "data = data.set_index('annee')\n",
    "data = data[['elecRenew']]"
   ]
  },
  {
   "cell_type": "code",
   "execution_count": 36,
   "metadata": {},
   "outputs": [
    {
     "name": "stdout",
     "output_type": "stream",
     "text": [
      "predicted=13.167767, expected=13.350310\n",
      "predicted=13.737283, expected=13.626135\n",
      "predicted=14.103310, expected=15.288093\n",
      "predicted=16.600008, expected=17.451527\n",
      "predicted=18.800546, expected=17.449990\n",
      "predicted=18.767776, expected=18.294624\n",
      "predicted=19.914898, expected=20.315693\n",
      "Test RMSE: 0.791\n",
      "R^2: 0.8882619421239593\n"
     ]
    }
   ],
   "source": [
    "from sklearn.metrics import r2_score, mean_squared_error\n",
    "\n",
    "series = data\n",
    "\n",
    "X = series.values\n",
    "size = int(len(X) * 0.8)\n",
    "\n",
    "train, test = X[0:size], X[size:len(X)]\n",
    "history = [x for x in train]\n",
    "predictions = list()\n",
    "\n",
    "# walk-forward validation\n",
    "for t in range(len(test)):\n",
    " model = ARIMA(history, order=(10,2,1))\n",
    " model_fit = model.fit()\n",
    " prevision = model_fit.forecast()[0]\n",
    " predictions.append(prevision)\n",
    " obs = test[t]\n",
    " history.append(obs)\n",
    " print('predicted=%f, expected=%f' % (prevision, obs))\n",
    " \n",
    "\n",
    "\n",
    "rmse = sqrt(mean_squared_error(test, predictions))\n",
    "r2 = r2_score(test, predictions)\n",
    "\n",
    "print('Test RMSE: %.3f' % rmse)\n",
    "print(f'R^2: {r2}')\n"
   ]
  },
  {
   "cell_type": "code",
   "execution_count": 37,
   "metadata": {},
   "outputs": [
    {
     "data": {
      "image/png": "[encoded data removed]",
      "text/plain": [
       "<Figure size 640x480 with 1 Axes>"
      ]
     },
     "metadata": {},
     "output_type": "display_data"
    }
   ],
   "source": [
    "# plot forecasts against actual outcomes\n",
    "pyplot.plot(test)\n",
    "pyplot.plot(predictions, color='red', linestyle='dashed')\n",
    "# titre axe \n",
    "pyplot.xlabel('Années pour les tests')\n",
    "pyplot.ylabel('Pourcentage')\n",
    "pyplot.legend(['valeurs réelles', 'predictions'])\n",
    "pyplot.show()"
   ]
  }
 ],
 "metadata": {
  "kernelspec": {
   "display_name": "Python 3",
   "language": "python",
   "name": "python3"
  },
  "language_info": {
   "codemirror_mode": {
    "name": "ipython",
    "version": 3
   },
   "file_extension": ".py",
   "mimetype": "text/x-python",
   "name": "python",
   "nbconvert_exporter": "python",
   "pygments_lexer": "ipython3",
   "version": "3.11.3"
  }
 },
 "nbformat": 4,
 "nbformat_minor": 2
}
